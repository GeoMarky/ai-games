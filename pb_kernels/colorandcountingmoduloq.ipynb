{
 "cells": [
  {
   "cell_type": "markdown",
   "metadata": {},
   "source": [
    "# The Idea:\n",
    "Look at training examples, where the size of the input is the same as the size of the output, and the new color of the pixel at coordinate i,j can depend on the old color and i mod Q1 and j mod Q2, where Q1 and Q2 are some small integers. \n"
   ]
  },
  {
   "cell_type": "markdown",
   "metadata": {},
   "source": [
    "# Scores:\n",
    "\n",
    "Training: 5/400\n",
    "\n",
    "Evaluation: 1/400\n",
    "\n",
    "Test: 1/100\n",
    "\n",
    "This is the simplest idea I tried so far, and was quite surprised it worked. \n",
    "\n",
    "It seems you just need 99 other ideas....\n"
   ]
  },
  {
   "cell_type": "code",
   "execution_count": 1,
   "metadata": {
    "_cell_guid": "b1076dfc-b9ad-4769-8c92-a6c4dae69d19",
    "_uuid": "8f2839f25d086af736a60e9eeb907d3b93b6e0e5"
   },
   "outputs": [
    {
     "name": "stdout",
     "output_type": "stream",
     "text": [
      "/kaggle/input\n",
      "/kaggle/input/abstraction-and-reasoning-challenge\n",
      "/kaggle/input/abstraction-and-reasoning-challenge/training\n",
      "/kaggle/input/abstraction-and-reasoning-challenge/evaluation\n",
      "/kaggle/input/abstraction-and-reasoning-challenge/test\n"
     ]
    }
   ],
   "source": [
    "import numpy as np\n",
    "import pandas as pd\n",
    "\n",
    "import os\n",
    "import json\n",
    "from pathlib import Path\n",
    "\n",
    "import matplotlib.pyplot as plt\n",
    "from matplotlib import colors\n",
    "import numpy as np\n",
    "from pathlib import Path\n",
    "\n",
    "for dirname, _, filenames in os.walk('/kaggle/input'):\n",
    "    print(dirname)"
   ]
  },
  {
   "cell_type": "markdown",
   "metadata": {},
   "source": [
    "# Getting the data"
   ]
  },
  {
   "cell_type": "code",
   "execution_count": 2,
   "metadata": {},
   "outputs": [],
   "source": [
    "data_path = Path('/kaggle/input/abstraction-and-reasoning-challenge/')\n",
    "training_path = data_path / 'training'\n",
    "evaluation_path = data_path / 'evaluation'\n",
    "test_path = data_path / 'test'\n",
    "training_tasks = sorted(os.listdir(training_path))\n",
    "eval_tasks = sorted(os.listdir(evaluation_path))"
   ]
  },
  {
   "cell_type": "code",
   "execution_count": 3,
   "metadata": {},
   "outputs": [],
   "source": [
    "T = training_tasks\n",
    "Trains = []\n",
    "for i in range(400):\n",
    "    task_file = str(training_path / T[i])\n",
    "    task = json.load(open(task_file, 'r'))\n",
    "    Trains.append(task)\n",
    "    \n",
    "E = eval_tasks\n",
    "Evals= []\n",
    "for i in range(400):\n",
    "    task_file = str(evaluation_path / E[i])\n",
    "    task = json.load(open(task_file, 'r'))\n",
    "    Evals.append(task)"
   ]
  },
  {
   "cell_type": "markdown",
   "metadata": {},
   "source": [
    "# Helper Functions"
   ]
  },
  {
   "cell_type": "code",
   "execution_count": 4,
   "metadata": {},
   "outputs": [
    {
     "data": {
      "image/png": "[encoded data removed]",
      "text/plain": [
       "<Figure size 1000x400 with 1 Axes>"
      ]
     },
     "metadata": {
      "needs_background": "light"
     },
     "output_type": "display_data"
    }
   ],
   "source": [
    "cmap = colors.ListedColormap(\n",
    "    ['#000000', '#0074D9','#FF4136','#2ECC40','#FFDC00',\n",
    "     '#AAAAAA', '#F012BE', '#FF851B', '#7FDBFF', '#870C25'])\n",
    "norm = colors.Normalize(vmin=0, vmax=9)\n",
    "# 0:black, 1:blue, 2:red, 3:greed, 4:yellow,\n",
    "# 5:gray, 6:magenta, 7:orange, 8:sky, 9:brown\n",
    "plt.figure(figsize=(5, 2), dpi=200)\n",
    "plt.imshow([list(range(10))], cmap=cmap, norm=norm)\n",
    "plt.xticks(list(range(10)))\n",
    "plt.yticks([])\n",
    "plt.show()\n",
    "\n",
    "def plot_task(task):\n",
    "    n = len(task[\"train\"]) + len(task[\"test\"])\n",
    "    fig, axs = plt.subplots(2, n, figsize=(4*n,8), dpi=50)\n",
    "    plt.subplots_adjust(wspace=0, hspace=0)\n",
    "    fig_num = 0\n",
    "    for i, t in enumerate(task[\"train\"]):\n",
    "        t_in, t_out = np.array(t[\"input\"]), np.array(t[\"output\"])\n",
    "        axs[0][fig_num].imshow(t_in, cmap=cmap, norm=norm)\n",
    "        axs[0][fig_num].set_title(f'Train-{i} in')\n",
    "        axs[0][fig_num].set_yticks(list(range(t_in.shape[0])))\n",
    "        axs[0][fig_num].set_xticks(list(range(t_in.shape[1])))\n",
    "        axs[1][fig_num].imshow(t_out, cmap=cmap, norm=norm)\n",
    "        axs[1][fig_num].set_title(f'Train-{i} out')\n",
    "        axs[1][fig_num].set_yticks(list(range(t_out.shape[0])))\n",
    "        axs[1][fig_num].set_xticks(list(range(t_out.shape[1])))\n",
    "        fig_num += 1\n",
    "    for i, t in enumerate(task[\"test\"]):\n",
    "        t_in, t_out = np.array(t[\"input\"]), np.array(t[\"output\"])\n",
    "        axs[0][fig_num].imshow(t_in, cmap=cmap, norm=norm)\n",
    "        axs[0][fig_num].set_title(f'Test-{i} in')\n",
    "        axs[0][fig_num].set_yticks(list(range(t_in.shape[0])))\n",
    "        axs[0][fig_num].set_xticks(list(range(t_in.shape[1])))\n",
    "        axs[1][fig_num].imshow(t_out, cmap=cmap, norm=norm)\n",
    "        axs[1][fig_num].set_title(f'Test-{i} out')\n",
    "        axs[1][fig_num].set_yticks(list(range(t_out.shape[0])))\n",
    "        axs[1][fig_num].set_xticks(list(range(t_out.shape[1])))\n",
    "        fig_num += 1\n",
    "    \n",
    "    plt.tight_layout()\n",
    "    plt.show()"
   ]
  },
  {
   "cell_type": "code",
   "execution_count": 5,
   "metadata": {},
   "outputs": [],
   "source": [
    "def plot_picture(x):\n",
    "    plt.imshow(np.array(x), cmap = cmap, norm = norm)\n",
    "    plt.show()"
   ]
  },
  {
   "cell_type": "code",
   "execution_count": 6,
   "metadata": {},
   "outputs": [],
   "source": [
    "def Defensive_Copy(A): \n",
    "    n = len(A)\n",
    "    k = len(A[0])\n",
    "    L = np.zeros((n,k), dtype = int)\n",
    "    for i in range(n):\n",
    "        for j in range(k):\n",
    "            L[i,j] = 0 + A[i][j]\n",
    "    return L.tolist()"
   ]
  },
  {
   "cell_type": "code",
   "execution_count": 7,
   "metadata": {},
   "outputs": [],
   "source": [
    "def Create(task, task_id = 0):\n",
    "    n = len(task['train'])\n",
    "    Input = [Defensive_Copy(task['train'][i]['input']) for i in range(n)]\n",
    "    Output = [Defensive_Copy(task['train'][i]['output']) for i in range(n)]\n",
    "    Input.append(Defensive_Copy(task['test'][task_id]['input']))\n",
    "    return Input, Output"
   ]
  },
  {
   "cell_type": "code",
   "execution_count": 8,
   "metadata": {},
   "outputs": [],
   "source": [
    "def Recolor(task):\n",
    "    Input = task[0]\n",
    "    Output = task[1]\n",
    "    Test_Picture = Input[-1]\n",
    "    Input = Input[:-1]\n",
    "    N = len(Input)\n",
    "    \n",
    "    for x, y in zip(Input, Output):\n",
    "        if len(x) != len(y) or len(x[0]) != len(y[0]):\n",
    "            return -1\n",
    "        \n",
    "    Best_Dict = -1\n",
    "    Best_Q1 = -1\n",
    "    Best_Q2 = -1\n",
    "    Best_v = -1\n",
    "    # v ranges from 0 to 3. This gives an extra flexibility of measuring distance from any of the 4 corners\n",
    "    Pairs = []\n",
    "    for t in range(15):\n",
    "        for Q1 in range(1,8):\n",
    "            for Q2 in range(1,8):\n",
    "                if Q1+Q2 == t:\n",
    "                    Pairs.append((Q1,Q2))\n",
    "                    \n",
    "    for Q1, Q2 in Pairs:\n",
    "        for v in range(4):\n",
    "    \n",
    "  \n",
    "            if Best_Dict != -1:\n",
    "                continue\n",
    "            possible = True\n",
    "            Dict = {}\n",
    "                      \n",
    "            for x, y in zip(Input, Output):\n",
    "                n = len(x)\n",
    "                k = len(x[0])\n",
    "                for i in range(n):\n",
    "                    for j in range(k):\n",
    "                        if v == 0 or v ==2:\n",
    "                            p1 = i%Q1\n",
    "                        else:\n",
    "                            p1 = (n-1-i)%Q1\n",
    "                        if v == 0 or v ==3:\n",
    "                            p2 = j%Q2\n",
    "                        else :\n",
    "                            p2 = (k-1-j)%Q2\n",
    "                        color1 = x[i][j]\n",
    "                        color2 = y[i][j]\n",
    "                        if color1 != color2:\n",
    "                            rule = (p1, p2, color1)\n",
    "                            if rule not in Dict:\n",
    "                                Dict[rule] = color2\n",
    "                            elif Dict[rule] != color2:\n",
    "                                possible = False\n",
    "            if possible:\n",
    "                \n",
    "                # Let's see if we actually solve the problem\n",
    "                for x, y in zip(Input, Output):\n",
    "                    n = len(x)\n",
    "                    k = len(x[0])\n",
    "                    for i in range(n):\n",
    "                        for j in range(k):\n",
    "                            if v == 0 or v ==2:\n",
    "                                p1 = i%Q1\n",
    "                            else:\n",
    "                                p1 = (n-1-i)%Q1\n",
    "                            if v == 0 or v ==3:\n",
    "                                p2 = j%Q2\n",
    "                            else :\n",
    "                                p2 = (k-1-j)%Q2\n",
    "                           \n",
    "                            color1 = x[i][j]\n",
    "                            rule = (p1,p2,color1)\n",
    "                            \n",
    "                            if rule in Dict:\n",
    "                                color2 = 0 + Dict[rule]\n",
    "                            else:\n",
    "                                color2 = 0 + y[i][j]\n",
    "                            if color2 != y[i][j]:\n",
    "                                possible = False \n",
    "                if possible:\n",
    "                    Best_Dict = Dict\n",
    "                    Best_Q1 = Q1\n",
    "                    Best_Q2 = Q2\n",
    "                    Best_v = v\n",
    "                \n",
    "                \n",
    "    if Best_Dict == -1:\n",
    "        return -1 #meaning that we didn't find a rule that works for the traning cases\n",
    "    \n",
    "    #Otherwise there is a rule: so let's use it:\n",
    "    n = len(Test_Picture)\n",
    "    k = len(Test_Picture[0])\n",
    "    \n",
    "    answer = np.zeros((n,k), dtype = int)\n",
    "   \n",
    "    for i in range(n):\n",
    "        for j in range(k):\n",
    "            if Best_v == 0 or Best_v ==2:\n",
    "                p1 = i%Best_Q1\n",
    "            else:\n",
    "                p1 = (n-1-i)%Best_Q1\n",
    "            if Best_v == 0 or Best_v ==3:\n",
    "                p2 = j%Best_Q2\n",
    "            else :\n",
    "                p2 = (k-1-j)%Best_Q2\n",
    "           \n",
    "            color1 = Test_Picture[i][j]\n",
    "            rule = (p1, p2, color1)\n",
    "            if (p1, p2, color1) in Best_Dict:\n",
    "                answer[i][j] = 0 + Best_Dict[rule]\n",
    "            else:\n",
    "                answer[i][j] = 0 + color1\n",
    "                                    \n",
    "           \n",
    "            \n",
    "    return answer.tolist()"
   ]
  },
  {
   "cell_type": "markdown",
   "metadata": {},
   "source": [
    "# Results on Training set"
   ]
  },
  {
   "cell_type": "code",
   "execution_count": 9,
   "metadata": {},
   "outputs": [],
   "source": [
    "Function = Recolor"
   ]
  },
  {
   "cell_type": "code",
   "execution_count": 10,
   "metadata": {},
   "outputs": [
    {
     "data": {
      "image/png": "[encoded data removed]",
      "text/plain": [
       "<Figure size 432x288 with 1 Axes>"
      ]
     },
     "metadata": {
      "needs_background": "light"
     },
     "output_type": "display_data"
    },
    {
     "data": {
      "image/png": "[encoded data removed]",
      "text/plain": [
       "<Figure size 1000x400 with 10 Axes>"
      ]
     },
     "metadata": {
      "needs_background": "light"
     },
     "output_type": "display_data"
    },
    {
     "name": "stdout",
     "output_type": "stream",
     "text": [
      "15\n"
     ]
    },
    {
     "data": {
      "image/png": "[encoded data removed]",
      "text/plain": [
       "<Figure size 432x288 with 1 Axes>"
      ]
     },
     "metadata": {
      "needs_background": "light"
     },
     "output_type": "display_data"
    },
    {
     "data": {
      "image/png": "[encoded data removed]",
      "text/plain": [
       "<Figure size 800x400 with 8 Axes>"
      ]
     },
     "metadata": {
      "needs_background": "light"
     },
     "output_type": "display_data"
    },
    {
     "name": "stdout",
     "output_type": "stream",
     "text": [
      "275\n"
     ]
    },
    {
     "data": {
      "image/png": "[encoded data removed]",
      "text/plain": [
       "<Figure size 432x288 with 1 Axes>"
      ]
     },
     "metadata": {
      "needs_background": "light"
     },
     "output_type": "display_data"
    },
    {
     "data": {
      "image/png": "[encoded data removed]",
      "text/plain": [
       "<Figure size 1200x400 with 12 Axes>"
      ]
     },
     "metadata": {
      "needs_background": "light"
     },
     "output_type": "display_data"
    },
    {
     "name": "stdout",
     "output_type": "stream",
     "text": [
      "291\n"
     ]
    },
    {
     "data": {
      "image/png": "[encoded data removed]",
      "text/plain": [
       "<Figure size 432x288 with 1 Axes>"
      ]
     },
     "metadata": {
      "needs_background": "light"
     },
     "output_type": "display_data"
    },
    {
     "data": {
      "image/png": "[encoded data removed]",
      "text/plain": [
       "<Figure size 800x400 with 8 Axes>"
      ]
     },
     "metadata": {
      "needs_background": "light"
     },
     "output_type": "display_data"
    },
    {
     "name": "stdout",
     "output_type": "stream",
     "text": [
      "308\n"
     ]
    },
    {
     "data": {
      "image/png": "[encoded data removed]",
      "text/plain": [
       "<Figure size 432x288 with 1 Axes>"
      ]
     },
     "metadata": {
      "needs_background": "light"
     },
     "output_type": "display_data"
    },
    {
     "data": {
      "image/png": "[encoded data removed]",
      "text/plain": [
       "<Figure size 1000x400 with 10 Axes>"
      ]
     },
     "metadata": {
      "needs_background": "light"
     },
     "output_type": "display_data"
    },
    {
     "name": "stdout",
     "output_type": "stream",
     "text": [
      "331\n"
     ]
    }
   ],
   "source": [
    "training_examples = []\n",
    "for i in range(400):\n",
    "    task = Trains[i]\n",
    "    basic_task = Create(task,0)\n",
    "    a = Function(basic_task)\n",
    "  \n",
    "    if  a != -1 and task['test'][0]['output'] == a:\n",
    "        plot_picture(a)\n",
    "        plot_task(task)\n",
    "        print(i)\n",
    "        training_examples.append(i)      "
   ]
  },
  {
   "cell_type": "code",
   "execution_count": 11,
   "metadata": {},
   "outputs": [
    {
     "name": "stdout",
     "output_type": "stream",
     "text": [
      "5\n",
      "[15, 275, 291, 308, 331]\n"
     ]
    }
   ],
   "source": [
    "print(len(training_examples))\n",
    "print(training_examples)"
   ]
  },
  {
   "cell_type": "markdown",
   "metadata": {},
   "source": [
    "# Results on the evaluation set"
   ]
  },
  {
   "cell_type": "code",
   "execution_count": 12,
   "metadata": {},
   "outputs": [
    {
     "data": {
      "image/png": "[encoded data removed]",
      "text/plain": [
       "<Figure size 432x288 with 1 Axes>"
      ]
     },
     "metadata": {
      "needs_background": "light"
     },
     "output_type": "display_data"
    },
    {
     "data": {
      "image/png": "[encoded data removed]",
      "text/plain": [
       "<Figure size 800x400 with 8 Axes>"
      ]
     },
     "metadata": {
      "needs_background": "light"
     },
     "output_type": "display_data"
    },
    {
     "name": "stdout",
     "output_type": "stream",
     "text": [
      "82\n"
     ]
    }
   ],
   "source": [
    "evaluation_examples = []\n",
    "\n",
    "\n",
    "for i in range(400):\n",
    "    task = Evals[i]\n",
    "    basic_task = Create(task,0)\n",
    "    a = Function(basic_task)\n",
    "    \n",
    "    if a != -1 and task['test'][0]['output'] == a:\n",
    "       \n",
    "        plot_picture(a)\n",
    "        plot_task(task)\n",
    "        print(i)\n",
    "        evaluation_examples.append(i)        "
   ]
  },
  {
   "cell_type": "code",
   "execution_count": 13,
   "metadata": {},
   "outputs": [
    {
     "name": "stdout",
     "output_type": "stream",
     "text": [
      "1\n",
      "[82]\n"
     ]
    }
   ],
   "source": [
    "print(len(evaluation_examples))\n",
    "print(evaluation_examples)"
   ]
  },
  {
   "cell_type": "code",
   "execution_count": 14,
   "metadata": {},
   "outputs": [
    {
     "data": {
      "text/html": [
       "<div>\n",
       "<style scoped>\n",
       "    .dataframe tbody tr th:only-of-type {\n",
       "        vertical-align: middle;\n",
       "    }\n",
       "\n",
       "    .dataframe tbody tr th {\n",
       "        vertical-align: top;\n",
       "    }\n",
       "\n",
       "    .dataframe thead th {\n",
       "        text-align: right;\n",
       "    }\n",
       "</style>\n",
       "<table border=\"1\" class=\"dataframe\">\n",
       "  <thead>\n",
       "    <tr style=\"text-align: right;\">\n",
       "      <th></th>\n",
       "      <th>output_id</th>\n",
       "      <th>output</th>\n",
       "    </tr>\n",
       "  </thead>\n",
       "  <tbody>\n",
       "    <tr>\n",
       "      <th>0</th>\n",
       "      <td>00576224_0</td>\n",
       "      <td>|32|78| |32|78| |00|00|</td>\n",
       "    </tr>\n",
       "    <tr>\n",
       "      <th>1</th>\n",
       "      <td>009d5c81_0</td>\n",
       "      <td>|00000000000000|00000888888888|00000800080808|...</td>\n",
       "    </tr>\n",
       "    <tr>\n",
       "      <th>2</th>\n",
       "      <td>00dbd492_0</td>\n",
       "      <td>|00000000000222220000|02222222220200020000|020...</td>\n",
       "    </tr>\n",
       "    <tr>\n",
       "      <th>3</th>\n",
       "      <td>03560426_0</td>\n",
       "      <td>|0000000000|0000000000|0000000000|0000000000|0...</td>\n",
       "    </tr>\n",
       "    <tr>\n",
       "      <th>4</th>\n",
       "      <td>05a7bcf2_0</td>\n",
       "      <td>|000000000020000000080000000000|00000000002220...</td>\n",
       "    </tr>\n",
       "  </tbody>\n",
       "</table>\n",
       "</div>"
      ],
      "text/plain": [
       "    output_id                                             output\n",
       "0  00576224_0                           |32|78| |32|78| |00|00| \n",
       "1  009d5c81_0  |00000000000000|00000888888888|00000800080808|...\n",
       "2  00dbd492_0  |00000000000222220000|02222222220200020000|020...\n",
       "3  03560426_0  |0000000000|0000000000|0000000000|0000000000|0...\n",
       "4  05a7bcf2_0  |000000000020000000080000000000|00000000002220..."
      ]
     },
     "execution_count": 14,
     "metadata": {},
     "output_type": "execute_result"
    }
   ],
   "source": [
    "submission = pd.read_csv(data_path/ 'sample_submission.csv')\n",
    "submission.head()"
   ]
  },
  {
   "cell_type": "code",
   "execution_count": 15,
   "metadata": {},
   "outputs": [],
   "source": [
    "def flattener(pred):\n",
    "    str_pred = str([row for row in pred])\n",
    "    str_pred = str_pred.replace(', ', '')\n",
    "    str_pred = str_pred.replace('[[', '|')\n",
    "    str_pred = str_pred.replace('][', '|')\n",
    "    str_pred = str_pred.replace(']]', '|')\n",
    "    return str_pred"
   ]
  },
  {
   "cell_type": "code",
   "execution_count": 16,
   "metadata": {},
   "outputs": [
    {
     "data": {
      "text/plain": [
       "[[1, 2, 3], [4, 5, 6], [7, 8, 9]]"
      ]
     },
     "metadata": {},
     "output_type": "display_data"
    },
    {
     "name": "stdout",
     "output_type": "stream",
     "text": [
      "|123|456|789|\n"
     ]
    }
   ],
   "source": [
    "example_grid = [[1, 2, 3], [4, 5, 6], [7, 8, 9]]\n",
    "display(example_grid)\n",
    "print(flattener(example_grid))"
   ]
  },
  {
   "cell_type": "code",
   "execution_count": 17,
   "metadata": {},
   "outputs": [],
   "source": [
    "Solved = []\n",
    "Problems = submission['output_id'].values\n",
    "Proposed_Answers = []\n",
    "for i in  range(len(Problems)):\n",
    "    output_id = Problems[i]\n",
    "    task_id = output_id.split('_')[0]\n",
    "    pair_id = int(output_id.split('_')[1])\n",
    "    f = str(test_path / str(task_id + '.json'))\n",
    "   \n",
    "    with open(f, 'r') as read_file:\n",
    "        task = json.load(read_file)\n",
    "    \n",
    "    n = len(task['train'])\n",
    "    Input = [Defensive_Copy(task['train'][j]['input']) for j in range(n)]\n",
    "    Output = [Defensive_Copy(task['train'][j]['output']) for j in range(n)]\n",
    "    Input.append(Defensive_Copy(task['test'][pair_id]['input']))\n",
    "    \n",
    "    solution = Recolor([Input, Output])\n",
    "   \n",
    "    \n",
    "    pred = ''\n",
    "        \n",
    "    if solution != -1:\n",
    "        Solved.append(i)\n",
    "        pred1 = flattener(solution)\n",
    "        pred = pred+pred1+' '\n",
    "        \n",
    "    if pred == '':\n",
    "        pred = flattener(example_grid)\n",
    "        \n",
    "    Proposed_Answers.append(pred)\n",
    "    \n",
    "submission['output'] = Proposed_Answers\n",
    "submission.to_csv('submission.csv', index = False)"
   ]
  },
  {
   "cell_type": "code",
   "execution_count": 18,
   "metadata": {},
   "outputs": [
    {
     "name": "stdout",
     "output_type": "stream",
     "text": [
      "[47, 85]\n"
     ]
    }
   ],
   "source": [
    "print(Solved)"
   ]
  },
  {
   "cell_type": "code",
   "execution_count": 19,
   "metadata": {},
   "outputs": [
    {
     "data": {
      "text/html": [
       "<div>\n",
       "<style scoped>\n",
       "    .dataframe tbody tr th:only-of-type {\n",
       "        vertical-align: middle;\n",
       "    }\n",
       "\n",
       "    .dataframe tbody tr th {\n",
       "        vertical-align: top;\n",
       "    }\n",
       "\n",
       "    .dataframe thead th {\n",
       "        text-align: right;\n",
       "    }\n",
       "</style>\n",
       "<table border=\"1\" class=\"dataframe\">\n",
       "  <thead>\n",
       "    <tr style=\"text-align: right;\">\n",
       "      <th></th>\n",
       "      <th>output_id</th>\n",
       "      <th>output</th>\n",
       "    </tr>\n",
       "  </thead>\n",
       "  <tbody>\n",
       "    <tr>\n",
       "      <th>79</th>\n",
       "      <td>3194b014_0</td>\n",
       "      <td>|123|456|789|</td>\n",
       "    </tr>\n",
       "    <tr>\n",
       "      <th>80</th>\n",
       "      <td>319f2597_0</td>\n",
       "      <td>|123|456|789|</td>\n",
       "    </tr>\n",
       "    <tr>\n",
       "      <th>81</th>\n",
       "      <td>31adaf00_0</td>\n",
       "      <td>|123|456|789|</td>\n",
       "    </tr>\n",
       "    <tr>\n",
       "      <th>82</th>\n",
       "      <td>31d5ba1a_0</td>\n",
       "      <td>|123|456|789|</td>\n",
       "    </tr>\n",
       "    <tr>\n",
       "      <th>83</th>\n",
       "      <td>31d5ba1a_1</td>\n",
       "      <td>|123|456|789|</td>\n",
       "    </tr>\n",
       "    <tr>\n",
       "      <th>84</th>\n",
       "      <td>32e9702f_0</td>\n",
       "      <td>|123|456|789|</td>\n",
       "    </tr>\n",
       "    <tr>\n",
       "      <th>85</th>\n",
       "      <td>332efdb3_0</td>\n",
       "      <td>|11111111111|10101010101|11111111111|101010101...</td>\n",
       "    </tr>\n",
       "    <tr>\n",
       "      <th>86</th>\n",
       "      <td>3391f8c0_0</td>\n",
       "      <td>|123|456|789|</td>\n",
       "    </tr>\n",
       "    <tr>\n",
       "      <th>87</th>\n",
       "      <td>33b52de3_0</td>\n",
       "      <td>|123|456|789|</td>\n",
       "    </tr>\n",
       "    <tr>\n",
       "      <th>88</th>\n",
       "      <td>3490cc26_0</td>\n",
       "      <td>|123|456|789|</td>\n",
       "    </tr>\n",
       "    <tr>\n",
       "      <th>89</th>\n",
       "      <td>34b99a2b_0</td>\n",
       "      <td>|123|456|789|</td>\n",
       "    </tr>\n",
       "    <tr>\n",
       "      <th>90</th>\n",
       "      <td>351d6448_0</td>\n",
       "      <td>|123|456|789|</td>\n",
       "    </tr>\n",
       "    <tr>\n",
       "      <th>91</th>\n",
       "      <td>358ba94e_0</td>\n",
       "      <td>|123|456|789|</td>\n",
       "    </tr>\n",
       "    <tr>\n",
       "      <th>92</th>\n",
       "      <td>37d3e8b2_0</td>\n",
       "      <td>|123|456|789|</td>\n",
       "    </tr>\n",
       "    <tr>\n",
       "      <th>93</th>\n",
       "      <td>3979b1a8_0</td>\n",
       "      <td>|123|456|789|</td>\n",
       "    </tr>\n",
       "    <tr>\n",
       "      <th>94</th>\n",
       "      <td>3a301edc_0</td>\n",
       "      <td>|123|456|789|</td>\n",
       "    </tr>\n",
       "    <tr>\n",
       "      <th>95</th>\n",
       "      <td>3b4c2228_0</td>\n",
       "      <td>|123|456|789|</td>\n",
       "    </tr>\n",
       "    <tr>\n",
       "      <th>96</th>\n",
       "      <td>3b4c2228_1</td>\n",
       "      <td>|123|456|789|</td>\n",
       "    </tr>\n",
       "    <tr>\n",
       "      <th>97</th>\n",
       "      <td>3d31c5b3_0</td>\n",
       "      <td>|123|456|789|</td>\n",
       "    </tr>\n",
       "    <tr>\n",
       "      <th>98</th>\n",
       "      <td>3ed85e70_0</td>\n",
       "      <td>|123|456|789|</td>\n",
       "    </tr>\n",
       "    <tr>\n",
       "      <th>99</th>\n",
       "      <td>3ee1011a_0</td>\n",
       "      <td>|123|456|789|</td>\n",
       "    </tr>\n",
       "    <tr>\n",
       "      <th>100</th>\n",
       "      <td>3f23242b_0</td>\n",
       "      <td>|123|456|789|</td>\n",
       "    </tr>\n",
       "    <tr>\n",
       "      <th>101</th>\n",
       "      <td>40f6cd08_0</td>\n",
       "      <td>|123|456|789|</td>\n",
       "    </tr>\n",
       "    <tr>\n",
       "      <th>102</th>\n",
       "      <td>414297c0_0</td>\n",
       "      <td>|123|456|789|</td>\n",
       "    </tr>\n",
       "    <tr>\n",
       "      <th>103</th>\n",
       "      <td>423a55dc_0</td>\n",
       "      <td>|123|456|789|</td>\n",
       "    </tr>\n",
       "  </tbody>\n",
       "</table>\n",
       "</div>"
      ],
      "text/plain": [
       "      output_id                                             output\n",
       "79   3194b014_0                                      |123|456|789|\n",
       "80   319f2597_0                                      |123|456|789|\n",
       "81   31adaf00_0                                      |123|456|789|\n",
       "82   31d5ba1a_0                                      |123|456|789|\n",
       "83   31d5ba1a_1                                      |123|456|789|\n",
       "84   32e9702f_0                                      |123|456|789|\n",
       "85   332efdb3_0  |11111111111|10101010101|11111111111|101010101...\n",
       "86   3391f8c0_0                                      |123|456|789|\n",
       "87   33b52de3_0                                      |123|456|789|\n",
       "88   3490cc26_0                                      |123|456|789|\n",
       "89   34b99a2b_0                                      |123|456|789|\n",
       "90   351d6448_0                                      |123|456|789|\n",
       "91   358ba94e_0                                      |123|456|789|\n",
       "92   37d3e8b2_0                                      |123|456|789|\n",
       "93   3979b1a8_0                                      |123|456|789|\n",
       "94   3a301edc_0                                      |123|456|789|\n",
       "95   3b4c2228_0                                      |123|456|789|\n",
       "96   3b4c2228_1                                      |123|456|789|\n",
       "97   3d31c5b3_0                                      |123|456|789|\n",
       "98   3ed85e70_0                                      |123|456|789|\n",
       "99   3ee1011a_0                                      |123|456|789|\n",
       "100  3f23242b_0                                      |123|456|789|\n",
       "101  40f6cd08_0                                      |123|456|789|\n",
       "102  414297c0_0                                      |123|456|789|\n",
       "103  423a55dc_0                                      |123|456|789|"
      ]
     },
     "execution_count": 19,
     "metadata": {},
     "output_type": "execute_result"
    }
   ],
   "source": [
    "submission2 = pd.read_csv('submission.csv')\n",
    "submission2.tail(25)"
   ]
  },
  {
   "cell_type": "code",
   "execution_count": 20,
   "metadata": {},
   "outputs": [
    {
     "data": {
      "text/html": [
       "<div>\n",
       "<style scoped>\n",
       "    .dataframe tbody tr th:only-of-type {\n",
       "        vertical-align: middle;\n",
       "    }\n",
       "\n",
       "    .dataframe tbody tr th {\n",
       "        vertical-align: top;\n",
       "    }\n",
       "\n",
       "    .dataframe thead th {\n",
       "        text-align: right;\n",
       "    }\n",
       "</style>\n",
       "<table border=\"1\" class=\"dataframe\">\n",
       "  <thead>\n",
       "    <tr style=\"text-align: right;\">\n",
       "      <th></th>\n",
       "      <th>output_id</th>\n",
       "      <th>output</th>\n",
       "    </tr>\n",
       "  </thead>\n",
       "  <tbody>\n",
       "    <tr>\n",
       "      <th>0</th>\n",
       "      <td>00576224_0</td>\n",
       "      <td>|123|456|789|</td>\n",
       "    </tr>\n",
       "    <tr>\n",
       "      <th>1</th>\n",
       "      <td>009d5c81_0</td>\n",
       "      <td>|123|456|789|</td>\n",
       "    </tr>\n",
       "    <tr>\n",
       "      <th>2</th>\n",
       "      <td>00dbd492_0</td>\n",
       "      <td>|123|456|789|</td>\n",
       "    </tr>\n",
       "    <tr>\n",
       "      <th>3</th>\n",
       "      <td>03560426_0</td>\n",
       "      <td>|123|456|789|</td>\n",
       "    </tr>\n",
       "    <tr>\n",
       "      <th>4</th>\n",
       "      <td>05a7bcf2_0</td>\n",
       "      <td>|123|456|789|</td>\n",
       "    </tr>\n",
       "  </tbody>\n",
       "</table>\n",
       "</div>"
      ],
      "text/plain": [
       "    output_id         output\n",
       "0  00576224_0  |123|456|789|\n",
       "1  009d5c81_0  |123|456|789|\n",
       "2  00dbd492_0  |123|456|789|\n",
       "3  03560426_0  |123|456|789|\n",
       "4  05a7bcf2_0  |123|456|789|"
      ]
     },
     "execution_count": 20,
     "metadata": {},
     "output_type": "execute_result"
    }
   ],
   "source": [
    "submission2.head()"
   ]
  }
 ],
 "metadata": {
  "kernelspec": {
   "display_name": "Python 3",
   "language": "python",
   "name": "python3"
  },
  "language_info": {
   "codemirror_mode": {
    "name": "ipython",
    "version": 3
   },
   "file_extension": ".py",
   "mimetype": "text/x-python",
   "name": "python",
   "nbconvert_exporter": "python",
   "pygments_lexer": "ipython3",
   "version": "3.6.6"
  }
 },
 "nbformat": 4,
 "nbformat_minor": 4
}
