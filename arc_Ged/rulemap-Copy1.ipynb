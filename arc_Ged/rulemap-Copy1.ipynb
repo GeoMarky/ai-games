{
 "cells": [
  {
   "cell_type": "code",
   "execution_count": 1,
   "metadata": {},
   "outputs": [
    {
     "name": "stdout",
     "output_type": "stream",
     "text": [
      "input\n",
      "input\\evaluation\n",
      "input\\test\n",
      "input\\training\n"
     ]
    }
   ],
   "source": [
    "import numpy as np\n",
    "import pandas as pd\n",
    "import time\n",
    "\n",
    "import os\n",
    "import json\n",
    "from pathlib import Path\n",
    "\n",
    "import matplotlib.pyplot as plt\n",
    "from matplotlib import colors\n",
    "import numpy as np\n",
    "from pathlib import Path\n",
    "\n",
    "#for dirname, _, filenames in os.walk('/kaggle/input'):\n",
    "for dirname, _, filenames in os.walk(\"input\"):\n",
    "    print(dirname)"
   ]
  },
  {
   "cell_type": "code",
   "execution_count": 2,
   "metadata": {},
   "outputs": [],
   "source": [
    "#data_path = Path('/kaggle/input/abstraction-and-reasoning-challenge/')\n",
    "data_path = Path('input/')\n",
    "training_path = data_path / 'training'\n",
    "evaluation_path = data_path / 'evaluation'\n",
    "test_path = data_path / 'test'\n",
    "training_tasks = sorted(os.listdir(training_path))\n",
    "eval_tasks = sorted(os.listdir(evaluation_path))"
   ]
  },
  {
   "cell_type": "code",
   "execution_count": 3,
   "metadata": {},
   "outputs": [],
   "source": [
    "#已解決的ID\n",
    "solved_id=set()\n",
    "solved_eva_id=set()"
   ]
  },
  {
   "cell_type": "code",
   "execution_count": 4,
   "metadata": {},
   "outputs": [],
   "source": [
    "T = training_tasks\n",
    "Trains = []\n",
    "for i in range(400):\n",
    "    task_file = str(training_path / T[i])\n",
    "    task = json.load(open(task_file, 'r'))\n",
    "    Trains.append(task)\n",
    "    \n",
    "E = eval_tasks\n",
    "Evals= []\n",
    "for i in range(400):\n",
    "    task_file = str(evaluation_path / E[i])\n",
    "    task = json.load(open(task_file, 'r'))\n",
    "    Evals.append(task)"
   ]
  },
  {
   "cell_type": "code",
   "execution_count": 5,
   "metadata": {},
   "outputs": [
    {
     "data": {
      "image/png": "[encoded data removed]",
      "text/plain": [
       "<Figure size 1000x400 with 1 Axes>"
      ]
     },
     "metadata": {
      "needs_background": "light"
     },
     "output_type": "display_data"
    }
   ],
   "source": [
    "cmap = colors.ListedColormap(\n",
    "    ['#000000', '#0074D9','#FF4136','#2ECC40','#FFDC00',\n",
    "     '#AAAAAA', '#F012BE', '#FF851B', '#7FDBFF', '#870C25'])\n",
    "norm = colors.Normalize(vmin=0, vmax=9)\n",
    "# 0:black, 1:blue, 2:red, 3:greed, 4:yellow,\n",
    "# 5:gray, 6:magenta, 7:orange, 8:sky, 9:brown\n",
    "plt.figure(figsize=(5, 2), dpi=200)\n",
    "plt.imshow([list(range(10))], cmap=cmap, norm=norm)\n",
    "plt.xticks(list(range(10)))\n",
    "plt.yticks([])\n",
    "plt.show()\n",
    "\n",
    "def plot_task(task):\n",
    "    n = len(task[\"train\"]) + len(task[\"test\"])\n",
    "    fig, axs = plt.subplots(2, n, figsize=(4*n,8), dpi=50)\n",
    "    plt.subplots_adjust(wspace=0, hspace=0)\n",
    "    fig_num = 0\n",
    "    \n",
    "    for i, t in enumerate(task[\"train\"]):\n",
    "        t_in, t_out = np.array(t[\"input\"]), np.array(t[\"output\"])\n",
    "        axs[0][fig_num].imshow(t_in, cmap=cmap, norm=norm)\n",
    "        axs[0][fig_num].set_title(f'Train-{i} in')\n",
    "        axs[0][fig_num].set_yticks(list(range(t_in.shape[0])))\n",
    "        axs[0][fig_num].set_xticks(list(range(t_in.shape[1])))\n",
    "        axs[1][fig_num].imshow(t_out, cmap=cmap, norm=norm)\n",
    "        axs[1][fig_num].set_title(f'Train-{i} out')\n",
    "        axs[1][fig_num].set_yticks(list(range(t_out.shape[0])))\n",
    "        axs[1][fig_num].set_xticks(list(range(t_out.shape[1])))\n",
    "        fig_num += 1\n",
    "    for i, t in enumerate(task[\"test\"]):\n",
    "        t_in, t_out = np.array(t[\"input\"]), np.array(t[\"output\"])\n",
    "        axs[0][fig_num].imshow(t_in, cmap=cmap, norm=norm)\n",
    "        axs[0][fig_num].set_title(f'Test-{i} in')\n",
    "        axs[0][fig_num].set_yticks(list(range(t_in.shape[0])))\n",
    "        axs[0][fig_num].set_xticks(list(range(t_in.shape[1])))\n",
    "        axs[1][fig_num].imshow(t_out, cmap=cmap, norm=norm)\n",
    "        axs[1][fig_num].set_title(f'Test-{i} out')\n",
    "        axs[1][fig_num].set_yticks(list(range(t_out.shape[0])))\n",
    "        axs[1][fig_num].set_xticks(list(range(t_out.shape[1])))\n",
    "        fig_num += 1\n",
    "    \n",
    "    plt.tight_layout()\n",
    "    plt.show()"
   ]
  },
  {
   "cell_type": "code",
   "execution_count": 6,
   "metadata": {},
   "outputs": [],
   "source": [
    "\n",
    "def plot_picture(x):\n",
    "    plt.imshow(np.array(x), cmap = cmap, norm = norm)\n",
    "    plt.show()"
   ]
  },
  {
   "cell_type": "code",
   "execution_count": 7,
   "metadata": {},
   "outputs": [],
   "source": [
    "def Defensive_Copy(A): \n",
    "    if type(A)!=list:\n",
    "        A=A.tolist()\n",
    "    n = len(A)\n",
    "    k = len(A[0])\n",
    "    L = np.zeros((n,k), dtype = int)\n",
    "    for i in range(n):\n",
    "        for j in range(k):\n",
    "            L[i,j] = 0 + A[i][j]\n",
    "    return L.tolist()"
   ]
  },
  {
   "cell_type": "code",
   "execution_count": 8,
   "metadata": {},
   "outputs": [],
   "source": [
    "def Create(task, task_id = 0):\n",
    "    n = len(task['train'])\n",
    "    Input = [Defensive_Copy(task['train'][i]['input']) for i in range(n)]\n",
    "    Output = [Defensive_Copy(task['train'][i]['output']) for i in range(n)]\n",
    "    Input.append(Defensive_Copy(task['test'][task_id]['input']))\n",
    "    return Input, Output"
   ]
  },
  {
   "cell_type": "code",
   "execution_count": 9,
   "metadata": {},
   "outputs": [],
   "source": [
    "A=Trains[140][\"train\"][2][\"input\"]\n",
    "B=Trains[140][\"train\"][2][\"output\"]"
   ]
  },
  {
   "cell_type": "code",
   "execution_count": 10,
   "metadata": {},
   "outputs": [
    {
     "data": {
      "image/png": "[encoded data removed]",
      "text/plain": [
       "<Figure size 432x288 with 1 Axes>"
      ]
     },
     "metadata": {
      "needs_background": "light"
     },
     "output_type": "display_data"
    }
   ],
   "source": [
    "plot_picture(A)"
   ]
  },
  {
   "cell_type": "code",
   "execution_count": 37,
   "metadata": {},
   "outputs": [],
   "source": [
    "def findmodemap(A,B):\n",
    "    A_array=np.array(A)\n",
    "    B_pad=np.pad(B,((1,1),(1,1)),\"constant\",constant_values=(-1,-1))\n",
    "    A_pad=np.pad(A,((1,1),(1,1)),\"constant\",constant_values=(-1,-1))\n",
    "    m,n=A_pad.shape\n",
    "    total_dict={}\n",
    "    A1=A_pad.copy()\n",
    "    A2=A_pad.copy()\n",
    "    for k in range(30):\n",
    "        dict1={}\n",
    "        for i in range(m):\n",
    "            for j in range(n):\n",
    "                \n",
    "                if A1[i,j]!=-1 and A1[i,j]!=0:\n",
    "                    if str(A1[i-1:i+2,j-1:j+2]) not in dict1:\n",
    "                        dict1[str(A1[i-1:i+2,j-1:j+2])]=B_pad[i-1:i+2,j-1:j+2]\n",
    "                    if str(A1[i-1:i+2,j-1:j+2]) in dict1 and (dict1[str(A1[i-1:i+2,j-1:j+2])]!= B_pad[i-1:i+2,j-1:j+2]).any():\n",
    "#                         print(A1[i-1:i+2,j-1:j+2],dict1[str(A1[i-1:i+2,j-1:j+2])],B_pad[i-1:i+2,j-1:j+2])\n",
    "#                         return -1\n",
    "                        dict1[str(A1[i-1:i+2,j-1:j+2])]=B_pad[i-1:i+2,j-1:j+2]\n",
    "\n",
    "        total_dict=dict(dict1,**total_dict)\n",
    "        #print(total_dict)\n",
    "        A1_copy=A1.copy()\n",
    "        #A1_copy=A1\n",
    "        for i in range(m):\n",
    "            for j in range(n):\n",
    "                \n",
    "                if str(A1_copy[i-1:i+2,j-1:j+2]) in total_dict.keys():\n",
    "\n",
    "                    \n",
    "                    A2[i-1:i+2,j-1:j+2]=total_dict[str(A1_copy[i-1:i+2,j-1:j+2])]\n",
    "                    \n",
    "        \n",
    "        #plot_picture(A2.tolist())\n",
    "#         if (A1==B_pad).all():\n",
    "#             #print(k)\n",
    "#             break\n",
    "#         else:\n",
    "        A1=A2\n",
    "        #plot_picture(A1.tolist())\n",
    "            \n",
    "            \n",
    "    return total_dict\n",
    "        \n"
   ]
  },
  {
   "cell_type": "code",
   "execution_count": null,
   "metadata": {},
   "outputs": [],
   "source": []
  },
  {
   "cell_type": "code",
   "execution_count": 38,
   "metadata": {},
   "outputs": [
    {
     "data": {
      "text/plain": [
       "{'[[-1 -1 -1]\\n [-1  3  3]\\n [-1  3  3]]': array([[-1, -1, -1],\n",
       "        [-1,  3,  3],\n",
       "        [-1,  3,  3]]),\n",
       " '[[-1 -1 -1]\\n [ 3  3  3]\\n [ 3  3  3]]': array([[-1, -1, -1],\n",
       "        [ 3,  3,  3],\n",
       "        [ 3,  3,  3]]),\n",
       " '[[-1 -1 -1]\\n [ 3  3  3]\\n [ 3  3  0]]': array([[-1, -1, -1],\n",
       "        [ 3,  3,  3],\n",
       "        [ 3,  3,  0]]),\n",
       " '[[-1 -1 -1]\\n [ 3  3  0]\\n [ 3  0  0]]': array([[-1, -1, -1],\n",
       "        [ 3,  3,  0],\n",
       "        [ 3,  0,  0]]),\n",
       " '[[-1  3  3]\\n [-1  3  3]\\n [-1  2  2]]': array([[-1,  3,  3],\n",
       "        [-1,  3,  3],\n",
       "        [-1,  2,  2]]),\n",
       " '[[3 3 3]\\n [3 3 3]\\n [2 2 2]]': array([[3, 3, 3],\n",
       "        [3, 3, 3],\n",
       "        [2, 2, 2]]),\n",
       " '[[3 3 3]\\n [3 3 3]\\n [2 2 0]]': array([[3, 3, 3],\n",
       "        [3, 3, 3],\n",
       "        [2, 2, 0]]),\n",
       " '[[3 3 3]\\n [3 3 0]\\n [2 0 0]]': array([[3, 3, 3],\n",
       "        [3, 3, 0],\n",
       "        [2, 0, 0]]),\n",
       " '[[-1  3  3]\\n [-1  2  2]\\n [-1  1  1]]': array([[-1,  3,  3],\n",
       "        [-1,  2,  2],\n",
       "        [-1,  1,  1]]),\n",
       " '[[3 3 3]\\n [2 2 2]\\n [1 1 1]]': array([[3, 3, 3],\n",
       "        [2, 2, 2],\n",
       "        [1, 1, 1]]),\n",
       " '[[3 3 3]\\n [2 2 2]\\n [1 1 0]]': array([[3, 3, 3],\n",
       "        [2, 2, 2],\n",
       "        [1, 1, 0]]),\n",
       " '[[3 3 3]\\n [2 2 0]\\n [1 0 0]]': array([[3, 3, 3],\n",
       "        [2, 2, 0],\n",
       "        [1, 0, 0]]),\n",
       " '[[-1  2  2]\\n [-1  1  1]\\n [-1  1  1]]': array([[-1,  2,  2],\n",
       "        [-1,  1,  1],\n",
       "        [-1,  1,  1]]),\n",
       " '[[2 2 2]\\n [1 1 1]\\n [1 1 0]]': array([[2, 2, 2],\n",
       "        [1, 1, 1],\n",
       "        [1, 1, 0]]),\n",
       " '[[2 2 2]\\n [1 1 0]\\n [1 0 0]]': array([[2, 2, 2],\n",
       "        [1, 1, 0],\n",
       "        [1, 0, 0]]),\n",
       " '[[-1  1  1]\\n [-1  1  1]\\n [-1  1  0]]': array([[-1,  1,  1],\n",
       "        [-1,  1,  1],\n",
       "        [-1,  1,  0]]),\n",
       " '[[1 1 1]\\n [1 1 0]\\n [1 0 0]]': array([[1, 1, 1],\n",
       "        [1, 1, 0],\n",
       "        [1, 0, 0]]),\n",
       " '[[-1  1  1]\\n [-1  1  0]\\n [-1  0  0]]': array([[-1,  1,  1],\n",
       "        [-1,  1,  0],\n",
       "        [-1,  0,  0]]),\n",
       " '[[-1  1  1]\\n [-1  1  1]\\n [-1  0  0]]': array([[-1,  1,  1],\n",
       "        [-1,  1,  1],\n",
       "        [-1,  1,  0]]),\n",
       " '[[1 1 1]\\n [1 1 0]\\n [0 0 0]]': array([[1, 1, 1],\n",
       "        [1, 1, 0],\n",
       "        [1, 0, 0]]),\n",
       " '[[-1  0  0]\\n [-1  3  3]\\n [-1  2  2]]': array([[-1,  3,  3],\n",
       "        [-1,  3,  3],\n",
       "        [-1,  2,  2]]),\n",
       " '[[0 0 0]\\n [3 3 3]\\n [2 2 2]]': array([[3, 3, 3],\n",
       "        [3, 3, 3],\n",
       "        [2, 2, 2]]),\n",
       " '[[0 0 0]\\n [3 3 3]\\n [2 2 0]]': array([[3, 3, 3],\n",
       "        [3, 3, 3],\n",
       "        [2, 2, 0]]),\n",
       " '[[0 0 0]\\n [3 3 0]\\n [2 0 0]]': array([[3, 3, 3],\n",
       "        [3, 3, 0],\n",
       "        [2, 0, 0]]),\n",
       " '[[-1  2  2]\\n [-1  1  1]\\n [-1  0  0]]': array([[-1,  2,  2],\n",
       "        [-1,  1,  1],\n",
       "        [-1,  1,  1]]),\n",
       " '[[2 2 2]\\n [1 1 1]\\n [0 0 0]]': array([[2, 2, 2],\n",
       "        [1, 1, 1],\n",
       "        [1, 1, 0]]),\n",
       " '[[2 2 2]\\n [1 1 0]\\n [0 0 0]]': array([[2, 2, 2],\n",
       "        [1, 1, 0],\n",
       "        [1, 0, 0]]),\n",
       " '[[-1  0  0]\\n [-1  2  2]\\n [-1  0  0]]': array([[-1,  3,  3],\n",
       "        [-1,  2,  2],\n",
       "        [-1,  1,  1]]),\n",
       " '[[0 0 0]\\n [2 2 2]\\n [0 0 0]]': array([[3, 3, 3],\n",
       "        [2, 2, 2],\n",
       "        [1, 1, 0]]),\n",
       " '[[0 0 0]\\n [2 2 0]\\n [0 0 0]]': array([[3, 3, 3],\n",
       "        [2, 2, 0],\n",
       "        [1, 0, 0]])}"
      ]
     },
     "execution_count": 38,
     "metadata": {},
     "output_type": "execute_result"
    }
   ],
   "source": [
    "total_dict=findmodemap(A,B)\n",
    "total_dict"
   ]
  },
  {
   "cell_type": "code",
   "execution_count": 39,
   "metadata": {},
   "outputs": [],
   "source": [
    "def usemodedict(A,total_dict):\n",
    "\n",
    "    A_array=np.array(A)\n",
    "    A_pad=np.pad(A,((1,1),(1,1)),\"constant\",constant_values=(-1,-1))\n",
    "    m,n=A_pad.shape\n",
    "    total_dict=total_dict\n",
    "    A1=A_pad.copy()\n",
    "    A2=A_pad.copy()\n",
    "    for k in range(100):\n",
    "        A1_copy=A1.copy()\n",
    "        for i in range(m):\n",
    "            for j in range(n):\n",
    "                if str(A1_copy[i-1:i+2,j-1:j+2]) in total_dict.keys():\n",
    "                    #print(A1_copy[i-1:i+2,j-1:j+2])\n",
    "                    \n",
    "                    A2[i-1:i+2,j-1:j+2]=total_dict[str(A1_copy[i-1:i+2,j-1:j+2])]\n",
    "            \n",
    "        \n",
    "        A1=A2\n",
    "    return A2[1:-1,1:-1].tolist()"
   ]
  },
  {
   "cell_type": "code",
   "execution_count": 40,
   "metadata": {},
   "outputs": [],
   "source": [
    "def Solve_mode_dict(basic_task): \n",
    "    Input = [Defensive_Copy(x) for x in basic_task[0]]\n",
    "    Output = [Defensive_Copy(y) for y in basic_task[1]]\n",
    "    Test_Case = Input[-1]\n",
    "    Input = Input[:-1]\n",
    "    total_dict={}\n",
    "    for i in range(10):\n",
    "        mask=False\n",
    "        for j in range(len(Input)):\n",
    "            if i in Test_Case and i  in Input[j] :\n",
    "                mask=True\n",
    "                break\n",
    "            elif i not in Test_Case:\n",
    "                mask=True\n",
    "                break\n",
    "        if mask==False:\n",
    "            return -1\n",
    "    for x, y in zip(Input,Output):\n",
    "        if len(x)!=len(y) or len(x[0])!=len(y[0]):\n",
    "            return -1\n",
    "        if findmodemap(x,y)==-1:\n",
    "            return -1\n",
    "        else:\n",
    "            total_dict=dict(total_dict,**(findmodemap(x,y)))\n",
    "    for x, y in zip(Input,Output):\n",
    "        if y!=usemodedict(x,total_dict):\n",
    "            return -1\n",
    "\n",
    "            \n",
    "                \n",
    "    return usemodedict(Test_Case,total_dict)"
   ]
  },
  {
   "cell_type": "code",
   "execution_count": 48,
   "metadata": {},
   "outputs": [
    {
     "data": {
      "image/png": "[encoded data removed]",
      "text/plain": [
       "<Figure size 432x288 with 1 Axes>"
      ]
     },
     "metadata": {
      "needs_background": "light"
     },
     "output_type": "display_data"
    },
    {
     "data": {
      "image/png": "[encoded data removed]",
      "text/plain": [
       "<Figure size 800x400 with 8 Axes>"
      ]
     },
     "metadata": {
      "needs_background": "light"
     },
     "output_type": "display_data"
    },
    {
     "name": "stdout",
     "output_type": "stream",
     "text": [
      "14\n"
     ]
    },
    {
     "data": {
      "image/png": "[encoded data removed]",
      "text/plain": [
       "<Figure size 432x288 with 1 Axes>"
      ]
     },
     "metadata": {
      "needs_background": "light"
     },
     "output_type": "display_data"
    },
    {
     "data": {
      "image/png": "[encoded data removed]",
      "text/plain": [
       "<Figure size 800x400 with 8 Axes>"
      ]
     },
     "metadata": {
      "needs_background": "light"
     },
     "output_type": "display_data"
    },
    {
     "name": "stdout",
     "output_type": "stream",
     "text": [
      "72\n"
     ]
    },
    {
     "data": {
      "image/png": "[encoded data removed]",
      "text/plain": [
       "<Figure size 432x288 with 1 Axes>"
      ]
     },
     "metadata": {
      "needs_background": "light"
     },
     "output_type": "display_data"
    },
    {
     "data": {
      "image/png": "[encoded data removed]",
      "text/plain": [
       "<Figure size 600x400 with 6 Axes>"
      ]
     },
     "metadata": {
      "needs_background": "light"
     },
     "output_type": "display_data"
    },
    {
     "name": "stdout",
     "output_type": "stream",
     "text": [
      "94\n"
     ]
    },
    {
     "data": {
      "image/png": "[encoded data removed]",
      "text/plain": [
       "<Figure size 432x288 with 1 Axes>"
      ]
     },
     "metadata": {
      "needs_background": "light"
     },
     "output_type": "display_data"
    },
    {
     "data": {
      "image/png": "[encoded data removed]",
      "text/plain": [
       "<Figure size 600x400 with 6 Axes>"
      ]
     },
     "metadata": {
      "needs_background": "light"
     },
     "output_type": "display_data"
    },
    {
     "name": "stdout",
     "output_type": "stream",
     "text": [
      "159\n"
     ]
    },
    {
     "data": {
      "image/png": "[encoded data removed]",
      "text/plain": [
       "<Figure size 432x288 with 1 Axes>"
      ]
     },
     "metadata": {
      "needs_background": "light"
     },
     "output_type": "display_data"
    },
    {
     "data": {
      "image/png": "[encoded data removed]",
      "text/plain": [
       "<Figure size 1000x400 with 10 Axes>"
      ]
     },
     "metadata": {
      "needs_background": "light"
     },
     "output_type": "display_data"
    },
    {
     "name": "stdout",
     "output_type": "stream",
     "text": [
      "219\n"
     ]
    },
    {
     "data": {
      "image/png": "[encoded data removed]",
      "text/plain": [
       "<Figure size 432x288 with 1 Axes>"
      ]
     },
     "metadata": {
      "needs_background": "light"
     },
     "output_type": "display_data"
    },
    {
     "data": {
      "image/png": "[encoded data removed]",
      "text/plain": [
       "<Figure size 800x400 with 8 Axes>"
      ]
     },
     "metadata": {
      "needs_background": "light"
     },
     "output_type": "display_data"
    },
    {
     "name": "stdout",
     "output_type": "stream",
     "text": [
      "229\n"
     ]
    },
    {
     "data": {
      "image/png": "[encoded data removed]",
      "text/plain": [
       "<Figure size 432x288 with 1 Axes>"
      ]
     },
     "metadata": {
      "needs_background": "light"
     },
     "output_type": "display_data"
    },
    {
     "data": {
      "image/png": "[encoded data removed]",
      "text/plain": [
       "<Figure size 800x400 with 8 Axes>"
      ]
     },
     "metadata": {
      "needs_background": "light"
     },
     "output_type": "display_data"
    },
    {
     "name": "stdout",
     "output_type": "stream",
     "text": [
      "247\n"
     ]
    },
    {
     "data": {
      "image/png": "[encoded data removed]",
      "text/plain": [
       "<Figure size 432x288 with 1 Axes>"
      ]
     },
     "metadata": {
      "needs_background": "light"
     },
     "output_type": "display_data"
    },
    {
     "data": {
      "image/png": "[encoded data removed]",
      "text/plain": [
       "<Figure size 800x400 with 8 Axes>"
      ]
     },
     "metadata": {
      "needs_background": "light"
     },
     "output_type": "display_data"
    },
    {
     "name": "stdout",
     "output_type": "stream",
     "text": [
      "255\n"
     ]
    },
    {
     "data": {
      "image/png": "[encoded data removed]",
      "text/plain": [
       "<Figure size 432x288 with 1 Axes>"
      ]
     },
     "metadata": {
      "needs_background": "light"
     },
     "output_type": "display_data"
    },
    {
     "data": {
      "image/png": "[encoded data removed]",
      "text/plain": [
       "<Figure size 600x400 with 6 Axes>"
      ]
     },
     "metadata": {
      "needs_background": "light"
     },
     "output_type": "display_data"
    },
    {
     "name": "stdout",
     "output_type": "stream",
     "text": [
      "281\n"
     ]
    },
    {
     "data": {
      "image/png": "[encoded data removed]",
      "text/plain": [
       "<Figure size 432x288 with 1 Axes>"
      ]
     },
     "metadata": {
      "needs_background": "light"
     },
     "output_type": "display_data"
    },
    {
     "data": {
      "image/png": "[encoded data removed]",
      "text/plain": [
       "<Figure size 600x400 with 6 Axes>"
      ]
     },
     "metadata": {
      "needs_background": "light"
     },
     "output_type": "display_data"
    },
    {
     "name": "stdout",
     "output_type": "stream",
     "text": [
      "316\n"
     ]
    },
    {
     "data": {
      "image/png": "[encoded data removed]",
      "text/plain": [
       "<Figure size 432x288 with 1 Axes>"
      ]
     },
     "metadata": {
      "needs_background": "light"
     },
     "output_type": "display_data"
    },
    {
     "data": {
      "image/png": "[encoded data removed]",
      "text/plain": [
       "<Figure size 600x400 with 6 Axes>"
      ]
     },
     "metadata": {
      "needs_background": "light"
     },
     "output_type": "display_data"
    },
    {
     "name": "stdout",
     "output_type": "stream",
     "text": [
      "322\n"
     ]
    },
    {
     "data": {
      "image/png": "[encoded data removed]",
      "text/plain": [
       "<Figure size 432x288 with 1 Axes>"
      ]
     },
     "metadata": {
      "needs_background": "light"
     },
     "output_type": "display_data"
    },
    {
     "data": {
      "image/png": "[encoded data removed]",
      "text/plain": [
       "<Figure size 800x400 with 8 Axes>"
      ]
     },
     "metadata": {
      "needs_background": "light"
     },
     "output_type": "display_data"
    },
    {
     "name": "stdout",
     "output_type": "stream",
     "text": [
      "343\n"
     ]
    },
    {
     "data": {
      "image/png": "[encoded data removed]",
      "text/plain": [
       "<Figure size 432x288 with 1 Axes>"
      ]
     },
     "metadata": {
      "needs_background": "light"
     },
     "output_type": "display_data"
    },
    {
     "data": {
      "image/png": "[encoded data removed]",
      "text/plain": [
       "<Figure size 800x400 with 8 Axes>"
      ]
     },
     "metadata": {
      "needs_background": "light"
     },
     "output_type": "display_data"
    },
    {
     "name": "stdout",
     "output_type": "stream",
     "text": [
      "351\n"
     ]
    }
   ],
   "source": [
    "for i in range(400):\n",
    "    task = Trains[i]\n",
    "    k = len(task['test'])\n",
    "    for j in range(k):\n",
    "        basic_task = Create(task, j)\n",
    "        a = Solve_mode_dict(basic_task)\n",
    "\n",
    "        if a != -1 and task['test'][j]['output'] == a:\n",
    "            plot_picture(a)\n",
    "            plot_task(task)\n",
    "            print(i)\n"
   ]
  },
  {
   "cell_type": "code",
   "execution_count": null,
   "metadata": {},
   "outputs": [
    {
     "data": {
      "image/png": "[encoded data removed]",
      "text/plain": [
       "<Figure size 432x288 with 1 Axes>"
      ]
     },
     "metadata": {
      "needs_background": "light"
     },
     "output_type": "display_data"
    },
    {
     "data": {
      "image/png": "[encoded data removed]",
      "text/plain": [
       "<Figure size 800x400 with 8 Axes>"
      ]
     },
     "metadata": {
      "needs_background": "light"
     },
     "output_type": "display_data"
    },
    {
     "name": "stdout",
     "output_type": "stream",
     "text": [
      "126\n"
     ]
    },
    {
     "data": {
      "image/png": "[encoded data removed]",
      "text/plain": [
       "<Figure size 432x288 with 1 Axes>"
      ]
     },
     "metadata": {
      "needs_background": "light"
     },
     "output_type": "display_data"
    },
    {
     "data": {
      "image/png": "[encoded data removed]",
      "text/plain": [
       "<Figure size 1000x400 with 10 Axes>"
      ]
     },
     "metadata": {
      "needs_background": "light"
     },
     "output_type": "display_data"
    },
    {
     "name": "stdout",
     "output_type": "stream",
     "text": [
      "165\n"
     ]
    }
   ],
   "source": [
    "for i in range(400):\n",
    "    task = Evals[i]\n",
    "    k = len(task['test'])\n",
    "    for j in range(k):\n",
    "        basic_task = Create(task, j)\n",
    "        a = Solve_mode_dict(basic_task)\n",
    "\n",
    "        if a != -1 and task['test'][j]['output'] == a:\n",
    "            plot_picture(a)\n",
    "            plot_task(task)\n",
    "            print(i)"
   ]
  },
  {
   "cell_type": "code",
   "execution_count": 43,
   "metadata": {},
   "outputs": [
    {
     "data": {
      "image/png": "[encoded data removed]",
      "text/plain": [
       "<Figure size 432x288 with 1 Axes>"
      ]
     },
     "metadata": {
      "needs_background": "light"
     },
     "output_type": "display_data"
    }
   ],
   "source": [
    "i=0\n",
    "A=Trains[255][\"train\"][i][\"input\"]\n",
    "B=Trains[255][\"train\"][i][\"output\"]\n",
    "C=Trains[255][\"test\"][0][\"input\"]\n",
    "plot_picture(B)"
   ]
  },
  {
   "cell_type": "code",
   "execution_count": 47,
   "metadata": {},
   "outputs": [
    {
     "data": {
      "image/png": "[encoded data removed]",
      "text/plain": [
       "<Figure size 432x288 with 1 Axes>"
      ]
     },
     "metadata": {
      "needs_background": "light"
     },
     "output_type": "display_data"
    },
    {
     "data": {
      "text/plain": [
       "{'[[-1 -1 -1]\\n [-1  3  3]\\n [-1  3  3]]': array([[-1, -1, -1],\n",
       "        [-1,  3,  3],\n",
       "        [-1,  3,  3]]),\n",
       " '[[-1 -1 -1]\\n [ 3  3  3]\\n [ 3  3  3]]': array([[-1, -1, -1],\n",
       "        [ 3,  3,  3],\n",
       "        [ 3,  3,  3]]),\n",
       " '[[-1 -1 -1]\\n [ 3  3  3]\\n [ 3  3  0]]': array([[-1, -1, -1],\n",
       "        [ 3,  3,  3],\n",
       "        [ 3,  3,  0]]),\n",
       " '[[-1 -1 -1]\\n [ 3  3  0]\\n [ 3  0  0]]': array([[-1, -1, -1],\n",
       "        [ 3,  3,  0],\n",
       "        [ 3,  0,  0]]),\n",
       " '[[-1  3  3]\\n [-1  3  3]\\n [-1  3  3]]': array([[-1,  3,  3],\n",
       "        [-1,  3,  3],\n",
       "        [-1,  3,  3]]),\n",
       " '[[3 3 3]\\n [3 3 3]\\n [3 3 3]]': array([[3, 3, 3],\n",
       "        [3, 3, 3],\n",
       "        [3, 3, 3]]),\n",
       " '[[3 3 3]\\n [3 3 3]\\n [3 3 0]]': array([[3, 3, 3],\n",
       "        [3, 3, 3],\n",
       "        [3, 3, 0]]),\n",
       " '[[3 3 3]\\n [3 3 0]\\n [3 0 0]]': array([[3, 3, 3],\n",
       "        [3, 3, 0],\n",
       "        [3, 0, 0]]),\n",
       " '[[-1  3  3]\\n [-1  3  3]\\n [-1  2  2]]': array([[-1,  3,  3],\n",
       "        [-1,  3,  3],\n",
       "        [-1,  2,  2]]),\n",
       " '[[3 3 3]\\n [3 3 3]\\n [2 2 0]]': array([[3, 3, 3],\n",
       "        [3, 3, 3],\n",
       "        [2, 2, 0]]),\n",
       " '[[3 3 3]\\n [3 3 0]\\n [2 0 0]]': array([[3, 3, 3],\n",
       "        [3, 3, 0],\n",
       "        [2, 0, 0]]),\n",
       " '[[-1  3  3]\\n [-1  2  2]\\n [-1  1  0]]': array([[-1,  3,  3],\n",
       "        [-1,  2,  2],\n",
       "        [-1,  1,  0]]),\n",
       " '[[3 3 3]\\n [2 2 0]\\n [1 0 0]]': array([[3, 3, 3],\n",
       "        [2, 2, 0],\n",
       "        [1, 0, 0]]),\n",
       " '[[-1  2  2]\\n [-1  1  0]\\n [-1  0  0]]': array([[-1,  2,  2],\n",
       "        [-1,  1,  0],\n",
       "        [-1,  0,  0]]),\n",
       " '[[-1  0  0]\\n [-1  3  3]\\n [-1  3  3]]': array([[-1,  3,  3],\n",
       "        [-1,  3,  3],\n",
       "        [-1,  3,  3]]),\n",
       " '[[0 0 0]\\n [3 3 3]\\n [3 3 3]]': array([[3, 3, 3],\n",
       "        [3, 3, 3],\n",
       "        [3, 3, 3]]),\n",
       " '[[0 0 0]\\n [3 3 3]\\n [3 3 0]]': array([[3, 3, 3],\n",
       "        [3, 3, 3],\n",
       "        [3, 3, 0]]),\n",
       " '[[0 0 0]\\n [3 3 0]\\n [3 0 0]]': array([[3, 3, 3],\n",
       "        [3, 3, 0],\n",
       "        [3, 0, 0]]),\n",
       " '[[-1  0  0]\\n [-1  3  3]\\n [-1  2  2]]': array([[-1,  3,  3],\n",
       "        [-1,  3,  3],\n",
       "        [-1,  2,  2]]),\n",
       " '[[0 0 0]\\n [3 3 3]\\n [2 2 0]]': array([[3, 3, 3],\n",
       "        [3, 3, 3],\n",
       "        [2, 2, 0]]),\n",
       " '[[0 0 0]\\n [3 3 0]\\n [2 0 0]]': array([[3, 3, 3],\n",
       "        [3, 3, 0],\n",
       "        [2, 0, 0]]),\n",
       " '[[-1  0  0]\\n [-1  2  2]\\n [-1  0  0]]': array([[-1,  3,  3],\n",
       "        [-1,  2,  2],\n",
       "        [-1,  1,  0]]),\n",
       " '[[0 0 0]\\n [2 2 0]\\n [0 0 0]]': array([[3, 3, 3],\n",
       "        [2, 2, 0],\n",
       "        [1, 0, 0]])}"
      ]
     },
     "execution_count": 47,
     "metadata": {},
     "output_type": "execute_result"
    }
   ],
   "source": [
    "\n",
    "# findmodemap(A,B)\n",
    "total_dict=findmodemap(A,B)\n",
    "\n",
    "res=usemodedict(C,total_dict)\n",
    "plot_picture(res)\n",
    "total_dict"
   ]
  },
  {
   "cell_type": "code",
   "execution_count": 67,
   "metadata": {},
   "outputs": [
    {
     "ename": "AttributeError",
     "evalue": "'int' object has no attribute 'keys'",
     "output_type": "error",
     "traceback": [
      "\u001b[1;31m---------------------------------------------------------------------------\u001b[0m",
      "\u001b[1;31mAttributeError\u001b[0m                            Traceback (most recent call last)",
      "\u001b[1;32m<ipython-input-67-47f13fda5599>\u001b[0m in \u001b[0;36m<module>\u001b[1;34m\u001b[0m\n\u001b[0;32m      6\u001b[0m \u001b[0mC1\u001b[0m\u001b[1;33m=\u001b[0m\u001b[0mC_array\u001b[0m\u001b[1;33m.\u001b[0m\u001b[0mtolist\u001b[0m\u001b[1;33m(\u001b[0m\u001b[1;33m)\u001b[0m\u001b[1;33m\u001b[0m\u001b[1;33m\u001b[0m\u001b[0m\n\u001b[0;32m      7\u001b[0m \u001b[0mtotal_dict\u001b[0m\u001b[1;33m=\u001b[0m\u001b[0mfindmodemap\u001b[0m\u001b[1;33m(\u001b[0m\u001b[0mA\u001b[0m\u001b[1;33m,\u001b[0m\u001b[0mB\u001b[0m\u001b[1;33m)\u001b[0m\u001b[1;33m\u001b[0m\u001b[1;33m\u001b[0m\u001b[0m\n\u001b[1;32m----> 8\u001b[1;33m \u001b[0mres\u001b[0m\u001b[1;33m=\u001b[0m\u001b[0musemodedict\u001b[0m\u001b[1;33m(\u001b[0m\u001b[0mC1\u001b[0m\u001b[1;33m,\u001b[0m\u001b[0mtotal_dict\u001b[0m\u001b[1;33m)\u001b[0m\u001b[1;33m\u001b[0m\u001b[1;33m\u001b[0m\u001b[0m\n\u001b[0m\u001b[0;32m      9\u001b[0m \u001b[0mres_array\u001b[0m\u001b[1;33m=\u001b[0m\u001b[0mnp\u001b[0m\u001b[1;33m.\u001b[0m\u001b[0marray\u001b[0m\u001b[1;33m(\u001b[0m\u001b[0mres\u001b[0m\u001b[1;33m)\u001b[0m\u001b[1;33m\u001b[0m\u001b[1;33m\u001b[0m\u001b[0m\n\u001b[0;32m     10\u001b[0m \u001b[1;31m# res_array[res_array==8]=6\u001b[0m\u001b[1;33m\u001b[0m\u001b[1;33m\u001b[0m\u001b[1;33m\u001b[0m\u001b[0m\n",
      "\u001b[1;32m<ipython-input-60-9c7d51ca9982>\u001b[0m in \u001b[0;36musemodedict\u001b[1;34m(A, total_dict)\u001b[0m\n\u001b[0;32m     11\u001b[0m         \u001b[1;32mfor\u001b[0m \u001b[0mi\u001b[0m \u001b[1;32min\u001b[0m \u001b[0mrange\u001b[0m\u001b[1;33m(\u001b[0m\u001b[0mm\u001b[0m\u001b[1;33m)\u001b[0m\u001b[1;33m:\u001b[0m\u001b[1;33m\u001b[0m\u001b[1;33m\u001b[0m\u001b[0m\n\u001b[0;32m     12\u001b[0m             \u001b[1;32mfor\u001b[0m \u001b[0mj\u001b[0m \u001b[1;32min\u001b[0m \u001b[0mrange\u001b[0m\u001b[1;33m(\u001b[0m\u001b[0mn\u001b[0m\u001b[1;33m)\u001b[0m\u001b[1;33m:\u001b[0m\u001b[1;33m\u001b[0m\u001b[1;33m\u001b[0m\u001b[0m\n\u001b[1;32m---> 13\u001b[1;33m                 \u001b[1;32mif\u001b[0m \u001b[0mstr\u001b[0m\u001b[1;33m(\u001b[0m\u001b[0mA1_copy\u001b[0m\u001b[1;33m[\u001b[0m\u001b[0mi\u001b[0m\u001b[1;33m-\u001b[0m\u001b[1;36m1\u001b[0m\u001b[1;33m:\u001b[0m\u001b[0mi\u001b[0m\u001b[1;33m+\u001b[0m\u001b[1;36m2\u001b[0m\u001b[1;33m,\u001b[0m\u001b[0mj\u001b[0m\u001b[1;33m-\u001b[0m\u001b[1;36m1\u001b[0m\u001b[1;33m:\u001b[0m\u001b[0mj\u001b[0m\u001b[1;33m+\u001b[0m\u001b[1;36m2\u001b[0m\u001b[1;33m]\u001b[0m\u001b[1;33m)\u001b[0m \u001b[1;32min\u001b[0m \u001b[0mtotal_dict\u001b[0m\u001b[1;33m.\u001b[0m\u001b[0mkeys\u001b[0m\u001b[1;33m(\u001b[0m\u001b[1;33m)\u001b[0m\u001b[1;33m:\u001b[0m\u001b[1;33m\u001b[0m\u001b[1;33m\u001b[0m\u001b[0m\n\u001b[0m\u001b[0;32m     14\u001b[0m                     \u001b[1;31m#print(A1_copy[i-1:i+2,j-1:j+2])\u001b[0m\u001b[1;33m\u001b[0m\u001b[1;33m\u001b[0m\u001b[1;33m\u001b[0m\u001b[0m\n\u001b[0;32m     15\u001b[0m \u001b[1;33m\u001b[0m\u001b[0m\n",
      "\u001b[1;31mAttributeError\u001b[0m: 'int' object has no attribute 'keys'"
     ]
    }
   ],
   "source": [
    "A=Trains[175][\"train\"][1][\"input\"]\n",
    "B=Trains[175][\"train\"][1][\"output\"]\n",
    "C=Trains[175][\"test\"][0][\"input\"]\n",
    "C_array=np.array(C)\n",
    "# C_array[C_array==6]=8\n",
    "\n",
    "res_array=np.array(res)\n",
    "# res_array[res_array==8]=6\n",
    "res_final=res_array.tolist()\n",
    "plot_picture(res_final)"
   ]
  },
  {
   "cell_type": "code",
   "execution_count": 59,
   "metadata": {},
   "outputs": [
    {
     "data": {
      "text/plain": [
       "True"
      ]
     },
     "execution_count": 59,
     "metadata": {},
     "output_type": "execute_result"
    }
   ],
   "source": [
    "res_final==Trains[140][\"test\"][0][\"output\"]"
   ]
  },
  {
   "cell_type": "code",
   "execution_count": null,
   "metadata": {},
   "outputs": [],
   "source": []
  },
  {
   "cell_type": "code",
   "execution_count": 401,
   "metadata": {},
   "outputs": [
    {
     "data": {
      "image/png": "[encoded data removed]",
      "text/plain": [
       "<Figure size 432x288 with 1 Axes>"
      ]
     },
     "metadata": {
      "needs_background": "light"
     },
     "output_type": "display_data"
    },
    {
     "data": {
      "image/png": "[encoded data removed]",
      "text/plain": [
       "<Figure size 432x288 with 1 Axes>"
      ]
     },
     "metadata": {
      "needs_background": "light"
     },
     "output_type": "display_data"
    },
    {
     "data": {
      "image/png": "[encoded data removed]",
      "text/plain": [
       "<Figure size 432x288 with 1 Axes>"
      ]
     },
     "metadata": {
      "needs_background": "light"
     },
     "output_type": "display_data"
    },
    {
     "data": {
      "image/png": "[encoded data removed]",
      "text/plain": [
       "<Figure size 432x288 with 1 Axes>"
      ]
     },
     "metadata": {
      "needs_background": "light"
     },
     "output_type": "display_data"
    },
    {
     "data": {
      "image/png": "[encoded data removed]",
      "text/plain": [
       "<Figure size 432x288 with 1 Axes>"
      ]
     },
     "metadata": {
      "needs_background": "light"
     },
     "output_type": "display_data"
    },
    {
     "ename": "AttributeError",
     "evalue": "'int' object has no attribute 'keys'",
     "output_type": "error",
     "traceback": [
      "\u001b[1;31m---------------------------------------------------------------------------\u001b[0m",
      "\u001b[1;31mAttributeError\u001b[0m                            Traceback (most recent call last)",
      "\u001b[1;32m<ipython-input-401-e99c037a3a13>\u001b[0m in \u001b[0;36m<module>\u001b[1;34m\u001b[0m\n\u001b[0;32m      8\u001b[0m \u001b[1;33m\u001b[0m\u001b[0m\n\u001b[0;32m      9\u001b[0m \u001b[0mC1\u001b[0m\u001b[1;33m=\u001b[0m\u001b[0mC_array\u001b[0m\u001b[1;33m.\u001b[0m\u001b[0mtolist\u001b[0m\u001b[1;33m(\u001b[0m\u001b[1;33m)\u001b[0m\u001b[1;33m\u001b[0m\u001b[1;33m\u001b[0m\u001b[0m\n\u001b[1;32m---> 10\u001b[1;33m \u001b[0mres\u001b[0m\u001b[1;33m=\u001b[0m\u001b[0musemodedict\u001b[0m\u001b[1;33m(\u001b[0m\u001b[0mC1\u001b[0m\u001b[1;33m,\u001b[0m\u001b[0mtotal_dict\u001b[0m\u001b[1;33m)\u001b[0m\u001b[1;33m\u001b[0m\u001b[1;33m\u001b[0m\u001b[0m\n\u001b[0m\u001b[0;32m     11\u001b[0m \u001b[0mres_array\u001b[0m\u001b[1;33m=\u001b[0m\u001b[0mnp\u001b[0m\u001b[1;33m.\u001b[0m\u001b[0marray\u001b[0m\u001b[1;33m(\u001b[0m\u001b[0mres\u001b[0m\u001b[1;33m)\u001b[0m\u001b[1;33m\u001b[0m\u001b[1;33m\u001b[0m\u001b[0m\n\u001b[0;32m     12\u001b[0m \u001b[1;33m\u001b[0m\u001b[0m\n",
      "\u001b[1;32m<ipython-input-400-f220136a8d8d>\u001b[0m in \u001b[0;36musemodedict\u001b[1;34m(A, total_dict)\u001b[0m\n\u001b[0;32m     11\u001b[0m         \u001b[1;32mfor\u001b[0m \u001b[0mi\u001b[0m \u001b[1;32min\u001b[0m \u001b[0mrange\u001b[0m\u001b[1;33m(\u001b[0m\u001b[0mm\u001b[0m\u001b[1;33m)\u001b[0m\u001b[1;33m:\u001b[0m\u001b[1;33m\u001b[0m\u001b[1;33m\u001b[0m\u001b[0m\n\u001b[0;32m     12\u001b[0m             \u001b[1;32mfor\u001b[0m \u001b[0mj\u001b[0m \u001b[1;32min\u001b[0m \u001b[0mrange\u001b[0m\u001b[1;33m(\u001b[0m\u001b[0mn\u001b[0m\u001b[1;33m)\u001b[0m\u001b[1;33m:\u001b[0m\u001b[1;33m\u001b[0m\u001b[1;33m\u001b[0m\u001b[0m\n\u001b[1;32m---> 13\u001b[1;33m                 \u001b[1;32mif\u001b[0m \u001b[0mstr\u001b[0m\u001b[1;33m(\u001b[0m\u001b[0mA1_copy\u001b[0m\u001b[1;33m[\u001b[0m\u001b[0mi\u001b[0m\u001b[1;33m-\u001b[0m\u001b[1;36m1\u001b[0m\u001b[1;33m:\u001b[0m\u001b[0mi\u001b[0m\u001b[1;33m+\u001b[0m\u001b[1;36m2\u001b[0m\u001b[1;33m,\u001b[0m\u001b[0mj\u001b[0m\u001b[1;33m-\u001b[0m\u001b[1;36m1\u001b[0m\u001b[1;33m:\u001b[0m\u001b[0mj\u001b[0m\u001b[1;33m+\u001b[0m\u001b[1;36m2\u001b[0m\u001b[1;33m]\u001b[0m\u001b[1;33m)\u001b[0m \u001b[1;32min\u001b[0m \u001b[0mtotal_dict\u001b[0m\u001b[1;33m.\u001b[0m\u001b[0mkeys\u001b[0m\u001b[1;33m(\u001b[0m\u001b[1;33m)\u001b[0m\u001b[1;33m:\u001b[0m\u001b[1;33m\u001b[0m\u001b[1;33m\u001b[0m\u001b[0m\n\u001b[0m\u001b[0;32m     14\u001b[0m                     \u001b[1;31m#print(A1_copy[i-1:i+2,j-1:j+2])\u001b[0m\u001b[1;33m\u001b[0m\u001b[1;33m\u001b[0m\u001b[1;33m\u001b[0m\u001b[0m\n\u001b[0;32m     15\u001b[0m \u001b[1;33m\u001b[0m\u001b[0m\n",
      "\u001b[1;31mAttributeError\u001b[0m: 'int' object has no attribute 'keys'"
     ]
    }
   ],
   "source": [
    "A=Trains[57][\"train\"][0][\"input\"]\n",
    "B=Trains[57][\"train\"][0][\"output\"]\n",
    "A[0][0]=B[0][0]\n",
    "total_dict=findmodemap(A,B)\n",
    "C=Trains[57][\"test\"][0][\"input\"]\n",
    "C[0][0]=B[0][0]\n",
    "C_array=np.array(C)\n",
    "\n",
    "C1=C_array.tolist()\n",
    "res=usemodedict(C1,total_dict)\n",
    "res_array=np.array(res)\n",
    "\n",
    "res_final=res_array.tolist()\n",
    "plot_picture(res_final)"
   ]
  },
  {
   "cell_type": "code",
   "execution_count": 352,
   "metadata": {},
   "outputs": [
    {
     "name": "stdout",
     "output_type": "stream",
     "text": [
      "[[-1 -1 -1]\n",
      " [-1  3  0]\n",
      " [-1  0  0]] [[-1 -1 -1]\n",
      " [-1  3  3]\n",
      " [-1  0  0]]\n"
     ]
    },
    {
     "data": {
      "image/png": "[encoded data removed]",
      "text/plain": [
       "<Figure size 432x288 with 1 Axes>"
      ]
     },
     "metadata": {
      "needs_background": "light"
     },
     "output_type": "display_data"
    },
    {
     "name": "stdout",
     "output_type": "stream",
     "text": [
      "[[-1 -1 -1]\n",
      " [-1  3  3]\n",
      " [-1  0  0]] [[-1 -1 -1]\n",
      " [-1  3  3]\n",
      " [-1  0  0]]\n",
      "[[-1 -1 -1]\n",
      " [ 3  3  0]\n",
      " [ 0  0  0]] [[-1 -1 -1]\n",
      " [ 3  3  3]\n",
      " [ 0  0  0]]\n",
      "[[-1 -1 -1]\n",
      " [ 3  3  0]\n",
      " [ 0  0  0]] [[-1 -1 -1]\n",
      " [ 3  3  3]\n",
      " [ 0  0  0]]\n",
      "[[-1 -1 -1]\n",
      " [ 3  3  0]\n",
      " [ 0  0  0]] [[-1 -1 -1]\n",
      " [ 3  3  3]\n",
      " [ 0  0  0]]\n",
      "[[-1 -1 -1]\n",
      " [ 3  3  0]\n",
      " [ 0  0  0]] [[-1 -1 -1]\n",
      " [ 3  3  3]\n",
      " [ 0  0  0]]\n"
     ]
    },
    {
     "data": {
      "image/png": "[encoded data removed]",
      "text/plain": [
       "<Figure size 432x288 with 1 Axes>"
      ]
     },
     "metadata": {
      "needs_background": "light"
     },
     "output_type": "display_data"
    },
    {
     "name": "stdout",
     "output_type": "stream",
     "text": [
      "[[-1 -1 -1]\n",
      " [-1  3  3]\n",
      " [-1  0  0]] [[-1 -1 -1]\n",
      " [-1  3  3]\n",
      " [-1  0  0]]\n",
      "[[-1 -1 -1]\n",
      " [ 3  3  3]\n",
      " [ 0  0  0]] [[-1 -1 -1]\n",
      " [ 3  3  3]\n",
      " [ 0  0  3]]\n",
      "[[-1 -1 -1]\n",
      " [ 3  3  3]\n",
      " [ 0  0  0]] [[-1 -1 -1]\n",
      " [ 3  3  3]\n",
      " [ 0  0  3]]\n"
     ]
    },
    {
     "data": {
      "image/png": "[encoded data removed]",
      "text/plain": [
       "<Figure size 432x288 with 1 Axes>"
      ]
     },
     "metadata": {
      "needs_background": "light"
     },
     "output_type": "display_data"
    },
    {
     "name": "stdout",
     "output_type": "stream",
     "text": [
      "[[-1 -1 -1]\n",
      " [-1  3  3]\n",
      " [-1  0  0]] [[-1 -1 -1]\n",
      " [-1  3  3]\n",
      " [-1  0  0]]\n",
      "[[-1 -1 -1]\n",
      " [ 3  3  3]\n",
      " [ 0  0  3]] [[-1 -1 -1]\n",
      " [ 3  3  3]\n",
      " [ 0  0  3]]\n",
      "[[-1 -1 -1]\n",
      " [ 3  3  3]\n",
      " [ 0  3  0]] [[-1 -1 -1]\n",
      " [ 3  3  3]\n",
      " [ 0  0  0]]\n",
      "[[-1 -1 -1]\n",
      " [ 3  3  3]\n",
      " [ 0  0  0]] [[-1 -1 -1]\n",
      " [ 3  3  3]\n",
      " [ 0  0  3]]\n"
     ]
    },
    {
     "data": {
      "image/png": "[encoded data removed]",
      "text/plain": [
       "<Figure size 432x288 with 1 Axes>"
      ]
     },
     "metadata": {
      "needs_background": "light"
     },
     "output_type": "display_data"
    },
    {
     "name": "stdout",
     "output_type": "stream",
     "text": [
      "[[-1 -1 -1]\n",
      " [-1  3  3]\n",
      " [-1  0  0]] [[-1 -1 -1]\n",
      " [-1  3  3]\n",
      " [-1  0  0]]\n",
      "[[-1 -1 -1]\n",
      " [ 3  3  3]\n",
      " [ 0  0  0]] [[-1 -1 -1]\n",
      " [ 3  3  3]\n",
      " [ 0  0  3]]\n",
      "[[-1 -1 -1]\n",
      " [ 3  3  3]\n",
      " [ 0  3  0]] [[-1 -1 -1]\n",
      " [ 3  3  3]\n",
      " [ 0  0  0]]\n",
      "[[-1 -1 -1]\n",
      " [ 3  3  3]\n",
      " [ 0  0  3]] [[-1 -1 -1]\n",
      " [ 3  3  3]\n",
      " [ 0  0  3]]\n",
      "[[-1 -1 -1]\n",
      " [ 3  3  3]\n",
      " [ 0  3  3]] [[-1 -1 -1]\n",
      " [ 3  3  3]\n",
      " [ 0  0  3]]\n",
      "[[-1 -1 -1]\n",
      " [ 3  3 -1]\n",
      " [ 0  3 -1]] [[-1 -1 -1]\n",
      " [ 3  3 -1]\n",
      " [ 0  3 -1]]\n",
      "[[ 3  3 -1]\n",
      " [ 0  3 -1]\n",
      " [ 0  0 -1]] [[ 3  3 -1]\n",
      " [ 0  3 -1]\n",
      " [ 0  3 -1]]\n"
     ]
    },
    {
     "data": {
      "image/png": "[encoded data removed]",
      "text/plain": [
       "<Figure size 432x288 with 1 Axes>"
      ]
     },
     "metadata": {
      "needs_background": "light"
     },
     "output_type": "display_data"
    },
    {
     "name": "stdout",
     "output_type": "stream",
     "text": [
      "[[-1 -1 -1]\n",
      " [-1  3  3]\n",
      " [-1  0  0]] [[-1 -1 -1]\n",
      " [-1  3  3]\n",
      " [-1  0  0]]\n",
      "[[-1 -1 -1]\n",
      " [ 3  3  3]\n",
      " [ 0  0  0]] [[-1 -1 -1]\n",
      " [ 3  3  3]\n",
      " [ 0  0  3]]\n",
      "[[-1 -1 -1]\n",
      " [ 3  3  3]\n",
      " [ 0  3  0]] [[-1 -1 -1]\n",
      " [ 3  3  3]\n",
      " [ 0  0  0]]\n",
      "[[-1 -1 -1]\n",
      " [ 3  3  3]\n",
      " [ 0  0  0]] [[-1 -1 -1]\n",
      " [ 3  3  3]\n",
      " [ 0  0  3]]\n",
      "[[-1 -1 -1]\n",
      " [ 3  3  3]\n",
      " [ 0  3  3]] [[-1 -1 -1]\n",
      " [ 3  3  3]\n",
      " [ 0  0  3]]\n",
      "[[-1 -1 -1]\n",
      " [ 3  3 -1]\n",
      " [ 0  3 -1]] [[-1 -1 -1]\n",
      " [ 3  3 -1]\n",
      " [ 0  3 -1]]\n",
      "[[ 3  3 -1]\n",
      " [ 0  3 -1]\n",
      " [ 0  3 -1]] [[ 3  3 -1]\n",
      " [ 0  3 -1]\n",
      " [ 0  3 -1]]\n",
      "[[ 0  3 -1]\n",
      " [ 0  3 -1]\n",
      " [ 0  0 -1]] [[ 0  3 -1]\n",
      " [ 0  3 -1]\n",
      " [ 0  3 -1]]\n",
      "[[ 0  3 -1]\n",
      " [ 0  3 -1]\n",
      " [ 0  0 -1]] [[ 0  3 -1]\n",
      " [ 0  3 -1]\n",
      " [ 0  3 -1]]\n",
      "[[ 0  3 -1]\n",
      " [ 0  3 -1]\n",
      " [ 0  0 -1]] [[ 0  3 -1]\n",
      " [ 0  3 -1]\n",
      " [ 0  3 -1]]\n"
     ]
    },
    {
     "data": {
      "image/png": "[encoded data removed]",
      "text/plain": [
       "<Figure size 432x288 with 1 Axes>"
      ]
     },
     "metadata": {
      "needs_background": "light"
     },
     "output_type": "display_data"
    },
    {
     "name": "stdout",
     "output_type": "stream",
     "text": [
      "[[-1 -1 -1]\n",
      " [-1  3  3]\n",
      " [-1  0  0]] [[-1 -1 -1]\n",
      " [-1  3  3]\n",
      " [-1  0  0]]\n",
      "[[-1 -1 -1]\n",
      " [ 3  3  3]\n",
      " [ 0  0  0]] [[-1 -1 -1]\n",
      " [ 3  3  3]\n",
      " [ 0  0  3]]\n",
      "[[-1 -1 -1]\n",
      " [ 3  3  3]\n",
      " [ 0  3  0]] [[-1 -1 -1]\n",
      " [ 3  3  3]\n",
      " [ 0  0  0]]\n",
      "[[-1 -1 -1]\n",
      " [ 3  3  3]\n",
      " [ 0  0  0]] [[-1 -1 -1]\n",
      " [ 3  3  3]\n",
      " [ 0  0  3]]\n",
      "[[-1 -1 -1]\n",
      " [ 3  3  3]\n",
      " [ 0  3  3]] [[-1 -1 -1]\n",
      " [ 3  3  3]\n",
      " [ 0  0  3]]\n",
      "[[-1 -1 -1]\n",
      " [ 3  3 -1]\n",
      " [ 0  3 -1]] [[-1 -1 -1]\n",
      " [ 3  3 -1]\n",
      " [ 0  3 -1]]\n",
      "[[ 3  3 -1]\n",
      " [ 0  3 -1]\n",
      " [ 0  3 -1]] [[ 3  3 -1]\n",
      " [ 0  3 -1]\n",
      " [ 0  3 -1]]\n",
      "[[ 0  3 -1]\n",
      " [ 0  3 -1]\n",
      " [ 0  3 -1]] [[ 0  3 -1]\n",
      " [ 0  3 -1]\n",
      " [ 3  3 -1]]\n",
      "[[ 3  3 -1]\n",
      " [ 0  3 -1]\n",
      " [ 0  3 -1]] [[ 3  3 -1]\n",
      " [ 0  3 -1]\n",
      " [ 0  3 -1]]\n",
      "[[ 0  3 -1]\n",
      " [ 0  3 -1]\n",
      " [-1 -1 -1]] [[ 0  3 -1]\n",
      " [ 3  3 -1]\n",
      " [-1 -1 -1]]\n"
     ]
    },
    {
     "data": {
      "image/png": "[encoded data removed]",
      "text/plain": [
       "<Figure size 432x288 with 1 Axes>"
      ]
     },
     "metadata": {
      "needs_background": "light"
     },
     "output_type": "display_data"
    },
    {
     "name": "stdout",
     "output_type": "stream",
     "text": [
      "[[-1 -1 -1]\n",
      " [-1  3  3]\n",
      " [-1  0  0]] [[-1 -1 -1]\n",
      " [-1  3  3]\n",
      " [-1  0  0]]\n",
      "[[-1 -1 -1]\n",
      " [ 3  3  3]\n",
      " [ 0  0  0]] [[-1 -1 -1]\n",
      " [ 3  3  3]\n",
      " [ 0  0  3]]\n",
      "[[-1 -1 -1]\n",
      " [ 3  3  3]\n",
      " [ 0  3  0]] [[-1 -1 -1]\n",
      " [ 3  3  3]\n",
      " [ 0  0  0]]\n",
      "[[-1 -1 -1]\n",
      " [ 3  3  3]\n",
      " [ 0  0  0]] [[-1 -1 -1]\n",
      " [ 3  3  3]\n",
      " [ 0  0  3]]\n",
      "[[-1 -1 -1]\n",
      " [ 3  3  3]\n",
      " [ 0  3  3]] [[-1 -1 -1]\n",
      " [ 3  3  3]\n",
      " [ 0  0  3]]\n",
      "[[-1 -1 -1]\n",
      " [ 3  3 -1]\n",
      " [ 0  3 -1]] [[-1 -1 -1]\n",
      " [ 3  3 -1]\n",
      " [ 0  3 -1]]\n",
      "[[ 3  3 -1]\n",
      " [ 0  3 -1]\n",
      " [ 0  3 -1]] [[ 3  3 -1]\n",
      " [ 0  3 -1]\n",
      " [ 0  3 -1]]\n",
      "[[ 0  3 -1]\n",
      " [ 0  3 -1]\n",
      " [ 3  3 -1]] [[ 0  3 -1]\n",
      " [ 0  3 -1]\n",
      " [ 0  3 -1]]\n",
      "[[ 0  3 -1]\n",
      " [ 0  3 -1]\n",
      " [ 0  3 -1]] [[ 0  3 -1]\n",
      " [ 0  3 -1]\n",
      " [ 3  3 -1]]\n"
     ]
    },
    {
     "data": {
      "image/png": "[encoded data removed]",
      "text/plain": [
       "<Figure size 432x288 with 1 Axes>"
      ]
     },
     "metadata": {
      "needs_background": "light"
     },
     "output_type": "display_data"
    },
    {
     "name": "stdout",
     "output_type": "stream",
     "text": [
      "[[-1 -1 -1]\n",
      " [-1  3  3]\n",
      " [-1  0  0]] [[-1 -1 -1]\n",
      " [-1  3  3]\n",
      " [-1  0  0]]\n",
      "[[-1 -1 -1]\n",
      " [ 3  3  3]\n",
      " [ 0  0  0]] [[-1 -1 -1]\n",
      " [ 3  3  3]\n",
      " [ 0  0  3]]\n",
      "[[-1 -1 -1]\n",
      " [ 3  3  3]\n",
      " [ 0  3  0]] [[-1 -1 -1]\n",
      " [ 3  3  3]\n",
      " [ 0  0  0]]\n",
      "[[-1 -1 -1]\n",
      " [ 3  3  3]\n",
      " [ 0  0  0]] [[-1 -1 -1]\n",
      " [ 3  3  3]\n",
      " [ 0  0  3]]\n",
      "[[-1 -1 -1]\n",
      " [ 3  3  3]\n",
      " [ 0  3  3]] [[-1 -1 -1]\n",
      " [ 3  3  3]\n",
      " [ 0  0  3]]\n",
      "[[-1 -1 -1]\n",
      " [ 3  3 -1]\n",
      " [ 0  3 -1]] [[-1 -1 -1]\n",
      " [ 3  3 -1]\n",
      " [ 0  3 -1]]\n",
      "[[ 3  3 -1]\n",
      " [ 0  3 -1]\n",
      " [ 0  3 -1]] [[ 3  3 -1]\n",
      " [ 0  3 -1]\n",
      " [ 0  3 -1]]\n",
      "[[ 0  3 -1]\n",
      " [ 0  3 -1]\n",
      " [ 0  3 -1]] [[ 0  3 -1]\n",
      " [ 0  3 -1]\n",
      " [ 3  3 -1]]\n",
      "[[0 0 3]\n",
      " [0 3 3]\n",
      " [0 3 3]] [[3 0 3]\n",
      " [0 0 3]\n",
      " [3 3 3]]\n",
      "[[ 0  3 -1]\n",
      " [ 0  3 -1]\n",
      " [ 3  3 -1]] [[ 0  3 -1]\n",
      " [ 0  3 -1]\n",
      " [ 0  3 -1]]\n",
      "[[ 0  3 -1]\n",
      " [ 0  3 -1]\n",
      " [ 3  3 -1]] [[ 0  3 -1]\n",
      " [ 0  3 -1]\n",
      " [ 0  3 -1]]\n",
      "[[ 0  3 -1]\n",
      " [ 0  3 -1]\n",
      " [-1 -1 -1]] [[ 0  3 -1]\n",
      " [ 3  3 -1]\n",
      " [-1 -1 -1]]\n"
     ]
    },
    {
     "data": {
      "image/png": "[encoded data removed]",
      "text/plain": [
       "<Figure size 432x288 with 1 Axes>"
      ]
     },
     "metadata": {
      "needs_background": "light"
     },
     "output_type": "display_data"
    },
    {
     "name": "stdout",
     "output_type": "stream",
     "text": [
      "[[-1 -1 -1]\n",
      " [-1  3  3]\n",
      " [-1  0  0]] [[-1 -1 -1]\n",
      " [-1  3  3]\n",
      " [-1  0  0]]\n",
      "[[-1 -1 -1]\n",
      " [ 3  3  3]\n",
      " [ 0  0  0]] [[-1 -1 -1]\n",
      " [ 3  3  3]\n",
      " [ 0  0  3]]\n",
      "[[-1 -1 -1]\n",
      " [ 3  3  3]\n",
      " [ 0  3  0]] [[-1 -1 -1]\n",
      " [ 3  3  3]\n",
      " [ 0  0  0]]\n",
      "[[-1 -1 -1]\n",
      " [ 3  3  3]\n",
      " [ 0  0  0]] [[-1 -1 -1]\n",
      " [ 3  3  3]\n",
      " [ 0  0  3]]\n",
      "[[-1 -1 -1]\n",
      " [ 3  3  3]\n",
      " [ 0  3  3]] [[-1 -1 -1]\n",
      " [ 3  3  3]\n",
      " [ 0  0  3]]\n",
      "[[-1 -1 -1]\n",
      " [ 3  3 -1]\n",
      " [ 0  3 -1]] [[-1 -1 -1]\n",
      " [ 3  3 -1]\n",
      " [ 0  3 -1]]\n",
      "[[ 3  3 -1]\n",
      " [ 0  3 -1]\n",
      " [ 0  3 -1]] [[ 3  3 -1]\n",
      " [ 0  3 -1]\n",
      " [ 0  3 -1]]\n",
      "[[0 0 0]\n",
      " [0 3 0]\n",
      " [0 0 0]] [[0 0 0]\n",
      " [3 3 0]\n",
      " [3 3 0]]\n",
      "[[ 0  3 -1]\n",
      " [ 0  3 -1]\n",
      " [ 0  3 -1]] [[ 0  3 -1]\n",
      " [ 0  3 -1]\n",
      " [ 3  3 -1]]\n",
      "[[ 0  3 -1]\n",
      " [ 3  3 -1]\n",
      " [ 0  3 -1]] [[ 0  3 -1]\n",
      " [ 0  3 -1]\n",
      " [ 0  3 -1]]\n",
      "[[ 0  3 -1]\n",
      " [ 0  3 -1]\n",
      " [ 3  3 -1]] [[ 0  3 -1]\n",
      " [ 0  3 -1]\n",
      " [ 0  3 -1]]\n",
      "[[ 0  3 -1]\n",
      " [ 0  3 -1]\n",
      " [-1 -1 -1]] [[ 0  3 -1]\n",
      " [ 3  3 -1]\n",
      " [-1 -1 -1]]\n"
     ]
    },
    {
     "data": {
      "image/png": "[encoded data removed]",
      "text/plain": [
       "<Figure size 432x288 with 1 Axes>"
      ]
     },
     "metadata": {
      "needs_background": "light"
     },
     "output_type": "display_data"
    },
    {
     "name": "stdout",
     "output_type": "stream",
     "text": [
      "[[-1 -1 -1]\n",
      " [-1  3  3]\n",
      " [-1  0  0]] [[-1 -1 -1]\n",
      " [-1  3  3]\n",
      " [-1  0  0]]\n",
      "[[-1 -1 -1]\n",
      " [ 3  3  3]\n",
      " [ 0  0  0]] [[-1 -1 -1]\n",
      " [ 3  3  3]\n",
      " [ 0  0  3]]\n",
      "[[-1 -1 -1]\n",
      " [ 3  3  3]\n",
      " [ 0  3  0]] [[-1 -1 -1]\n",
      " [ 3  3  3]\n",
      " [ 0  0  0]]\n",
      "[[-1 -1 -1]\n",
      " [ 3  3  3]\n",
      " [ 0  0  0]] [[-1 -1 -1]\n",
      " [ 3  3  3]\n",
      " [ 0  0  3]]\n",
      "[[-1 -1 -1]\n",
      " [ 3  3  3]\n",
      " [ 0  3  3]] [[-1 -1 -1]\n",
      " [ 3  3  3]\n",
      " [ 0  0  3]]\n",
      "[[-1 -1 -1]\n",
      " [ 3  3 -1]\n",
      " [ 0  3 -1]] [[-1 -1 -1]\n",
      " [ 3  3 -1]\n",
      " [ 0  3 -1]]\n",
      "[[ 3  3 -1]\n",
      " [ 0  3 -1]\n",
      " [ 0  3 -1]] [[ 3  3 -1]\n",
      " [ 0  3 -1]\n",
      " [ 0  3 -1]]\n",
      "[[0 0 0]\n",
      " [0 3 3]\n",
      " [0 3 3]] [[0 0 0]\n",
      " [3 3 3]\n",
      " [0 3 3]]\n",
      "[[0 0 0]\n",
      " [3 3 0]\n",
      " [3 3 0]] [[0 0 0]\n",
      " [3 3 0]\n",
      " [3 3 0]]\n",
      "[[ 0  3 -1]\n",
      " [ 0  3 -1]\n",
      " [ 0  3 -1]] [[ 0  3 -1]\n",
      " [ 0  3 -1]\n",
      " [ 3  3 -1]]\n",
      "[[ 0  3 -1]\n",
      " [ 3  3 -1]\n",
      " [ 0  3 -1]] [[ 0  3 -1]\n",
      " [ 0  3 -1]\n",
      " [ 0  3 -1]]\n",
      "[[3 3 0]\n",
      " [0 3 0]\n",
      " [0 0 3]] [[3 3 0]\n",
      " [0 0 0]\n",
      " [3 3 3]]\n",
      "[[ 0  3 -1]\n",
      " [ 0  3 -1]\n",
      " [ 3  3 -1]] [[ 0  3 -1]\n",
      " [ 0  3 -1]\n",
      " [ 0  3 -1]]\n",
      "[[ 0  3 -1]\n",
      " [ 0  3 -1]\n",
      " [-1 -1 -1]] [[ 0  3 -1]\n",
      " [ 3  3 -1]\n",
      " [-1 -1 -1]]\n"
     ]
    },
    {
     "data": {
      "image/png": "[encoded data removed]",
      "text/plain": [
       "<Figure size 432x288 with 1 Axes>"
      ]
     },
     "metadata": {
      "needs_background": "light"
     },
     "output_type": "display_data"
    },
    {
     "name": "stdout",
     "output_type": "stream",
     "text": [
      "[[-1 -1 -1]\n",
      " [-1  3  3]\n",
      " [-1  0  0]] [[-1 -1 -1]\n",
      " [-1  3  3]\n",
      " [-1  0  0]]\n",
      "[[-1 -1 -1]\n",
      " [ 3  3  3]\n",
      " [ 0  0  0]] [[-1 -1 -1]\n",
      " [ 3  3  3]\n",
      " [ 0  0  3]]\n",
      "[[-1 -1 -1]\n",
      " [ 3  3  3]\n",
      " [ 0  3  0]] [[-1 -1 -1]\n",
      " [ 3  3  3]\n",
      " [ 0  0  0]]\n",
      "[[-1 -1 -1]\n",
      " [ 3  3  3]\n",
      " [ 0  0  0]] [[-1 -1 -1]\n",
      " [ 3  3  3]\n",
      " [ 0  0  3]]\n",
      "[[-1 -1 -1]\n",
      " [ 3  3  3]\n",
      " [ 0  3  3]] [[-1 -1 -1]\n",
      " [ 3  3  3]\n",
      " [ 0  0  3]]\n",
      "[[-1 -1 -1]\n",
      " [ 3  3 -1]\n",
      " [ 0  3 -1]] [[-1 -1 -1]\n",
      " [ 3  3 -1]\n",
      " [ 0  3 -1]]\n",
      "[[ 3  3 -1]\n",
      " [ 0  3 -1]\n",
      " [ 0  3 -1]] [[ 3  3 -1]\n",
      " [ 0  3 -1]\n",
      " [ 0  3 -1]]\n",
      "[[0 0 0]\n",
      " [0 3 3]\n",
      " [0 0 3]] [[0 0 0]\n",
      " [3 3 3]\n",
      " [3 0 3]]\n",
      "[[0 0 0]\n",
      " [3 3 3]\n",
      " [0 3 3]] [[0 0 0]\n",
      " [3 3 3]\n",
      " [0 3 3]]\n",
      "[[0 0 0]\n",
      " [3 3 0]\n",
      " [3 3 0]] [[0 0 0]\n",
      " [3 3 0]\n",
      " [3 3 0]]\n",
      "[[ 0  3 -1]\n",
      " [ 0  3 -1]\n",
      " [ 0  3 -1]] [[ 0  3 -1]\n",
      " [ 0  3 -1]\n",
      " [ 3  3 -1]]\n",
      "[[3 3 3]\n",
      " [0 3 3]\n",
      " [0 0 0]] [[3 3 3]\n",
      " [0 0 3]\n",
      " [3 0 3]]\n",
      "[[ 0  3 -1]\n",
      " [ 3  3 -1]\n",
      " [ 0  3 -1]] [[ 0  3 -1]\n",
      " [ 0  3 -1]\n",
      " [ 0  3 -1]]\n",
      "[[ 0  3 -1]\n",
      " [ 0  3 -1]\n",
      " [ 3  3 -1]] [[ 0  3 -1]\n",
      " [ 0  3 -1]\n",
      " [ 0  3 -1]]\n",
      "[[ 3  0  3]\n",
      " [ 0  3  3]\n",
      " [-1 -1 -1]] [[ 0  0  3]\n",
      " [ 3  3  3]\n",
      " [-1 -1 -1]]\n",
      "[[ 0  3 -1]\n",
      " [ 0  3 -1]\n",
      " [-1 -1 -1]] [[ 0  3 -1]\n",
      " [ 3  3 -1]\n",
      " [-1 -1 -1]]\n"
     ]
    },
    {
     "data": {
      "image/png": "[encoded data removed]",
      "text/plain": [
       "<Figure size 432x288 with 1 Axes>"
      ]
     },
     "metadata": {
      "needs_background": "light"
     },
     "output_type": "display_data"
    },
    {
     "name": "stdout",
     "output_type": "stream",
     "text": [
      "[[-1 -1 -1]\n",
      " [-1  3  3]\n",
      " [-1  0  0]] [[-1 -1 -1]\n",
      " [-1  3  3]\n",
      " [-1  0  0]]\n",
      "[[-1 -1 -1]\n",
      " [ 3  3  3]\n",
      " [ 0  0  0]] [[-1 -1 -1]\n",
      " [ 3  3  3]\n",
      " [ 0  0  3]]\n",
      "[[-1 -1 -1]\n",
      " [ 3  3  3]\n",
      " [ 0  3  0]] [[-1 -1 -1]\n",
      " [ 3  3  3]\n",
      " [ 0  0  0]]\n",
      "[[-1 -1 -1]\n",
      " [ 3  3  3]\n",
      " [ 0  0  0]] [[-1 -1 -1]\n",
      " [ 3  3  3]\n",
      " [ 0  0  3]]\n",
      "[[-1 -1 -1]\n",
      " [ 3  3  3]\n",
      " [ 0  3  3]] [[-1 -1 -1]\n",
      " [ 3  3  3]\n",
      " [ 0  0  3]]\n",
      "[[-1 -1 -1]\n",
      " [ 3  3 -1]\n",
      " [ 0  3 -1]] [[-1 -1 -1]\n",
      " [ 3  3 -1]\n",
      " [ 0  3 -1]]\n",
      "[[ 3  3 -1]\n",
      " [ 0  3 -1]\n",
      " [ 0  3 -1]] [[ 3  3 -1]\n",
      " [ 0  3 -1]\n",
      " [ 0  3 -1]]\n",
      "[[-1  0  0]\n",
      " [-1  3  3]\n",
      " [-1  3  0]] [[-1  0  0]\n",
      " [-1  3  3]\n",
      " [-1  3  0]]\n",
      "[[0 0 0]\n",
      " [3 3 3]\n",
      " [3 0 0]] [[0 0 0]\n",
      " [3 3 3]\n",
      " [3 0 3]]\n",
      "[[0 0 0]\n",
      " [3 3 3]\n",
      " [0 3 3]] [[0 0 0]\n",
      " [3 3 3]\n",
      " [0 3 3]]\n",
      "[[0 0 0]\n",
      " [3 3 0]\n",
      " [3 3 0]] [[0 0 0]\n",
      " [3 3 0]\n",
      " [3 3 0]]\n",
      "[[ 0  3 -1]\n",
      " [ 0  3 -1]\n",
      " [ 0  3 -1]] [[ 0  3 -1]\n",
      " [ 0  3 -1]\n",
      " [ 3  3 -1]]\n",
      "[[-1  3  3]\n",
      " [-1  3  0]\n",
      " [-1  0  0]] [[-1  3  3]\n",
      " [-1  3  0]\n",
      " [-1  3  0]]\n",
      "[[ 0  3 -1]\n",
      " [ 3  3 -1]\n",
      " [ 0  3 -1]] [[ 0  3 -1]\n",
      " [ 0  3 -1]\n",
      " [ 0  3 -1]]\n",
      "[[ 0  3 -1]\n",
      " [ 0  3 -1]\n",
      " [ 3  3 -1]] [[ 0  3 -1]\n",
      " [ 0  3 -1]\n",
      " [ 0  3 -1]]\n",
      "[[ 0  0  3]\n",
      " [ 3  3  3]\n",
      " [-1 -1 -1]] [[ 0  0  3]\n",
      " [ 3  3  3]\n",
      " [-1 -1 -1]]\n",
      "[[ 0  3 -1]\n",
      " [ 0  3 -1]\n",
      " [-1 -1 -1]] [[ 0  3 -1]\n",
      " [ 3  3 -1]\n",
      " [-1 -1 -1]]\n"
     ]
    },
    {
     "data": {
      "image/png": "[encoded data removed]",
      "text/plain": [
       "<Figure size 432x288 with 1 Axes>"
      ]
     },
     "metadata": {
      "needs_background": "light"
     },
     "output_type": "display_data"
    },
    {
     "name": "stdout",
     "output_type": "stream",
     "text": [
      "[[-1 -1 -1]\n",
      " [-1  3  3]\n",
      " [-1  0  0]] [[-1 -1 -1]\n",
      " [-1  3  3]\n",
      " [-1  0  0]]\n",
      "[[-1 -1 -1]\n",
      " [ 3  3  3]\n",
      " [ 0  0  0]] [[-1 -1 -1]\n",
      " [ 3  3  3]\n",
      " [ 0  0  3]]\n",
      "[[-1 -1 -1]\n",
      " [ 3  3  3]\n",
      " [ 0  3  0]] [[-1 -1 -1]\n",
      " [ 3  3  3]\n",
      " [ 0  0  0]]\n",
      "[[-1 -1 -1]\n",
      " [ 3  3  3]\n",
      " [ 0  0  0]] [[-1 -1 -1]\n",
      " [ 3  3  3]\n",
      " [ 0  0  3]]\n",
      "[[-1 -1 -1]\n",
      " [ 3  3  3]\n",
      " [ 0  3  3]] [[-1 -1 -1]\n",
      " [ 3  3  3]\n",
      " [ 0  0  3]]\n",
      "[[-1 -1 -1]\n",
      " [ 3  3 -1]\n",
      " [ 0  3 -1]] [[-1 -1 -1]\n",
      " [ 3  3 -1]\n",
      " [ 0  3 -1]]\n",
      "[[ 3  3 -1]\n",
      " [ 0  3 -1]\n",
      " [ 0  3 -1]] [[ 3  3 -1]\n",
      " [ 0  3 -1]\n",
      " [ 0  3 -1]]\n",
      "[[-1  0  0]\n",
      " [-1  3  3]\n",
      " [-1  3  0]] [[-1  0  0]\n",
      " [-1  3  3]\n",
      " [-1  3  0]]\n",
      "[[0 0 0]\n",
      " [3 3 3]\n",
      " [3 0 3]] [[0 0 0]\n",
      " [3 3 3]\n",
      " [3 0 3]]\n",
      "[[0 0 0]\n",
      " [3 3 3]\n",
      " [0 3 3]] [[0 0 0]\n",
      " [3 3 3]\n",
      " [0 3 3]]\n",
      "[[0 0 0]\n",
      " [3 3 0]\n",
      " [3 3 0]] [[0 0 0]\n",
      " [3 3 0]\n",
      " [3 3 0]]\n",
      "[[ 0  3 -1]\n",
      " [ 0  3 -1]\n",
      " [ 0  3 -1]] [[ 0  3 -1]\n",
      " [ 0  3 -1]\n",
      " [ 3  3 -1]]\n",
      "[[-1  3  3]\n",
      " [-1  3  0]\n",
      " [-1  3  0]] [[-1  3  3]\n",
      " [-1  3  0]\n",
      " [-1  3  0]]\n",
      "[[3 3 3]\n",
      " [0 3 3]\n",
      " [0 0 3]] [[3 3 3]\n",
      " [0 3 3]\n",
      " [0 0 0]]\n",
      "[[ 0  3 -1]\n",
      " [ 3  3 -1]\n",
      " [ 0  3 -1]] [[ 0  3 -1]\n",
      " [ 0  3 -1]\n",
      " [ 0  3 -1]]\n",
      "[[-1  3  0]\n",
      " [-1  3  0]\n",
      " [-1  0  3]] [[-1  3  0]\n",
      " [-1  3  0]\n",
      " [-1  3  3]]\n",
      "[[ 0  3 -1]\n",
      " [ 0  3 -1]\n",
      " [ 3  3 -1]] [[ 0  3 -1]\n",
      " [ 0  3 -1]\n",
      " [ 0  3 -1]]\n",
      "[[ 0  0  0]\n",
      " [ 3  3  3]\n",
      " [-1 -1 -1]] [[ 0  0  0]\n",
      " [ 3  3  3]\n",
      " [-1 -1 -1]]\n",
      "[[ 0  3 -1]\n",
      " [ 0  3 -1]\n",
      " [-1 -1 -1]] [[ 0  3 -1]\n",
      " [ 3  3 -1]\n",
      " [-1 -1 -1]]\n"
     ]
    },
    {
     "data": {
      "image/png": "[encoded data removed]",
      "text/plain": [
       "<Figure size 432x288 with 1 Axes>"
      ]
     },
     "metadata": {
      "needs_background": "light"
     },
     "output_type": "display_data"
    },
    {
     "name": "stdout",
     "output_type": "stream",
     "text": [
      "[[-1 -1 -1]\n",
      " [-1  3  3]\n",
      " [-1  0  0]] [[-1 -1 -1]\n",
      " [-1  3  3]\n",
      " [-1  0  0]]\n",
      "[[-1 -1 -1]\n",
      " [ 3  3  3]\n",
      " [ 0  0  0]] [[-1 -1 -1]\n",
      " [ 3  3  3]\n",
      " [ 0  0  3]]\n",
      "[[-1 -1 -1]\n",
      " [ 3  3  3]\n",
      " [ 0  3  0]] [[-1 -1 -1]\n",
      " [ 3  3  3]\n",
      " [ 0  0  0]]\n",
      "[[-1 -1 -1]\n",
      " [ 3  3  3]\n",
      " [ 0  0  0]] [[-1 -1 -1]\n",
      " [ 3  3  3]\n",
      " [ 0  0  3]]\n",
      "[[-1 -1 -1]\n",
      " [ 3  3  3]\n",
      " [ 0  3  3]] [[-1 -1 -1]\n",
      " [ 3  3  3]\n",
      " [ 0  0  3]]\n",
      "[[-1 -1 -1]\n",
      " [ 3  3 -1]\n",
      " [ 0  3 -1]] [[-1 -1 -1]\n",
      " [ 3  3 -1]\n",
      " [ 0  3 -1]]\n",
      "[[ 3  3 -1]\n",
      " [ 0  3 -1]\n",
      " [ 0  3 -1]] [[ 3  3 -1]\n",
      " [ 0  3 -1]\n",
      " [ 0  3 -1]]\n",
      "[[-1  0  0]\n",
      " [-1  3  3]\n",
      " [-1  3  0]] [[-1  0  0]\n",
      " [-1  3  3]\n",
      " [-1  3  0]]\n",
      "[[0 0 0]\n",
      " [3 3 3]\n",
      " [3 0 3]] [[0 0 0]\n",
      " [3 3 3]\n",
      " [3 0 3]]\n",
      "[[0 0 0]\n",
      " [3 3 3]\n",
      " [0 3 3]] [[0 0 0]\n",
      " [3 3 3]\n",
      " [0 3 3]]\n",
      "[[0 0 0]\n",
      " [3 3 0]\n",
      " [3 3 0]] [[0 0 0]\n",
      " [3 3 0]\n",
      " [3 3 0]]\n",
      "[[ 0  3 -1]\n",
      " [ 0  3 -1]\n",
      " [ 0  3 -1]] [[ 0  3 -1]\n",
      " [ 0  3 -1]\n",
      " [ 3  3 -1]]\n",
      "[[-1  3  3]\n",
      " [-1  3  0]\n",
      " [-1  3  0]] [[-1  3  3]\n",
      " [-1  3  0]\n",
      " [-1  3  0]]\n",
      "[[3 3 3]\n",
      " [0 3 3]\n",
      " [0 0 0]] [[3 3 3]\n",
      " [0 0 3]\n",
      " [3 0 3]]\n",
      "[[ 0  3 -1]\n",
      " [ 3  3 -1]\n",
      " [ 0  3 -1]] [[ 0  3 -1]\n",
      " [ 0  3 -1]\n",
      " [ 0  3 -1]]\n",
      "[[0 3 0]\n",
      " [0 3 0]\n",
      " [3 3 3]] [[3 3 0]\n",
      " [0 0 0]\n",
      " [3 3 3]]\n",
      "[[ 0  3 -1]\n",
      " [ 0  3 -1]\n",
      " [ 3  3 -1]] [[ 0  3 -1]\n",
      " [ 0  3 -1]\n",
      " [ 0  3 -1]]\n",
      "[[ 3  0  0]\n",
      " [ 3  3  3]\n",
      " [-1 -1 -1]] [[ 3  0  0]\n",
      " [ 3  3  3]\n",
      " [-1 -1 -1]]\n",
      "[[ 0  3 -1]\n",
      " [ 0  3 -1]\n",
      " [-1 -1 -1]] [[ 0  3 -1]\n",
      " [ 3  3 -1]\n",
      " [-1 -1 -1]]\n"
     ]
    },
    {
     "data": {
      "image/png": "[encoded data removed]",
      "text/plain": [
       "<Figure size 432x288 with 1 Axes>"
      ]
     },
     "metadata": {
      "needs_background": "light"
     },
     "output_type": "display_data"
    },
    {
     "name": "stdout",
     "output_type": "stream",
     "text": [
      "[[-1 -1 -1]\n",
      " [-1  3  3]\n",
      " [-1  0  0]] [[-1 -1 -1]\n",
      " [-1  3  3]\n",
      " [-1  0  0]]\n",
      "[[-1 -1 -1]\n",
      " [ 3  3  3]\n",
      " [ 0  0  0]] [[-1 -1 -1]\n",
      " [ 3  3  3]\n",
      " [ 0  0  3]]\n",
      "[[-1 -1 -1]\n",
      " [ 3  3  3]\n",
      " [ 0  3  0]] [[-1 -1 -1]\n",
      " [ 3  3  3]\n",
      " [ 0  0  0]]\n",
      "[[-1 -1 -1]\n",
      " [ 3  3  3]\n",
      " [ 0  0  0]] [[-1 -1 -1]\n",
      " [ 3  3  3]\n",
      " [ 0  0  3]]\n",
      "[[-1 -1 -1]\n",
      " [ 3  3  3]\n",
      " [ 0  3  3]] [[-1 -1 -1]\n",
      " [ 3  3  3]\n",
      " [ 0  0  3]]\n",
      "[[-1 -1 -1]\n",
      " [ 3  3 -1]\n",
      " [ 0  3 -1]] [[-1 -1 -1]\n",
      " [ 3  3 -1]\n",
      " [ 0  3 -1]]\n",
      "[[ 3  3 -1]\n",
      " [ 0  3 -1]\n",
      " [ 0  3 -1]] [[ 3  3 -1]\n",
      " [ 0  3 -1]\n",
      " [ 0  3 -1]]\n",
      "[[-1  0  0]\n",
      " [-1  3  3]\n",
      " [-1  3  0]] [[-1  0  0]\n",
      " [-1  3  3]\n",
      " [-1  3  0]]\n",
      "[[0 0 0]\n",
      " [3 3 3]\n",
      " [3 0 3]] [[0 0 0]\n",
      " [3 3 3]\n",
      " [3 0 3]]\n",
      "[[0 0 0]\n",
      " [3 3 3]\n",
      " [0 3 3]] [[0 0 0]\n",
      " [3 3 3]\n",
      " [0 3 3]]\n",
      "[[0 0 0]\n",
      " [3 3 0]\n",
      " [3 3 0]] [[0 0 0]\n",
      " [3 3 0]\n",
      " [3 3 0]]\n",
      "[[ 0  3 -1]\n",
      " [ 0  3 -1]\n",
      " [ 0  3 -1]] [[ 0  3 -1]\n",
      " [ 0  3 -1]\n",
      " [ 3  3 -1]]\n",
      "[[-1  3  3]\n",
      " [-1  3  0]\n",
      " [-1  3  3]] [[-1  3  3]\n",
      " [-1  3  0]\n",
      " [-1  3  0]]\n",
      "[[3 3 3]\n",
      " [0 3 3]\n",
      " [0 0 0]] [[3 3 3]\n",
      " [0 0 3]\n",
      " [3 0 3]]\n",
      "[[ 0  3 -1]\n",
      " [ 3  3 -1]\n",
      " [ 0  3 -1]] [[ 0  3 -1]\n",
      " [ 0  3 -1]\n",
      " [ 0  3 -1]]\n",
      "[[-1  3  0]\n",
      " [-1  3  3]\n",
      " [-1  3  3]] [[-1  3  0]\n",
      " [-1  3  0]\n",
      " [-1  3  3]]\n",
      "[[0 3 0]\n",
      " [0 3 0]\n",
      " [3 3 3]] [[3 3 0]\n",
      " [0 0 0]\n",
      " [3 3 3]]\n",
      "[[ 0  3 -1]\n",
      " [ 0  3 -1]\n",
      " [ 3  3 -1]] [[ 0  3 -1]\n",
      " [ 0  3 -1]\n",
      " [ 0  3 -1]]\n",
      "[[-1  3  0]\n",
      " [-1  3  3]\n",
      " [-1 -1 -1]] [[-1  3  0]\n",
      " [-1  3  3]\n",
      " [-1 -1 -1]]\n",
      "[[ 3  0  0]\n",
      " [ 3  3  3]\n",
      " [-1 -1 -1]] [[ 3  0  0]\n",
      " [ 3  3  3]\n",
      " [-1 -1 -1]]\n",
      "[[ 0  0  0]\n",
      " [ 3  3  3]\n",
      " [-1 -1 -1]] [[ 0  0  0]\n",
      " [ 3  3  3]\n",
      " [-1 -1 -1]]\n",
      "[[ 0  3 -1]\n",
      " [ 0  3 -1]\n",
      " [-1 -1 -1]] [[ 0  3 -1]\n",
      " [ 3  3 -1]\n",
      " [-1 -1 -1]]\n"
     ]
    },
    {
     "data": {
      "image/png": "[encoded data removed]",
      "text/plain": [
       "<Figure size 432x288 with 1 Axes>"
      ]
     },
     "metadata": {
      "needs_background": "light"
     },
     "output_type": "display_data"
    },
    {
     "name": "stdout",
     "output_type": "stream",
     "text": [
      "[[-1 -1 -1]\n",
      " [-1  3  3]\n",
      " [-1  0  0]] [[-1 -1 -1]\n",
      " [-1  3  3]\n",
      " [-1  0  0]]\n",
      "[[-1 -1 -1]\n",
      " [ 3  3  3]\n",
      " [ 0  0  0]] [[-1 -1 -1]\n",
      " [ 3  3  3]\n",
      " [ 0  0  3]]\n",
      "[[-1 -1 -1]\n",
      " [ 3  3  3]\n",
      " [ 0  3  0]] [[-1 -1 -1]\n",
      " [ 3  3  3]\n",
      " [ 0  0  0]]\n",
      "[[-1 -1 -1]\n",
      " [ 3  3  3]\n",
      " [ 0  0  0]] [[-1 -1 -1]\n",
      " [ 3  3  3]\n",
      " [ 0  0  3]]\n",
      "[[-1 -1 -1]\n",
      " [ 3  3  3]\n",
      " [ 0  3  3]] [[-1 -1 -1]\n",
      " [ 3  3  3]\n",
      " [ 0  0  3]]\n",
      "[[-1 -1 -1]\n",
      " [ 3  3 -1]\n",
      " [ 0  3 -1]] [[-1 -1 -1]\n",
      " [ 3  3 -1]\n",
      " [ 0  3 -1]]\n",
      "[[ 3  3 -1]\n",
      " [ 0  3 -1]\n",
      " [ 0  3 -1]] [[ 3  3 -1]\n",
      " [ 0  3 -1]\n",
      " [ 0  3 -1]]\n",
      "[[-1  0  0]\n",
      " [-1  3  3]\n",
      " [-1  3  0]] [[-1  0  0]\n",
      " [-1  3  3]\n",
      " [-1  3  0]]\n",
      "[[0 0 0]\n",
      " [3 3 3]\n",
      " [3 0 3]] [[0 0 0]\n",
      " [3 3 3]\n",
      " [3 0 3]]\n",
      "[[0 0 0]\n",
      " [3 3 3]\n",
      " [0 3 3]] [[0 0 0]\n",
      " [3 3 3]\n",
      " [0 3 3]]\n",
      "[[0 0 0]\n",
      " [3 3 0]\n",
      " [3 3 0]] [[0 0 0]\n",
      " [3 3 0]\n",
      " [3 3 0]]\n",
      "[[ 0  3 -1]\n",
      " [ 0  3 -1]\n",
      " [ 0  3 -1]] [[ 0  3 -1]\n",
      " [ 0  3 -1]\n",
      " [ 3  3 -1]]\n",
      "[[-1  3  3]\n",
      " [-1  3  0]\n",
      " [-1  3  0]] [[-1  3  3]\n",
      " [-1  3  0]\n",
      " [-1  3  0]]\n",
      "[[3 3 3]\n",
      " [0 3 3]\n",
      " [0 0 0]] [[3 3 3]\n",
      " [0 0 3]\n",
      " [3 0 3]]\n",
      "[[ 0  3 -1]\n",
      " [ 3  3 -1]\n",
      " [ 0  3 -1]] [[ 0  3 -1]\n",
      " [ 0  3 -1]\n",
      " [ 0  3 -1]]\n",
      "[[-1  3  0]\n",
      " [-1  3  3]\n",
      " [-1  3  3]] [[-1  3  0]\n",
      " [-1  3  0]\n",
      " [-1  3  3]]\n",
      "[[0 3 0]\n",
      " [0 3 0]\n",
      " [3 3 3]] [[3 3 0]\n",
      " [0 0 0]\n",
      " [3 3 3]]\n",
      "[[ 0  3 -1]\n",
      " [ 0  3 -1]\n",
      " [ 3  3 -1]] [[ 0  3 -1]\n",
      " [ 0  3 -1]\n",
      " [ 0  3 -1]]\n",
      "[[-1  3  0]\n",
      " [-1  3  3]\n",
      " [-1 -1 -1]] [[-1  3  0]\n",
      " [-1  3  3]\n",
      " [-1 -1 -1]]\n",
      "[[ 3  0  0]\n",
      " [ 3  3  3]\n",
      " [-1 -1 -1]] [[ 3  0  0]\n",
      " [ 3  3  3]\n",
      " [-1 -1 -1]]\n",
      "[[ 0  0  0]\n",
      " [ 3  3  3]\n",
      " [-1 -1 -1]] [[ 0  0  0]\n",
      " [ 3  3  3]\n",
      " [-1 -1 -1]]\n",
      "[[ 0  3 -1]\n",
      " [ 0  3 -1]\n",
      " [-1 -1 -1]] [[ 0  3 -1]\n",
      " [ 3  3 -1]\n",
      " [-1 -1 -1]]\n"
     ]
    },
    {
     "data": {
      "image/png": "[encoded data removed]",
      "text/plain": [
       "<Figure size 432x288 with 1 Axes>"
      ]
     },
     "metadata": {
      "needs_background": "light"
     },
     "output_type": "display_data"
    },
    {
     "name": "stdout",
     "output_type": "stream",
     "text": [
      "[[-1 -1 -1]\n",
      " [-1  3  3]\n",
      " [-1  0  0]] [[-1 -1 -1]\n",
      " [-1  3  3]\n",
      " [-1  0  0]]\n",
      "[[-1 -1 -1]\n",
      " [ 3  3  3]\n",
      " [ 0  0  0]] [[-1 -1 -1]\n",
      " [ 3  3  3]\n",
      " [ 0  0  3]]\n",
      "[[-1 -1 -1]\n",
      " [ 3  3  3]\n",
      " [ 0  3  0]] [[-1 -1 -1]\n",
      " [ 3  3  3]\n",
      " [ 0  0  0]]\n",
      "[[-1 -1 -1]\n",
      " [ 3  3  3]\n",
      " [ 0  0  0]] [[-1 -1 -1]\n",
      " [ 3  3  3]\n",
      " [ 0  0  3]]\n",
      "[[-1 -1 -1]\n",
      " [ 3  3  3]\n",
      " [ 0  3  3]] [[-1 -1 -1]\n",
      " [ 3  3  3]\n",
      " [ 0  0  3]]\n",
      "[[-1 -1 -1]\n",
      " [ 3  3 -1]\n",
      " [ 0  3 -1]] [[-1 -1 -1]\n",
      " [ 3  3 -1]\n",
      " [ 0  3 -1]]\n",
      "[[ 3  3 -1]\n",
      " [ 0  3 -1]\n",
      " [ 0  3 -1]] [[ 3  3 -1]\n",
      " [ 0  3 -1]\n",
      " [ 0  3 -1]]\n",
      "[[-1  0  0]\n",
      " [-1  3  3]\n",
      " [-1  3  0]] [[-1  0  0]\n",
      " [-1  3  3]\n",
      " [-1  3  0]]\n",
      "[[0 0 0]\n",
      " [3 3 3]\n",
      " [3 0 3]] [[0 0 0]\n",
      " [3 3 3]\n",
      " [3 0 3]]\n",
      "[[0 0 0]\n",
      " [3 3 3]\n",
      " [0 3 3]] [[0 0 0]\n",
      " [3 3 3]\n",
      " [0 3 3]]\n",
      "[[0 0 0]\n",
      " [3 3 0]\n",
      " [3 3 0]] [[0 0 0]\n",
      " [3 3 0]\n",
      " [3 3 0]]\n",
      "[[ 0  3 -1]\n",
      " [ 0  3 -1]\n",
      " [ 0  3 -1]] [[ 0  3 -1]\n",
      " [ 0  3 -1]\n",
      " [ 3  3 -1]]\n",
      "[[-1  3  3]\n",
      " [-1  3  0]\n",
      " [-1  3  0]] [[-1  3  3]\n",
      " [-1  3  0]\n",
      " [-1  3  0]]\n",
      "[[3 3 3]\n",
      " [0 3 3]\n",
      " [0 0 0]] [[3 3 3]\n",
      " [0 0 3]\n",
      " [3 0 3]]\n",
      "[[ 0  3 -1]\n",
      " [ 3  3 -1]\n",
      " [ 0  3 -1]] [[ 0  3 -1]\n",
      " [ 0  3 -1]\n",
      " [ 0  3 -1]]\n",
      "[[-1  3  0]\n",
      " [-1  3  3]\n",
      " [-1  3  3]] [[-1  3  0]\n",
      " [-1  3  0]\n",
      " [-1  3  3]]\n",
      "[[0 3 0]\n",
      " [0 3 0]\n",
      " [3 3 3]] [[3 3 0]\n",
      " [0 0 0]\n",
      " [3 3 3]]\n",
      "[[ 0  3 -1]\n",
      " [ 0  3 -1]\n",
      " [ 3  3 -1]] [[ 0  3 -1]\n",
      " [ 0  3 -1]\n",
      " [ 0  3 -1]]\n",
      "[[-1  3  0]\n",
      " [-1  3  3]\n",
      " [-1 -1 -1]] [[-1  3  0]\n",
      " [-1  3  3]\n",
      " [-1 -1 -1]]\n",
      "[[ 3  0  0]\n",
      " [ 3  3  3]\n",
      " [-1 -1 -1]] [[ 3  0  0]\n",
      " [ 3  3  3]\n",
      " [-1 -1 -1]]\n",
      "[[ 0  0  0]\n",
      " [ 3  3  3]\n",
      " [-1 -1 -1]] [[ 0  0  0]\n",
      " [ 3  3  3]\n",
      " [-1 -1 -1]]\n",
      "[[ 0  3 -1]\n",
      " [ 0  3 -1]\n",
      " [-1 -1 -1]] [[ 0  3 -1]\n",
      " [ 3  3 -1]\n",
      " [-1 -1 -1]]\n"
     ]
    },
    {
     "data": {
      "image/png": "[encoded data removed]",
      "text/plain": [
       "<Figure size 432x288 with 1 Axes>"
      ]
     },
     "metadata": {
      "needs_background": "light"
     },
     "output_type": "display_data"
    },
    {
     "name": "stdout",
     "output_type": "stream",
     "text": [
      "[[-1 -1 -1]\n",
      " [-1  3  3]\n",
      " [-1  0  0]] [[-1 -1 -1]\n",
      " [-1  3  3]\n",
      " [-1  0  0]]\n",
      "[[-1 -1 -1]\n",
      " [ 3  3  3]\n",
      " [ 0  0  0]] [[-1 -1 -1]\n",
      " [ 3  3  3]\n",
      " [ 0  0  3]]\n",
      "[[-1 -1 -1]\n",
      " [ 3  3  3]\n",
      " [ 0  3  0]] [[-1 -1 -1]\n",
      " [ 3  3  3]\n",
      " [ 0  0  0]]\n",
      "[[-1 -1 -1]\n",
      " [ 3  3  3]\n",
      " [ 0  0  0]] [[-1 -1 -1]\n",
      " [ 3  3  3]\n",
      " [ 0  0  3]]\n",
      "[[-1 -1 -1]\n",
      " [ 3  3  3]\n",
      " [ 0  3  3]] [[-1 -1 -1]\n",
      " [ 3  3  3]\n",
      " [ 0  0  3]]\n",
      "[[-1 -1 -1]\n",
      " [ 3  3 -1]\n",
      " [ 0  3 -1]] [[-1 -1 -1]\n",
      " [ 3  3 -1]\n",
      " [ 0  3 -1]]\n",
      "[[ 3  3 -1]\n",
      " [ 0  3 -1]\n",
      " [ 0  3 -1]] [[ 3  3 -1]\n",
      " [ 0  3 -1]\n",
      " [ 0  3 -1]]\n",
      "[[-1  0  0]\n",
      " [-1  3  3]\n",
      " [-1  3  0]] [[-1  0  0]\n",
      " [-1  3  3]\n",
      " [-1  3  0]]\n",
      "[[0 0 0]\n",
      " [3 3 3]\n",
      " [3 0 3]] [[0 0 0]\n",
      " [3 3 3]\n",
      " [3 0 3]]\n",
      "[[0 0 0]\n",
      " [3 3 3]\n",
      " [0 3 3]] [[0 0 0]\n",
      " [3 3 3]\n",
      " [0 3 3]]\n",
      "[[0 0 0]\n",
      " [3 3 0]\n",
      " [3 3 0]] [[0 0 0]\n",
      " [3 3 0]\n",
      " [3 3 0]]\n",
      "[[ 0  3 -1]\n",
      " [ 0  3 -1]\n",
      " [ 0  3 -1]] [[ 0  3 -1]\n",
      " [ 0  3 -1]\n",
      " [ 3  3 -1]]\n",
      "[[-1  3  3]\n",
      " [-1  3  0]\n",
      " [-1  3  0]] [[-1  3  3]\n",
      " [-1  3  0]\n",
      " [-1  3  0]]\n",
      "[[3 3 3]\n",
      " [0 3 3]\n",
      " [0 0 0]] [[3 3 3]\n",
      " [0 0 3]\n",
      " [3 0 3]]\n",
      "[[ 0  3 -1]\n",
      " [ 3  3 -1]\n",
      " [ 0  3 -1]] [[ 0  3 -1]\n",
      " [ 0  3 -1]\n",
      " [ 0  3 -1]]\n",
      "[[-1  3  0]\n",
      " [-1  3  3]\n",
      " [-1  3  3]] [[-1  3  0]\n",
      " [-1  3  0]\n",
      " [-1  3  3]]\n",
      "[[0 3 0]\n",
      " [0 3 0]\n",
      " [3 3 3]] [[3 3 0]\n",
      " [0 0 0]\n",
      " [3 3 3]]\n",
      "[[ 0  3 -1]\n",
      " [ 0  3 -1]\n",
      " [ 3  3 -1]] [[ 0  3 -1]\n",
      " [ 0  3 -1]\n",
      " [ 0  3 -1]]\n",
      "[[-1  3  0]\n",
      " [-1  3  3]\n",
      " [-1 -1 -1]] [[-1  3  0]\n",
      " [-1  3  3]\n",
      " [-1 -1 -1]]\n",
      "[[ 3  0  0]\n",
      " [ 3  3  3]\n",
      " [-1 -1 -1]] [[ 3  0  0]\n",
      " [ 3  3  3]\n",
      " [-1 -1 -1]]\n",
      "[[ 0  0  0]\n",
      " [ 3  3  3]\n",
      " [-1 -1 -1]] [[ 0  0  0]\n",
      " [ 3  3  3]\n",
      " [-1 -1 -1]]\n",
      "[[ 0  3 -1]\n",
      " [ 0  3 -1]\n",
      " [-1 -1 -1]] [[ 0  3 -1]\n",
      " [ 3  3 -1]\n",
      " [-1 -1 -1]]\n"
     ]
    },
    {
     "data": {
      "image/png": "[encoded data removed]",
      "text/plain": [
       "<Figure size 432x288 with 1 Axes>"
      ]
     },
     "metadata": {
      "needs_background": "light"
     },
     "output_type": "display_data"
    },
    {
     "name": "stdout",
     "output_type": "stream",
     "text": [
      "[[-1 -1 -1]\n",
      " [-1  3  3]\n",
      " [-1  0  0]] [[-1 -1 -1]\n",
      " [-1  3  3]\n",
      " [-1  0  0]]\n",
      "[[-1 -1 -1]\n",
      " [ 3  3  3]\n",
      " [ 0  0  0]] [[-1 -1 -1]\n",
      " [ 3  3  3]\n",
      " [ 0  0  3]]\n",
      "[[-1 -1 -1]\n",
      " [ 3  3  3]\n",
      " [ 0  3  0]] [[-1 -1 -1]\n",
      " [ 3  3  3]\n",
      " [ 0  0  0]]\n",
      "[[-1 -1 -1]\n",
      " [ 3  3  3]\n",
      " [ 0  0  0]] [[-1 -1 -1]\n",
      " [ 3  3  3]\n",
      " [ 0  0  3]]\n",
      "[[-1 -1 -1]\n",
      " [ 3  3  3]\n",
      " [ 0  3  3]] [[-1 -1 -1]\n",
      " [ 3  3  3]\n",
      " [ 0  0  3]]\n",
      "[[-1 -1 -1]\n",
      " [ 3  3 -1]\n",
      " [ 0  3 -1]] [[-1 -1 -1]\n",
      " [ 3  3 -1]\n",
      " [ 0  3 -1]]\n",
      "[[ 3  3 -1]\n",
      " [ 0  3 -1]\n",
      " [ 0  3 -1]] [[ 3  3 -1]\n",
      " [ 0  3 -1]\n",
      " [ 0  3 -1]]\n",
      "[[-1  0  0]\n",
      " [-1  3  3]\n",
      " [-1  3  0]] [[-1  0  0]\n",
      " [-1  3  3]\n",
      " [-1  3  0]]\n",
      "[[0 0 0]\n",
      " [3 3 3]\n",
      " [3 0 3]] [[0 0 0]\n",
      " [3 3 3]\n",
      " [3 0 3]]\n",
      "[[0 0 0]\n",
      " [3 3 3]\n",
      " [0 3 3]] [[0 0 0]\n",
      " [3 3 3]\n",
      " [0 3 3]]\n",
      "[[0 0 0]\n",
      " [3 3 0]\n",
      " [3 3 0]] [[0 0 0]\n",
      " [3 3 0]\n",
      " [3 3 0]]\n",
      "[[ 0  3 -1]\n",
      " [ 0  3 -1]\n",
      " [ 0  3 -1]] [[ 0  3 -1]\n",
      " [ 0  3 -1]\n",
      " [ 3  3 -1]]\n",
      "[[-1  3  3]\n",
      " [-1  3  0]\n",
      " [-1  3  0]] [[-1  3  3]\n",
      " [-1  3  0]\n",
      " [-1  3  0]]\n",
      "[[3 3 3]\n",
      " [0 3 3]\n",
      " [0 0 0]] [[3 3 3]\n",
      " [0 0 3]\n",
      " [3 0 3]]\n",
      "[[ 0  3 -1]\n",
      " [ 3  3 -1]\n",
      " [ 0  3 -1]] [[ 0  3 -1]\n",
      " [ 0  3 -1]\n",
      " [ 0  3 -1]]\n",
      "[[-1  3  0]\n",
      " [-1  3  3]\n",
      " [-1  3  3]] [[-1  3  0]\n",
      " [-1  3  0]\n",
      " [-1  3  3]]\n",
      "[[0 3 0]\n",
      " [0 3 0]\n",
      " [3 3 3]] [[3 3 0]\n",
      " [0 0 0]\n",
      " [3 3 3]]\n",
      "[[ 0  3 -1]\n",
      " [ 0  3 -1]\n",
      " [ 3  3 -1]] [[ 0  3 -1]\n",
      " [ 0  3 -1]\n",
      " [ 0  3 -1]]\n",
      "[[-1  3  0]\n",
      " [-1  3  3]\n",
      " [-1 -1 -1]] [[-1  3  0]\n",
      " [-1  3  3]\n",
      " [-1 -1 -1]]\n",
      "[[ 3  0  0]\n",
      " [ 3  3  3]\n",
      " [-1 -1 -1]] [[ 3  0  0]\n",
      " [ 3  3  3]\n",
      " [-1 -1 -1]]\n",
      "[[ 0  0  0]\n",
      " [ 3  3  3]\n",
      " [-1 -1 -1]] [[ 0  0  0]\n",
      " [ 3  3  3]\n",
      " [-1 -1 -1]]\n",
      "[[ 0  3 -1]\n",
      " [ 0  3 -1]\n",
      " [-1 -1 -1]] [[ 0  3 -1]\n",
      " [ 3  3 -1]\n",
      " [-1 -1 -1]]\n"
     ]
    },
    {
     "data": {
      "image/png": "[encoded data removed]",
      "text/plain": [
       "<Figure size 432x288 with 1 Axes>"
      ]
     },
     "metadata": {
      "needs_background": "light"
     },
     "output_type": "display_data"
    },
    {
     "name": "stdout",
     "output_type": "stream",
     "text": [
      "[[-1 -1 -1]\n",
      " [-1  3  3]\n",
      " [-1  0  0]] [[-1 -1 -1]\n",
      " [-1  3  3]\n",
      " [-1  0  0]]\n",
      "[[-1 -1 -1]\n",
      " [ 3  3  3]\n",
      " [ 0  0  0]] [[-1 -1 -1]\n",
      " [ 3  3  3]\n",
      " [ 0  0  3]]\n",
      "[[-1 -1 -1]\n",
      " [ 3  3  3]\n",
      " [ 0  3  0]] [[-1 -1 -1]\n",
      " [ 3  3  3]\n",
      " [ 0  0  0]]\n",
      "[[-1 -1 -1]\n",
      " [ 3  3  3]\n",
      " [ 0  0  0]] [[-1 -1 -1]\n",
      " [ 3  3  3]\n",
      " [ 0  0  3]]\n",
      "[[-1 -1 -1]\n",
      " [ 3  3  3]\n",
      " [ 0  3  3]] [[-1 -1 -1]\n",
      " [ 3  3  3]\n",
      " [ 0  0  3]]\n",
      "[[-1 -1 -1]\n",
      " [ 3  3 -1]\n",
      " [ 0  3 -1]] [[-1 -1 -1]\n",
      " [ 3  3 -1]\n",
      " [ 0  3 -1]]\n",
      "[[ 3  3 -1]\n",
      " [ 0  3 -1]\n",
      " [ 0  3 -1]] [[ 3  3 -1]\n",
      " [ 0  3 -1]\n",
      " [ 0  3 -1]]\n",
      "[[-1  0  0]\n",
      " [-1  3  3]\n",
      " [-1  3  0]] [[-1  0  0]\n",
      " [-1  3  3]\n",
      " [-1  3  0]]\n",
      "[[0 0 0]\n",
      " [3 3 3]\n",
      " [3 0 3]] [[0 0 0]\n",
      " [3 3 3]\n",
      " [3 0 3]]\n",
      "[[0 0 0]\n",
      " [3 3 3]\n",
      " [0 3 3]] [[0 0 0]\n",
      " [3 3 3]\n",
      " [0 3 3]]\n",
      "[[0 0 0]\n",
      " [3 3 0]\n",
      " [3 3 0]] [[0 0 0]\n",
      " [3 3 0]\n",
      " [3 3 0]]\n",
      "[[ 0  3 -1]\n",
      " [ 0  3 -1]\n",
      " [ 0  3 -1]] [[ 0  3 -1]\n",
      " [ 0  3 -1]\n",
      " [ 3  3 -1]]\n",
      "[[-1  3  3]\n",
      " [-1  3  0]\n",
      " [-1  3  0]] [[-1  3  3]\n",
      " [-1  3  0]\n",
      " [-1  3  0]]\n",
      "[[3 3 3]\n",
      " [0 3 3]\n",
      " [0 0 0]] [[3 3 3]\n",
      " [0 0 3]\n",
      " [3 0 3]]\n",
      "[[ 0  3 -1]\n",
      " [ 3  3 -1]\n",
      " [ 0  3 -1]] [[ 0  3 -1]\n",
      " [ 0  3 -1]\n",
      " [ 0  3 -1]]\n",
      "[[-1  3  0]\n",
      " [-1  3  3]\n",
      " [-1  3  3]] [[-1  3  0]\n",
      " [-1  3  0]\n",
      " [-1  3  3]]\n",
      "[[0 3 0]\n",
      " [0 3 0]\n",
      " [3 3 3]] [[3 3 0]\n",
      " [0 0 0]\n",
      " [3 3 3]]\n",
      "[[ 0  3 -1]\n",
      " [ 0  3 -1]\n",
      " [ 3  3 -1]] [[ 0  3 -1]\n",
      " [ 0  3 -1]\n",
      " [ 0  3 -1]]\n",
      "[[-1  3  0]\n",
      " [-1  3  3]\n",
      " [-1 -1 -1]] [[-1  3  0]\n",
      " [-1  3  3]\n",
      " [-1 -1 -1]]\n",
      "[[ 3  0  0]\n",
      " [ 3  3  3]\n",
      " [-1 -1 -1]] [[ 3  0  0]\n",
      " [ 3  3  3]\n",
      " [-1 -1 -1]]\n",
      "[[ 0  0  0]\n",
      " [ 3  3  3]\n",
      " [-1 -1 -1]] [[ 0  0  0]\n",
      " [ 3  3  3]\n",
      " [-1 -1 -1]]\n",
      "[[ 0  3 -1]\n",
      " [ 0  3 -1]\n",
      " [-1 -1 -1]] [[ 0  3 -1]\n",
      " [ 3  3 -1]\n",
      " [-1 -1 -1]]\n"
     ]
    },
    {
     "data": {
      "image/png": "[encoded data removed]",
      "text/plain": [
       "<Figure size 432x288 with 1 Axes>"
      ]
     },
     "metadata": {
      "needs_background": "light"
     },
     "output_type": "display_data"
    },
    {
     "name": "stdout",
     "output_type": "stream",
     "text": [
      "[[-1 -1 -1]\n",
      " [-1  3  3]\n",
      " [-1  0  0]] [[-1 -1 -1]\n",
      " [-1  3  3]\n",
      " [-1  0  0]]\n",
      "[[-1 -1 -1]\n",
      " [ 3  3  3]\n",
      " [ 0  0  0]] [[-1 -1 -1]\n",
      " [ 3  3  3]\n",
      " [ 0  0  3]]\n",
      "[[-1 -1 -1]\n",
      " [ 3  3  3]\n",
      " [ 0  3  0]] [[-1 -1 -1]\n",
      " [ 3  3  3]\n",
      " [ 0  0  0]]\n",
      "[[-1 -1 -1]\n",
      " [ 3  3  3]\n",
      " [ 0  0  0]] [[-1 -1 -1]\n",
      " [ 3  3  3]\n",
      " [ 0  0  3]]\n",
      "[[-1 -1 -1]\n",
      " [ 3  3  3]\n",
      " [ 0  3  3]] [[-1 -1 -1]\n",
      " [ 3  3  3]\n",
      " [ 0  0  3]]\n",
      "[[-1 -1 -1]\n",
      " [ 3  3 -1]\n",
      " [ 0  3 -1]] [[-1 -1 -1]\n",
      " [ 3  3 -1]\n",
      " [ 0  3 -1]]\n",
      "[[ 3  3 -1]\n",
      " [ 0  3 -1]\n",
      " [ 0  3 -1]] [[ 3  3 -1]\n",
      " [ 0  3 -1]\n",
      " [ 0  3 -1]]\n",
      "[[-1  0  0]\n",
      " [-1  3  3]\n",
      " [-1  3  0]] [[-1  0  0]\n",
      " [-1  3  3]\n",
      " [-1  3  0]]\n",
      "[[0 0 0]\n",
      " [3 3 3]\n",
      " [3 0 3]] [[0 0 0]\n",
      " [3 3 3]\n",
      " [3 0 3]]\n",
      "[[0 0 0]\n",
      " [3 3 3]\n",
      " [0 3 3]] [[0 0 0]\n",
      " [3 3 3]\n",
      " [0 3 3]]\n",
      "[[0 0 0]\n",
      " [3 3 0]\n",
      " [3 3 0]] [[0 0 0]\n",
      " [3 3 0]\n",
      " [3 3 0]]\n",
      "[[ 0  3 -1]\n",
      " [ 0  3 -1]\n",
      " [ 0  3 -1]] [[ 0  3 -1]\n",
      " [ 0  3 -1]\n",
      " [ 3  3 -1]]\n",
      "[[-1  3  3]\n",
      " [-1  3  0]\n",
      " [-1  3  0]] [[-1  3  3]\n",
      " [-1  3  0]\n",
      " [-1  3  0]]\n",
      "[[3 3 3]\n",
      " [0 3 3]\n",
      " [0 0 0]] [[3 3 3]\n",
      " [0 0 3]\n",
      " [3 0 3]]\n",
      "[[ 0  3 -1]\n",
      " [ 3  3 -1]\n",
      " [ 0  3 -1]] [[ 0  3 -1]\n",
      " [ 0  3 -1]\n",
      " [ 0  3 -1]]\n",
      "[[-1  3  0]\n",
      " [-1  3  3]\n",
      " [-1  3  3]] [[-1  3  0]\n",
      " [-1  3  0]\n",
      " [-1  3  3]]\n",
      "[[0 3 0]\n",
      " [0 3 0]\n",
      " [3 3 3]] [[3 3 0]\n",
      " [0 0 0]\n",
      " [3 3 3]]\n",
      "[[ 0  3 -1]\n",
      " [ 0  3 -1]\n",
      " [ 3  3 -1]] [[ 0  3 -1]\n",
      " [ 0  3 -1]\n",
      " [ 0  3 -1]]\n",
      "[[-1  3  0]\n",
      " [-1  3  3]\n",
      " [-1 -1 -1]] [[-1  3  0]\n",
      " [-1  3  3]\n",
      " [-1 -1 -1]]\n",
      "[[ 3  0  0]\n",
      " [ 3  3  3]\n",
      " [-1 -1 -1]] [[ 3  0  0]\n",
      " [ 3  3  3]\n",
      " [-1 -1 -1]]\n",
      "[[ 0  0  0]\n",
      " [ 3  3  3]\n",
      " [-1 -1 -1]] [[ 0  0  0]\n",
      " [ 3  3  3]\n",
      " [-1 -1 -1]]\n",
      "[[ 0  3 -1]\n",
      " [ 0  3 -1]\n",
      " [-1 -1 -1]] [[ 0  3 -1]\n",
      " [ 3  3 -1]\n",
      " [-1 -1 -1]]\n"
     ]
    },
    {
     "data": {
      "image/png": "[encoded data removed]",
      "text/plain": [
       "<Figure size 432x288 with 1 Axes>"
      ]
     },
     "metadata": {
      "needs_background": "light"
     },
     "output_type": "display_data"
    },
    {
     "name": "stdout",
     "output_type": "stream",
     "text": [
      "[[-1 -1 -1]\n",
      " [-1  3  3]\n",
      " [-1  0  0]] [[-1 -1 -1]\n",
      " [-1  3  3]\n",
      " [-1  0  0]]\n",
      "[[-1 -1 -1]\n",
      " [ 3  3  3]\n",
      " [ 0  0  0]] [[-1 -1 -1]\n",
      " [ 3  3  3]\n",
      " [ 0  0  3]]\n",
      "[[-1 -1 -1]\n",
      " [ 3  3  3]\n",
      " [ 0  3  0]] [[-1 -1 -1]\n",
      " [ 3  3  3]\n",
      " [ 0  0  0]]\n",
      "[[-1 -1 -1]\n",
      " [ 3  3  3]\n",
      " [ 0  0  0]] [[-1 -1 -1]\n",
      " [ 3  3  3]\n",
      " [ 0  0  3]]\n",
      "[[-1 -1 -1]\n",
      " [ 3  3  3]\n",
      " [ 0  3  3]] [[-1 -1 -1]\n",
      " [ 3  3  3]\n",
      " [ 0  0  3]]\n",
      "[[-1 -1 -1]\n",
      " [ 3  3 -1]\n",
      " [ 0  3 -1]] [[-1 -1 -1]\n",
      " [ 3  3 -1]\n",
      " [ 0  3 -1]]\n",
      "[[ 3  3 -1]\n",
      " [ 0  3 -1]\n",
      " [ 0  3 -1]] [[ 3  3 -1]\n",
      " [ 0  3 -1]\n",
      " [ 0  3 -1]]\n",
      "[[-1  0  0]\n",
      " [-1  3  3]\n",
      " [-1  3  0]] [[-1  0  0]\n",
      " [-1  3  3]\n",
      " [-1  3  0]]\n",
      "[[0 0 0]\n",
      " [3 3 3]\n",
      " [3 0 3]] [[0 0 0]\n",
      " [3 3 3]\n",
      " [3 0 3]]\n",
      "[[0 0 0]\n",
      " [3 3 3]\n",
      " [0 3 3]] [[0 0 0]\n",
      " [3 3 3]\n",
      " [0 3 3]]\n",
      "[[0 0 0]\n",
      " [3 3 0]\n",
      " [3 3 0]] [[0 0 0]\n",
      " [3 3 0]\n",
      " [3 3 0]]\n",
      "[[ 0  3 -1]\n",
      " [ 0  3 -1]\n",
      " [ 0  3 -1]] [[ 0  3 -1]\n",
      " [ 0  3 -1]\n",
      " [ 3  3 -1]]\n",
      "[[-1  3  3]\n",
      " [-1  3  0]\n",
      " [-1  3  0]] [[-1  3  3]\n",
      " [-1  3  0]\n",
      " [-1  3  0]]\n",
      "[[3 3 3]\n",
      " [0 3 3]\n",
      " [0 0 0]] [[3 3 3]\n",
      " [0 0 3]\n",
      " [3 0 3]]\n",
      "[[ 0  3 -1]\n",
      " [ 3  3 -1]\n",
      " [ 0  3 -1]] [[ 0  3 -1]\n",
      " [ 0  3 -1]\n",
      " [ 0  3 -1]]\n",
      "[[-1  3  0]\n",
      " [-1  3  3]\n",
      " [-1  3  3]] [[-1  3  0]\n",
      " [-1  3  0]\n",
      " [-1  3  3]]\n",
      "[[0 3 0]\n",
      " [0 3 0]\n",
      " [3 3 3]] [[3 3 0]\n",
      " [0 0 0]\n",
      " [3 3 3]]\n",
      "[[ 0  3 -1]\n",
      " [ 0  3 -1]\n",
      " [ 3  3 -1]] [[ 0  3 -1]\n",
      " [ 0  3 -1]\n",
      " [ 0  3 -1]]\n",
      "[[-1  3  0]\n",
      " [-1  3  3]\n",
      " [-1 -1 -1]] [[-1  3  0]\n",
      " [-1  3  3]\n",
      " [-1 -1 -1]]\n",
      "[[ 3  0  0]\n",
      " [ 3  3  3]\n",
      " [-1 -1 -1]] [[ 3  0  0]\n",
      " [ 3  3  3]\n",
      " [-1 -1 -1]]\n",
      "[[ 0  0  0]\n",
      " [ 3  3  3]\n",
      " [-1 -1 -1]] [[ 0  0  0]\n",
      " [ 3  3  3]\n",
      " [-1 -1 -1]]\n",
      "[[ 0  3 -1]\n",
      " [ 0  3 -1]\n",
      " [-1 -1 -1]] [[ 0  3 -1]\n",
      " [ 3  3 -1]\n",
      " [-1 -1 -1]]\n"
     ]
    },
    {
     "data": {
      "image/png": "[encoded data removed]",
      "text/plain": [
       "<Figure size 432x288 with 1 Axes>"
      ]
     },
     "metadata": {
      "needs_background": "light"
     },
     "output_type": "display_data"
    },
    {
     "name": "stdout",
     "output_type": "stream",
     "text": [
      "[[-1 -1 -1]\n",
      " [-1  3  3]\n",
      " [-1  0  0]] [[-1 -1 -1]\n",
      " [-1  3  3]\n",
      " [-1  0  0]]\n",
      "[[-1 -1 -1]\n",
      " [ 3  3  3]\n",
      " [ 0  0  0]] [[-1 -1 -1]\n",
      " [ 3  3  3]\n",
      " [ 0  0  3]]\n",
      "[[-1 -1 -1]\n",
      " [ 3  3  3]\n",
      " [ 0  3  0]] [[-1 -1 -1]\n",
      " [ 3  3  3]\n",
      " [ 0  0  0]]\n",
      "[[-1 -1 -1]\n",
      " [ 3  3  3]\n",
      " [ 0  0  0]] [[-1 -1 -1]\n",
      " [ 3  3  3]\n",
      " [ 0  0  3]]\n",
      "[[-1 -1 -1]\n",
      " [ 3  3  3]\n",
      " [ 0  3  3]] [[-1 -1 -1]\n",
      " [ 3  3  3]\n",
      " [ 0  0  3]]\n",
      "[[-1 -1 -1]\n",
      " [ 3  3 -1]\n",
      " [ 0  3 -1]] [[-1 -1 -1]\n",
      " [ 3  3 -1]\n",
      " [ 0  3 -1]]\n",
      "[[ 3  3 -1]\n",
      " [ 0  3 -1]\n",
      " [ 0  3 -1]] [[ 3  3 -1]\n",
      " [ 0  3 -1]\n",
      " [ 0  3 -1]]\n",
      "[[-1  0  0]\n",
      " [-1  3  3]\n",
      " [-1  3  0]] [[-1  0  0]\n",
      " [-1  3  3]\n",
      " [-1  3  0]]\n",
      "[[0 0 0]\n",
      " [3 3 3]\n",
      " [3 0 3]] [[0 0 0]\n",
      " [3 3 3]\n",
      " [3 0 3]]\n",
      "[[0 0 0]\n",
      " [3 3 3]\n",
      " [0 3 3]] [[0 0 0]\n",
      " [3 3 3]\n",
      " [0 3 3]]\n",
      "[[0 0 0]\n",
      " [3 3 0]\n",
      " [3 3 0]] [[0 0 0]\n",
      " [3 3 0]\n",
      " [3 3 0]]\n",
      "[[ 0  3 -1]\n",
      " [ 0  3 -1]\n",
      " [ 0  3 -1]] [[ 0  3 -1]\n",
      " [ 0  3 -1]\n",
      " [ 3  3 -1]]\n",
      "[[-1  3  3]\n",
      " [-1  3  0]\n",
      " [-1  3  0]] [[-1  3  3]\n",
      " [-1  3  0]\n",
      " [-1  3  0]]\n",
      "[[3 3 3]\n",
      " [0 3 3]\n",
      " [0 0 0]] [[3 3 3]\n",
      " [0 0 3]\n",
      " [3 0 3]]\n",
      "[[ 0  3 -1]\n",
      " [ 3  3 -1]\n",
      " [ 0  3 -1]] [[ 0  3 -1]\n",
      " [ 0  3 -1]\n",
      " [ 0  3 -1]]\n",
      "[[-1  3  0]\n",
      " [-1  3  3]\n",
      " [-1  3  3]] [[-1  3  0]\n",
      " [-1  3  0]\n",
      " [-1  3  3]]\n",
      "[[0 3 0]\n",
      " [0 3 0]\n",
      " [3 3 3]] [[3 3 0]\n",
      " [0 0 0]\n",
      " [3 3 3]]\n",
      "[[ 0  3 -1]\n",
      " [ 0  3 -1]\n",
      " [ 3  3 -1]] [[ 0  3 -1]\n",
      " [ 0  3 -1]\n",
      " [ 0  3 -1]]\n",
      "[[-1  3  0]\n",
      " [-1  3  3]\n",
      " [-1 -1 -1]] [[-1  3  0]\n",
      " [-1  3  3]\n",
      " [-1 -1 -1]]\n",
      "[[ 3  0  0]\n",
      " [ 3  3  3]\n",
      " [-1 -1 -1]] [[ 3  0  0]\n",
      " [ 3  3  3]\n",
      " [-1 -1 -1]]\n",
      "[[ 0  0  0]\n",
      " [ 3  3  3]\n",
      " [-1 -1 -1]] [[ 0  0  0]\n",
      " [ 3  3  3]\n",
      " [-1 -1 -1]]\n",
      "[[ 0  3 -1]\n",
      " [ 0  3 -1]\n",
      " [-1 -1 -1]] [[ 0  3 -1]\n",
      " [ 3  3 -1]\n",
      " [-1 -1 -1]]\n"
     ]
    },
    {
     "data": {
      "image/png": "[encoded data removed]",
      "text/plain": [
       "<Figure size 432x288 with 1 Axes>"
      ]
     },
     "metadata": {
      "needs_background": "light"
     },
     "output_type": "display_data"
    },
    {
     "name": "stdout",
     "output_type": "stream",
     "text": [
      "[[-1 -1 -1]\n",
      " [-1  3  3]\n",
      " [-1  0  0]] [[-1 -1 -1]\n",
      " [-1  3  3]\n",
      " [-1  0  0]]\n",
      "[[-1 -1 -1]\n",
      " [ 3  3  3]\n",
      " [ 0  0  0]] [[-1 -1 -1]\n",
      " [ 3  3  3]\n",
      " [ 0  0  3]]\n",
      "[[-1 -1 -1]\n",
      " [ 3  3  3]\n",
      " [ 0  3  0]] [[-1 -1 -1]\n",
      " [ 3  3  3]\n",
      " [ 0  0  0]]\n",
      "[[-1 -1 -1]\n",
      " [ 3  3  3]\n",
      " [ 0  0  0]] [[-1 -1 -1]\n",
      " [ 3  3  3]\n",
      " [ 0  0  3]]\n",
      "[[-1 -1 -1]\n",
      " [ 3  3  3]\n",
      " [ 0  3  3]] [[-1 -1 -1]\n",
      " [ 3  3  3]\n",
      " [ 0  0  3]]\n",
      "[[-1 -1 -1]\n",
      " [ 3  3 -1]\n",
      " [ 0  3 -1]] [[-1 -1 -1]\n",
      " [ 3  3 -1]\n",
      " [ 0  3 -1]]\n",
      "[[ 3  3 -1]\n",
      " [ 0  3 -1]\n",
      " [ 0  3 -1]] [[ 3  3 -1]\n",
      " [ 0  3 -1]\n",
      " [ 0  3 -1]]\n",
      "[[-1  0  0]\n",
      " [-1  3  3]\n",
      " [-1  3  0]] [[-1  0  0]\n",
      " [-1  3  3]\n",
      " [-1  3  0]]\n",
      "[[0 0 0]\n",
      " [3 3 3]\n",
      " [3 0 3]] [[0 0 0]\n",
      " [3 3 3]\n",
      " [3 0 3]]\n",
      "[[0 0 0]\n",
      " [3 3 3]\n",
      " [0 3 3]] [[0 0 0]\n",
      " [3 3 3]\n",
      " [0 3 3]]\n",
      "[[0 0 0]\n",
      " [3 3 0]\n",
      " [3 3 0]] [[0 0 0]\n",
      " [3 3 0]\n",
      " [3 3 0]]\n",
      "[[ 0  3 -1]\n",
      " [ 0  3 -1]\n",
      " [ 0  3 -1]] [[ 0  3 -1]\n",
      " [ 0  3 -1]\n",
      " [ 3  3 -1]]\n",
      "[[-1  3  3]\n",
      " [-1  3  0]\n",
      " [-1  3  0]] [[-1  3  3]\n",
      " [-1  3  0]\n",
      " [-1  3  0]]\n",
      "[[3 3 3]\n",
      " [0 3 3]\n",
      " [0 0 0]] [[3 3 3]\n",
      " [0 0 3]\n",
      " [3 0 3]]\n",
      "[[ 0  3 -1]\n",
      " [ 3  3 -1]\n",
      " [ 0  3 -1]] [[ 0  3 -1]\n",
      " [ 0  3 -1]\n",
      " [ 0  3 -1]]\n",
      "[[-1  3  0]\n",
      " [-1  3  3]\n",
      " [-1  3  3]] [[-1  3  0]\n",
      " [-1  3  0]\n",
      " [-1  3  3]]\n",
      "[[0 3 0]\n",
      " [0 3 0]\n",
      " [3 3 3]] [[3 3 0]\n",
      " [0 0 0]\n",
      " [3 3 3]]\n",
      "[[ 0  3 -1]\n",
      " [ 0  3 -1]\n",
      " [ 3  3 -1]] [[ 0  3 -1]\n",
      " [ 0  3 -1]\n",
      " [ 0  3 -1]]\n",
      "[[-1  3  0]\n",
      " [-1  3  3]\n",
      " [-1 -1 -1]] [[-1  3  0]\n",
      " [-1  3  3]\n",
      " [-1 -1 -1]]\n",
      "[[ 3  0  0]\n",
      " [ 3  3  3]\n",
      " [-1 -1 -1]] [[ 3  0  0]\n",
      " [ 3  3  3]\n",
      " [-1 -1 -1]]\n",
      "[[ 0  0  0]\n",
      " [ 3  3  3]\n",
      " [-1 -1 -1]] [[ 0  0  0]\n",
      " [ 3  3  3]\n",
      " [-1 -1 -1]]\n",
      "[[ 0  3 -1]\n",
      " [ 0  3 -1]\n",
      " [-1 -1 -1]] [[ 0  3 -1]\n",
      " [ 3  3 -1]\n",
      " [-1 -1 -1]]\n"
     ]
    },
    {
     "data": {
      "image/png": "[encoded data removed]",
      "text/plain": [
       "<Figure size 432x288 with 1 Axes>"
      ]
     },
     "metadata": {
      "needs_background": "light"
     },
     "output_type": "display_data"
    },
    {
     "name": "stdout",
     "output_type": "stream",
     "text": [
      "[[-1 -1 -1]\n",
      " [-1  3  3]\n",
      " [-1  0  0]] [[-1 -1 -1]\n",
      " [-1  3  3]\n",
      " [-1  0  0]]\n",
      "[[-1 -1 -1]\n",
      " [ 3  3  3]\n",
      " [ 0  0  0]] [[-1 -1 -1]\n",
      " [ 3  3  3]\n",
      " [ 0  0  3]]\n",
      "[[-1 -1 -1]\n",
      " [ 3  3  3]\n",
      " [ 0  3  0]] [[-1 -1 -1]\n",
      " [ 3  3  3]\n",
      " [ 0  0  0]]\n",
      "[[-1 -1 -1]\n",
      " [ 3  3  3]\n",
      " [ 0  0  0]] [[-1 -1 -1]\n",
      " [ 3  3  3]\n",
      " [ 0  0  3]]\n",
      "[[-1 -1 -1]\n",
      " [ 3  3  3]\n",
      " [ 0  3  3]] [[-1 -1 -1]\n",
      " [ 3  3  3]\n",
      " [ 0  0  3]]\n",
      "[[-1 -1 -1]\n",
      " [ 3  3 -1]\n",
      " [ 0  3 -1]] [[-1 -1 -1]\n",
      " [ 3  3 -1]\n",
      " [ 0  3 -1]]\n",
      "[[ 3  3 -1]\n",
      " [ 0  3 -1]\n",
      " [ 0  3 -1]] [[ 3  3 -1]\n",
      " [ 0  3 -1]\n",
      " [ 0  3 -1]]\n",
      "[[-1  0  0]\n",
      " [-1  3  3]\n",
      " [-1  3  0]] [[-1  0  0]\n",
      " [-1  3  3]\n",
      " [-1  3  0]]\n",
      "[[0 0 0]\n",
      " [3 3 3]\n",
      " [3 0 3]] [[0 0 0]\n",
      " [3 3 3]\n",
      " [3 0 3]]\n",
      "[[0 0 0]\n",
      " [3 3 3]\n",
      " [0 3 3]] [[0 0 0]\n",
      " [3 3 3]\n",
      " [0 3 3]]\n",
      "[[0 0 0]\n",
      " [3 3 0]\n",
      " [3 3 0]] [[0 0 0]\n",
      " [3 3 0]\n",
      " [3 3 0]]\n",
      "[[ 0  3 -1]\n",
      " [ 0  3 -1]\n",
      " [ 0  3 -1]] [[ 0  3 -1]\n",
      " [ 0  3 -1]\n",
      " [ 3  3 -1]]\n",
      "[[-1  3  3]\n",
      " [-1  3  0]\n",
      " [-1  3  0]] [[-1  3  3]\n",
      " [-1  3  0]\n",
      " [-1  3  0]]\n",
      "[[3 3 3]\n",
      " [0 3 3]\n",
      " [0 0 0]] [[3 3 3]\n",
      " [0 0 3]\n",
      " [3 0 3]]\n",
      "[[ 0  3 -1]\n",
      " [ 3  3 -1]\n",
      " [ 0  3 -1]] [[ 0  3 -1]\n",
      " [ 0  3 -1]\n",
      " [ 0  3 -1]]\n",
      "[[-1  3  0]\n",
      " [-1  3  3]\n",
      " [-1  3  3]] [[-1  3  0]\n",
      " [-1  3  0]\n",
      " [-1  3  3]]\n",
      "[[0 3 0]\n",
      " [0 3 0]\n",
      " [3 3 3]] [[3 3 0]\n",
      " [0 0 0]\n",
      " [3 3 3]]\n",
      "[[ 0  3 -1]\n",
      " [ 0  3 -1]\n",
      " [ 3  3 -1]] [[ 0  3 -1]\n",
      " [ 0  3 -1]\n",
      " [ 0  3 -1]]\n",
      "[[-1  3  0]\n",
      " [-1  3  3]\n",
      " [-1 -1 -1]] [[-1  3  0]\n",
      " [-1  3  3]\n",
      " [-1 -1 -1]]\n",
      "[[ 3  0  0]\n",
      " [ 3  3  3]\n",
      " [-1 -1 -1]] [[ 3  0  0]\n",
      " [ 3  3  3]\n",
      " [-1 -1 -1]]\n",
      "[[ 0  0  0]\n",
      " [ 3  3  3]\n",
      " [-1 -1 -1]] [[ 0  0  0]\n",
      " [ 3  3  3]\n",
      " [-1 -1 -1]]\n",
      "[[ 0  3 -1]\n",
      " [ 0  3 -1]\n",
      " [-1 -1 -1]] [[ 0  3 -1]\n",
      " [ 3  3 -1]\n",
      " [-1 -1 -1]]\n"
     ]
    },
    {
     "data": {
      "image/png": "[encoded data removed]",
      "text/plain": [
       "<Figure size 432x288 with 1 Axes>"
      ]
     },
     "metadata": {
      "needs_background": "light"
     },
     "output_type": "display_data"
    },
    {
     "name": "stdout",
     "output_type": "stream",
     "text": [
      "[[-1 -1 -1]\n",
      " [-1  3  3]\n",
      " [-1  0  0]] [[-1 -1 -1]\n",
      " [-1  3  3]\n",
      " [-1  0  0]]\n",
      "[[-1 -1 -1]\n",
      " [ 3  3  3]\n",
      " [ 0  0  0]] [[-1 -1 -1]\n",
      " [ 3  3  3]\n",
      " [ 0  0  3]]\n",
      "[[-1 -1 -1]\n",
      " [ 3  3  3]\n",
      " [ 0  3  0]] [[-1 -1 -1]\n",
      " [ 3  3  3]\n",
      " [ 0  0  0]]\n",
      "[[-1 -1 -1]\n",
      " [ 3  3  3]\n",
      " [ 0  0  0]] [[-1 -1 -1]\n",
      " [ 3  3  3]\n",
      " [ 0  0  3]]\n",
      "[[-1 -1 -1]\n",
      " [ 3  3  3]\n",
      " [ 0  3  3]] [[-1 -1 -1]\n",
      " [ 3  3  3]\n",
      " [ 0  0  3]]\n",
      "[[-1 -1 -1]\n",
      " [ 3  3 -1]\n",
      " [ 0  3 -1]] [[-1 -1 -1]\n",
      " [ 3  3 -1]\n",
      " [ 0  3 -1]]\n",
      "[[ 3  3 -1]\n",
      " [ 0  3 -1]\n",
      " [ 0  3 -1]] [[ 3  3 -1]\n",
      " [ 0  3 -1]\n",
      " [ 0  3 -1]]\n",
      "[[-1  0  0]\n",
      " [-1  3  3]\n",
      " [-1  3  0]] [[-1  0  0]\n",
      " [-1  3  3]\n",
      " [-1  3  0]]\n",
      "[[0 0 0]\n",
      " [3 3 3]\n",
      " [3 0 3]] [[0 0 0]\n",
      " [3 3 3]\n",
      " [3 0 3]]\n",
      "[[0 0 0]\n",
      " [3 3 3]\n",
      " [0 3 3]] [[0 0 0]\n",
      " [3 3 3]\n",
      " [0 3 3]]\n",
      "[[0 0 0]\n",
      " [3 3 0]\n",
      " [3 3 0]] [[0 0 0]\n",
      " [3 3 0]\n",
      " [3 3 0]]\n",
      "[[ 0  3 -1]\n",
      " [ 0  3 -1]\n",
      " [ 0  3 -1]] [[ 0  3 -1]\n",
      " [ 0  3 -1]\n",
      " [ 3  3 -1]]\n",
      "[[-1  3  3]\n",
      " [-1  3  0]\n",
      " [-1  3  0]] [[-1  3  3]\n",
      " [-1  3  0]\n",
      " [-1  3  0]]\n",
      "[[3 3 3]\n",
      " [0 3 3]\n",
      " [0 0 0]] [[3 3 3]\n",
      " [0 0 3]\n",
      " [3 0 3]]\n",
      "[[ 0  3 -1]\n",
      " [ 3  3 -1]\n",
      " [ 0  3 -1]] [[ 0  3 -1]\n",
      " [ 0  3 -1]\n",
      " [ 0  3 -1]]\n",
      "[[-1  3  0]\n",
      " [-1  3  3]\n",
      " [-1  3  3]] [[-1  3  0]\n",
      " [-1  3  0]\n",
      " [-1  3  3]]\n",
      "[[0 3 0]\n",
      " [0 3 0]\n",
      " [3 3 3]] [[3 3 0]\n",
      " [0 0 0]\n",
      " [3 3 3]]\n",
      "[[ 0  3 -1]\n",
      " [ 0  3 -1]\n",
      " [ 3  3 -1]] [[ 0  3 -1]\n",
      " [ 0  3 -1]\n",
      " [ 0  3 -1]]\n",
      "[[-1  3  0]\n",
      " [-1  3  3]\n",
      " [-1 -1 -1]] [[-1  3  0]\n",
      " [-1  3  3]\n",
      " [-1 -1 -1]]\n",
      "[[ 3  0  0]\n",
      " [ 3  3  3]\n",
      " [-1 -1 -1]] [[ 3  0  0]\n",
      " [ 3  3  3]\n",
      " [-1 -1 -1]]\n",
      "[[ 0  0  0]\n",
      " [ 3  3  3]\n",
      " [-1 -1 -1]] [[ 0  0  0]\n",
      " [ 3  3  3]\n",
      " [-1 -1 -1]]\n",
      "[[ 0  3 -1]\n",
      " [ 0  3 -1]\n",
      " [-1 -1 -1]] [[ 0  3 -1]\n",
      " [ 3  3 -1]\n",
      " [-1 -1 -1]]\n"
     ]
    },
    {
     "data": {
      "image/png": "[encoded data removed]",
      "text/plain": [
       "<Figure size 432x288 with 1 Axes>"
      ]
     },
     "metadata": {
      "needs_background": "light"
     },
     "output_type": "display_data"
    },
    {
     "name": "stdout",
     "output_type": "stream",
     "text": [
      "[[-1 -1 -1]\n",
      " [-1  3  3]\n",
      " [-1  0  0]] [[-1 -1 -1]\n",
      " [-1  3  3]\n",
      " [-1  0  0]]\n",
      "[[-1 -1 -1]\n",
      " [ 3  3  3]\n",
      " [ 0  0  0]] [[-1 -1 -1]\n",
      " [ 3  3  3]\n",
      " [ 0  0  3]]\n",
      "[[-1 -1 -1]\n",
      " [ 3  3  3]\n",
      " [ 0  3  0]] [[-1 -1 -1]\n",
      " [ 3  3  3]\n",
      " [ 0  0  0]]\n",
      "[[-1 -1 -1]\n",
      " [ 3  3  3]\n",
      " [ 0  0  0]] [[-1 -1 -1]\n",
      " [ 3  3  3]\n",
      " [ 0  0  3]]\n",
      "[[-1 -1 -1]\n",
      " [ 3  3  3]\n",
      " [ 0  3  3]] [[-1 -1 -1]\n",
      " [ 3  3  3]\n",
      " [ 0  0  3]]\n",
      "[[-1 -1 -1]\n",
      " [ 3  3 -1]\n",
      " [ 0  3 -1]] [[-1 -1 -1]\n",
      " [ 3  3 -1]\n",
      " [ 0  3 -1]]\n",
      "[[ 3  3 -1]\n",
      " [ 0  3 -1]\n",
      " [ 0  3 -1]] [[ 3  3 -1]\n",
      " [ 0  3 -1]\n",
      " [ 0  3 -1]]\n",
      "[[-1  0  0]\n",
      " [-1  3  3]\n",
      " [-1  3  0]] [[-1  0  0]\n",
      " [-1  3  3]\n",
      " [-1  3  0]]\n",
      "[[0 0 0]\n",
      " [3 3 3]\n",
      " [3 0 3]] [[0 0 0]\n",
      " [3 3 3]\n",
      " [3 0 3]]\n",
      "[[0 0 0]\n",
      " [3 3 3]\n",
      " [0 3 3]] [[0 0 0]\n",
      " [3 3 3]\n",
      " [0 3 3]]\n",
      "[[0 0 0]\n",
      " [3 3 0]\n",
      " [3 3 0]] [[0 0 0]\n",
      " [3 3 0]\n",
      " [3 3 0]]\n",
      "[[ 0  3 -1]\n",
      " [ 0  3 -1]\n",
      " [ 0  3 -1]] [[ 0  3 -1]\n",
      " [ 0  3 -1]\n",
      " [ 3  3 -1]]\n",
      "[[-1  3  3]\n",
      " [-1  3  0]\n",
      " [-1  3  0]] [[-1  3  3]\n",
      " [-1  3  0]\n",
      " [-1  3  0]]\n",
      "[[3 3 3]\n",
      " [0 3 3]\n",
      " [0 0 0]] [[3 3 3]\n",
      " [0 0 3]\n",
      " [3 0 3]]\n",
      "[[ 0  3 -1]\n",
      " [ 3  3 -1]\n",
      " [ 0  3 -1]] [[ 0  3 -1]\n",
      " [ 0  3 -1]\n",
      " [ 0  3 -1]]\n",
      "[[-1  3  0]\n",
      " [-1  3  3]\n",
      " [-1  3  3]] [[-1  3  0]\n",
      " [-1  3  0]\n",
      " [-1  3  3]]\n",
      "[[0 3 0]\n",
      " [0 3 0]\n",
      " [3 3 3]] [[3 3 0]\n",
      " [0 0 0]\n",
      " [3 3 3]]\n",
      "[[ 0  3 -1]\n",
      " [ 0  3 -1]\n",
      " [ 3  3 -1]] [[ 0  3 -1]\n",
      " [ 0  3 -1]\n",
      " [ 0  3 -1]]\n",
      "[[-1  3  0]\n",
      " [-1  3  3]\n",
      " [-1 -1 -1]] [[-1  3  0]\n",
      " [-1  3  3]\n",
      " [-1 -1 -1]]\n",
      "[[ 3  0  0]\n",
      " [ 3  3  3]\n",
      " [-1 -1 -1]] [[ 3  0  0]\n",
      " [ 3  3  3]\n",
      " [-1 -1 -1]]\n",
      "[[ 0  0  0]\n",
      " [ 3  3  3]\n",
      " [-1 -1 -1]] [[ 0  0  0]\n",
      " [ 3  3  3]\n",
      " [-1 -1 -1]]\n",
      "[[ 0  3 -1]\n",
      " [ 0  3 -1]\n",
      " [-1 -1 -1]] [[ 0  3 -1]\n",
      " [ 3  3 -1]\n",
      " [-1 -1 -1]]\n"
     ]
    },
    {
     "data": {
      "image/png": "[encoded data removed]",
      "text/plain": [
       "<Figure size 432x288 with 1 Axes>"
      ]
     },
     "metadata": {
      "needs_background": "light"
     },
     "output_type": "display_data"
    },
    {
     "name": "stdout",
     "output_type": "stream",
     "text": [
      "[[-1 -1 -1]\n",
      " [-1  3  3]\n",
      " [-1  0  0]] [[-1 -1 -1]\n",
      " [-1  3  3]\n",
      " [-1  0  0]]\n",
      "[[-1 -1 -1]\n",
      " [ 3  3  3]\n",
      " [ 0  0  0]] [[-1 -1 -1]\n",
      " [ 3  3  3]\n",
      " [ 0  0  3]]\n",
      "[[-1 -1 -1]\n",
      " [ 3  3  3]\n",
      " [ 0  3  0]] [[-1 -1 -1]\n",
      " [ 3  3  3]\n",
      " [ 0  0  0]]\n",
      "[[-1 -1 -1]\n",
      " [ 3  3  3]\n",
      " [ 0  0  0]] [[-1 -1 -1]\n",
      " [ 3  3  3]\n",
      " [ 0  0  3]]\n",
      "[[-1 -1 -1]\n",
      " [ 3  3  3]\n",
      " [ 0  3  3]] [[-1 -1 -1]\n",
      " [ 3  3  3]\n",
      " [ 0  0  3]]\n",
      "[[-1 -1 -1]\n",
      " [ 3  3 -1]\n",
      " [ 0  3 -1]] [[-1 -1 -1]\n",
      " [ 3  3 -1]\n",
      " [ 0  3 -1]]\n",
      "[[ 3  3 -1]\n",
      " [ 0  3 -1]\n",
      " [ 0  3 -1]] [[ 3  3 -1]\n",
      " [ 0  3 -1]\n",
      " [ 0  3 -1]]\n",
      "[[-1  0  0]\n",
      " [-1  3  3]\n",
      " [-1  3  0]] [[-1  0  0]\n",
      " [-1  3  3]\n",
      " [-1  3  0]]\n",
      "[[0 0 0]\n",
      " [3 3 3]\n",
      " [3 0 3]] [[0 0 0]\n",
      " [3 3 3]\n",
      " [3 0 3]]\n",
      "[[0 0 0]\n",
      " [3 3 3]\n",
      " [0 3 3]] [[0 0 0]\n",
      " [3 3 3]\n",
      " [0 3 3]]\n",
      "[[0 0 0]\n",
      " [3 3 0]\n",
      " [3 3 0]] [[0 0 0]\n",
      " [3 3 0]\n",
      " [3 3 0]]\n",
      "[[ 0  3 -1]\n",
      " [ 0  3 -1]\n",
      " [ 0  3 -1]] [[ 0  3 -1]\n",
      " [ 0  3 -1]\n",
      " [ 3  3 -1]]\n",
      "[[-1  3  3]\n",
      " [-1  3  0]\n",
      " [-1  3  0]] [[-1  3  3]\n",
      " [-1  3  0]\n",
      " [-1  3  0]]\n",
      "[[3 3 3]\n",
      " [0 3 3]\n",
      " [0 0 0]] [[3 3 3]\n",
      " [0 0 3]\n",
      " [3 0 3]]\n",
      "[[ 0  3 -1]\n",
      " [ 3  3 -1]\n",
      " [ 0  3 -1]] [[ 0  3 -1]\n",
      " [ 0  3 -1]\n",
      " [ 0  3 -1]]\n",
      "[[-1  3  0]\n",
      " [-1  3  3]\n",
      " [-1  3  3]] [[-1  3  0]\n",
      " [-1  3  0]\n",
      " [-1  3  3]]\n",
      "[[0 3 0]\n",
      " [0 3 0]\n",
      " [3 3 3]] [[3 3 0]\n",
      " [0 0 0]\n",
      " [3 3 3]]\n",
      "[[ 0  3 -1]\n",
      " [ 0  3 -1]\n",
      " [ 3  3 -1]] [[ 0  3 -1]\n",
      " [ 0  3 -1]\n",
      " [ 0  3 -1]]\n",
      "[[-1  3  0]\n",
      " [-1  3  3]\n",
      " [-1 -1 -1]] [[-1  3  0]\n",
      " [-1  3  3]\n",
      " [-1 -1 -1]]\n",
      "[[ 3  0  0]\n",
      " [ 3  3  3]\n",
      " [-1 -1 -1]] [[ 3  0  0]\n",
      " [ 3  3  3]\n",
      " [-1 -1 -1]]\n",
      "[[ 0  0  0]\n",
      " [ 3  3  3]\n",
      " [-1 -1 -1]] [[ 0  0  0]\n",
      " [ 3  3  3]\n",
      " [-1 -1 -1]]\n",
      "[[ 0  3 -1]\n",
      " [ 0  3 -1]\n",
      " [-1 -1 -1]] [[ 0  3 -1]\n",
      " [ 3  3 -1]\n",
      " [-1 -1 -1]]\n"
     ]
    },
    {
     "data": {
      "image/png": "[encoded data removed]",
      "text/plain": [
       "<Figure size 432x288 with 1 Axes>"
      ]
     },
     "metadata": {
      "needs_background": "light"
     },
     "output_type": "display_data"
    },
    {
     "name": "stdout",
     "output_type": "stream",
     "text": [
      "[[-1 -1 -1]\n",
      " [-1  3  3]\n",
      " [-1  0  0]] [[-1 -1 -1]\n",
      " [-1  3  3]\n",
      " [-1  0  0]]\n",
      "[[-1 -1 -1]\n",
      " [ 3  3  3]\n",
      " [ 0  0  0]] [[-1 -1 -1]\n",
      " [ 3  3  3]\n",
      " [ 0  0  3]]\n",
      "[[-1 -1 -1]\n",
      " [ 3  3  3]\n",
      " [ 0  3  0]] [[-1 -1 -1]\n",
      " [ 3  3  3]\n",
      " [ 0  0  0]]\n",
      "[[-1 -1 -1]\n",
      " [ 3  3  3]\n",
      " [ 0  0  0]] [[-1 -1 -1]\n",
      " [ 3  3  3]\n",
      " [ 0  0  3]]\n",
      "[[-1 -1 -1]\n",
      " [ 3  3  3]\n",
      " [ 0  3  3]] [[-1 -1 -1]\n",
      " [ 3  3  3]\n",
      " [ 0  0  3]]\n",
      "[[-1 -1 -1]\n",
      " [ 3  3 -1]\n",
      " [ 0  3 -1]] [[-1 -1 -1]\n",
      " [ 3  3 -1]\n",
      " [ 0  3 -1]]\n",
      "[[ 3  3 -1]\n",
      " [ 0  3 -1]\n",
      " [ 0  3 -1]] [[ 3  3 -1]\n",
      " [ 0  3 -1]\n",
      " [ 0  3 -1]]\n",
      "[[-1  0  0]\n",
      " [-1  3  3]\n",
      " [-1  3  0]] [[-1  0  0]\n",
      " [-1  3  3]\n",
      " [-1  3  0]]\n",
      "[[0 0 0]\n",
      " [3 3 3]\n",
      " [3 0 3]] [[0 0 0]\n",
      " [3 3 3]\n",
      " [3 0 3]]\n",
      "[[0 0 0]\n",
      " [3 3 3]\n",
      " [0 3 3]] [[0 0 0]\n",
      " [3 3 3]\n",
      " [0 3 3]]\n",
      "[[0 0 0]\n",
      " [3 3 0]\n",
      " [3 3 0]] [[0 0 0]\n",
      " [3 3 0]\n",
      " [3 3 0]]\n",
      "[[ 0  3 -1]\n",
      " [ 0  3 -1]\n",
      " [ 0  3 -1]] [[ 0  3 -1]\n",
      " [ 0  3 -1]\n",
      " [ 3  3 -1]]\n",
      "[[-1  3  3]\n",
      " [-1  3  0]\n",
      " [-1  3  0]] [[-1  3  3]\n",
      " [-1  3  0]\n",
      " [-1  3  0]]\n",
      "[[3 3 3]\n",
      " [0 3 3]\n",
      " [0 0 0]] [[3 3 3]\n",
      " [0 0 3]\n",
      " [3 0 3]]\n",
      "[[ 0  3 -1]\n",
      " [ 3  3 -1]\n",
      " [ 0  3 -1]] [[ 0  3 -1]\n",
      " [ 0  3 -1]\n",
      " [ 0  3 -1]]\n",
      "[[-1  3  0]\n",
      " [-1  3  3]\n",
      " [-1  3  3]] [[-1  3  0]\n",
      " [-1  3  0]\n",
      " [-1  3  3]]\n",
      "[[0 3 0]\n",
      " [0 3 0]\n",
      " [3 3 3]] [[3 3 0]\n",
      " [0 0 0]\n",
      " [3 3 3]]\n",
      "[[ 0  3 -1]\n",
      " [ 0  3 -1]\n",
      " [ 3  3 -1]] [[ 0  3 -1]\n",
      " [ 0  3 -1]\n",
      " [ 0  3 -1]]\n",
      "[[-1  3  0]\n",
      " [-1  3  3]\n",
      " [-1 -1 -1]] [[-1  3  0]\n",
      " [-1  3  3]\n",
      " [-1 -1 -1]]\n",
      "[[ 3  0  0]\n",
      " [ 3  3  3]\n",
      " [-1 -1 -1]] [[ 3  0  0]\n",
      " [ 3  3  3]\n",
      " [-1 -1 -1]]\n",
      "[[ 0  0  0]\n",
      " [ 3  3  3]\n",
      " [-1 -1 -1]] [[ 0  0  0]\n",
      " [ 3  3  3]\n",
      " [-1 -1 -1]]\n",
      "[[ 0  3 -1]\n",
      " [ 0  3 -1]\n",
      " [-1 -1 -1]] [[ 0  3 -1]\n",
      " [ 3  3 -1]\n",
      " [-1 -1 -1]]\n"
     ]
    },
    {
     "data": {
      "image/png": "[encoded data removed]",
      "text/plain": [
       "<Figure size 432x288 with 1 Axes>"
      ]
     },
     "metadata": {
      "needs_background": "light"
     },
     "output_type": "display_data"
    },
    {
     "data": {
      "text/plain": [
       "{'[[-1 -1 -1]\\n [-1  3  3]\\n [-1  0  0]]': array([[-1, -1, -1],\n",
       "        [-1,  3,  3],\n",
       "        [-1,  0,  0]]),\n",
       " '[[-1 -1 -1]\\n [ 3  3  3]\\n [ 0  0  0]]': array([[-1, -1, -1],\n",
       "        [ 3,  3,  3],\n",
       "        [ 0,  0,  3]]),\n",
       " '[[-1 -1 -1]\\n [ 3  3  3]\\n [ 0  0  3]]': array([[-1, -1, -1],\n",
       "        [ 3,  3,  3],\n",
       "        [ 0,  0,  3]]),\n",
       " '[[-1 -1 -1]\\n [ 3  3 -1]\\n [ 0  3 -1]]': array([[-1, -1, -1],\n",
       "        [ 3,  3, -1],\n",
       "        [ 0,  3, -1]]),\n",
       " '[[ 3  3 -1]\\n [ 0  3 -1]\\n [ 0  3 -1]]': array([[ 3,  3, -1],\n",
       "        [ 0,  3, -1],\n",
       "        [ 0,  3, -1]]),\n",
       " '[[-1  0  0]\\n [-1  3  3]\\n [-1  3  0]]': array([[-1,  0,  0],\n",
       "        [-1,  3,  3],\n",
       "        [-1,  3,  0]]),\n",
       " '[[0 0 0]\\n [3 3 3]\\n [3 0 3]]': array([[0, 0, 0],\n",
       "        [3, 3, 3],\n",
       "        [3, 0, 3]]),\n",
       " '[[0 0 0]\\n [3 3 3]\\n [0 3 3]]': array([[0, 0, 0],\n",
       "        [3, 3, 3],\n",
       "        [0, 3, 3]]),\n",
       " '[[0 0 0]\\n [3 3 0]\\n [3 3 0]]': array([[0, 0, 0],\n",
       "        [3, 3, 0],\n",
       "        [3, 3, 0]]),\n",
       " '[[ 0  3 -1]\\n [ 0  3 -1]\\n [ 0  3 -1]]': array([[ 0,  3, -1],\n",
       "        [ 0,  3, -1],\n",
       "        [ 3,  3, -1]]),\n",
       " '[[-1  3  3]\\n [-1  3  0]\\n [-1  3  0]]': array([[-1,  3,  3],\n",
       "        [-1,  3,  0],\n",
       "        [-1,  3,  0]]),\n",
       " '[[3 3 3]\\n [0 3 3]\\n [0 0 0]]': array([[3, 3, 3],\n",
       "        [0, 0, 3],\n",
       "        [3, 0, 3]]),\n",
       " '[[3 3 0]\\n [3 3 0]\\n [0 0 0]]': array([[3, 3, 0],\n",
       "        [3, 3, 0],\n",
       "        [0, 0, 0]]),\n",
       " '[[-1  3  0]\\n [-1  3  0]\\n [-1  3  3]]': array([[-1,  3,  0],\n",
       "        [-1,  3,  0],\n",
       "        [-1,  3,  3]]),\n",
       " '[[ 0  3 -1]\\n [ 0  3 -1]\\n [ 3  3 -1]]': array([[ 0,  3, -1],\n",
       "        [ 0,  3, -1],\n",
       "        [ 0,  3, -1]]),\n",
       " '[[-1  3  0]\\n [-1  3  3]\\n [-1 -1 -1]]': array([[-1,  3,  0],\n",
       "        [-1,  3,  3],\n",
       "        [-1, -1, -1]]),\n",
       " '[[ 3  0  0]\\n [ 3  3  3]\\n [-1 -1 -1]]': array([[ 3,  0,  0],\n",
       "        [ 3,  3,  3],\n",
       "        [-1, -1, -1]]),\n",
       " '[[ 0  0  0]\\n [ 3  3  3]\\n [-1 -1 -1]]': array([[ 0,  0,  0],\n",
       "        [ 3,  3,  3],\n",
       "        [-1, -1, -1]]),\n",
       " '[[ 0  0  3]\\n [ 3  3  3]\\n [-1 -1 -1]]': array([[ 0,  0,  3],\n",
       "        [ 3,  3,  3],\n",
       "        [-1, -1, -1]]),\n",
       " '[[ 0  3 -1]\\n [ 3  3 -1]\\n [-1 -1 -1]]': array([[ 0,  3, -1],\n",
       "        [ 3,  3, -1],\n",
       "        [-1, -1, -1]]),\n",
       " '[[-1  3  3]\\n [-1  3  0]\\n [-1  3  3]]': array([[-1,  3,  3],\n",
       "        [-1,  3,  0],\n",
       "        [-1,  3,  0]]),\n",
       " '[[3 3 3]\\n [0 3 3]\\n [3 0 0]]': array([[3, 3, 3],\n",
       "        [0, 3, 3],\n",
       "        [0, 0, 0]]),\n",
       " '[[-1  3  0]\\n [-1  3  3]\\n [-1  3  3]]': array([[-1,  3,  0],\n",
       "        [-1,  3,  0],\n",
       "        [-1,  3,  3]]),\n",
       " '[[3 0 3]\\n [3 3 0]\\n [3 3 3]]': array([[3, 0, 3],\n",
       "        [3, 0, 0],\n",
       "        [3, 3, 3]]),\n",
       " '[[-1  3  3]\\n [-1  3  3]\\n [-1 -1 -1]]': array([[-1,  3,  0],\n",
       "        [-1,  3,  3],\n",
       "        [-1, -1, -1]]),\n",
       " '[[ 3  3  0]\\n [ 3  3  3]\\n [-1 -1 -1]]': array([[ 3,  0,  0],\n",
       "        [ 3,  3,  3],\n",
       "        [-1, -1, -1]]),\n",
       " '[[3 3 3]\\n [0 3 3]\\n [0 0 3]]': array([[3, 3, 3],\n",
       "        [0, 3, 3],\n",
       "        [0, 0, 0]]),\n",
       " '[[3 3 0]\\n [3 3 0]\\n [0 3 0]]': array([[3, 3, 0],\n",
       "        [3, 3, 0],\n",
       "        [0, 0, 0]]),\n",
       " '[[-1  3  0]\\n [-1  3  0]\\n [-1  0  3]]': array([[-1,  3,  0],\n",
       "        [-1,  3,  0],\n",
       "        [-1,  3,  3]]),\n",
       " '[[3 3 0]\\n [0 3 0]\\n [3 3 3]]': array([[3, 3, 0],\n",
       "        [0, 0, 0],\n",
       "        [3, 3, 3]]),\n",
       " '[[ 3  0  0]\\n [ 0  3  3]\\n [-1 -1 -1]]': array([[ 3,  0,  0],\n",
       "        [ 3,  3,  3],\n",
       "        [-1, -1, -1]]),\n",
       " '[[ 0  3  0]\\n [ 3  3  3]\\n [-1 -1 -1]]': array([[ 0,  0,  0],\n",
       "        [ 3,  3,  3],\n",
       "        [-1, -1, -1]]),\n",
       " '[[ 3  0  3]\\n [ 3  3  3]\\n [-1 -1 -1]]': array([[ 0,  0,  3],\n",
       "        [ 3,  3,  3],\n",
       "        [-1, -1, -1]]),\n",
       " '[[0 0 0]\\n [3 3 3]\\n [3 0 0]]': array([[0, 0, 0],\n",
       "        [3, 3, 3],\n",
       "        [3, 0, 3]]),\n",
       " '[[0 0 0]\\n [3 3 3]\\n [0 0 3]]': array([[0, 0, 0],\n",
       "        [3, 3, 3],\n",
       "        [0, 3, 3]]),\n",
       " '[[0 0 0]\\n [3 3 0]\\n [0 3 0]]': array([[0, 0, 0],\n",
       "        [3, 3, 0],\n",
       "        [3, 3, 0]]),\n",
       " '[[-1  3  3]\\n [-1  3  0]\\n [-1  0  0]]': array([[-1,  3,  3],\n",
       "        [-1,  3,  0],\n",
       "        [-1,  3,  0]]),\n",
       " '[[3 3 0]\\n [0 3 0]\\n [0 3 0]]': array([[3, 3, 0],\n",
       "        [3, 3, 0],\n",
       "        [0, 0, 0]]),\n",
       " '[[0 3 0]\\n [0 3 0]\\n [3 3 3]]': array([[3, 3, 0],\n",
       "        [0, 0, 0],\n",
       "        [3, 3, 3]]),\n",
       " '[[ 0  0  0]\\n [ 0  3  3]\\n [-1 -1 -1]]': array([[ 0,  0,  0],\n",
       "        [ 3,  3,  3],\n",
       "        [-1, -1, -1]]),\n",
       " '[[0 0 0]\\n [0 3 3]\\n [0 0 3]]': array([[0, 0, 0],\n",
       "        [3, 3, 3],\n",
       "        [3, 0, 3]]),\n",
       " '[[0 0 0]\\n [0 3 3]\\n [0 3 3]]': array([[0, 0, 0],\n",
       "        [3, 3, 3],\n",
       "        [0, 3, 3]]),\n",
       " '[[0 3 3]\\n [0 3 3]\\n [0 0 3]]': array([[3, 3, 3],\n",
       "        [0, 3, 3],\n",
       "        [0, 0, 0]]),\n",
       " '[[3 3 0]\\n [0 3 0]\\n [0 0 3]]': array([[3, 3, 0],\n",
       "        [0, 0, 0],\n",
       "        [3, 3, 3]]),\n",
       " '[[ 3  0  3]\\n [ 0  3  3]\\n [-1 -1 -1]]': array([[ 0,  0,  3],\n",
       "        [ 3,  3,  3],\n",
       "        [-1, -1, -1]]),\n",
       " '[[0 0 0]\\n [0 3 0]\\n [0 0 0]]': array([[0, 0, 0],\n",
       "        [3, 3, 0],\n",
       "        [3, 3, 0]]),\n",
       " '[[0 0 0]\\n [0 3 0]\\n [0 0 3]]': array([[3, 3, 0],\n",
       "        [0, 0, 0],\n",
       "        [3, 3, 3]]),\n",
       " '[[0 0 3]\\n [0 3 3]\\n [0 3 3]]': array([[3, 0, 3],\n",
       "        [0, 0, 3],\n",
       "        [3, 3, 3]]),\n",
       " '[[ 0  3 -1]\\n [ 3  3 -1]\\n [ 3  3 -1]]': array([[ 0,  3, -1],\n",
       "        [ 0,  3, -1],\n",
       "        [ 3,  3, -1]]),\n",
       " '[[ 0  3  3]\\n [ 0  3  3]\\n [-1 -1 -1]]': array([[ 0,  0,  3],\n",
       "        [ 3,  3,  3],\n",
       "        [-1, -1, -1]]),\n",
       " '[[ 3  3 -1]\\n [ 3  3 -1]\\n [-1 -1 -1]]': array([[ 0,  3, -1],\n",
       "        [ 3,  3, -1],\n",
       "        [-1, -1, -1]]),\n",
       " '[[0 0 3]\\n [0 3 3]\\n [0 0 3]]': array([[3, 0, 3],\n",
       "        [3, 0, 3],\n",
       "        [0, 0, 3]]),\n",
       " '[[ 0  3 -1]\\n [ 3  3 -1]\\n [ 0  3 -1]]': array([[ 0,  3, -1],\n",
       "        [ 0,  3, -1],\n",
       "        [ 0,  3, -1]]),\n",
       " '[[ 3  3 -1]\\n [ 0  3 -1]\\n [ 3  3 -1]]': array([[ 0,  3, -1],\n",
       "        [ 0,  3, -1],\n",
       "        [ 3,  3, -1]]),\n",
       " '[[ 0  0  3]\\n [ 0  3  3]\\n [-1 -1 -1]]': array([[ 0,  0,  3],\n",
       "        [ 3,  3,  3],\n",
       "        [-1, -1, -1]]),\n",
       " '[[ 0  3 -1]\\n [ 0  3 -1]\\n [-1 -1 -1]]': array([[ 0,  3, -1],\n",
       "        [ 3,  3, -1],\n",
       "        [-1, -1, -1]]),\n",
       " '[[ 0  3 -1]\\n [ 0  3 -1]\\n [ 0  0 -1]]': array([[ 0,  3, -1],\n",
       "        [ 0,  3, -1],\n",
       "        [ 0,  3, -1]]),\n",
       " '[[-1 -1 -1]\\n [ 3  3  3]\\n [ 0  3  3]]': array([[-1, -1, -1],\n",
       "        [ 3,  3,  3],\n",
       "        [ 0,  0,  3]]),\n",
       " '[[-1 -1 -1]\\n [ 3  3 -1]\\n [ 3  3 -1]]': array([[-1, -1, -1],\n",
       "        [ 3,  3, -1],\n",
       "        [ 0,  3, -1]]),\n",
       " '[[ 3  3 -1]\\n [ 3  3 -1]\\n [ 0  0 -1]]': array([[ 3,  3, -1],\n",
       "        [ 0,  3, -1],\n",
       "        [ 0,  3, -1]]),\n",
       " '[[-1 -1 -1]\\n [ 3  3  3]\\n [ 0  3  0]]': array([[-1, -1, -1],\n",
       "        [ 3,  3,  3],\n",
       "        [ 0,  0,  0]]),\n",
       " '[[-1 -1 -1]\\n [ 3  3  3]\\n [ 3  0  0]]': array([[-1, -1, -1],\n",
       "        [ 3,  3,  3],\n",
       "        [ 0,  0,  0]]),\n",
       " '[[3 3 3]\\n [0 3 0]\\n [0 0 0]]': array([[3, 3, 3],\n",
       "        [0, 0, 0],\n",
       "        [3, 3, 3]]),\n",
       " '[[ 3  3 -1]\\n [ 0  3 -1]\\n [ 0  0 -1]]': array([[ 3,  3, -1],\n",
       "        [ 0,  3, -1],\n",
       "        [ 0,  3, -1]]),\n",
       " '[[-1 -1 -1]\\n [ 3  3 -1]\\n [ 0  0 -1]]': array([[-1, -1, -1],\n",
       "        [ 3,  3, -1],\n",
       "        [ 0,  3, -1]]),\n",
       " '[[-1 -1 -1]\\n [ 3  3  0]\\n [ 0  0  0]]': array([[-1, -1, -1],\n",
       "        [ 3,  3,  3],\n",
       "        [ 0,  0,  0]]),\n",
       " '[[-1 -1 -1]\\n [-1  3  0]\\n [-1  0  0]]': array([[-1, -1, -1],\n",
       "        [-1,  3,  3],\n",
       "        [-1,  0,  0]])}"
      ]
     },
     "execution_count": 352,
     "metadata": {},
     "output_type": "execute_result"
    }
   ],
   "source": [
    "findmodemap(A,B)"
   ]
  },
  {
   "cell_type": "code",
   "execution_count": null,
   "metadata": {},
   "outputs": [],
   "source": []
  },
  {
   "cell_type": "code",
   "execution_count": null,
   "metadata": {},
   "outputs": [],
   "source": []
  },
  {
   "cell_type": "code",
   "execution_count": null,
   "metadata": {},
   "outputs": [],
   "source": []
  },
  {
   "cell_type": "code",
   "execution_count": null,
   "metadata": {},
   "outputs": [],
   "source": []
  },
  {
   "cell_type": "code",
   "execution_count": 153,
   "metadata": {},
   "outputs": [
    {
     "data": {
      "text/plain": [
       "array([[-1, -1, -1, -1, -1, -1, -1, -1, -1, -1, -1, -1, -1, -1, -1, -1,\n",
       "        -1],\n",
       "       [-1,  0,  0,  0,  0,  0,  0,  0,  0,  0,  0,  0,  0,  0,  0,  0,\n",
       "        -1],\n",
       "       [-1,  0,  0,  0,  0,  0,  0,  0,  0,  0,  0,  0,  0,  0,  0,  0,\n",
       "        -1],\n",
       "       [-1,  0,  0,  0,  0,  0,  0,  0,  0,  0,  0,  0,  0,  0,  0,  0,\n",
       "        -1],\n",
       "       [-1,  0,  0,  0,  0,  0,  0,  0,  0,  0,  0,  0,  0,  0,  0,  0,\n",
       "        -1],\n",
       "       [-1,  0,  0,  0,  0,  0,  0,  0,  0,  0,  0,  0,  0,  0,  0,  0,\n",
       "        -1],\n",
       "       [-1,  0,  0,  0,  0,  0,  0,  0,  0,  0,  0,  0,  7,  0,  0,  0,\n",
       "        -1],\n",
       "       [-1,  0,  0,  0,  0,  0,  0,  0,  0,  0,  0,  0,  0,  0,  0,  0,\n",
       "        -1],\n",
       "       [-1,  0,  0,  0,  0,  0,  0,  0,  0,  0,  0,  0,  0,  0,  0,  0,\n",
       "        -1],\n",
       "       [-1,  0,  0,  0,  0,  0,  0,  0,  0,  0,  0,  0,  0,  0,  0,  0,\n",
       "        -1],\n",
       "       [-1,  0,  0,  0,  0,  0,  0,  0,  0,  0,  0,  0,  0,  0,  0,  0,\n",
       "        -1],\n",
       "       [-1,  0,  0,  0,  0,  0,  0,  0,  0,  0,  0,  0,  0,  0,  0,  0,\n",
       "        -1],\n",
       "       [-1,  0,  0,  0,  0,  0,  0,  0,  0,  0,  0,  0,  0,  0,  0,  0,\n",
       "        -1],\n",
       "       [-1,  0,  0,  0,  0,  0,  0,  0,  0,  0,  0,  0,  0,  0,  0,  0,\n",
       "        -1],\n",
       "       [-1,  0,  0,  0,  0,  0,  0,  0,  0,  0,  0,  0,  0,  0,  0,  0,\n",
       "        -1],\n",
       "       [-1,  0,  0,  0,  0,  0,  0,  0,  0,  0,  0,  0,  0,  0,  0,  0,\n",
       "        -1],\n",
       "       [-1, -1, -1, -1, -1, -1, -1, -1, -1, -1, -1, -1, -1, -1, -1, -1,\n",
       "        -1]])"
      ]
     },
     "execution_count": 153,
     "metadata": {},
     "output_type": "execute_result"
    }
   ],
   "source": [
    "A_array=np.array(A)\n",
    "B_pad=np.pad(B,((1,1),(1,1)),\"constant\",constant_values=(-1,-1))\n",
    "A_pad=np.pad(A,((1,1),(1,1)),\"constant\",constant_values=(-1,-1))\n",
    "A_pad"
   ]
  },
  {
   "cell_type": "code",
   "execution_count": 62,
   "metadata": {},
   "outputs": [
    {
     "data": {
      "image/png": "[encoded data removed]",
      "text/plain": [
       "<Figure size 432x288 with 1 Axes>"
      ]
     },
     "metadata": {
      "needs_background": "light"
     },
     "output_type": "display_data"
    },
    {
     "data": {
      "image/png": "[encoded data removed]",
      "text/plain": [
       "<Figure size 432x288 with 1 Axes>"
      ]
     },
     "metadata": {
      "needs_background": "light"
     },
     "output_type": "display_data"
    }
   ],
   "source": [
    "m,n=A_pad.shape\n",
    "A1=A_pad.copy()\n",
    "Dict1={}\n",
    "for i in range(m):\n",
    "    for j in range(n):\n",
    "        if A_pad[i,j]!=-1 and A_pad[i,j]!=0:\n",
    "            Dict1[str(A_pad[i-1:i+2,j-1:j+2])]=B_pad[i-1:i+2,j-1:j+2]\n",
    "            \n",
    "for i in range(m):\n",
    "    for j in range(n):\n",
    "        if str(A_pad[i-1:i+2,j-1:j+2]) in Dict1.keys():\n",
    "            A1[i-1:i+2,j-1:j+2]=Dict1[str(A_pad[i-1:i+2,j-1:j+2])]\n",
    "            plot_picture(A1.tolist())\n",
    "plot_picture(A1.tolist())"
   ]
  },
  {
   "cell_type": "code",
   "execution_count": 63,
   "metadata": {},
   "outputs": [
    {
     "name": "stdout",
     "output_type": "stream",
     "text": [
      "{'[[0 0 0]\\n [0 8 0]\\n [0 0 8]]': array([[8, 0, 0],\n",
      "       [0, 8, 0],\n",
      "       [0, 0, 8]]), '[[0 0 0]\\n [0 8 0]\\n [8 0 0]]': array([[0, 0, 8],\n",
      "       [0, 8, 0],\n",
      "       [8, 0, 0]]), '[[8 0 8]\\n [0 8 0]\\n [8 0 8]]': array([[8, 0, 8],\n",
      "       [0, 8, 0],\n",
      "       [8, 0, 8]]), '[[0 0 8]\\n [0 8 0]\\n [0 0 0]]': array([[0, 0, 8],\n",
      "       [0, 8, 0],\n",
      "       [8, 0, 0]]), '[[8 0 0]\\n [0 8 0]\\n [0 0 0]]': array([[8, 0, 0],\n",
      "       [0, 8, 0],\n",
      "       [0, 0, 8]])}\n"
     ]
    },
    {
     "data": {
      "image/png": "[encoded data removed]",
      "text/plain": [
       "<Figure size 432x288 with 1 Axes>"
      ]
     },
     "metadata": {
      "needs_background": "light"
     },
     "output_type": "display_data"
    },
    {
     "data": {
      "image/png": "[encoded data removed]",
      "text/plain": [
       "<Figure size 432x288 with 1 Axes>"
      ]
     },
     "metadata": {
      "needs_background": "light"
     },
     "output_type": "display_data"
    },
    {
     "data": {
      "image/png": "[encoded data removed]",
      "text/plain": [
       "<Figure size 432x288 with 1 Axes>"
      ]
     },
     "metadata": {
      "needs_background": "light"
     },
     "output_type": "display_data"
    },
    {
     "data": {
      "image/png": "[encoded data removed]",
      "text/plain": [
       "<Figure size 432x288 with 1 Axes>"
      ]
     },
     "metadata": {
      "needs_background": "light"
     },
     "output_type": "display_data"
    },
    {
     "data": {
      "image/png": "[encoded data removed]",
      "text/plain": [
       "<Figure size 432x288 with 1 Axes>"
      ]
     },
     "metadata": {
      "needs_background": "light"
     },
     "output_type": "display_data"
    },
    {
     "data": {
      "image/png": "[encoded data removed]",
      "text/plain": [
       "<Figure size 432x288 with 1 Axes>"
      ]
     },
     "metadata": {
      "needs_background": "light"
     },
     "output_type": "display_data"
    },
    {
     "data": {
      "image/png": "[encoded data removed]",
      "text/plain": [
       "<Figure size 432x288 with 1 Axes>"
      ]
     },
     "metadata": {
      "needs_background": "light"
     },
     "output_type": "display_data"
    }
   ],
   "source": [
    "A2=A1.copy()\n",
    "Dict2={}\n",
    "for i in range(m):\n",
    "    for j in range(n):\n",
    "        if A1[i,j]!=-1 and A1[i,j]!=0:\n",
    "            Dict2[str(A1[i-1:i+2,j-1:j+2])]=B_pad[i-1:i+2,j-1:j+2]\n",
    "print(Dict2)\n",
    "plot_picture(A1)\n",
    "for i in range(m):\n",
    "    for j in range(n):\n",
    "        if str(A1[i-1:i+2,j-1:j+2]) in Dict2.keys():\n",
    "            A2[i-1:i+2,j-1:j+2]=Dict2[str(A1[i-1:i+2,j-1:j+2])]\n",
    "            plot_picture(A1)\n",
    "            \n",
    "plot_picture(A2.tolist())"
   ]
  },
  {
   "cell_type": "code",
   "execution_count": 64,
   "metadata": {},
   "outputs": [
    {
     "name": "stdout",
     "output_type": "stream",
     "text": [
      "{'[[-1  0  0]\\n [-1  8  0]\\n [-1  0  8]]': array([[-1,  0,  0],\n",
      "       [-1,  8,  0],\n",
      "       [-1,  0,  8]]), '[[0 0 0]\\n [0 8 0]\\n [8 0 0]]': array([[0, 0, 8],\n",
      "       [0, 8, 0],\n",
      "       [8, 0, 0]]), '[[8 0 0]\\n [0 8 0]\\n [0 0 8]]': array([[8, 0, 0],\n",
      "       [0, 8, 0],\n",
      "       [0, 0, 8]]), '[[0 0 8]\\n [0 8 0]\\n [8 0 0]]': array([[0, 0, 8],\n",
      "       [0, 8, 0],\n",
      "       [8, 0, 0]]), '[[8 0 8]\\n [0 8 0]\\n [8 0 8]]': array([[8, 0, 8],\n",
      "       [0, 8, 0],\n",
      "       [8, 0, 8]]), '[[-1  0  8]\\n [-1  8  0]\\n [-1  0  0]]': array([[-1,  0,  8],\n",
      "       [-1,  8,  0],\n",
      "       [-1,  0,  0]]), '[[8 0 0]\\n [0 8 0]\\n [0 0 0]]': array([[8, 0, 0],\n",
      "       [0, 8, 0],\n",
      "       [0, 0, 8]])}\n"
     ]
    },
    {
     "data": {
      "image/png": "[encoded data removed]",
      "text/plain": [
       "<Figure size 432x288 with 1 Axes>"
      ]
     },
     "metadata": {
      "needs_background": "light"
     },
     "output_type": "display_data"
    },
    {
     "data": {
      "image/png": "[encoded data removed]",
      "text/plain": [
       "<Figure size 432x288 with 1 Axes>"
      ]
     },
     "metadata": {
      "needs_background": "light"
     },
     "output_type": "display_data"
    },
    {
     "data": {
      "image/png": "[encoded data removed]",
      "text/plain": [
       "<Figure size 432x288 with 1 Axes>"
      ]
     },
     "metadata": {
      "needs_background": "light"
     },
     "output_type": "display_data"
    },
    {
     "data": {
      "image/png": "[encoded data removed]",
      "text/plain": [
       "<Figure size 432x288 with 1 Axes>"
      ]
     },
     "metadata": {
      "needs_background": "light"
     },
     "output_type": "display_data"
    },
    {
     "data": {
      "image/png": "[encoded data removed]",
      "text/plain": [
       "<Figure size 432x288 with 1 Axes>"
      ]
     },
     "metadata": {
      "needs_background": "light"
     },
     "output_type": "display_data"
    },
    {
     "data": {
      "image/png": "[encoded data removed]",
      "text/plain": [
       "<Figure size 432x288 with 1 Axes>"
      ]
     },
     "metadata": {
      "needs_background": "light"
     },
     "output_type": "display_data"
    },
    {
     "data": {
      "image/png": "[encoded data removed]",
      "text/plain": [
       "<Figure size 432x288 with 1 Axes>"
      ]
     },
     "metadata": {
      "needs_background": "light"
     },
     "output_type": "display_data"
    },
    {
     "data": {
      "image/png": "[encoded data removed]",
      "text/plain": [
       "<Figure size 432x288 with 1 Axes>"
      ]
     },
     "metadata": {
      "needs_background": "light"
     },
     "output_type": "display_data"
    },
    {
     "data": {
      "image/png": "[encoded data removed]",
      "text/plain": [
       "<Figure size 432x288 with 1 Axes>"
      ]
     },
     "metadata": {
      "needs_background": "light"
     },
     "output_type": "display_data"
    },
    {
     "data": {
      "image/png": "[encoded data removed]",
      "text/plain": [
       "<Figure size 432x288 with 1 Axes>"
      ]
     },
     "metadata": {
      "needs_background": "light"
     },
     "output_type": "display_data"
    },
    {
     "data": {
      "image/png": "[encoded data removed]",
      "text/plain": [
       "<Figure size 432x288 with 1 Axes>"
      ]
     },
     "metadata": {
      "needs_background": "light"
     },
     "output_type": "display_data"
    }
   ],
   "source": [
    "A3=A2.copy()\n",
    "Dict3={}\n",
    "for i in range(m):\n",
    "    for j in range(n):\n",
    "        if A2[i,j]!=-1 and A2[i,j]!=0:\n",
    "            Dict3[str(A2[i-1:i+2,j-1:j+2])]=B_pad[i-1:i+2,j-1:j+2]\n",
    "print(Dict3)\n",
    "plot_picture(A2)\n",
    "for i in range(m):\n",
    "    for j in range(n):\n",
    "        if str(A2[i-1:i+2,j-1:j+2]) in Dict3.keys():\n",
    "            A3[i-1:i+2,j-1:j+2]=Dict3[str(A2[i-1:i+2,j-1:j+2])]\n",
    "            plot_picture(A3)\n",
    "            \n",
    "plot_picture(A3.tolist())"
   ]
  },
  {
   "cell_type": "code",
   "execution_count": 65,
   "metadata": {},
   "outputs": [
    {
     "data": {
      "text/plain": [
       "array([[0, 0, 0, 0, 0, 8, 0],\n",
       "       [8, 0, 0, 0, 8, 0, 0],\n",
       "       [0, 8, 0, 8, 0, 0, 0],\n",
       "       [0, 0, 8, 0, 0, 0, 0],\n",
       "       [0, 8, 0, 8, 0, 0, 0],\n",
       "       [8, 0, 0, 0, 8, 0, 0],\n",
       "       [0, 0, 0, 0, 0, 8, 0]])"
      ]
     },
     "execution_count": 65,
     "metadata": {},
     "output_type": "execute_result"
    }
   ],
   "source": [
    "A3[1:-1,1:-1]"
   ]
  },
  {
   "cell_type": "code",
   "execution_count": 70,
   "metadata": {},
   "outputs": [],
   "source": [
    "Dict_all=dict(Dict1,**Dict2)"
   ]
  },
  {
   "cell_type": "code",
   "execution_count": 82,
   "metadata": {},
   "outputs": [
    {
     "data": {
      "text/plain": [
       "{'[[0 0 0]\\n [0 8 0]\\n [0 0 0]]': array([[8, 0, 8],\n",
       "        [0, 8, 0],\n",
       "        [8, 0, 8]]), '[[0 0 0]\\n [0 8 0]\\n [0 0 8]]': array([[8, 0, 0],\n",
       "        [0, 8, 0],\n",
       "        [0, 0, 8]]), '[[0 0 0]\\n [0 8 0]\\n [8 0 0]]': array([[0, 0, 8],\n",
       "        [0, 8, 0],\n",
       "        [8, 0, 0]]), '[[8 0 8]\\n [0 8 0]\\n [8 0 8]]': array([[8, 0, 8],\n",
       "        [0, 8, 0],\n",
       "        [8, 0, 8]]), '[[0 0 8]\\n [0 8 0]\\n [0 0 0]]': array([[0, 0, 8],\n",
       "        [0, 8, 0],\n",
       "        [8, 0, 0]]), '[[8 0 0]\\n [0 8 0]\\n [0 0 0]]': array([[8, 0, 0],\n",
       "        [0, 8, 0],\n",
       "        [0, 0, 8]]), '[[-1  0  0]\\n [-1  8  0]\\n [-1  0  8]]': array([[-1,  0,  0],\n",
       "        [-1,  8,  0],\n",
       "        [-1,  0,  8]]), '[[8 0 0]\\n [0 8 0]\\n [0 0 8]]': array([[8, 0, 0],\n",
       "        [0, 8, 0],\n",
       "        [0, 0, 8]]), '[[0 0 8]\\n [0 8 0]\\n [8 0 0]]': array([[0, 0, 8],\n",
       "        [0, 8, 0],\n",
       "        [8, 0, 0]]), '[[-1  0  8]\\n [-1  8  0]\\n [-1  0  0]]': array([[-1,  0,  8],\n",
       "        [-1,  8,  0],\n",
       "        [-1,  0,  0]])}"
      ]
     },
     "execution_count": 82,
     "metadata": {},
     "output_type": "execute_result"
    }
   ],
   "source": [
    "Dict_all=dict(Dict_all,**Dict3)\n",
    "Dict_all"
   ]
  },
  {
   "cell_type": "code",
   "execution_count": 71,
   "metadata": {},
   "outputs": [],
   "source": [
    "C=Trains[140][\"train\"][0][\"input\"]\n",
    "D=Trains[140][\"train\"][0][\"output\"]"
   ]
  },
  {
   "cell_type": "code",
   "execution_count": 76,
   "metadata": {},
   "outputs": [],
   "source": [
    "C_pad=np.pad(C,((1,1),(1,1)),\"constant\",constant_values=(-1,-1))"
   ]
  },
  {
   "cell_type": "code",
   "execution_count": 78,
   "metadata": {},
   "outputs": [
    {
     "data": {
      "text/plain": [
       "array([[-1, -1, -1, -1, -1, -1, -1, -1, -1, -1, -1, -1, -1, -1, -1, -1,\n",
       "        -1],\n",
       "       [-1,  0,  0,  0,  0,  0,  0,  0,  0,  0,  0,  0,  0,  0,  0,  0,\n",
       "        -1],\n",
       "       [-1,  0,  0,  0,  0,  0,  0,  0,  0,  0,  0,  0,  0,  0,  0,  0,\n",
       "        -1],\n",
       "       [-1,  0,  0,  0,  0,  0,  0,  0,  0,  0,  0,  0,  0,  0,  0,  0,\n",
       "        -1],\n",
       "       [-1,  0,  0,  0,  8,  0,  0,  0,  0,  0,  0,  0,  0,  0,  0,  0,\n",
       "        -1],\n",
       "       [-1,  0,  0,  0,  0,  0,  0,  0,  0,  0,  0,  0,  0,  0,  0,  0,\n",
       "        -1],\n",
       "       [-1,  0,  0,  0,  0,  0,  0,  0,  0,  0,  0,  0,  0,  0,  0,  0,\n",
       "        -1],\n",
       "       [-1,  0,  0,  0,  0,  0,  0,  0,  0,  0,  0,  0,  0,  0,  0,  0,\n",
       "        -1],\n",
       "       [-1,  0,  0,  0,  0,  0,  0,  0,  0,  0,  0,  0,  0,  0,  0,  0,\n",
       "        -1],\n",
       "       [-1,  0,  0,  0,  0,  0,  0,  0,  0,  0,  0,  0,  0,  0,  0,  0,\n",
       "        -1],\n",
       "       [-1,  0,  0,  0,  0,  0,  0,  0,  0,  0,  0,  0,  0,  0,  0,  0,\n",
       "        -1],\n",
       "       [-1,  0,  0,  0,  0,  0,  0,  0,  0,  0,  0,  0,  0,  0,  0,  0,\n",
       "        -1],\n",
       "       [-1,  0,  0,  0,  0,  0,  0,  0,  0,  0,  0,  0,  0,  0,  0,  0,\n",
       "        -1],\n",
       "       [-1,  0,  0,  0,  0,  0,  0,  0,  0,  0,  0,  0,  0,  0,  0,  0,\n",
       "        -1],\n",
       "       [-1,  0,  0,  0,  0,  0,  0,  0,  0,  0,  0,  0,  0,  0,  0,  0,\n",
       "        -1],\n",
       "       [-1,  0,  0,  0,  0,  0,  0,  0,  0,  0,  0,  0,  0,  0,  0,  0,\n",
       "        -1],\n",
       "       [-1, -1, -1, -1, -1, -1, -1, -1, -1, -1, -1, -1, -1, -1, -1, -1,\n",
       "        -1]])"
      ]
     },
     "execution_count": 78,
     "metadata": {},
     "output_type": "execute_result"
    }
   ],
   "source": [
    "C_pad[C_pad==2]=8\n",
    "C_pad"
   ]
  },
  {
   "cell_type": "code",
   "execution_count": 79,
   "metadata": {},
   "outputs": [
    {
     "data": {
      "image/png": "[encoded data removed]",
      "text/plain": [
       "<Figure size 432x288 with 1 Axes>"
      ]
     },
     "metadata": {
      "needs_background": "light"
     },
     "output_type": "display_data"
    },
    {
     "data": {
      "image/png": "[encoded data removed]",
      "text/plain": [
       "<Figure size 432x288 with 1 Axes>"
      ]
     },
     "metadata": {
      "needs_background": "light"
     },
     "output_type": "display_data"
    }
   ],
   "source": [
    "m,n=C_pad.shape\n",
    "C1=C_pad.copy()\n",
    "for i in range(m):\n",
    "    for j in range(n):\n",
    "        if str(C_pad[i-1:i+2,j-1:j+2]) in Dict1.keys():\n",
    "            C1[i-1:i+2,j-1:j+2]=Dict1[str(C_pad[i-1:i+2,j-1:j+2])]\n",
    "plot_picture(C1.tolist())"
   ]
  },
  {
   "cell_type": "code",
   "execution_count": 80,
   "metadata": {},
   "outputs": [
    {
     "data": {
      "image/png": "[encoded data removed]",
      "text/plain": [
       "<Figure size 432x288 with 1 Axes>"
      ]
     },
     "metadata": {
      "needs_background": "light"
     },
     "output_type": "display_data"
    }
   ],
   "source": [
    "C2=C1.copy()\n",
    "for i in range(m):\n",
    "    for j in range(n):\n",
    "        if str(C1[i-1:i+2,j-1:j+2]) in Dict2.keys():\n",
    "            C2[i-1:i+2,j-1:j+2]=Dict2[str(C1[i-1:i+2,j-1:j+2])]\n",
    "plot_picture(C2.tolist())"
   ]
  },
  {
   "cell_type": "code",
   "execution_count": 83,
   "metadata": {},
   "outputs": [
    {
     "data": {
      "image/png": "[encoded data removed]",
      "text/plain": [
       "<Figure size 432x288 with 1 Axes>"
      ]
     },
     "metadata": {
      "needs_background": "light"
     },
     "output_type": "display_data"
    }
   ],
   "source": [
    "\n",
    "C3=C2.copy()\n",
    "for i in range(m):\n",
    "    for j in range(n):\n",
    "        if str(C2[i-1:i+2,j-1:j+2]) in Dict_all.keys():\n",
    "            C3[i-1:i+2,j-1:j+2]=Dict_all[str(C2[i-1:i+2,j-1:j+2])]\n",
    "plot_picture(C3.tolist())"
   ]
  },
  {
   "cell_type": "code",
   "execution_count": 85,
   "metadata": {},
   "outputs": [
    {
     "data": {
      "image/png": "[encoded data removed]",
      "text/plain": [
       "<Figure size 432x288 with 1 Axes>"
      ]
     },
     "metadata": {
      "needs_background": "light"
     },
     "output_type": "display_data"
    }
   ],
   "source": [
    "\n",
    "C4=C3.copy()\n",
    "for i in range(m):\n",
    "    for j in range(n):\n",
    "        if str(C3[i-1:i+2,j-1:j+2]) in Dict_all.keys():\n",
    "            C4[i-1:i+2,j-1:j+2]=Dict_all[str(C3[i-1:i+2,j-1:j+2])]\n",
    "plot_picture(C4.tolist())"
   ]
  },
  {
   "cell_type": "code",
   "execution_count": null,
   "metadata": {},
   "outputs": [],
   "source": []
  }
 ],
 "metadata": {
  "kernelspec": {
   "display_name": "Python 3",
   "language": "python",
   "name": "python3"
  },
  "language_info": {
   "codemirror_mode": {
    "name": "ipython",
    "version": 3
   },
   "file_extension": ".py",
   "mimetype": "text/x-python",
   "name": "python",
   "nbconvert_exporter": "python",
   "pygments_lexer": "ipython3",
   "version": "3.6.7"
  }
 },
 "nbformat": 4,
 "nbformat_minor": 4
}
