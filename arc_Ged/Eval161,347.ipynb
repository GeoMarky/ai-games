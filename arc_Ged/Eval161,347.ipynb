{
 "cells": [
  {
   "cell_type": "code",
   "execution_count": 1,
   "metadata": {},
   "outputs": [
    {
     "name": "stdout",
     "output_type": "stream",
     "text": [
      "input\n",
      "input\\evaluation\n",
      "input\\test\n",
      "input\\training\n"
     ]
    }
   ],
   "source": [
    "import numpy as np\n",
    "import pandas as pd\n",
    "import time\n",
    "\n",
    "import os\n",
    "import json\n",
    "from pathlib import Path\n",
    "\n",
    "import matplotlib.pyplot as plt\n",
    "from matplotlib import colors\n",
    "import numpy as np\n",
    "from pathlib import Path\n",
    "\n",
    "#for dirname, _, filenames in os.walk('/kaggle/input'):\n",
    "for dirname, _, filenames in os.walk(\"input\"):\n",
    "    print(dirname)"
   ]
  },
  {
   "cell_type": "code",
   "execution_count": 2,
   "metadata": {},
   "outputs": [],
   "source": [
    "#data_path = Path('/kaggle/input/abstraction-and-reasoning-challenge/')\n",
    "data_path = Path('input/')\n",
    "training_path = data_path / 'training'\n",
    "evaluation_path = data_path / 'evaluation'\n",
    "test_path = data_path / 'test'\n",
    "training_tasks = sorted(os.listdir(training_path))\n",
    "eval_tasks = sorted(os.listdir(evaluation_path))"
   ]
  },
  {
   "cell_type": "code",
   "execution_count": 3,
   "metadata": {},
   "outputs": [],
   "source": [
    "#已解決的ID\n",
    "solved_id=set()\n",
    "solved_eva_id=set()"
   ]
  },
  {
   "cell_type": "code",
   "execution_count": 4,
   "metadata": {},
   "outputs": [],
   "source": [
    "T = training_tasks\n",
    "Trains = []\n",
    "for i in range(400):\n",
    "    task_file = str(training_path / T[i])\n",
    "    task = json.load(open(task_file, 'r'))\n",
    "    Trains.append(task)\n",
    "    \n",
    "E = eval_tasks\n",
    "Evals= []\n",
    "for i in range(400):\n",
    "    task_file = str(evaluation_path / E[i])\n",
    "    task = json.load(open(task_file, 'r'))\n",
    "    Evals.append(task)"
   ]
  },
  {
   "cell_type": "code",
   "execution_count": 5,
   "metadata": {},
   "outputs": [
    {
     "data": {
      "image/png": "[encoded data removed]",
      "text/plain": [
       "<Figure size 1000x400 with 1 Axes>"
      ]
     },
     "metadata": {
      "needs_background": "light"
     },
     "output_type": "display_data"
    }
   ],
   "source": [
    "cmap = colors.ListedColormap(\n",
    "    ['#000000', '#0074D9','#FF4136','#2ECC40','#FFDC00',\n",
    "     '#AAAAAA', '#F012BE', '#FF851B', '#7FDBFF', '#870C25'])\n",
    "norm = colors.Normalize(vmin=0, vmax=9)\n",
    "# 0:black, 1:blue, 2:red, 3:greed, 4:yellow,\n",
    "# 5:gray, 6:magenta, 7:orange, 8:sky, 9:brown\n",
    "plt.figure(figsize=(5, 2), dpi=200)\n",
    "plt.imshow([list(range(10))], cmap=cmap, norm=norm)\n",
    "plt.xticks(list(range(10)))\n",
    "plt.yticks([])\n",
    "plt.show()\n",
    "\n",
    "def plot_task(task):\n",
    "    n = len(task[\"train\"]) + len(task[\"test\"])\n",
    "    fig, axs = plt.subplots(2, n, figsize=(4*n,8), dpi=50)\n",
    "    plt.subplots_adjust(wspace=0, hspace=0)\n",
    "    fig_num = 0\n",
    "    \n",
    "    for i, t in enumerate(task[\"train\"]):\n",
    "        t_in, t_out = np.array(t[\"input\"]), np.array(t[\"output\"])\n",
    "        axs[0][fig_num].imshow(t_in, cmap=cmap, norm=norm)\n",
    "        axs[0][fig_num].set_title(f'Train-{i} in')\n",
    "        axs[0][fig_num].set_yticks(list(range(t_in.shape[0])))\n",
    "        axs[0][fig_num].set_xticks(list(range(t_in.shape[1])))\n",
    "        axs[1][fig_num].imshow(t_out, cmap=cmap, norm=norm)\n",
    "        axs[1][fig_num].set_title(f'Train-{i} out')\n",
    "        axs[1][fig_num].set_yticks(list(range(t_out.shape[0])))\n",
    "        axs[1][fig_num].set_xticks(list(range(t_out.shape[1])))\n",
    "        fig_num += 1\n",
    "    for i, t in enumerate(task[\"test\"]):\n",
    "        t_in, t_out = np.array(t[\"input\"]), np.array(t[\"output\"])\n",
    "        axs[0][fig_num].imshow(t_in, cmap=cmap, norm=norm)\n",
    "        axs[0][fig_num].set_title(f'Test-{i} in')\n",
    "        axs[0][fig_num].set_yticks(list(range(t_in.shape[0])))\n",
    "        axs[0][fig_num].set_xticks(list(range(t_in.shape[1])))\n",
    "        axs[1][fig_num].imshow(t_out, cmap=cmap, norm=norm)\n",
    "        axs[1][fig_num].set_title(f'Test-{i} out')\n",
    "        axs[1][fig_num].set_yticks(list(range(t_out.shape[0])))\n",
    "        axs[1][fig_num].set_xticks(list(range(t_out.shape[1])))\n",
    "        fig_num += 1\n",
    "    \n",
    "    plt.tight_layout()\n",
    "    plt.show()"
   ]
  },
  {
   "cell_type": "code",
   "execution_count": 6,
   "metadata": {},
   "outputs": [],
   "source": [
    "\n",
    "def plot_picture(x):\n",
    "    plt.imshow(np.array(x), cmap = cmap, norm = norm)\n",
    "    plt.show()"
   ]
  },
  {
   "cell_type": "code",
   "execution_count": 7,
   "metadata": {},
   "outputs": [],
   "source": [
    "def Defensive_Copy(A): \n",
    "    if type(A)!=list:\n",
    "        A=A.tolist()\n",
    "    n = len(A)\n",
    "    k = len(A[0])\n",
    "    L = np.zeros((n,k), dtype = int)\n",
    "    for i in range(n):\n",
    "        for j in range(k):\n",
    "            L[i,j] = 0 + A[i][j]\n",
    "    return L.tolist()"
   ]
  },
  {
   "cell_type": "code",
   "execution_count": 8,
   "metadata": {},
   "outputs": [],
   "source": [
    "def Create(task, task_id = 0):\n",
    "    n = len(task['train'])\n",
    "    Input = [Defensive_Copy(task['train'][i]['input']) for i in range(n)]\n",
    "    Output = [Defensive_Copy(task['train'][i]['output']) for i in range(n)]\n",
    "    Input.append(Defensive_Copy(task['test'][task_id]['input']))\n",
    "    return Input, Output"
   ]
  },
  {
   "cell_type": "code",
   "execution_count": 83,
   "metadata": {},
   "outputs": [],
   "source": [
    "def maxcolor(A):\n",
    "    A=np.array(A)\n",
    "    b = np.bincount(A.flatten(),minlength=10)\n",
    "    b[0] = 500 #???255\n",
    "    c=np.argsort(b)[-2]\n",
    "    return c\n",
    "def maxcolor_b(A):\n",
    "    A=np.array(A)\n",
    "    b = np.bincount(A.flatten(),minlength=10)\n",
    "\n",
    "    c=np.argsort(b)[-1]\n",
    "    return c\n",
    "def mincolor(A):\n",
    "    A=np.array(A)\n",
    "    try:\n",
    "        b = np.bincount(A.flatten(),minlength=10)\n",
    "        b1=np.delete(b,0)\n",
    "        #b1=b\n",
    "        c = int(np.where(b==np.min(b1[np.nonzero(b1)]))[0])\n",
    "        return c\n",
    "    except:\n",
    "        return 0\n",
    "def mincolor_b(A):\n",
    "   \n",
    "    try:\n",
    "        b = np.bincount(A.flatten(),minlength=10)\n",
    "\n",
    "        #b1=b\n",
    "        c = int(np.where(b==np.min(b[np.nonzero(b)]))[0])\n",
    "        return c\n",
    "    except:\n",
    "        return 0\n",
    "def Glue(List, r1, r2): #Combine tiles to one picture\n",
    "    n1 = len(List[0])\n",
    "    k1 = len(List[0][0])\n",
    "    ans = np.zeros((n1*r1, k1*r2), dtype = int)\n",
    "    counter = 0\n",
    "    for i in range(r1):\n",
    "        for j in range(r2):\n",
    "            R = List[counter]\n",
    "            counter +=1\n",
    "            for t1 in range(n1):\n",
    "                for t2 in range(k1):\n",
    "                    ans[i*n1+t1, j*k1+t2] = 0 + R[t1][t2]\n",
    "    \n",
    "    return ans.tolist()"
   ]
  },
  {
   "cell_type": "code",
   "execution_count": 100,
   "metadata": {},
   "outputs": [],
   "source": [
    "\n",
    "def Solve_summery_min_color(basic_task): \n",
    "\n",
    "    Input = [Defensive_Copy(x) for x in basic_task[0]]\n",
    "    Output = [Defensive_Copy(y) for y in basic_task[1]]\n",
    "    Test_Case = Input[-1]\n",
    "    Input = Input[:-1]\n",
    "    same_ratio = True\n",
    "    R_x = []\n",
    "    R_y = []\n",
    "    \n",
    "    dict1={}\n",
    "    dict2={}\n",
    "    Funtion=[maxcolor_b,mincolor_b,maxcolor,mincolor]\n",
    "    for x, y in zip(Input,Output):\n",
    "        n1 = len(x)\n",
    "        n2 = len(y)\n",
    "        k1 = len(x[0])\n",
    "        k2 = len(y[0])\n",
    "        if n1%n2 != 0 or k1%k2 != 0:\n",
    "            same_ratio = False\n",
    "            break\n",
    "        else :\n",
    "            R_y.append(n1//n2)\n",
    "            R_x.append(k1//k2)\n",
    "\n",
    "\n",
    "    if same_ratio and min(R_x) == max(R_x) and min(R_y) == max(R_y): \n",
    "        r1 = min(R_y)\n",
    "        r2 = min(R_x)\n",
    "    else:\n",
    "        return -1\n",
    "    for func in Funtion:\n",
    "        solved=True\n",
    "        for x, y in zip(Input,Output):\n",
    "            n_y,m_y=len(y),len(y[0])\n",
    "            x_array=np.array(x)\n",
    "            res_list=[]\n",
    "            for i in range(len(x)//r1):\n",
    "                for j in range(len(x[0])//r2):\n",
    "\n",
    "                    tmp=x_array[i*r1:(i+1)*r1,j*r2:(j+1)*r2]\n",
    "\n",
    "\n",
    "                    res_list.append([[func(tmp)]])\n",
    "            res=Glue(res_list,len(x)//r1,len(x[0])//r2)\n",
    "\n",
    "            if res!=y:\n",
    "                solved=False\n",
    "                break\n",
    "        if solved==True:\n",
    "            Test_Case_list=[]\n",
    "            Test_Case_array=np.array(Test_Case)\n",
    "            for i in range(len(Test_Case)//r1):\n",
    "                for j in range(len(Test_Case_array[0])//r2):\n",
    "                    tmp=Test_Case_array[i*r1:(i+1)*r1,j*r2:(j+1)*r2]\n",
    "                    Test_Case_list.append([[func(tmp)]])\n",
    "            return Glue(Test_Case_list,len(Test_Case_array)//r2,len(Test_Case_array[0])//r2)\n",
    "    return -1\n",
    "\n",
    "                "
   ]
  },
  {
   "cell_type": "code",
   "execution_count": 101,
   "metadata": {},
   "outputs": [
    {
     "name": "stdout",
     "output_type": "stream",
     "text": [
      "161 0\n"
     ]
    },
    {
     "data": {
      "image/png": "[encoded data removed]",
      "text/plain": [
       "<Figure size 800x400 with 8 Axes>"
      ]
     },
     "metadata": {
      "needs_background": "light"
     },
     "output_type": "display_data"
    },
    {
     "data": {
      "image/png": "[encoded data removed]",
      "text/plain": [
       "<Figure size 432x288 with 1 Axes>"
      ]
     },
     "metadata": {
      "needs_background": "light"
     },
     "output_type": "display_data"
    },
    {
     "name": "stdout",
     "output_type": "stream",
     "text": [
      "347 0\n"
     ]
    },
    {
     "data": {
      "image/png": "[encoded data removed]",
      "text/plain": [
       "<Figure size 800x400 with 8 Axes>"
      ]
     },
     "metadata": {
      "needs_background": "light"
     },
     "output_type": "display_data"
    },
    {
     "data": {
      "image/png": "[encoded data removed]",
      "text/plain": [
       "<Figure size 432x288 with 1 Axes>"
      ]
     },
     "metadata": {
      "needs_background": "light"
     },
     "output_type": "display_data"
    }
   ],
   "source": [
    "for i in range(400):\n",
    "\n",
    "    task = Evals[i]\n",
    "    k = len(task['test'])\n",
    "    for j in range(k):\n",
    "        basic_task = Create(task, j)\n",
    "        a = Solve_summery_min_color(basic_task)\n",
    "        if a != -1 :\n",
    "            print(i,j)\n",
    "            plot_task(task)\n",
    "            plot_picture(a)\n",
    "            "
   ]
  },
  {
   "cell_type": "code",
   "execution_count": null,
   "metadata": {},
   "outputs": [],
   "source": []
  }
 ],
 "metadata": {
  "kernelspec": {
   "display_name": "Python 3",
   "language": "python",
   "name": "python3"
  },
  "language_info": {
   "codemirror_mode": {
    "name": "ipython",
    "version": 3
   },
   "file_extension": ".py",
   "mimetype": "text/x-python",
   "name": "python",
   "nbconvert_exporter": "python",
   "pygments_lexer": "ipython3",
   "version": "3.6.7"
  }
 },
 "nbformat": 4,
 "nbformat_minor": 4
}
