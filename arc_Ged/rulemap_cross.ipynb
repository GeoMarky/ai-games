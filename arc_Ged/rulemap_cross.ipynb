{
 "cells": [
  {
   "cell_type": "code",
   "execution_count": 1,
   "metadata": {},
   "outputs": [
    {
     "name": "stdout",
     "output_type": "stream",
     "text": [
      "input\n",
      "input\\evaluation\n",
      "input\\test\n",
      "input\\training\n"
     ]
    }
   ],
   "source": [
    "import numpy as np\n",
    "import pandas as pd\n",
    "import time\n",
    "\n",
    "import os\n",
    "import json\n",
    "from pathlib import Path\n",
    "\n",
    "import matplotlib.pyplot as plt\n",
    "from matplotlib import colors\n",
    "import numpy as np\n",
    "from pathlib import Path\n",
    "\n",
    "#for dirname, _, filenames in os.walk('/kaggle/input'):\n",
    "for dirname, _, filenames in os.walk(\"input\"):\n",
    "    print(dirname)"
   ]
  },
  {
   "cell_type": "code",
   "execution_count": 2,
   "metadata": {},
   "outputs": [],
   "source": [
    "#data_path = Path('/kaggle/input/abstraction-and-reasoning-challenge/')\n",
    "data_path = Path('input/')\n",
    "training_path = data_path / 'training'\n",
    "evaluation_path = data_path / 'evaluation'\n",
    "test_path = data_path / 'test'\n",
    "training_tasks = sorted(os.listdir(training_path))\n",
    "eval_tasks = sorted(os.listdir(evaluation_path))"
   ]
  },
  {
   "cell_type": "code",
   "execution_count": 3,
   "metadata": {},
   "outputs": [],
   "source": [
    "#已解決的ID\n",
    "solved_id=set()\n",
    "solved_eva_id=set()"
   ]
  },
  {
   "cell_type": "code",
   "execution_count": 4,
   "metadata": {},
   "outputs": [],
   "source": [
    "T = training_tasks\n",
    "Trains = []\n",
    "for i in range(400):\n",
    "    task_file = str(training_path / T[i])\n",
    "    task = json.load(open(task_file, 'r'))\n",
    "    Trains.append(task)\n",
    "    \n",
    "E = eval_tasks\n",
    "Evals= []\n",
    "for i in range(400):\n",
    "    task_file = str(evaluation_path / E[i])\n",
    "    task = json.load(open(task_file, 'r'))\n",
    "    Evals.append(task)"
   ]
  },
  {
   "cell_type": "code",
   "execution_count": 5,
   "metadata": {},
   "outputs": [
    {
     "data": {
      "image/png": "[encoded data removed]",
      "text/plain": [
       "<Figure size 1000x400 with 1 Axes>"
      ]
     },
     "metadata": {
      "needs_background": "light"
     },
     "output_type": "display_data"
    }
   ],
   "source": [
    "cmap = colors.ListedColormap(\n",
    "    ['#000000', '#0074D9','#FF4136','#2ECC40','#FFDC00',\n",
    "     '#AAAAAA', '#F012BE', '#FF851B', '#7FDBFF', '#870C25'])\n",
    "norm = colors.Normalize(vmin=0, vmax=9)\n",
    "# 0:black, 1:blue, 2:red, 3:greed, 4:yellow,\n",
    "# 5:gray, 6:magenta, 7:orange, 8:sky, 9:brown\n",
    "plt.figure(figsize=(5, 2), dpi=200)\n",
    "plt.imshow([list(range(10))], cmap=cmap, norm=norm)\n",
    "plt.xticks(list(range(10)))\n",
    "plt.yticks([])\n",
    "plt.show()\n",
    "\n",
    "def plot_task(task):\n",
    "    n = len(task[\"train\"]) + len(task[\"test\"])\n",
    "    fig, axs = plt.subplots(2, n, figsize=(4*n,8), dpi=50)\n",
    "    plt.subplots_adjust(wspace=0, hspace=0)\n",
    "    fig_num = 0\n",
    "    \n",
    "    for i, t in enumerate(task[\"train\"]):\n",
    "        t_in, t_out = np.array(t[\"input\"]), np.array(t[\"output\"])\n",
    "        axs[0][fig_num].imshow(t_in, cmap=cmap, norm=norm)\n",
    "        axs[0][fig_num].set_title(f'Train-{i} in')\n",
    "        axs[0][fig_num].set_yticks(list(range(t_in.shape[0])))\n",
    "        axs[0][fig_num].set_xticks(list(range(t_in.shape[1])))\n",
    "        axs[1][fig_num].imshow(t_out, cmap=cmap, norm=norm)\n",
    "        axs[1][fig_num].set_title(f'Train-{i} out')\n",
    "        axs[1][fig_num].set_yticks(list(range(t_out.shape[0])))\n",
    "        axs[1][fig_num].set_xticks(list(range(t_out.shape[1])))\n",
    "        fig_num += 1\n",
    "    for i, t in enumerate(task[\"test\"]):\n",
    "        t_in, t_out = np.array(t[\"input\"]), np.array(t[\"output\"])\n",
    "        axs[0][fig_num].imshow(t_in, cmap=cmap, norm=norm)\n",
    "        axs[0][fig_num].set_title(f'Test-{i} in')\n",
    "        axs[0][fig_num].set_yticks(list(range(t_in.shape[0])))\n",
    "        axs[0][fig_num].set_xticks(list(range(t_in.shape[1])))\n",
    "        axs[1][fig_num].imshow(t_out, cmap=cmap, norm=norm)\n",
    "        axs[1][fig_num].set_title(f'Test-{i} out')\n",
    "        axs[1][fig_num].set_yticks(list(range(t_out.shape[0])))\n",
    "        axs[1][fig_num].set_xticks(list(range(t_out.shape[1])))\n",
    "        fig_num += 1\n",
    "    \n",
    "    plt.tight_layout()\n",
    "    plt.show()"
   ]
  },
  {
   "cell_type": "code",
   "execution_count": 6,
   "metadata": {},
   "outputs": [],
   "source": [
    "\n",
    "def plot_picture(x):\n",
    "    plt.imshow(np.array(x), cmap = cmap, norm = norm)\n",
    "    plt.show()"
   ]
  },
  {
   "cell_type": "code",
   "execution_count": 7,
   "metadata": {},
   "outputs": [],
   "source": [
    "def Defensive_Copy(A): \n",
    "    if type(A)!=list:\n",
    "        A=A.tolist()\n",
    "    n = len(A)\n",
    "    k = len(A[0])\n",
    "    L = np.zeros((n,k), dtype = int)\n",
    "    for i in range(n):\n",
    "        for j in range(k):\n",
    "            L[i,j] = 0 + A[i][j]\n",
    "    return L.tolist()"
   ]
  },
  {
   "cell_type": "code",
   "execution_count": 8,
   "metadata": {},
   "outputs": [],
   "source": [
    "def Create(task, task_id = 0):\n",
    "    n = len(task['train'])\n",
    "    Input = [Defensive_Copy(task['train'][i]['input']) for i in range(n)]\n",
    "    Output = [Defensive_Copy(task['train'][i]['output']) for i in range(n)]\n",
    "    Input.append(Defensive_Copy(task['test'][task_id]['input']))\n",
    "    return Input, Output"
   ]
  },
  {
   "cell_type": "code",
   "execution_count": 9,
   "metadata": {},
   "outputs": [
    {
     "data": {
      "image/png": "[encoded data removed]",
      "text/plain": [
       "<Figure size 432x288 with 1 Axes>"
      ]
     },
     "metadata": {
      "needs_background": "light"
     },
     "output_type": "display_data"
    },
    {
     "data": {
      "image/png": "[encoded data removed]",
      "text/plain": [
       "<Figure size 432x288 with 1 Axes>"
      ]
     },
     "metadata": {
      "needs_background": "light"
     },
     "output_type": "display_data"
    }
   ],
   "source": [
    "a=Evals[348][\"train\"][0][\"input\"]\n",
    "b=Evals[348][\"train\"][0][\"output\"]\n",
    "plot_picture(a)\n",
    "plot_picture(b)"
   ]
  },
  {
   "cell_type": "code",
   "execution_count": 10,
   "metadata": {},
   "outputs": [],
   "source": [
    "a1=np.bincount(np.array(a).flatten(),minlength=10)\n",
    "b1=np.bincount(np.array(b).flatten(),minlength=10)"
   ]
  },
  {
   "cell_type": "code",
   "execution_count": 11,
   "metadata": {},
   "outputs": [
    {
     "data": {
      "text/plain": [
       "array([29,  0,  0,  6,  0,  0,  1,  0,  0,  0], dtype=int64)"
      ]
     },
     "execution_count": 11,
     "metadata": {},
     "output_type": "execute_result"
    }
   ],
   "source": [
    "b1"
   ]
  },
  {
   "cell_type": "code",
   "execution_count": 12,
   "metadata": {},
   "outputs": [],
   "source": [
    "def increase_color(a,b):\n",
    "    list1=[]\n",
    "    a1=np.bincount(np.array(a).flatten(),minlength=10)\n",
    "    b1=np.bincount(np.array(b).flatten(),minlength=10)\n",
    "    for i in range(10):\n",
    "        if b1[i]>a1[i] and a1[i]!=0:\n",
    "            list1.append(i)\n",
    "    return list1"
   ]
  },
  {
   "cell_type": "code",
   "execution_count": 13,
   "metadata": {},
   "outputs": [
    {
     "data": {
      "text/plain": [
       "[3]"
      ]
     },
     "execution_count": 13,
     "metadata": {},
     "output_type": "execute_result"
    }
   ],
   "source": [
    "increase_color(a,b)"
   ]
  },
  {
   "cell_type": "code",
   "execution_count": null,
   "metadata": {},
   "outputs": [],
   "source": []
  },
  {
   "cell_type": "code",
   "execution_count": null,
   "metadata": {},
   "outputs": [],
   "source": []
  },
  {
   "cell_type": "code",
   "execution_count": 14,
   "metadata": {},
   "outputs": [],
   "source": [
    "def rotate_basic_task_by_init(basic_task):\n",
    "    Input = [Defensive_Copy(x) for x in basic_task[0]]\n",
    "    Output = [Defensive_Copy(y) for y in basic_task[1]]\n",
    "    Test_Case = Input[-1]\n",
    "    Input = Input[:-1]\n",
    "    newinput=[Input[0]]\n",
    "    newoutput=[Output[0]]\n",
    "    list0=[]\n",
    "    total_color_list=[]\n",
    "    for x, y in zip(Input,Output):\n",
    "        color_list=increase_color(x,y)\n",
    "        for c in color_list:\n",
    "            if c not in total_color_list:\n",
    "                total_color_list.append(c)\n",
    "    if total_color_list==[]:\n",
    "        return -1,-1\n",
    "    for A in [Input[0]]:\n",
    "        A_array=np.array(A)\n",
    "       \n",
    "        A_pad=np.pad(A,((1,1),(1,1)),\"constant\",constant_values=(-1,-1))\n",
    "        m,n=A_pad.shape\n",
    "        dict1={}\n",
    "        A1=A_pad.copy()\n",
    "        A2=A_pad.copy()\n",
    "        for i in range(m):\n",
    "            for j in range(n):\n",
    "                #if A1[i,j]!=-1 and A1[i,j]!=0:\n",
    "                if A1[i,j] in total_color_list:\n",
    "                    part1=A1[i-1,j]\n",
    "                    part2=A1[i,j-1]\n",
    "                    part3=A1[i,j]\n",
    "                    part4=A1[i,j+1]\n",
    "                    part5=A1[i+1,j]\n",
    "                    if (part1,part2,part3,part4,part5) not in list0:\n",
    "                        list0.append((part1,part2,part3,part4,part5))\n",
    "    \n",
    "\n",
    "    for A,B in zip(Input[1:],Output[1:]):\n",
    "        solved=True\n",
    "        for roti in range(4):\n",
    "        \n",
    "            list1=[]\n",
    "            A_array=np.array(A)\n",
    "            \n",
    "\n",
    "            A_pad=np.pad(A,((1,1),(1,1)),\"constant\",constant_values=(-1,-1))\n",
    "            m,n=A_pad.shape\n",
    "            dict1={}\n",
    "            A1=A_pad.copy()\n",
    "            A2=A_pad.copy()\n",
    "            for i in range(m):\n",
    "                for j in range(n):\n",
    "                    #if A1[i,j]!=-1 and A1[i,j]!=0:\n",
    "                    if A1[i,j] in total_color_list:\n",
    "                        part1=A1[i-1,j]\n",
    "                        part2=A1[i,j-1]\n",
    "                        part3=A1[i,j]\n",
    "                        part4=A1[i,j+1]\n",
    "                        part5=A1[i+1,j]\n",
    "                        if (part1,part2,part3,part4,part5) not in list1:\n",
    "                            list1.append((part1,part2,part3,part4,part5))\n",
    "            \n",
    "            if list1!=list0:\n",
    "                \n",
    "                solved=False\n",
    "                A=np.rot90(np.array(A)).tolist()\n",
    "                B=np.rot90(np.array(B)).tolist()\n",
    "                \n",
    "            else:\n",
    "                \n",
    "                newinput.append(A)\n",
    "                #plot_picture(A)\n",
    "                newoutput.append(B)\n",
    "                solved=True\n",
    "                break\n",
    "            if solved==False and i==3:\n",
    "                return -1,-1\n",
    "    #Test_Case\n",
    "    A=Test_Case\n",
    "    solved=True\n",
    "    for roti in range(4):\n",
    "\n",
    "        list1=[]\n",
    "        A_array=np.array(A)\n",
    "\n",
    "\n",
    "        A_pad=np.pad(A,((1,1),(1,1)),\"constant\",constant_values=(-1,-1))\n",
    "        m,n=A_pad.shape\n",
    "        dict1={}\n",
    "        A1=A_pad.copy()\n",
    "        A2=A_pad.copy()\n",
    "        for i in range(m):\n",
    "            for j in range(n):\n",
    "                #if A1[i,j]!=-1 and A1[i,j]!=0:\n",
    "                if A1[i,j] in total_color_list:\n",
    "                    part1=A1[i-1,j]\n",
    "                    part2=A1[i,j-1]\n",
    "                    part3=A1[i,j]\n",
    "                    part4=A1[i,j+1]\n",
    "                    part5=A1[i+1,j]\n",
    "                    if (part1,part2,part3,part4,part5) not in list1:\n",
    "                        list1.append((part1,part2,part3,part4,part5))\n",
    "        if list1!=list0:\n",
    "            solved=False\n",
    "            A=np.rot90(np.array(A)).tolist()\n",
    "           \n",
    "        else:\n",
    "            newinput.append(A)\n",
    "            solved=True\n",
    "            break\n",
    "    if solved==False:\n",
    "        return -1,-1\n",
    "    return newinput,newoutput\n",
    "            \n",
    "                        "
   ]
  },
  {
   "cell_type": "code",
   "execution_count": null,
   "metadata": {},
   "outputs": [],
   "source": [
    "\n",
    "            "
   ]
  },
  {
   "cell_type": "code",
   "execution_count": 15,
   "metadata": {},
   "outputs": [],
   "source": [
    "def findmodemap_cross(A,B,color_list):\n",
    "    A_array=np.array(A)\n",
    "    B_pad=np.pad(B,((1,1),(1,1)),\"constant\",constant_values=(-1,-1))\n",
    "    A_pad=np.pad(A,((1,1),(1,1)),\"constant\",constant_values=(-1,-1))\n",
    "    m,n=A_pad.shape\n",
    "    dict1={}\n",
    "    A1=A_pad.copy()\n",
    "    A2=A_pad.copy()\n",
    "    count=0\n",
    "    for k in range(150):\n",
    "        \n",
    "        for i in range(m):\n",
    "            for j in range(n):\n",
    "                #if A1[i,j]!=-1 and A1[i,j]!=0:\n",
    "                if A1[i,j] in color_list:\n",
    "                    part1=A1[i-1,j]\n",
    "                    part2=A1[i,j-1]\n",
    "                    part3=A1[i,j]\n",
    "                    part4=A1[i,j+1]\n",
    "                    part5=A1[i+1,j]\n",
    "                    if (part1,part2,part3,part4,part5) not in dict1:\n",
    "\n",
    "                        part_b1=B_pad[i-1,j]\n",
    "                        part_b2=B_pad[i,j-1]\n",
    "                        part_b3=B_pad[i,j]\n",
    "                        part_b4=B_pad[i,j+1]\n",
    "                        part_b5=B_pad[i+1,j]\n",
    "                        dict1[(part1,part2,part3,part4,part5)]=[part_b1,part_b2,part_b3,part_b4,part_b5]\n",
    "                        \n",
    "        \n",
    "        A1_copy=A1.copy()\n",
    "        #plot_picture(A2.tolist())\n",
    "        #A1_copy=A1\n",
    "        for i in range(m):\n",
    "            for j in range(n):\n",
    "                #if A1_copy[i,j]!=-1 and A1_copy[i,j]!=0:\n",
    "                if A1[i,j] in color_list:\n",
    "                    part1=A1_copy[i-1,j]\n",
    "                    part2=A1_copy[i,j-1]\n",
    "                    part3=A1_copy[i,j]\n",
    "                    part4=A1_copy[i,j+1]\n",
    "                    part5=A1_copy[i+1,j]\n",
    "                \n",
    "                    if (part1,part2,part3,part4,part5) in dict1:\n",
    "\n",
    "                        list_from_dict=dict1[(part1,part2,part3,part4,part5)]\n",
    "                        A2[i-1,j]=list_from_dict[0]\n",
    "                        A2[i,j-1]=list_from_dict[1]\n",
    "                        A2[i,j]=list_from_dict[2]\n",
    "                        A2[i,j+1]=list_from_dict[3]\n",
    "                        A2[i+1,j]=list_from_dict[4]\n",
    "\n",
    "        #plot_picture(A2.tolist())                \n",
    "        if (A2==A1_copy).all():\n",
    "            count+=1\n",
    "            \n",
    "        else:\n",
    "            count=0\n",
    "        if count>=3:\n",
    "            break\n",
    "\n",
    "        A1=A2\n",
    "            \n",
    "            \n",
    "    return dict1"
   ]
  },
  {
   "cell_type": "code",
   "execution_count": 16,
   "metadata": {},
   "outputs": [],
   "source": [
    "# findmodemap_cross(a,b)"
   ]
  },
  {
   "cell_type": "code",
   "execution_count": 17,
   "metadata": {},
   "outputs": [],
   "source": [
    "# a0=Evals[348][\"train\"][0][\"input\"]\n",
    "# b0=Evals[348][\"train\"][0][\"output\"]\n",
    "\n",
    "# a1=Evals[348][\"train\"][1][\"input\"]\n",
    "# b1=Evals[348][\"train\"][1][\"output\"]\n",
    "\n",
    "# a2=Evals[348][\"train\"][2][\"input\"]\n",
    "# b2=Evals[348][\"train\"][2][\"output\"]\n",
    "\n",
    "# a3=Evals[348][\"train\"][3][\"input\"]\n",
    "# b3=Evals[348][\"train\"][3][\"output\"]\n",
    "\n",
    "# a4=Evals[348][\"train\"][4][\"input\"]\n",
    "# b4=Evals[348][\"train\"][4][\"output\"]\n",
    "\n",
    "# findmodemap_cross(a3,b3)"
   ]
  },
  {
   "cell_type": "code",
   "execution_count": 18,
   "metadata": {},
   "outputs": [],
   "source": [
    "def usemodedict_cross(A,dict1,color_list):\n",
    "\n",
    "    A_array=np.array(A)\n",
    "    A_pad=np.pad(A,((1,1),(1,1)),\"constant\",constant_values=(-1,-1))\n",
    "    m,n=A_pad.shape\n",
    "    A1=A_pad.copy()\n",
    "    A2=A_pad.copy()\n",
    "    count=0\n",
    "    for k in range(200):\n",
    "        A1_copy=A1.copy()\n",
    "        for i in range(m):\n",
    "            for j in range(n):\n",
    "                #if A1[i,j]!=-1 and A1[i,j]!=0:\n",
    "                if A1[i,j] in color_list:\n",
    "                    part1=A1_copy[i-1,j]\n",
    "                    part2=A1_copy[i,j-1]\n",
    "                    part3=A1_copy[i,j]\n",
    "                    part4=A1_copy[i,j+1]\n",
    "                    part5=A1_copy[i+1,j]\n",
    "                    if (part1,part2,part3,part4,part5) in dict1:\n",
    "\n",
    "                        list_from_dict=dict1[(part1,part2,part3,part4,part5)]\n",
    "                        A2[i-1,j]=list_from_dict[0]\n",
    "                        A2[i,j-1]=list_from_dict[1]\n",
    "                        A2[i,j]=list_from_dict[2]\n",
    "                        A2[i,j+1]=list_from_dict[3]\n",
    "                        A2[i+1,j]=list_from_dict[4]\n",
    "                        \n",
    "        A1=A2\n",
    "#         plot_picture(A1.tolist())\n",
    "        if (A2==A1_copy).all():\n",
    "            count+=1\n",
    "#             plot_picture(A2.tolist())\n",
    "        else:\n",
    "            count=0\n",
    "        if count>=3:\n",
    "            break\n",
    "    return A1[1:-1,1:-1].tolist()"
   ]
  },
  {
   "cell_type": "code",
   "execution_count": 19,
   "metadata": {},
   "outputs": [],
   "source": [
    "# dict1=findmodemap_cross(a1,b1)\n",
    "# plot_picture(usemodedict_cross(a2,dict1))"
   ]
  },
  {
   "cell_type": "code",
   "execution_count": 20,
   "metadata": {},
   "outputs": [],
   "source": [
    "def Solve_mode_dict_cross(basic_task): \n",
    "    Input = [Defensive_Copy(x) for x in basic_task[0]]\n",
    "    Output = [Defensive_Copy(y) for y in basic_task[1]]\n",
    "    \n",
    "    Test_Case = Input[-1]\n",
    "    Input = Input[:-1]\n",
    "    total_dict={}\n",
    "    total_color_list=[]\n",
    "    for x, y in zip(Input,Output):\n",
    "        color_list=increase_color(x,y)\n",
    "        for c in color_list:\n",
    "            if c not in total_color_list:\n",
    "                total_color_list.append(c)\n",
    "        if len(x)!=len(y) or len(x[0])!=len(y[0]):\n",
    "            return -1\n",
    "        if findmodemap_cross(x,y,total_color_list)==-1:\n",
    "            \n",
    "            return -1\n",
    "        else:\n",
    "            dict1=findmodemap_cross(x,y,total_color_list)\n",
    "            \n",
    "            total_dict={**total_dict,**dict1}\n",
    "            \n",
    "    for x, y in zip(Input,Output):\n",
    "        #plot_picture(usemodedict_cross(x,total_dict,total_color_list))\n",
    "\n",
    "        if y!=usemodedict_cross(x,total_dict,total_color_list):\n",
    "            return -1\n",
    "    if usemodedict_cross(Test_Case,total_dict,total_color_list)==Test_Case:\n",
    "        return -1\n",
    "    return usemodedict_cross(Test_Case,total_dict,total_color_list)"
   ]
  },
  {
   "cell_type": "code",
   "execution_count": 21,
   "metadata": {},
   "outputs": [],
   "source": [
    "def Solve_mode_dict_cross_rotate(basic_task): \n",
    "    Input = [Defensive_Copy(x) for x in basic_task[0]]\n",
    "    Output = [Defensive_Copy(y) for y in basic_task[1]]\n",
    "    a,b=rotate_basic_task_by_init(basic_task)\n",
    "    if a==-1:\n",
    "        return -1\n",
    "    else:\n",
    "        Input=a\n",
    "        Output=b\n",
    "    \n",
    "    Test_Case = Input[-1]\n",
    "    Input = Input[:-1]\n",
    "    total_dict={}\n",
    "    total_color_list=[]\n",
    "    for x, y in zip(Input,Output):\n",
    "        color_list=increase_color(x,y)\n",
    "        for c in color_list:\n",
    "            if c not in total_color_list:\n",
    "                total_color_list.append(c)\n",
    "        if len(x)!=len(y) or len(x[0])!=len(y[0]):\n",
    "            return -1\n",
    "        if findmodemap_cross(x,y,total_color_list)==-1:\n",
    "            \n",
    "            return -1\n",
    "        else:\n",
    "            dict1=findmodemap_cross(x,y,total_color_list)\n",
    "            \n",
    "            total_dict={**total_dict,**dict1}\n",
    "            \n",
    "    for x, y in zip(Input,Output):\n",
    "        #plot_picture(usemodedict_cross(x,total_dict,total_color_list))\n",
    "\n",
    "        if y!=usemodedict_cross(x,total_dict,total_color_list):\n",
    "            \n",
    "            return -1\n",
    "    if usemodedict_cross(Test_Case,total_dict,total_color_list)==Test_Case:\n",
    "        \n",
    "        return -1\n",
    "    return usemodedict_cross(Test_Case,total_dict,total_color_list)"
   ]
  },
  {
   "cell_type": "code",
   "execution_count": 22,
   "metadata": {},
   "outputs": [
    {
     "data": {
      "image/png": "[encoded data removed]",
      "text/plain": [
       "<Figure size 432x288 with 1 Axes>"
      ]
     },
     "metadata": {
      "needs_background": "light"
     },
     "output_type": "display_data"
    },
    {
     "data": {
      "image/png": "[encoded data removed]",
      "text/plain": [
       "<Figure size 1000x400 with 10 Axes>"
      ]
     },
     "metadata": {
      "needs_background": "light"
     },
     "output_type": "display_data"
    },
    {
     "name": "stdout",
     "output_type": "stream",
     "text": [
      "165\n",
      "229\n"
     ]
    },
    {
     "data": {
      "image/png": "[encoded data removed]",
      "text/plain": [
       "<Figure size 432x288 with 1 Axes>"
      ]
     },
     "metadata": {
      "needs_background": "light"
     },
     "output_type": "display_data"
    },
    {
     "name": "stdout",
     "output_type": "stream",
     "text": [
      "348\n"
     ]
    },
    {
     "data": {
      "image/png": "[encoded data removed]",
      "text/plain": [
       "<Figure size 432x288 with 1 Axes>"
      ]
     },
     "metadata": {
      "needs_background": "light"
     },
     "output_type": "display_data"
    },
    {
     "data": {
      "image/png": "[encoded data removed]",
      "text/plain": [
       "<Figure size 432x288 with 1 Axes>"
      ]
     },
     "metadata": {
      "needs_background": "light"
     },
     "output_type": "display_data"
    },
    {
     "data": {
      "image/png": "[encoded data removed]",
      "text/plain": [
       "<Figure size 800x400 with 8 Axes>"
      ]
     },
     "metadata": {
      "needs_background": "light"
     },
     "output_type": "display_data"
    },
    {
     "name": "stdout",
     "output_type": "stream",
     "text": [
      "390\n",
      "2 2\n"
     ]
    }
   ],
   "source": [
    "right=0\n",
    "wrong=0\n",
    "for i in range(400):\n",
    "#     print(i)\n",
    "    task = Evals[i]\n",
    "\n",
    "    k = len(task['test'])\n",
    "    for j in range(k):\n",
    "        basic_task = Create(task, j)\n",
    "        a = Solve_mode_dict_cross_rotate(basic_task)\n",
    "        \n",
    "\n",
    "        if a != -1: \n",
    "            if task['test'][j]['output'] == a:\n",
    "                plot_picture(a)\n",
    "                plot_task(task)\n",
    "                print(i)\n",
    "                right+=1\n",
    "            else:\n",
    "                print(i)\n",
    "                plot_picture(a)\n",
    "                wrong+=1\n",
    "print(right,wrong)"
   ]
  },
  {
   "cell_type": "code",
   "execution_count": 23,
   "metadata": {},
   "outputs": [
    {
     "name": "stdout",
     "output_type": "stream",
     "text": [
      "111\n"
     ]
    },
    {
     "data": {
      "image/png": "[encoded data removed]",
      "text/plain": [
       "<Figure size 800x400 with 8 Axes>"
      ]
     },
     "metadata": {
      "needs_background": "light"
     },
     "output_type": "display_data"
    },
    {
     "data": {
      "image/png": "[encoded data removed]",
      "text/plain": [
       "<Figure size 432x288 with 1 Axes>"
      ]
     },
     "metadata": {
      "needs_background": "light"
     },
     "output_type": "display_data"
    },
    {
     "data": {
      "image/png": "[encoded data removed]",
      "text/plain": [
       "<Figure size 432x288 with 1 Axes>"
      ]
     },
     "metadata": {
      "needs_background": "light"
     },
     "output_type": "display_data"
    },
    {
     "data": {
      "image/png": "[encoded data removed]",
      "text/plain": [
       "<Figure size 1000x400 with 10 Axes>"
      ]
     },
     "metadata": {
      "needs_background": "light"
     },
     "output_type": "display_data"
    },
    {
     "name": "stdout",
     "output_type": "stream",
     "text": [
      "165\n",
      "173\n"
     ]
    },
    {
     "data": {
      "image/png": "[encoded data removed]",
      "text/plain": [
       "<Figure size 800x400 with 8 Axes>"
      ]
     },
     "metadata": {
      "needs_background": "light"
     },
     "output_type": "display_data"
    },
    {
     "data": {
      "image/png": "[encoded data removed]",
      "text/plain": [
       "<Figure size 432x288 with 1 Axes>"
      ]
     },
     "metadata": {
      "needs_background": "light"
     },
     "output_type": "display_data"
    },
    {
     "name": "stdout",
     "output_type": "stream",
     "text": [
      "348\n"
     ]
    },
    {
     "data": {
      "image/png": "[encoded data removed]",
      "text/plain": [
       "<Figure size 1200x400 with 12 Axes>"
      ]
     },
     "metadata": {
      "needs_background": "light"
     },
     "output_type": "display_data"
    },
    {
     "data": {
      "image/png": "[encoded data removed]",
      "text/plain": [
       "<Figure size 432x288 with 1 Axes>"
      ]
     },
     "metadata": {
      "needs_background": "light"
     },
     "output_type": "display_data"
    },
    {
     "name": "stdout",
     "output_type": "stream",
     "text": [
      "354\n"
     ]
    },
    {
     "data": {
      "image/png": "[encoded data removed]",
      "text/plain": [
       "<Figure size 800x400 with 8 Axes>"
      ]
     },
     "metadata": {
      "needs_background": "light"
     },
     "output_type": "display_data"
    },
    {
     "data": {
      "image/png": "[encoded data removed]",
      "text/plain": [
       "<Figure size 432x288 with 1 Axes>"
      ]
     },
     "metadata": {
      "needs_background": "light"
     },
     "output_type": "display_data"
    },
    {
     "name": "stdout",
     "output_type": "stream",
     "text": [
      "1 4\n"
     ]
    }
   ],
   "source": [
    "right=0\n",
    "wrong=0\n",
    "for i in range(400):\n",
    "#     print(i)\n",
    "    task = Evals[i]\n",
    "\n",
    "    k = len(task['test'])\n",
    "    for j in range(k):\n",
    "        basic_task = Create(task, j)\n",
    "        a = Solve_mode_dict_cross(basic_task)\n",
    "        \n",
    "\n",
    "        if a != -1: \n",
    "            if task['test'][j]['output'] == a:\n",
    "                plot_picture(a)\n",
    "                plot_task(task)\n",
    "                print(i)\n",
    "                right+=1\n",
    "            else:\n",
    "                print(i)\n",
    "                plot_task(task)\n",
    "                plot_picture(a)\n",
    "                wrong+=1\n",
    "print(right,wrong)"
   ]
  },
  {
   "cell_type": "code",
   "execution_count": null,
   "metadata": {},
   "outputs": [],
   "source": []
  },
  {
   "cell_type": "code",
   "execution_count": null,
   "metadata": {},
   "outputs": [],
   "source": []
  },
  {
   "cell_type": "code",
   "execution_count": null,
   "metadata": {},
   "outputs": [],
   "source": []
  },
  {
   "cell_type": "code",
   "execution_count": null,
   "metadata": {},
   "outputs": [],
   "source": []
  },
  {
   "cell_type": "code",
   "execution_count": null,
   "metadata": {},
   "outputs": [],
   "source": []
  },
  {
   "cell_type": "code",
   "execution_count": null,
   "metadata": {},
   "outputs": [],
   "source": []
  },
  {
   "cell_type": "code",
   "execution_count": 24,
   "metadata": {},
   "outputs": [],
   "source": [
    "def findmodemap_cross0(A,B):\n",
    "    A_array=np.array(A)\n",
    "    B_pad=np.pad(B,((1,1),(1,1)),\"constant\",constant_values=(-1,-1))\n",
    "    A_pad=np.pad(A,((1,1),(1,1)),\"constant\",constant_values=(-1,-1))\n",
    "    m,n=A_pad.shape\n",
    "    dict1={}\n",
    "    A1=A_pad.copy()\n",
    "    A2=A_pad.copy()\n",
    "    count=0\n",
    "    for k in range(150):\n",
    "        \n",
    "        for i in range(m):\n",
    "            for j in range(n):\n",
    "                if A1[i,j]!=-1 and A1[i,j]!=0:\n",
    "                #if A1[i,j] in color_list:\n",
    "                    part1=A1[i-1,j]\n",
    "                    part2=A1[i,j-1]\n",
    "                    part3=A1[i,j]\n",
    "                    part4=A1[i,j+1]\n",
    "                    part5=A1[i+1,j]\n",
    "                    if (part1,part2,part3,part4,part5) not in dict1:\n",
    "\n",
    "                        part_b1=B_pad[i-1,j]\n",
    "                        part_b2=B_pad[i,j-1]\n",
    "                        part_b3=B_pad[i,j]\n",
    "                        part_b4=B_pad[i,j+1]\n",
    "                        part_b5=B_pad[i+1,j]\n",
    "                        dict1[(part1,part2,part3,part4,part5)]=[part_b1,part_b2,part_b3,part_b4,part_b5]\n",
    "                        \n",
    "        \n",
    "        A1_copy=A1.copy()\n",
    "        #plot_picture(A2.tolist())\n",
    "        #A1_copy=A1\n",
    "        for i in range(m):\n",
    "            for j in range(n):\n",
    "                if A1_copy[i,j]!=-1 and A1_copy[i,j]!=0:\n",
    "                #if A1[i,j] in color_list:\n",
    "                    part1=A1_copy[i-1,j]\n",
    "                    part2=A1_copy[i,j-1]\n",
    "                    part3=A1_copy[i,j]\n",
    "                    part4=A1_copy[i,j+1]\n",
    "                    part5=A1_copy[i+1,j]\n",
    "                \n",
    "                    if (part1,part2,part3,part4,part5) in dict1:\n",
    "\n",
    "                        list_from_dict=dict1[(part1,part2,part3,part4,part5)]\n",
    "                        A2[i-1,j]=list_from_dict[0]\n",
    "                        A2[i,j-1]=list_from_dict[1]\n",
    "                        A2[i,j]=list_from_dict[2]\n",
    "                        A2[i,j+1]=list_from_dict[3]\n",
    "                        A2[i+1,j]=list_from_dict[4]\n",
    "\n",
    "        #plot_picture(A2.tolist())                \n",
    "        if (A2==A1_copy).all():\n",
    "            count+=1\n",
    "            \n",
    "        else:\n",
    "            count=0\n",
    "        if count>=3:\n",
    "            break\n",
    "\n",
    "        A1=A2\n",
    "            \n",
    "            \n",
    "    return dict1\n",
    "def usemodedict_cross0(A,dict1):\n",
    "\n",
    "    A_array=np.array(A)\n",
    "    A_pad=np.pad(A,((1,1),(1,1)),\"constant\",constant_values=(-1,-1))\n",
    "    m,n=A_pad.shape\n",
    "    A1=A_pad.copy()\n",
    "    A2=A_pad.copy()\n",
    "    count=0\n",
    "    for k in range(200):\n",
    "        A1_copy=A1.copy()\n",
    "        for i in range(m):\n",
    "            for j in range(n):\n",
    "                if A1[i,j]!=-1 and A1[i,j]!=0:\n",
    "                #if A1[i,j] in color_list:\n",
    "                    part1=A1_copy[i-1,j]\n",
    "                    part2=A1_copy[i,j-1]\n",
    "                    part3=A1_copy[i,j]\n",
    "                    part4=A1_copy[i,j+1]\n",
    "                    part5=A1_copy[i+1,j]\n",
    "                    if (part1,part2,part3,part4,part5) in dict1:\n",
    "\n",
    "                        list_from_dict=dict1[(part1,part2,part3,part4,part5)]\n",
    "                        A2[i-1,j]=list_from_dict[0]\n",
    "                        A2[i,j-1]=list_from_dict[1]\n",
    "                        A2[i,j]=list_from_dict[2]\n",
    "                        A2[i,j+1]=list_from_dict[3]\n",
    "                        A2[i+1,j]=list_from_dict[4]\n",
    "                        \n",
    "        A1=A2\n",
    "#         plot_picture(A1.tolist())\n",
    "        if (A2==A1_copy).all():\n",
    "            count+=1\n",
    "#             plot_picture(A2.tolist())\n",
    "        else:\n",
    "            count=0\n",
    "        if count>=3:\n",
    "            break\n",
    "    return A1[1:-1,1:-1].tolist()\n",
    "\n",
    "\n",
    "def Solve_mode_dict_cross0(basic_task): \n",
    "    Input = [Defensive_Copy(x) for x in basic_task[0]]\n",
    "    Output = [Defensive_Copy(y) for y in basic_task[1]]\n",
    "    Test_Case = Input[-1]\n",
    "    Input = Input[:-1]\n",
    "    total_dict={}\n",
    "\n",
    "    for x, y in zip(Input,Output):\n",
    "\n",
    "        if len(x)!=len(y) or len(x[0])!=len(y[0]):\n",
    "            return -1\n",
    "        if findmodemap_cross0(x,y)==-1:\n",
    "            \n",
    "            return -1\n",
    "        else:\n",
    "            dict1=findmodemap_cross0(x,y)\n",
    "            \n",
    "            total_dict={**total_dict,**dict1}\n",
    "            \n",
    "    for x, y in zip(Input,Output):\n",
    "        #plot_picture(usemodedict_cross0(x,total_dict))\n",
    "\n",
    "        if y!=usemodedict_cross0(x,total_dict):\n",
    "            return -1\n",
    "    if usemodedict_cross0(Test_Case,total_dict)==Test_Case:\n",
    "        return -1\n",
    "    return usemodedict_cross0(Test_Case,total_dict)"
   ]
  },
  {
   "cell_type": "code",
   "execution_count": 25,
   "metadata": {},
   "outputs": [
    {
     "data": {
      "image/png": "[encoded data removed]",
      "text/plain": [
       "<Figure size 432x288 with 1 Axes>"
      ]
     },
     "metadata": {
      "needs_background": "light"
     },
     "output_type": "display_data"
    },
    {
     "data": {
      "image/png": "[encoded data removed]",
      "text/plain": [
       "<Figure size 1000x400 with 10 Axes>"
      ]
     },
     "metadata": {
      "needs_background": "light"
     },
     "output_type": "display_data"
    },
    {
     "name": "stdout",
     "output_type": "stream",
     "text": [
      "165\n",
      "1 6\n"
     ]
    }
   ],
   "source": [
    "right=0\n",
    "wrong=0\n",
    "for i in range(400):\n",
    "#     print(i)\n",
    "    task = Evals[i]\n",
    "\n",
    "    k = len(task['test'])\n",
    "    for j in range(k):\n",
    "        basic_task = Create(task, j)\n",
    "        a = Solve_mode_dict_cross0(basic_task)\n",
    "        \n",
    "\n",
    "        if a != -1: \n",
    "            if task['test'][j]['output'] == a:\n",
    "                plot_picture(a)\n",
    "                plot_task(task)\n",
    "                print(i)\n",
    "                right+=1\n",
    "            else:\n",
    "                #print(i)\n",
    "                #plot_picture(a)\n",
    "                wrong+=1\n",
    "print(right,wrong)"
   ]
  },
  {
   "cell_type": "code",
   "execution_count": null,
   "metadata": {},
   "outputs": [],
   "source": []
  }
 ],
 "metadata": {
  "kernelspec": {
   "display_name": "Python 3",
   "language": "python",
   "name": "python3"
  },
  "language_info": {
   "codemirror_mode": {
    "name": "ipython",
    "version": 3
   },
   "file_extension": ".py",
   "mimetype": "text/x-python",
   "name": "python",
   "nbconvert_exporter": "python",
   "pygments_lexer": "ipython3",
   "version": "3.6.7"
  }
 },
 "nbformat": 4,
 "nbformat_minor": 4
}
