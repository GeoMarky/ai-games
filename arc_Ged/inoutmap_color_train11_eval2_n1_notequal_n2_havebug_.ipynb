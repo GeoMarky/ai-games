{
 "cells": [
  {
   "cell_type": "code",
   "execution_count": 1,
   "metadata": {},
   "outputs": [
    {
     "name": "stdout",
     "output_type": "stream",
     "text": [
      "input\n",
      "input\\evaluation\n",
      "input\\training\n"
     ]
    }
   ],
   "source": [
    "import numpy as np\n",
    "import pandas as pd\n",
    "import time\n",
    "\n",
    "import os\n",
    "import json\n",
    "from pathlib import Path\n",
    "\n",
    "import matplotlib.pyplot as plt\n",
    "from matplotlib import colors\n",
    "import numpy as np\n",
    "from pathlib import Path\n",
    "\n",
    "#for dirname, _, filenames in os.walk('/kaggle/input'):\n",
    "for dirname, _, filenames in os.walk(\"input\"):\n",
    "    print(dirname)"
   ]
  },
  {
   "cell_type": "code",
   "execution_count": 2,
   "metadata": {},
   "outputs": [],
   "source": [
    "#data_path = Path('/kaggle/input/abstraction-and-reasoning-challenge/')\n",
    "data_path = Path('input/')\n",
    "training_path = data_path / 'training'\n",
    "evaluation_path = data_path / 'evaluation'\n",
    "test_path = data_path / 'test'\n",
    "training_tasks = sorted(os.listdir(training_path))\n",
    "eval_tasks = sorted(os.listdir(evaluation_path))"
   ]
  },
  {
   "cell_type": "code",
   "execution_count": 3,
   "metadata": {},
   "outputs": [],
   "source": [
    "#已解決的ID\n",
    "solved_id=set()\n",
    "solved_eva_id=set()"
   ]
  },
  {
   "cell_type": "code",
   "execution_count": 4,
   "metadata": {},
   "outputs": [],
   "source": [
    "T = training_tasks\n",
    "Trains = []\n",
    "for i in range(400):\n",
    "    task_file = str(training_path / T[i])\n",
    "    task = json.load(open(task_file, 'r'))\n",
    "    Trains.append(task)\n",
    "    \n",
    "E = eval_tasks\n",
    "Evals= []\n",
    "for i in range(400):\n",
    "    task_file = str(evaluation_path / E[i])\n",
    "    task = json.load(open(task_file, 'r'))\n",
    "    Evals.append(task)"
   ]
  },
  {
   "cell_type": "code",
   "execution_count": 5,
   "metadata": {},
   "outputs": [
    {
     "data": {
      "image/png": "[encoded data removed]",
      "text/plain": [
       "<Figure size 1000x400 with 1 Axes>"
      ]
     },
     "metadata": {
      "needs_background": "light"
     },
     "output_type": "display_data"
    }
   ],
   "source": [
    "cmap = colors.ListedColormap(\n",
    "    ['#000000', '#0074D9','#FF4136','#2ECC40','#FFDC00',\n",
    "     '#AAAAAA', '#F012BE', '#FF851B', '#7FDBFF', '#870C25'])\n",
    "norm = colors.Normalize(vmin=0, vmax=9)\n",
    "# 0:black, 1:blue, 2:red, 3:greed, 4:yellow,\n",
    "# 5:gray, 6:magenta, 7:orange, 8:sky, 9:brown\n",
    "plt.figure(figsize=(5, 2), dpi=200)\n",
    "plt.imshow([list(range(10))], cmap=cmap, norm=norm)\n",
    "plt.xticks(list(range(10)))\n",
    "plt.yticks([])\n",
    "plt.show()\n",
    "\n",
    "def plot_task(task):\n",
    "    n = len(task[\"train\"]) + len(task[\"test\"])\n",
    "    fig, axs = plt.subplots(2, n, figsize=(4*n,8), dpi=50)\n",
    "    plt.subplots_adjust(wspace=0, hspace=0)\n",
    "    fig_num = 0\n",
    "    \n",
    "    for i, t in enumerate(task[\"train\"]):\n",
    "        t_in, t_out = np.array(t[\"input\"]), np.array(t[\"output\"])\n",
    "        axs[0][fig_num].imshow(t_in, cmap=cmap, norm=norm)\n",
    "        axs[0][fig_num].set_title(f'Train-{i} in')\n",
    "        axs[0][fig_num].set_yticks(list(range(t_in.shape[0])))\n",
    "        axs[0][fig_num].set_xticks(list(range(t_in.shape[1])))\n",
    "        axs[1][fig_num].imshow(t_out, cmap=cmap, norm=norm)\n",
    "        axs[1][fig_num].set_title(f'Train-{i} out')\n",
    "        axs[1][fig_num].set_yticks(list(range(t_out.shape[0])))\n",
    "        axs[1][fig_num].set_xticks(list(range(t_out.shape[1])))\n",
    "        fig_num += 1\n",
    "    for i, t in enumerate(task[\"test\"]):\n",
    "        t_in, t_out = np.array(t[\"input\"]), np.array(t[\"output\"])\n",
    "        axs[0][fig_num].imshow(t_in, cmap=cmap, norm=norm)\n",
    "        axs[0][fig_num].set_title(f'Test-{i} in')\n",
    "        axs[0][fig_num].set_yticks(list(range(t_in.shape[0])))\n",
    "        axs[0][fig_num].set_xticks(list(range(t_in.shape[1])))\n",
    "        axs[1][fig_num].imshow(t_out, cmap=cmap, norm=norm)\n",
    "        axs[1][fig_num].set_title(f'Test-{i} out')\n",
    "        axs[1][fig_num].set_yticks(list(range(t_out.shape[0])))\n",
    "        axs[1][fig_num].set_xticks(list(range(t_out.shape[1])))\n",
    "        fig_num += 1\n",
    "    \n",
    "    plt.tight_layout()\n",
    "    plt.show()"
   ]
  },
  {
   "cell_type": "code",
   "execution_count": 6,
   "metadata": {},
   "outputs": [],
   "source": [
    "\n",
    "def plot_picture(x):\n",
    "    plt.imshow(np.array(x), cmap = cmap, norm = norm)\n",
    "    plt.show()"
   ]
  },
  {
   "cell_type": "code",
   "execution_count": 7,
   "metadata": {},
   "outputs": [],
   "source": [
    "def Defensive_Copy(A): \n",
    "    if type(A)!=list:\n",
    "        A=A.tolist()\n",
    "    n = len(A)\n",
    "    k = len(A[0])\n",
    "    L = np.zeros((n,k), dtype = int)\n",
    "    for i in range(n):\n",
    "        for j in range(k):\n",
    "            L[i,j] = 0 + A[i][j]\n",
    "    return L.tolist()"
   ]
  },
  {
   "cell_type": "code",
   "execution_count": 8,
   "metadata": {},
   "outputs": [],
   "source": [
    "def Create(task, task_id = 0):\n",
    "    n = len(task['train'])\n",
    "    Input = [Defensive_Copy(task['train'][i]['input']) for i in range(n)]\n",
    "    Output = [Defensive_Copy(task['train'][i]['output']) for i in range(n)]\n",
    "    Input.append(Defensive_Copy(task['test'][task_id]['input']))\n",
    "    return Input, Output"
   ]
  },
  {
   "cell_type": "code",
   "execution_count": 9,
   "metadata": {},
   "outputs": [],
   "source": [
    "BACKGROUND=0\n",
    "def _get_bound(img0):\n",
    "    img=np.array(img0)\n",
    "    h, w = img.shape\n",
    "    x0 = w - 1\n",
    "    x1 = 0\n",
    "    y0 = h - 1\n",
    "    y1 = 0\n",
    "    for x in range(w):\n",
    "        for y in range(h):\n",
    "            if img[y, x] == BACKGROUND:\n",
    "                continue\n",
    "            x0 = min(x0, x)\n",
    "            x1 = max(x1, x)\n",
    "            y0 = min(y0, y)\n",
    "            y1 = max(y1, y)\n",
    "    return x0, x1, y0, y1\n",
    "def get_bound_image(img0):\n",
    "    x0,x1,y0,y1=_get_bound(img0)\n",
    "    img=np.array(img0)\n",
    "    return img[y0:y1+1,x0:x1+1].tolist()\n",
    "BACKGROUND = 0\n",
    "\n",
    "_neighbor_offsets = {\n",
    "    4: [(1, 0), (-1, 0), (0, 1), (0, -1)],\n",
    "    8: [(1, 0), (-1, 0), (0, 1), (0, -1), (-1, -1), (-1, 1), (1, -1), (1, 1)]\n",
    "}\n",
    "def _expand_region_indices(img, i, j, neighbor=4):\n",
    "    h, w = img.shape\n",
    "    seed_color = img[i, j]\n",
    "    idx = np.zeros_like(img, dtype=np.bool)\n",
    "    region = []\n",
    "    region.append((i, j))\n",
    "    while len(region) > 0:\n",
    "        ii, jj = region.pop()\n",
    "        if img[ii, jj] != seed_color:\n",
    "            continue\n",
    "        idx[ii, jj] = True\n",
    "        for di, dj in _neighbor_offsets[neighbor]:\n",
    "            ni, nj = ii + di, jj + dj\n",
    "            if ni >= 0 and ni < h and nj >= 0 and nj < w \\\n",
    "                    and not idx[ni, nj]:\n",
    "                region.append((ni, nj))\n",
    "    return idx\n",
    "def _expand_region_indices01(img, i, j, neighbor=4):\n",
    "    h, w = img.shape\n",
    "    seed_color = 1\n",
    "    idx = np.zeros_like(img, dtype=np.bool)\n",
    "    region = []\n",
    "    region.append((i, j))\n",
    "    while len(region) > 0:\n",
    "        ii, jj = region.pop()\n",
    "        if img[ii, jj] == 0:\n",
    "            continue\n",
    "        idx[ii, jj] = True\n",
    "        for di, dj in _neighbor_offsets[neighbor]:\n",
    "            ni, nj = ii + di, jj + dj\n",
    "            if ni >= 0 and ni < h and nj >= 0 and nj < w \\\n",
    "                    and not idx[ni, nj]:\n",
    "                region.append((ni, nj))\n",
    "    return idx\n",
    "def _split_conn(img0, neighbor=4):\n",
    "    regions = []\n",
    "    img=np.array(img0)\n",
    "    mem = np.zeros_like(img, dtype=np.bool)\n",
    "    h, w = img.shape\n",
    "    for j in range(w):\n",
    "        for i in range(h):\n",
    "            p = img[i, j]\n",
    "            if p == BACKGROUND or mem[i, j]:\n",
    "                continue\n",
    "            conn_idx = _expand_region_indices(img, i, j, neighbor)\n",
    "            mem[conn_idx] = True\n",
    "            regions.append((np.where(conn_idx, img, BACKGROUND)).tolist())\n",
    "    return regions\n",
    "def _split_conn01(img0, neighbor=4):\n",
    "    regions = []\n",
    "    img=np.array(img0)\n",
    "    mem = np.zeros_like(img, dtype=np.bool)\n",
    "    h, w = img.shape\n",
    "    for j in range(w):\n",
    "        for i in range(h):\n",
    "            p = img[i, j]\n",
    "            if p == BACKGROUND or mem[i, j]:\n",
    "                continue\n",
    "            conn_idx = _expand_region_indices01(img, i, j, neighbor)\n",
    "            mem[conn_idx] = True\n",
    "            regions.append((np.where(conn_idx, img, BACKGROUND)).tolist())\n",
    "    return regions\n",
    "def split_conn(img): \n",
    "    ''' Split an image into a list of images each containing a single connected region'''\n",
    "    \n",
    "    return _split_conn(img, 4)\n",
    "def split_conn8(img):\n",
    "    ''' Split an image into a list of images each containing a single connected region.\n",
    "      Pixels of 8 neighbors are all considered \"connected\"\n",
    "    '''\n",
    "    \n",
    "    return _split_conn(img, 8)\n",
    "\n",
    "def split_conn01(img): \n",
    "    ''' Split an image into a list of images each containing a single connected region'''\n",
    "    \n",
    "    return _split_conn01(img, 4)\n",
    "def split_conn801(img):\n",
    "    ''' Split an image into a list of images each containing a single connected region.\n",
    "      Pixels of 8 neighbors are all considered \"connected\"\n",
    "    '''\n",
    "    \n",
    "    return _split_conn01(img, 8)\n",
    "\n",
    "def _split_object(img0, neighbor=4):\n",
    "    regions = []\n",
    "    img=np.array(img0)\n",
    "    mem = np.zeros_like(img, dtype=np.bool)\n",
    "    h, w = img.shape\n",
    "    for j in range(w):\n",
    "        for i in range(h):\n",
    "            p = img[i, j]\n",
    "            if p == BACKGROUND or mem[i, j]:\n",
    "                continue\n",
    "            conn_idx = _expand_region_indices(img, i, j, neighbor)\n",
    "            mem[conn_idx] = True\n",
    "            splitimage=np.where(conn_idx, img, BACKGROUND)\n",
    "#             minx=0\n",
    "#             miny=0\n",
    "#             maxx=0\n",
    "#             maxy=0\n",
    "#             for m in range(h):\n",
    "#                 if sum(splitimage[m,:])!=0:\n",
    "#                     miny=m\n",
    "#                     break\n",
    "#             for n in range(w):\n",
    "#                 if sum(splitimage[:,n])!=0:\n",
    "#                     minx=n\n",
    "#                     break\n",
    "#             for m in range(h-1,-1,-1):\n",
    "#                 if sum(splitimage[m,:])!=0:\n",
    "#                     maxy=m\n",
    "#                     break\n",
    "#             for n in range(w-1,-1,-1):\n",
    "#                 if sum(splitimage[:,n])!=0:\n",
    "#                     maxx=n\n",
    "#                     break\n",
    "            (minx,maxx,miny,maxy)=_get_bound(splitimage)\n",
    "            split_object=(splitimage[miny:maxy+1,minx:maxx+1]).tolist()\n",
    "            \n",
    "            \n",
    "            regions.append({'start': (miny, minx), 'obj':split_object})\n",
    "    return regions\n",
    "\n",
    "def _split_object01(img0, neighbor=4):\n",
    "    regions = []\n",
    "    img=np.array(img0)\n",
    "    mem = np.zeros_like(img, dtype=np.bool)\n",
    "    h, w = img.shape\n",
    "    for j in range(w):\n",
    "        for i in range(h):\n",
    "            p = img[i, j]\n",
    "            if p == BACKGROUND or mem[i, j]:\n",
    "                continue\n",
    "            conn_idx = _expand_region_indices01(img, i, j, neighbor)\n",
    "            mem[conn_idx] = True\n",
    "            splitimage=np.where(conn_idx, img, BACKGROUND)\n",
    "#             minx=0\n",
    "#             miny=0\n",
    "#             maxx=0\n",
    "#             maxy=0\n",
    "#             for m in range(h):\n",
    "#                 if sum(splitimage[m,:])!=0:\n",
    "#                     miny=m\n",
    "#                     break\n",
    "#             for n in range(w):\n",
    "#                 if sum(splitimage[:,n])!=0:\n",
    "#                     minx=n\n",
    "#                     break\n",
    "#             for m in range(h-1,-1,-1):\n",
    "#                 if sum(splitimage[m,:])!=0:\n",
    "#                     maxy=m \n",
    "#                     break\n",
    "#             for n in range(w-1,-1,-1):\n",
    "#                 if sum(splitimage[:,n])!=0:\n",
    "#                     maxx=n\n",
    "#                     break\n",
    "        \n",
    "            (minx,maxx,miny,maxy)=_get_bound(splitimage)\n",
    "            split_object=(splitimage[miny:maxy+1,minx:maxx+1]).tolist()\n",
    "            \n",
    "            \n",
    "            regions.append({'start': (miny, minx), 'obj':split_object})\n",
    "    return regions\n",
    "def split_color(img0): \n",
    "    \n",
    "    img=np.array(img0)\n",
    "    color = np.unique(img)\n",
    "    return [np.where(img == c, c, 0) for c in color if c != BACKGROUND]\n",
    "def split_color_crop(img0): \n",
    "    color_image=[]\n",
    "    img=np.array(img0)\n",
    "    color = np.unique(img)\n",
    "    for c in color:\n",
    "        if c!=BACKGROUND:\n",
    "            imgc=np.where(img == c, c, 0)\n",
    "            x0, x1, y0, y1=_get_bound(imgc)\n",
    "            imgc=(imgc[y0:y1+1,x0:x1+1]).tolist()\n",
    "            color_image.append(imgc)\n",
    "    \n",
    "    \n",
    "    return color_image\n",
    "def split_object(img):\n",
    "    return _split_object(img, neighbor=4)\n",
    "def split_object8(img):\n",
    "    return _split_object(img, neighbor=8)\n",
    "def split_object01(img):\n",
    "    return _split_object01(img, neighbor=4)\n",
    "def split_object801(img):\n",
    "    return _split_object01(img, neighbor=8)\n"
   ]
  },
  {
   "cell_type": "code",
   "execution_count": 10,
   "metadata": {},
   "outputs": [],
   "source": [
    "def object_dict(d):\n",
    "    name_dic={}\n",
    "    obj_dic={}\n",
    "    for i in range(len(d)):\n",
    "        d_obj=d[i][\"obj\"]\n",
    "        if str(d_obj) not in name_dic:\n",
    "            name_dic[str(d_obj)]=d_obj\n",
    "            obj_dic[str(d_obj)]=1\n",
    "        else:\n",
    "            obj_dic[str(d_obj)]+=1\n",
    "    \n",
    "    return obj_dic,name_dic"
   ]
  },
  {
   "cell_type": "code",
   "execution_count": 11,
   "metadata": {},
   "outputs": [],
   "source": [
    "def getObjectHash(pixmap):\n",
    "    flat = pixmap.flatten().astype(np.bool)\n",
    "    mult = np.array([2 ** x for x in range(len(flat))])\n",
    "    return np.sum(flat * mult)\n",
    "#經測試沒有overflow問題\n",
    "def groupByColor(pixmap):\n",
    "    nb_colors = int(pixmap.max()) + 1\n",
    "    splited = [(pixmap == i) * i for i in range(1, nb_colors)]\n",
    "    return [x for x in splited if np.any(x)]\n",
    "def checkColorMap(a0,b0):\n",
    "    a=np.array(a0)\n",
    "    b=np.array(b0)\n",
    "    c = 1\n",
    "    inp_hashes = sorted([getObjectHash(pm) for pm in groupByColor(a)])\n",
    "    out_hashes = sorted([getObjectHash(pm) for pm in groupByColor(b)])\n",
    "    c *= inp_hashes == out_hashes\n",
    "    return bool(c)\n",
    "def findColorMap(a,b):\n",
    "    colormap = {}\n",
    "    a1=np.array(a).flatten()\n",
    "    b1=np.array(b).flatten()\n",
    "\n",
    "    for col, idx in zip(*np.unique(a1,return_index=True)):\n",
    "        if col in colormap.keys(): continue\n",
    "        colormap[col] = b1[idx]\n",
    "    return colormap\n",
    "def applyColorMap(pixmap, colormap):\n",
    "    a1=np.array(pixmap)\n",
    "    for i in range(a1.shape[0]):\n",
    "        for j in range(a1.shape[1]):\n",
    "            if a1[i][j] not in colormap: #\n",
    "                continue #\n",
    "            a1[i][j]=colormap[pixmap[i][j]]\n",
    "    return a1.tolist()"
   ]
  },
  {
   "cell_type": "code",
   "execution_count": 12,
   "metadata": {},
   "outputs": [],
   "source": [
    "a=Trains[219][\"train\"][0][\"input\"]"
   ]
  },
  {
   "cell_type": "code",
   "execution_count": 13,
   "metadata": {},
   "outputs": [
    {
     "data": {
      "text/plain": [
       "[[3]]"
      ]
     },
     "execution_count": 13,
     "metadata": {},
     "output_type": "execute_result"
    }
   ],
   "source": [
    "split_object801(a)[0][\"obj\"]"
   ]
  },
  {
   "cell_type": "code",
   "execution_count": 14,
   "metadata": {},
   "outputs": [],
   "source": [
    "# #dic(array)\n",
    "# #plit_object801\n",
    "# def inoutmap3(basic_task):\n",
    "#     Input = [Defensive_Copy(x) for x in basic_task[0]]\n",
    "#     Output = [Defensive_Copy(y) for y in basic_task[1]]\n",
    "#     Test_Case = Input[-1]\n",
    "#     Input = Input[:-1]\n",
    "#     name_dic={}\n",
    "#     obj_dic={}\n",
    "#     for x, y in zip(Input,Output):\n",
    "#         x_array=np.array(x)\n",
    "#         y_array=np.array(y)\n",
    "#         n0,m0=len(x),len(x[0])\n",
    "#         a=split_object801(x)\n",
    "#         if len(a)>10 or len(a)==0:\n",
    "#             return -1\n",
    "#         obj=[]\n",
    "#         for i in range(len(a)):\n",
    "#             obj.append(a[i][\"obj\"])\n",
    "#         di_obj=[]\n",
    "#         for i in range(len(obj)):\n",
    "#             if obj[i] not in di_obj:\n",
    "#                 di_obj.append(obj[i])\n",
    "\n",
    "#         for k in range(len(di_obj)):\n",
    "#             example=di_obj[k]\n",
    "#             #print(example)\n",
    "#             n,m=len(example),len(example[0])\n",
    "#             for i in range(n0-n+1):\n",
    "#                 for j in range(m0-m+1):\n",
    "#                     if x_array[i:i+n,j:j+m].tolist()==example:\n",
    "                        \n",
    "#                         if i-1>=0 and i+n+1<=n0 and j-1>=0 and j+m+1<=m0:\n",
    "                            \n",
    "#                             tmp_x=x_array[i-1:i+n+1,j-1:j+m+1]\n",
    "#                             tmp_y=y_array[i-1:i+n+1,j-1:j+m+1]\n",
    "#                             if str(tmp_x) not in obj_dic:\n",
    "#                                 name_dic[str(tmp_x)]=tmp_x\n",
    "#                                 obj_dic[str(tmp_x)]=tmp_y\n",
    "#         #print(obj_dic)\n",
    "\n",
    "#     return name_dic,obj_dic\n",
    "    \n",
    "    "
   ]
  },
  {
   "cell_type": "code",
   "execution_count": 15,
   "metadata": {},
   "outputs": [],
   "source": [
    "# #dic(array)\n",
    "# #plit_object801\n",
    "# def inoutmap0(basic_task):\n",
    "#     Input = [Defensive_Copy(x) for x in basic_task[0]]\n",
    "#     Output = [Defensive_Copy(y) for y in basic_task[1]]\n",
    "#     Test_Case = Input[-1]\n",
    "#     Input = Input[:-1]\n",
    "#     name_dic={}\n",
    "#     obj_dic={}\n",
    "#     for x, y in zip(Input,Output):\n",
    "#         x_array=np.array(x)\n",
    "#         y_array=np.array(y)\n",
    "#         n0,m0=len(x),len(x[0])\n",
    "#         a=split_object801(x)\n",
    "#         if len(a)>10 or len(a)==0:\n",
    "#             return -1\n",
    "#         obj=[]\n",
    "#         for i in range(len(a)):\n",
    "#             obj.append(a[i][\"obj\"])\n",
    "#         di_obj=[]\n",
    "#         for i in range(len(obj)):\n",
    "#             if obj[i] not in di_obj:\n",
    "#                 di_obj.append(obj[i])\n",
    "#         #print(di_obj)\n",
    "\n",
    "#         for k in range(len(di_obj)):\n",
    "#             example=di_obj[k]\n",
    "           \n",
    "#             n,m=len(example),len(example[0])\n",
    "            \n",
    "#             for i in range(n0-n+1):\n",
    "#                 for j in range(m0-m+1):\n",
    "                    \n",
    "#                     if x_array[i:i+n,j:j+m].tolist()==example:\n",
    "                        \n",
    "                        \n",
    "#                         if i>=0 and i+n<=n0 and j>=0 and j+m<=m0:\n",
    "                            \n",
    "#                             tmp_x=x_array[i:i+n,j:j+m]\n",
    "#                             tmp_y=y_array[i:i+n,j:j+m]\n",
    "#                             if str(tmp_x) not in obj_dic:\n",
    "#                                 name_dic[str(tmp_x)]=tmp_x\n",
    "#                                 obj_dic[str(tmp_x)]=tmp_y\n",
    "#         #print(obj_dic)\n",
    "\n",
    "#     return name_dic,obj_dic\n",
    "    "
   ]
  },
  {
   "cell_type": "code",
   "execution_count": 16,
   "metadata": {},
   "outputs": [],
   "source": [
    "#dic(array)\n",
    "#plit_object801\n",
    "def inoutmap(basic_task,n1,n2,m1,m2):\n",
    "    Input = [Defensive_Copy(x) for x in basic_task[0]]\n",
    "    Output = [Defensive_Copy(y) for y in basic_task[1]]\n",
    "    Test_Case = Input[-1]\n",
    "    Input = Input[:-1]\n",
    "    name_dic={}\n",
    "    obj_dic={}\n",
    "    for x, y in zip(Input,Output):\n",
    "        x_array=np.array(x)\n",
    "        y_array=np.array(y)\n",
    "        n0,m0=len(x),len(x[0])\n",
    "        a=split_object801(x)\n",
    "        if len(a)>10 or len(a)==0:\n",
    "            return -1\n",
    "        obj=[]\n",
    "        for i in range(len(a)):\n",
    "            obj.append(a[i][\"obj\"])\n",
    "        di_obj=[]\n",
    "        for i in range(len(obj)):\n",
    "            if obj[i] not in di_obj:\n",
    "                di_obj.append(obj[i])\n",
    "        \n",
    "\n",
    "\n",
    "\n",
    "        for k in range(len(di_obj)):\n",
    "            example=di_obj[k]\n",
    "            #print(example)\n",
    "            n,m=len(example),len(example[0])\n",
    "            for i in range(n0-n+1):\n",
    "                for j in range(m0-m+1):\n",
    "                    if x_array[i:i+n,j:j+m].tolist()==example:\n",
    "                        \n",
    "                        if i-n1>=0 and i+n+n2<=n0 and j-m1>=0 and j+m+m2<=m0:\n",
    "                            \n",
    "                            tmp_x=x_array[i-n1:i+n+n2,j-m1:j+m+m2]\n",
    "                            tmp_y=y_array[i-n1:i+n+n2,j-m1:j+m+m2]\n",
    "                            if str(tmp_x) not in obj_dic:\n",
    "                                name_dic[str(tmp_x)]=tmp_x\n",
    "                                obj_dic[str(tmp_x)]=tmp_y\n",
    "        #print(obj_dic)\n",
    "\n",
    "    return name_dic,obj_dic"
   ]
  },
  {
   "cell_type": "code",
   "execution_count": 17,
   "metadata": {},
   "outputs": [],
   "source": [
    "# def solve_inoutmap3(basic_task):\n",
    "#     Input = [Defensive_Copy(x) for x in basic_task[0]]\n",
    "#     Output = [Defensive_Copy(y) for y in basic_task[1]]\n",
    "#     Test_Case = Input[-1]\n",
    "#     Input = Input[:-1]\n",
    "    \n",
    "#     if inoutmap3(basic_task)==-1:\n",
    "#         return -1\n",
    "#     name_dic,object_dict=inoutmap(basic_task,1,1,1,1)\n",
    "    \n",
    "#     for x, y in zip(Input,Output):\n",
    "        \n",
    "#         if len(x)!=len(y) or len(x[0])!=len(y[0]):\n",
    "#             return -1\n",
    "#         x_array=np.array(x)\n",
    "#         x_array_pad=np.pad(x_array,((1,1),(1,1)),'constant',constant_values = (0,0)) \n",
    "#         x_array_copy=x_array.copy()\n",
    "#         x_pad1=np.pad(x_array_copy,((1,1),(1,1)),'constant',constant_values = (0,0)) \n",
    "#         y_array=np.array(y)\n",
    "#         n0,m0=len(x),len(x[0])\n",
    "        \n",
    "#         a=split_object801(x)\n",
    "        \n",
    "#         if len(a)>10 or len(a)==0:\n",
    "#             return -1\n",
    "#         obj=[]\n",
    "#         for i in range(len(a)):\n",
    "#             obj.append(a[i][\"obj\"])\n",
    "#         di_obj=[]\n",
    "#         for i in range(len(obj)):\n",
    "#             if obj[i] not in di_obj:\n",
    "#                 di_obj.append(obj[i])\n",
    "#         #print(di_obj)\n",
    "#         for k in range(len(di_obj)):\n",
    "#             example=di_obj[k]\n",
    "#             n,m=len(example),len(example[0])\n",
    "#             for i in range(n0-n+1):\n",
    "#                 for j in range(m0-m+1):\n",
    "#                     if x_array_pad[i+1:i+n+1,j+1:j+m+1].tolist()==example:\n",
    "                        \n",
    "#                         if str(x_array_pad[i:i+n+1+1,j:j+m+1+1]) not in object_dict:\n",
    "#                             return -1\n",
    "                       \n",
    "\n",
    "#                         try:\n",
    "#                             x_pad1[i:i+n+1+1,j:j+m+1+1]=object_dict[str(x_array_pad[i:i+n+1+1,j:j+m+1+1])]\n",
    "                            \n",
    "#                         except:\n",
    "#                             return-1\n",
    "                        \n",
    "#         #avoid x_pad1[0:0,0:0]\n",
    "#         #print(x_pad1)\n",
    "#         x_pad2=np.pad(x_pad1,((1,1),(1,1)),'constant',constant_values = (0,0)) \n",
    "#         #print(x_pad2)\n",
    "#         res=x_pad2[2:-2,2:-2]\n",
    "#         #print(res)\n",
    "        \n",
    "#         if not (res==y_array).all():\n",
    "#             return -1\n",
    "        \n",
    "    \n",
    "#     Test_Case_array=np.array(Test_Case)\n",
    "#     Test_Case_array_copy=Test_Case_array.copy()\n",
    "#     Test_Case_pad=np.pad(Test_Case_array_copy,((1,1),(1,1)),'constant',constant_values = (0,0)) \n",
    "#     Test_Case_pad1=np.pad(Test_Case_array_copy,((1,1),(1,1)),'constant',constant_values = (0,0)) \n",
    "#     n0,m0=len(Test_Case),len(Test_Case[0])\n",
    "#     a=split_object801(Test_Case)\n",
    "#     obj=[]\n",
    "    \n",
    "#     for i in range(len(a)):\n",
    "#         obj.append(a[i][\"obj\"])\n",
    "#     di_obj=[]\n",
    "#     for i in range(len(obj)):\n",
    "#         if obj[i] not in di_obj:\n",
    "#             di_obj.append(obj[i])\n",
    "#     for k in range(len(di_obj)):\n",
    "#             example=di_obj[k]\n",
    "#             n,m=len(example),len(example[0])\n",
    "#             for i in range(n0-n+1):\n",
    "#                 for j in range(m0-m+1):\n",
    "#                     if  Test_Case_pad[i+1:i+n+1,j+1:j+m+1].tolist()==example:\n",
    "                        \n",
    "#                         if str(Test_Case_pad[i:i+n+1+1,j:j+m+1+1]) not in object_dict:\n",
    "#                             return -1\n",
    "                        \n",
    "                       \n",
    "#                         Test_Case_pad1[i:i+n+1+1,j:j+m+1+1]=object_dict[str(Test_Case_pad[i:i+n+1+1,j:j+m+1+1])]\n",
    "#                         Test_Case_pad2=np.pad(Test_Case_pad1,((1,1),(1,1)),'constant',constant_values = (0,0))\n",
    "#     return Test_Case_pad2[2:-2,2:-2].tolist()"
   ]
  },
  {
   "cell_type": "code",
   "execution_count": 29,
   "metadata": {},
   "outputs": [],
   "source": [
    "def solve_inoutmap(basic_task,n1,n2,m1,m2):\n",
    "    Input = [Defensive_Copy(x) for x in basic_task[0]]\n",
    "    Output = [Defensive_Copy(y) for y in basic_task[1]]\n",
    "    Test_Case = Input[-1]\n",
    "    Input = Input[:-1]\n",
    "    \n",
    "    if inoutmap(basic_task,n1,n2,m1,m2)==-1:\n",
    "        return -1\n",
    "    name_dic,object_dict=inoutmap(basic_task,n1,n2,m1,m2)\n",
    "    \n",
    "    for x, y in zip(Input,Output):\n",
    "        \n",
    "        if len(x)!=len(y) or len(x[0])!=len(y[0]):\n",
    "            return -1\n",
    "        x_array=np.array(x)\n",
    "        x_array_pad=np.pad(x_array,((n1,n2),(m1,m2)),'constant',constant_values = (0,0)) \n",
    "        x_array_copy=x_array.copy()\n",
    "        x_pad1=np.pad(x_array_copy,((n1,n2),(m1,m2)),'constant',constant_values = (0,0)) \n",
    "        y_array=np.array(y)\n",
    "        n0,m0=len(x),len(x[0])\n",
    "        \n",
    "        a=split_object801(x)\n",
    "        \n",
    "        if len(a)>10 or len(a)==0:\n",
    "            return -1\n",
    "        obj=[]\n",
    "        for i in range(len(a)):\n",
    "            obj.append(a[i][\"obj\"])\n",
    "        di_obj=[]\n",
    "        for i in range(len(obj)):\n",
    "            if obj[i] not in di_obj:\n",
    "                di_obj.append(obj[i])\n",
    "        #print(di_obj)\n",
    "        for k in range(len(di_obj)):\n",
    "            example=di_obj[k]\n",
    "            n,m=len(example),len(example[0])\n",
    "            for i in range(n0-n+1):\n",
    "                for j in range(m0-m+1):\n",
    "                    if x_array_pad[i+n1:i+n+n1,j+m1:j+m+m1].tolist()==example:\n",
    "                        \n",
    "                        if str(x_array_pad[i:i+n+n1+n2,j:j+m+m1+m2]) not in object_dict:\n",
    "                            return -1\n",
    "                       \n",
    "\n",
    "                        try:\n",
    "                            x_pad1[i:i+n+n1+n2,j:j+m+m1+m2]=object_dict[str(x_array_pad[i:i+n+n1+n2,j:j+m+m1+m2])]\n",
    "                            \n",
    "                        except:\n",
    "                            return-1\n",
    "                        \n",
    "        #avoid x_pad1[0:0,0:0]\n",
    "        #print(x_pad1)\n",
    "        x_pad2=np.pad(x_pad1,((1,1),(1,1)),'constant',constant_values = (0,0)) \n",
    "        #print(x_pad2)\n",
    "        res=x_pad2[1+n1:-1-n2,1+m1:-1-m2]\n",
    "        #print(res)\n",
    "        \n",
    "        if not (res==y_array).all():\n",
    "            return -1\n",
    "        \n",
    "    \n",
    "    Test_Case_array=np.array(Test_Case)\n",
    "    Test_Case_array_copy=Test_Case_array.copy()\n",
    "    Test_Case_pad=np.pad(Test_Case_array_copy,((n1,n2),(m1,m2)),'constant',constant_values = (0,0)) \n",
    "    Test_Case_pad1=np.pad(Test_Case_array_copy,((n1,n2),(m1,m2)),'constant',constant_values = (0,0)) \n",
    "    n0,m0=len(Test_Case),len(Test_Case[0])\n",
    "    a=split_object801(Test_Case)\n",
    "    obj=[]\n",
    "    \n",
    "    for i in range(len(a)):\n",
    "        obj.append(a[i][\"obj\"])\n",
    "    di_obj=[]\n",
    "    for i in range(len(obj)):\n",
    "        if obj[i] not in di_obj:\n",
    "            di_obj.append(obj[i])\n",
    "    for k in range(len(di_obj)):\n",
    "            example=di_obj[k]\n",
    "            n,m=len(example),len(example[0])\n",
    "            for i in range(n0-n+1):\n",
    "                for j in range(m0-m+1):\n",
    "                    if  Test_Case_pad[i+n1:i+n+n1,j+m1:j+m+m1].tolist()==example:\n",
    "                        \n",
    "                        if str(Test_Case_pad[i:i+n+n1+n2,j:j+m+m1+m2]) not in object_dict:\n",
    "                            return -1\n",
    "                        \n",
    "                       \n",
    "                        Test_Case_pad1[i:i+n+n1+n2,j:j+m+m1+m2]=object_dict[str(Test_Case_pad[i:i+n+n1+n2,j:j+m+m1+m2])]\n",
    "                        Test_Case_pad2=np.pad(Test_Case_pad1,((1,1),(1,1)),'constant',constant_values = (0,0))\n",
    "    return Test_Case_pad2[1+n1:-1-n2,1+m1:-1-m2].tolist()"
   ]
  },
  {
   "cell_type": "code",
   "execution_count": 30,
   "metadata": {},
   "outputs": [],
   "source": [
    "#dont use solve_inoutmap_colormap(basic_task,0,0,0,0)\n",
    "#use solve_inoutmap(basic_task,0,0,0,0)\n",
    "def solve_inoutmap_colormap(basic_task,n1,n2,m1,m2):\n",
    "    Input = [Defensive_Copy(x) for x in basic_task[0]]\n",
    "    Output = [Defensive_Copy(y) for y in basic_task[1]]\n",
    "    Test_Case = Input[-1]\n",
    "    Input = Input[:-1]\n",
    "    \n",
    "    if inoutmap(basic_task,n1,n2,m1,m2)==-1:\n",
    "        return -1\n",
    "    name_dic,object_dict=inoutmap(basic_task,n1,n2,m1,m2)\n",
    "    \n",
    "    for x, y in zip(Input,Output):\n",
    "        \n",
    "        if len(x)!=len(y) or len(x[0])!=len(y[0]):\n",
    "            return -1\n",
    "        x_array=np.array(x)\n",
    "        x_array_pad=np.pad(x_array,((n1,n2),(m1,m2)),'constant',constant_values = (0,0)) \n",
    "        #print(x_array_pad)\n",
    "        x_array_copy=x_array.copy()\n",
    "        x_pad1=np.pad(x_array_copy,((n1,n2),(m1,m2)),'constant',constant_values = (0,0)) \n",
    "        y_array=np.array(y)\n",
    "        n0,m0=len(x),len(x[0])\n",
    "        \n",
    "        a=split_object801(x)\n",
    "        \n",
    "        if len(a)>10 or len(a)==0:\n",
    "            return -1\n",
    "        obj=[]\n",
    "        for i in range(len(a)):\n",
    "            obj.append(a[i][\"obj\"])\n",
    "        di_obj=[]\n",
    "        for i in range(len(obj)):\n",
    "            if obj[i] not in di_obj:\n",
    "                di_obj.append(obj[i])\n",
    "        #print(di_obj)\n",
    "        for k in range(len(di_obj)):\n",
    "            example=di_obj[k]\n",
    "            n,m=len(example),len(example[0])\n",
    "            for i in range(n0-n+1):\n",
    "                for j in range(m0-m+1):\n",
    "                    if x_array_pad[i+n1:i+n+n1,j+m1:j+m+m1].tolist()==example:\n",
    "                        \n",
    "                        if str(x_array_pad[i:i+n+n1+n2,j:j+m+m1+m2]) not in object_dict:\n",
    "                            return -1\n",
    "                       \n",
    "\n",
    "                        try:\n",
    "                            x_pad1[i:i+n+n1+n2,j:j+m+m1+m2]=object_dict[str(x_array_pad[i:i+n+n1+n2,j:j+m+m1+m2])]\n",
    "                            \n",
    "                        except:\n",
    "                            return-1\n",
    "                        \n",
    "        #avoid x_pad1[0:0,0:0]\n",
    "        #print(x_pad1)\n",
    "        x_pad2=np.pad(x_pad1,((1,1),(1,1)),'constant',constant_values = (0,0)) \n",
    " \n",
    "        #print(x_pad2)\n",
    "        res=x_pad2[1+n1:-1-n2,1+m1:-1-m2]\n",
    "    \n",
    "        #print(res)\n",
    "        \n",
    "        if not (res==y_array).all():\n",
    "            return -1\n",
    "        \n",
    "    \n",
    "    Test_Case_array=np.array(Test_Case)\n",
    "    Test_Case_array_copy=Test_Case_array.copy()\n",
    "    Test_Case_pad=np.pad(Test_Case_array_copy,((n1,n2),(m1,m2)),'constant',constant_values = (0,0)) \n",
    "    Test_Case_pad1=np.pad(Test_Case_array_copy,((n1,n2),(m1,m2)),'constant',constant_values = (0,0)) \n",
    "    n0,m0=len(Test_Case),len(Test_Case[0])\n",
    "    a=split_object801(Test_Case)\n",
    "    obj=[]\n",
    "    \n",
    "    for i in range(len(a)):\n",
    "        obj.append(a[i][\"obj\"])\n",
    "    di_obj=[]\n",
    "    for i in range(len(obj)):\n",
    "        if obj[i] not in di_obj:\n",
    "            di_obj.append(obj[i])\n",
    "    for k in range(len(di_obj)):\n",
    "            example=di_obj[k]\n",
    "            n,m=len(example),len(example[0])\n",
    "            for i in range(n0-n+1):\n",
    "                for j in range(m0-m+1):\n",
    "                    if  Test_Case_pad[i+n1:i+n+n1,j+m1:j+m+m1].tolist()==example:\n",
    "                        \n",
    "                        if str(Test_Case_pad[i:i+n+n1+n2,j:j+m+m1+m2]) in object_dict:\n",
    "                            Test_Case_pad1[i:i+n+n1+n2,j:j+m+m1+m2]=object_dict[str(Test_Case_pad[i:i+n+n1+n2,j:j+m+m1+m2])]\n",
    "                        else:\n",
    "                            color_res=False\n",
    "                            for value in name_dic.values():\n",
    "                                if checkColorMap(Test_Case_pad[i:i+n+n1+n2,j:j+m+m1+m2],value)==True and value.shape!=(n1+1+n2,m1+1+m2):\n",
    "                                    colormap=findColorMap(value,Test_Case_pad[i:i+n+n1+n2,j:j+m+m1+m2])\n",
    "                                    Test_Case_pad1[i:i+n+n1+n2,j:j+m+m1+m2]=np.array(applyColorMap(object_dict[str(value)],colormap))\n",
    "                                    color_res=True\n",
    "                                    break\n",
    "                            if color_res==False:\n",
    "                                return -1\n",
    "                        \n",
    "                       \n",
    "                        \n",
    "                        Test_Case_pad2=np.pad(Test_Case_pad1,((1,1),(1,1)),'constant',constant_values = (0,0))\n",
    "    return Test_Case_pad2[1+n1:-1-n2,1+m1:-1-m2].tolist()"
   ]
  },
  {
   "cell_type": "code",
   "execution_count": 31,
   "metadata": {},
   "outputs": [],
   "source": [
    "# for i in range(98,99):\n",
    "#     task = Trains[i]\n",
    "#     k = len(task['test'])\n",
    "\n",
    "#     for j in range(k):        \n",
    "#         basic_task = Create(task, j)\n",
    "#         a=solve_inoutmap_colormap(basic_task,1,0,0,0)\n",
    "#         if a!=-1 :\n",
    "#             print(i,j)\n",
    "#             #solved_train.append((i,j))\n",
    "#             plot_task(task)\n",
    "#             plot_picture(a)\n",
    "#             solved_id.add(i)\n",
    "        \n",
    "# # has problem"
   ]
  },
  {
   "cell_type": "code",
   "execution_count": 32,
   "metadata": {},
   "outputs": [],
   "source": [
    "# for i in range(400):\n",
    "#     task = Trains[i]\n",
    "#     k = len(task['test'])\n",
    "\n",
    "#     for j in range(k):        \n",
    "#         basic_task = Create(task, j)\n",
    "#         a=solve_inoutmap_colormap(basic_task,2,2,2,2)\n",
    "#         if a!=-1 :\n",
    "#             print(i,j)\n",
    "#             #solved_train.append((i,j))\n",
    "#             plot_task(task)\n",
    "#             plot_picture(a)\n",
    "#             solved_id.add(i)\n",
    " \n",
    "            "
   ]
  },
  {
   "cell_type": "code",
   "execution_count": 33,
   "metadata": {},
   "outputs": [],
   "source": [
    "# def solve_inoutmap0(basic_task):\n",
    "#     Input = [Defensive_Copy(x) for x in basic_task[0]]\n",
    "#     Output = [Defensive_Copy(y) for y in basic_task[1]]\n",
    "#     Test_Case = Input[-1]\n",
    "#     Input = Input[:-1]\n",
    "    \n",
    "#     if inoutmap3(basic_task)==-1:\n",
    "#         return -1\n",
    "#     name_dic,object_dict=inoutmap(basic_task,0,0,0,0)\n",
    "#     #print(object_dict)\n",
    "    \n",
    "#     for x, y in zip(Input,Output):\n",
    "        \n",
    "#         if len(x)!=len(y) or len(x[0])!=len(y[0]):\n",
    "#             return -1\n",
    "#         x_array=np.array(x)\n",
    "#         x_array_pad=np.pad(x_array,((0,0),(0,0)),'constant',constant_values = (0,0)) \n",
    "#         x_array_copy=x_array.copy()\n",
    "#         x_pad1=np.pad(x_array_copy,((0,0),(0,0)),'constant',constant_values = (0,0)) \n",
    "#         y_array=np.array(y)\n",
    "#         n0,m0=len(x),len(x[0])\n",
    "        \n",
    "#         a=split_object801(x)\n",
    "        \n",
    "#         if len(a)>10 or len(a)==0:\n",
    "#             return -1\n",
    "#         obj=[]\n",
    "#         for i in range(len(a)):\n",
    "#             obj.append(a[i][\"obj\"])\n",
    "#         di_obj=[]\n",
    "#         for i in range(len(obj)):\n",
    "#             if obj[i] not in di_obj:\n",
    "#                 di_obj.append(obj[i])\n",
    "#         #print(di_obj)\n",
    "#         for k in range(len(di_obj)):\n",
    "#             example=di_obj[k]\n",
    "#             n,m=len(example),len(example[0])\n",
    "#             for i in range(n0-n+1):\n",
    "#                 for j in range(m0-m+1):\n",
    "#                     if x_array_pad[i:i+n,j:j+m].tolist()==example:\n",
    "                        \n",
    "#                         if str(x_array_pad[i:i+n,j:j+m]) not in object_dict:\n",
    "#                             return -1\n",
    "                       \n",
    "\n",
    "#                         try:\n",
    "#                             x_pad1[i:i+n,j:j+m]=object_dict[str(x_array_pad[i:i+n,j:j+m])]\n",
    "                            \n",
    "#                         except:\n",
    "#                             return-1\n",
    "#         #avoid x_pad1[0:0,0:0]\n",
    "#         x_pad2=np.pad(x_pad1,((1,1),(1,1)),'constant',constant_values = (0,0)) \n",
    "#         res=x_pad2[1:-1,1:-1]\n",
    "#         #print(res)\n",
    "       \n",
    "        \n",
    "#         if not (res==y_array).all():\n",
    "#             return -1\n",
    "        \n",
    "    \n",
    "#     Test_Case_array=np.array(Test_Case)\n",
    "#     Test_Case_array_copy=Test_Case_array.copy()\n",
    "#     Test_Case_pad=np.pad(Test_Case_array_copy,((0,0),(0,0)),'constant',constant_values = (0,0)) \n",
    "#     Test_Case_pad1=np.pad(Test_Case_array_copy,((0,0),(0,0)),'constant',constant_values = (0,0)) \n",
    "#     n0,m0=len(Test_Case),len(Test_Case[0])\n",
    "#     a=split_object801(Test_Case)\n",
    "#     obj=[]\n",
    "    \n",
    "#     for i in range(len(a)):\n",
    "#         obj.append(a[i][\"obj\"])\n",
    "#     di_obj=[]\n",
    "#     for i in range(len(obj)):\n",
    "#         if obj[i] not in di_obj:\n",
    "#             di_obj.append(obj[i])\n",
    "#     for k in range(len(di_obj)):\n",
    "#             example=di_obj[k]\n",
    "#             n,m=len(example),len(example[0])\n",
    "#             for i in range(n0-n+1):\n",
    "#                 for j in range(m0-m+1):\n",
    "#                     if  Test_Case_pad[i:i+n,j:j+m].tolist()==example:\n",
    "                        \n",
    "#                         if str(Test_Case_pad[i:i+n,j:j+m]) not in object_dict:\n",
    "#                             return -1\n",
    "                        \n",
    "                       \n",
    "#                         Test_Case_pad1[i:i+n,j:j+m]=object_dict[str(Test_Case_pad[i:i+n,j:j+m])]\n",
    "#                         Test_Case_pad2=np.pad(Test_Case_pad1,((1,1),(1,1)),'constant',constant_values = (0,0)) \n",
    "#     return Test_Case_pad2[1:-1,1:-1].tolist()"
   ]
  },
  {
   "cell_type": "code",
   "execution_count": 34,
   "metadata": {},
   "outputs": [],
   "source": [
    "# task=Trains[265]\n",
    "# basic_task = Create(task, 0)\n",
    "# # if solve_inoutmap3(basic_task)!=-1:\n",
    "# #     plot_picture(solve_inoutmap3(basic_task))\n",
    "# print(solve_inoutmap3(basic_task))"
   ]
  },
  {
   "cell_type": "code",
   "execution_count": 35,
   "metadata": {},
   "outputs": [],
   "source": [
    "# for i in range(400):\n",
    "#     task = Trains[i]\n",
    "#     k = len(task['test'])\n",
    "\n",
    "#     for j in range(k):        \n",
    "#         basic_task = Create(task, j)\n",
    "#         a=solve_inoutmap(basic_task,0,0,0,0)\n",
    "#         if a!=-1 :\n",
    "#             print(i,j)\n",
    "#             #solved_train.append((i,j))\n",
    "#             plot_task(task)\n",
    "#             plot_picture(a)\n",
    "#             solved_id.add(i)"
   ]
  },
  {
   "cell_type": "code",
   "execution_count": 36,
   "metadata": {},
   "outputs": [],
   "source": [
    "# for i in range(400):\n",
    "#     task = Evals[i]\n",
    "#     k = len(task['test'])\n",
    "\n",
    "#     for j in range(k):        \n",
    "#         basic_task = Create(task, j)\n",
    "#         a=solve_inoutmap(basic_task,0,0,0,0)\n",
    "#         if a!=-1 :\n",
    "#             print(i,j)\n",
    "#             #solved_train.append((i,j))\n",
    "#             plot_task(task)\n",
    "#             plot_picture(a)\n",
    "#             solved_eva_id.add(i)"
   ]
  },
  {
   "cell_type": "code",
   "execution_count": 37,
   "metadata": {},
   "outputs": [],
   "source": [
    "# for i in range(400):\n",
    "#     task = Trains[i]\n",
    "#     k = len(task['test'])\n",
    "\n",
    "#     for j in range(k):        \n",
    "#         basic_task = Create(task, j)\n",
    "#         a=solve_inoutmap(basic_task,1,1,1,1)\n",
    "#         if a!=-1 :\n",
    "#             print(i,j)\n",
    "#             #solved_train.append((i,j))\n",
    "#             plot_task(task)\n",
    "#             plot_picture(a)\n",
    "#             solved_id.add(i)"
   ]
  },
  {
   "cell_type": "code",
   "execution_count": 38,
   "metadata": {},
   "outputs": [
    {
     "name": "stdout",
     "output_type": "stream",
     "text": [
      "11 0\n"
     ]
    },
    {
     "data": {
      "image/png": "[encoded data removed]",
      "text/plain": [
       "<Figure size 600x400 with 6 Axes>"
      ]
     },
     "metadata": {
      "needs_background": "light"
     },
     "output_type": "display_data"
    },
    {
     "data": {
      "image/png": "[encoded data removed]",
      "text/plain": [
       "<Figure size 432x288 with 1 Axes>"
      ]
     },
     "metadata": {
      "needs_background": "light"
     },
     "output_type": "display_data"
    },
    {
     "name": "stdout",
     "output_type": "stream",
     "text": [
      "85 0\n"
     ]
    },
    {
     "data": {
      "image/png": "[encoded data removed]",
      "text/plain": [
       "<Figure size 800x400 with 8 Axes>"
      ]
     },
     "metadata": {
      "needs_background": "light"
     },
     "output_type": "display_data"
    },
    {
     "data": {
      "image/png": "[encoded data removed]",
      "text/plain": [
       "<Figure size 432x288 with 1 Axes>"
      ]
     },
     "metadata": {
      "needs_background": "light"
     },
     "output_type": "display_data"
    },
    {
     "name": "stdout",
     "output_type": "stream",
     "text": [
      "94 0\n"
     ]
    },
    {
     "data": {
      "image/png": "[encoded data removed]",
      "text/plain": [
       "<Figure size 600x400 with 6 Axes>"
      ]
     },
     "metadata": {
      "needs_background": "light"
     },
     "output_type": "display_data"
    },
    {
     "data": {
      "image/png": "[encoded data removed]",
      "text/plain": [
       "<Figure size 432x288 with 1 Axes>"
      ]
     },
     "metadata": {
      "needs_background": "light"
     },
     "output_type": "display_data"
    },
    {
     "name": "stdout",
     "output_type": "stream",
     "text": [
      "219 0\n"
     ]
    },
    {
     "data": {
      "image/png": "[encoded data removed]",
      "text/plain": [
       "<Figure size 1000x400 with 10 Axes>"
      ]
     },
     "metadata": {
      "needs_background": "light"
     },
     "output_type": "display_data"
    },
    {
     "data": {
      "image/png": "[encoded data removed]",
      "text/plain": [
       "<Figure size 432x288 with 1 Axes>"
      ]
     },
     "metadata": {
      "needs_background": "light"
     },
     "output_type": "display_data"
    },
    {
     "name": "stdout",
     "output_type": "stream",
     "text": [
      "227 0\n"
     ]
    },
    {
     "data": {
      "image/png": "[encoded data removed]",
      "text/plain": [
       "<Figure size 800x400 with 8 Axes>"
      ]
     },
     "metadata": {
      "needs_background": "light"
     },
     "output_type": "display_data"
    },
    {
     "data": {
      "image/png": "[encoded data removed]",
      "text/plain": [
       "<Figure size 432x288 with 1 Axes>"
      ]
     },
     "metadata": {
      "needs_background": "light"
     },
     "output_type": "display_data"
    },
    {
     "name": "stdout",
     "output_type": "stream",
     "text": [
      "229 0\n"
     ]
    },
    {
     "data": {
      "image/png": "[encoded data removed]",
      "text/plain": [
       "<Figure size 800x400 with 8 Axes>"
      ]
     },
     "metadata": {
      "needs_background": "light"
     },
     "output_type": "display_data"
    },
    {
     "data": {
      "image/png": "[encoded data removed]",
      "text/plain": [
       "<Figure size 432x288 with 1 Axes>"
      ]
     },
     "metadata": {
      "needs_background": "light"
     },
     "output_type": "display_data"
    },
    {
     "name": "stdout",
     "output_type": "stream",
     "text": [
      "265 0\n"
     ]
    },
    {
     "data": {
      "image/png": "[encoded data removed]",
      "text/plain": [
       "<Figure size 1000x400 with 10 Axes>"
      ]
     },
     "metadata": {
      "needs_background": "light"
     },
     "output_type": "display_data"
    },
    {
     "data": {
      "image/png": "[encoded data removed]",
      "text/plain": [
       "<Figure size 432x288 with 1 Axes>"
      ]
     },
     "metadata": {
      "needs_background": "light"
     },
     "output_type": "display_data"
    },
    {
     "name": "stdout",
     "output_type": "stream",
     "text": [
      "281 0\n"
     ]
    },
    {
     "data": {
      "image/png": "[encoded data removed]",
      "text/plain": [
       "<Figure size 600x400 with 6 Axes>"
      ]
     },
     "metadata": {
      "needs_background": "light"
     },
     "output_type": "display_data"
    },
    {
     "data": {
      "image/png": "[encoded data removed]",
      "text/plain": [
       "<Figure size 432x288 with 1 Axes>"
      ]
     },
     "metadata": {
      "needs_background": "light"
     },
     "output_type": "display_data"
    },
    {
     "name": "stdout",
     "output_type": "stream",
     "text": [
      "301 0\n"
     ]
    },
    {
     "data": {
      "image/png": "[encoded data removed]",
      "text/plain": [
       "<Figure size 800x400 with 8 Axes>"
      ]
     },
     "metadata": {
      "needs_background": "light"
     },
     "output_type": "display_data"
    },
    {
     "data": {
      "image/png": "[encoded data removed]",
      "text/plain": [
       "<Figure size 432x288 with 1 Axes>"
      ]
     },
     "metadata": {
      "needs_background": "light"
     },
     "output_type": "display_data"
    },
    {
     "name": "stdout",
     "output_type": "stream",
     "text": [
      "316 0\n"
     ]
    },
    {
     "data": {
      "image/png": "[encoded data removed]",
      "text/plain": [
       "<Figure size 600x400 with 6 Axes>"
      ]
     },
     "metadata": {
      "needs_background": "light"
     },
     "output_type": "display_data"
    },
    {
     "data": {
      "image/png": "[encoded data removed]",
      "text/plain": [
       "<Figure size 432x288 with 1 Axes>"
      ]
     },
     "metadata": {
      "needs_background": "light"
     },
     "output_type": "display_data"
    },
    {
     "name": "stdout",
     "output_type": "stream",
     "text": [
      "330 0\n"
     ]
    },
    {
     "data": {
      "image/png": "[encoded data removed]",
      "text/plain": [
       "<Figure size 600x400 with 6 Axes>"
      ]
     },
     "metadata": {
      "needs_background": "light"
     },
     "output_type": "display_data"
    },
    {
     "data": {
      "image/png": "[encoded data removed]",
      "text/plain": [
       "<Figure size 432x288 with 1 Axes>"
      ]
     },
     "metadata": {
      "needs_background": "light"
     },
     "output_type": "display_data"
    }
   ],
   "source": [
    "for i in range(400):\n",
    "    task = Trains[i]\n",
    "    k = len(task['test'])\n",
    "\n",
    "    for j in range(k):        \n",
    "        basic_task = Create(task, j)\n",
    "        a=solve_inoutmap(basic_task,0,0,0,0)\n",
    "        b=solve_inoutmap_colormap(basic_task,1,1,1,1)\n",
    "        c=solve_inoutmap_colormap(basic_task,2,2,2,2)\n",
    "        if a!=-1 or b!=-1 or c!=-1:\n",
    "            print(i,j)\n",
    "            #solved_train.append((i,j))\n",
    "            plot_task(task)\n",
    "            if a!=-1:\n",
    "                plot_picture(a)\n",
    "            elif b!=-1:\n",
    "                plot_picture(b)\n",
    "            elif c!=-1:\n",
    "                plot_picture(c)\n",
    "            solved_id.add(i)"
   ]
  },
  {
   "cell_type": "code",
   "execution_count": 39,
   "metadata": {},
   "outputs": [
    {
     "name": "stdout",
     "output_type": "stream",
     "text": [
      "156 0\n"
     ]
    },
    {
     "data": {
      "image/png": "[encoded data removed]",
      "text/plain": [
       "<Figure size 600x400 with 6 Axes>"
      ]
     },
     "metadata": {
      "needs_background": "light"
     },
     "output_type": "display_data"
    },
    {
     "data": {
      "image/png": "[encoded data removed]",
      "text/plain": [
       "<Figure size 432x288 with 1 Axes>"
      ]
     },
     "metadata": {
      "needs_background": "light"
     },
     "output_type": "display_data"
    },
    {
     "name": "stdout",
     "output_type": "stream",
     "text": [
      "199 0\n"
     ]
    },
    {
     "data": {
      "image/png": "[encoded data removed]",
      "text/plain": [
       "<Figure size 1000x400 with 10 Axes>"
      ]
     },
     "metadata": {
      "needs_background": "light"
     },
     "output_type": "display_data"
    },
    {
     "data": {
      "image/png": "[encoded data removed]",
      "text/plain": [
       "<Figure size 432x288 with 1 Axes>"
      ]
     },
     "metadata": {
      "needs_background": "light"
     },
     "output_type": "display_data"
    }
   ],
   "source": [
    "for i in range(400):\n",
    "    task = Evals[i]\n",
    "    k = len(task['test'])\n",
    "\n",
    "    for j in range(k):        \n",
    "        basic_task = Create(task, j)\n",
    "        a=solve_inoutmap(basic_task,0,0,0,0)\n",
    "        b=solve_inoutmap_colormap(basic_task,1,1,1,1)\n",
    "        c=solve_inoutmap_colormap(basic_task,2,2,2,2)\n",
    "        if a!=-1 or b!=-1 or c!=-1:\n",
    "            print(i,j)\n",
    "            #solved_train.append((i,j))\n",
    "            plot_task(task)\n",
    "            if a!=-1:\n",
    "                plot_picture(a)\n",
    "            elif b!=-1:\n",
    "                plot_picture(b)\n",
    "            elif c!=-1:\n",
    "                plot_picture(c)\n",
    "            solved_eva_id.add(i)"
   ]
  },
  {
   "cell_type": "code",
   "execution_count": null,
   "metadata": {},
   "outputs": [],
   "source": []
  },
  {
   "cell_type": "code",
   "execution_count": 40,
   "metadata": {},
   "outputs": [],
   "source": [
    "# Trains[229][\"train\"][0][\"output\"]"
   ]
  },
  {
   "cell_type": "code",
   "execution_count": 41,
   "metadata": {},
   "outputs": [],
   "source": [
    "# a=Trains[0][\"train\"][0][\"input\"]\n",
    "# b=Trains[229][\"train\"][0][\"output\"]\n",
    "# np.array(a)[5:15,5:15]\n",
    "\n",
    "# np.pad(a,((0,0),(0,0)),'constant',constant_values = (0,0)) \n"
   ]
  },
  {
   "cell_type": "code",
   "execution_count": 42,
   "metadata": {},
   "outputs": [
    {
     "data": {
      "text/plain": [
       "[227, 229, 265, 330, 11, 301, 85, 281, 219, 316, 94]"
      ]
     },
     "execution_count": 42,
     "metadata": {},
     "output_type": "execute_result"
    }
   ],
   "source": [
    "list(solved_id)"
   ]
  },
  {
   "cell_type": "code",
   "execution_count": 43,
   "metadata": {},
   "outputs": [
    {
     "data": {
      "text/plain": [
       "[156, 199]"
      ]
     },
     "execution_count": 43,
     "metadata": {},
     "output_type": "execute_result"
    }
   ],
   "source": [
    "list(solved_eva_id)"
   ]
  },
  {
   "cell_type": "code",
   "execution_count": null,
   "metadata": {},
   "outputs": [],
   "source": []
  }
 ],
 "metadata": {
  "kernelspec": {
   "display_name": "Python 3",
   "language": "python",
   "name": "python3"
  },
  "language_info": {
   "codemirror_mode": {
    "name": "ipython",
    "version": 3
   },
   "file_extension": ".py",
   "mimetype": "text/x-python",
   "name": "python",
   "nbconvert_exporter": "python",
   "pygments_lexer": "ipython3",
   "version": "3.6.7"
  }
 },
 "nbformat": 4,
 "nbformat_minor": 4
}
