{
 "cells": [
  {
   "cell_type": "code",
   "execution_count": 1,
   "metadata": {},
   "outputs": [
    {
     "name": "stdout",
     "output_type": "stream",
     "text": [
      "input\n",
      "input\\evaluation\n",
      "input\\test\n",
      "input\\training\n"
     ]
    }
   ],
   "source": [
    "import numpy as np\n",
    "import pandas as pd\n",
    "import time\n",
    "\n",
    "import os\n",
    "import json\n",
    "from pathlib import Path\n",
    "\n",
    "import matplotlib.pyplot as plt\n",
    "from matplotlib import colors\n",
    "import numpy as np\n",
    "from pathlib import Path\n",
    "\n",
    "#for dirname, _, filenames in os.walk('/kaggle/input'):\n",
    "for dirname, _, filenames in os.walk(\"input\"):\n",
    "    print(dirname)"
   ]
  },
  {
   "cell_type": "code",
   "execution_count": 2,
   "metadata": {},
   "outputs": [],
   "source": [
    "#data_path = Path('/kaggle/input/abstraction-and-reasoning-challenge/')\n",
    "data_path = Path('input/')\n",
    "training_path = data_path / 'training'\n",
    "evaluation_path = data_path / 'evaluation'\n",
    "test_path = data_path / 'test'\n",
    "training_tasks = sorted(os.listdir(training_path))\n",
    "eval_tasks = sorted(os.listdir(evaluation_path))"
   ]
  },
  {
   "cell_type": "code",
   "execution_count": 3,
   "metadata": {},
   "outputs": [],
   "source": [
    "#已解決的ID\n",
    "solved_id=set()\n",
    "solved_eva_id=set()"
   ]
  },
  {
   "cell_type": "code",
   "execution_count": 4,
   "metadata": {},
   "outputs": [],
   "source": [
    "T = training_tasks\n",
    "Trains = []\n",
    "for i in range(400):\n",
    "    task_file = str(training_path / T[i])\n",
    "    task = json.load(open(task_file, 'r'))\n",
    "    Trains.append(task)\n",
    "    \n",
    "E = eval_tasks\n",
    "Evals= []\n",
    "for i in range(400):\n",
    "    task_file = str(evaluation_path / E[i])\n",
    "    task = json.load(open(task_file, 'r'))\n",
    "    Evals.append(task)"
   ]
  },
  {
   "cell_type": "code",
   "execution_count": 5,
   "metadata": {},
   "outputs": [
    {
     "data": {
      "image/png": "[encoded data removed]",
      "text/plain": [
       "<Figure size 1000x400 with 1 Axes>"
      ]
     },
     "metadata": {
      "needs_background": "light"
     },
     "output_type": "display_data"
    }
   ],
   "source": [
    "cmap = colors.ListedColormap(\n",
    "    ['#000000', '#0074D9','#FF4136','#2ECC40','#FFDC00',\n",
    "     '#AAAAAA', '#F012BE', '#FF851B', '#7FDBFF', '#870C25'])\n",
    "norm = colors.Normalize(vmin=0, vmax=9)\n",
    "# 0:black, 1:blue, 2:red, 3:greed, 4:yellow,\n",
    "# 5:gray, 6:magenta, 7:orange, 8:sky, 9:brown\n",
    "plt.figure(figsize=(5, 2), dpi=200)\n",
    "plt.imshow([list(range(10))], cmap=cmap, norm=norm)\n",
    "plt.xticks(list(range(10)))\n",
    "plt.yticks([])\n",
    "plt.show()\n",
    "\n",
    "def plot_task(task):\n",
    "    n = len(task[\"train\"]) + len(task[\"test\"])\n",
    "    fig, axs = plt.subplots(2, n, figsize=(4*n,8), dpi=50)\n",
    "    plt.subplots_adjust(wspace=0, hspace=0)\n",
    "    fig_num = 0\n",
    "    \n",
    "    for i, t in enumerate(task[\"train\"]):\n",
    "        t_in, t_out = np.array(t[\"input\"]), np.array(t[\"output\"])\n",
    "        axs[0][fig_num].imshow(t_in, cmap=cmap, norm=norm)\n",
    "        axs[0][fig_num].set_title(f'Train-{i} in')\n",
    "        axs[0][fig_num].set_yticks(list(range(t_in.shape[0])))\n",
    "        axs[0][fig_num].set_xticks(list(range(t_in.shape[1])))\n",
    "        axs[1][fig_num].imshow(t_out, cmap=cmap, norm=norm)\n",
    "        axs[1][fig_num].set_title(f'Train-{i} out')\n",
    "        axs[1][fig_num].set_yticks(list(range(t_out.shape[0])))\n",
    "        axs[1][fig_num].set_xticks(list(range(t_out.shape[1])))\n",
    "        fig_num += 1\n",
    "    for i, t in enumerate(task[\"test\"]):\n",
    "        t_in, t_out = np.array(t[\"input\"]), np.array(t[\"output\"])\n",
    "        axs[0][fig_num].imshow(t_in, cmap=cmap, norm=norm)\n",
    "        axs[0][fig_num].set_title(f'Test-{i} in')\n",
    "        axs[0][fig_num].set_yticks(list(range(t_in.shape[0])))\n",
    "        axs[0][fig_num].set_xticks(list(range(t_in.shape[1])))\n",
    "        axs[1][fig_num].imshow(t_out, cmap=cmap, norm=norm)\n",
    "        axs[1][fig_num].set_title(f'Test-{i} out')\n",
    "        axs[1][fig_num].set_yticks(list(range(t_out.shape[0])))\n",
    "        axs[1][fig_num].set_xticks(list(range(t_out.shape[1])))\n",
    "        fig_num += 1\n",
    "    \n",
    "    plt.tight_layout()\n",
    "    plt.show()"
   ]
  },
  {
   "cell_type": "code",
   "execution_count": 6,
   "metadata": {},
   "outputs": [],
   "source": [
    "\n",
    "def plot_picture(x):\n",
    "    plt.imshow(np.array(x), cmap = cmap, norm = norm)\n",
    "    plt.show()"
   ]
  },
  {
   "cell_type": "code",
   "execution_count": 7,
   "metadata": {},
   "outputs": [],
   "source": [
    "def Defensive_Copy(A): \n",
    "    if type(A)!=list:\n",
    "        A=A.tolist()\n",
    "    n = len(A)\n",
    "    k = len(A[0])\n",
    "    L = np.zeros((n,k), dtype = int)\n",
    "    for i in range(n):\n",
    "        for j in range(k):\n",
    "            L[i,j] = 0 + A[i][j]\n",
    "    return L.tolist()"
   ]
  },
  {
   "cell_type": "code",
   "execution_count": 8,
   "metadata": {},
   "outputs": [],
   "source": [
    "def Create(task, task_id = 0):\n",
    "    n = len(task['train'])\n",
    "    Input = [Defensive_Copy(task['train'][i]['input']) for i in range(n)]\n",
    "    Output = [Defensive_Copy(task['train'][i]['output']) for i in range(n)]\n",
    "    Input.append(Defensive_Copy(task['test'][task_id]['input']))\n",
    "    return Input, Output"
   ]
  },
  {
   "cell_type": "code",
   "execution_count": 10,
   "metadata": {},
   "outputs": [],
   "source": [
    "BACKGROUND=0\n",
    "def _get_bound(img0):\n",
    "    img=np.array(img0)\n",
    "    h, w = img.shape\n",
    "    x0 = w - 1\n",
    "    x1 = 0\n",
    "    y0 = h - 1\n",
    "    y1 = 0\n",
    "    for x in range(w):\n",
    "        for y in range(h):\n",
    "            if img[y, x] == BACKGROUND:\n",
    "                continue\n",
    "            x0 = min(x0, x)\n",
    "            x1 = max(x1, x)\n",
    "            y0 = min(y0, y)\n",
    "            y1 = max(y1, y)\n",
    "    return x0, x1, y0, y1\n",
    "def get_bound_image(img0):\n",
    "    x0,x1,y0,y1=_get_bound(img0)\n",
    "    img=np.array(img0)\n",
    "    return img[y0:y1+1,x0:x1+1].tolist()\n",
    "\n",
    "\n",
    "_neighbor_offsets = {\n",
    "    4: [(1, 0), (-1, 0), (0, 1), (0, -1)],\n",
    "    8: [(1, 0), (-1, 0), (0, 1), (0, -1), (-1, -1), (-1, 1), (1, -1), (1, 1)]\n",
    "}\n",
    "def _expand_region_indices(img, i, j, neighbor=4):\n",
    "    h, w = img.shape\n",
    "    seed_color = img[i, j]\n",
    "    idx = np.zeros_like(img, dtype=np.bool)\n",
    "    region = []\n",
    "    region.append((i, j))\n",
    "    while len(region) > 0:\n",
    "        ii, jj = region.pop()\n",
    "        if img[ii, jj] != seed_color:\n",
    "            continue\n",
    "        idx[ii, jj] = True\n",
    "        for di, dj in _neighbor_offsets[neighbor]:\n",
    "            ni, nj = ii + di, jj + dj\n",
    "            if ni >= 0 and ni < h and nj >= 0 and nj < w \\\n",
    "                    and not idx[ni, nj]:\n",
    "                region.append((ni, nj))\n",
    "    return idx\n",
    "def _expand_region_indices01(img, i, j, neighbor=4):\n",
    "    h, w = img.shape\n",
    "    seed_color = 1\n",
    "    idx = np.zeros_like(img, dtype=np.bool)\n",
    "    region = []\n",
    "    region.append((i, j))\n",
    "    while len(region) > 0:\n",
    "        ii, jj = region.pop()\n",
    "        if img[ii, jj] == 0:\n",
    "            continue\n",
    "        idx[ii, jj] = True\n",
    "        for di, dj in _neighbor_offsets[neighbor]:\n",
    "            ni, nj = ii + di, jj + dj\n",
    "            if ni >= 0 and ni < h and nj >= 0 and nj < w \\\n",
    "                    and not idx[ni, nj]:\n",
    "                region.append((ni, nj))\n",
    "    return idx\n",
    "def _split_conn(img0, neighbor=4):\n",
    "    regions = []\n",
    "    img=np.array(img0)\n",
    "    mem = np.zeros_like(img, dtype=np.bool)\n",
    "    h, w = img.shape\n",
    "    for j in range(w):\n",
    "        for i in range(h):\n",
    "            p = img[i, j]\n",
    "            if p == BACKGROUND or mem[i, j]:\n",
    "                continue\n",
    "            conn_idx = _expand_region_indices(img, i, j, neighbor)\n",
    "            mem[conn_idx] = True\n",
    "            regions.append((np.where(conn_idx, img, BACKGROUND)).tolist())\n",
    "    return regions\n",
    "def _split_conn01(img0, neighbor=4):\n",
    "    regions = []\n",
    "    img=np.array(img0)\n",
    "    mem = np.zeros_like(img, dtype=np.bool)\n",
    "    h, w = img.shape\n",
    "    for j in range(w):\n",
    "        for i in range(h):\n",
    "            p = img[i, j]\n",
    "            if p == BACKGROUND or mem[i, j]:\n",
    "                continue\n",
    "            conn_idx = _expand_region_indices01(img, i, j, neighbor)\n",
    "            mem[conn_idx] = True\n",
    "            regions.append((np.where(conn_idx, img, BACKGROUND)).tolist())\n",
    "    return regions\n",
    "def split_conn(img): \n",
    "    ''' Split an image into a list of images each containing a single connected region'''\n",
    "    \n",
    "    return _split_conn(img, 4)\n",
    "def split_conn8(img):\n",
    "    ''' Split an image into a list of images each containing a single connected region.\n",
    "      Pixels of 8 neighbors are all considered \"connected\"\n",
    "    '''\n",
    "    \n",
    "    return _split_conn(img, 8)\n",
    "\n",
    "def split_conn01(img): \n",
    "    ''' Split an image into a list of images each containing a single connected region'''\n",
    "    \n",
    "    return _split_conn01(img, 4)\n",
    "def split_conn801(img):\n",
    "    ''' Split an image into a list of images each containing a single connected region.\n",
    "      Pixels of 8 neighbors are all considered \"connected\"\n",
    "    '''\n",
    "    \n",
    "    return _split_conn01(img, 8)\n",
    "\n",
    "def _split_object(img0, neighbor=4):\n",
    "    regions = []\n",
    "    img=np.array(img0)\n",
    "    mem = np.zeros_like(img, dtype=np.bool)\n",
    "    h, w = img.shape\n",
    "    for j in range(w):\n",
    "        for i in range(h):\n",
    "            p = img[i, j]\n",
    "            if p == BACKGROUND or mem[i, j]:\n",
    "                continue\n",
    "            conn_idx = _expand_region_indices(img, i, j, neighbor)\n",
    "            mem[conn_idx] = True\n",
    "            splitimage=np.where(conn_idx, img, BACKGROUND)\n",
    "#             minx=0\n",
    "#             miny=0\n",
    "#             maxx=0\n",
    "#             maxy=0\n",
    "#             for m in range(h):\n",
    "#                 if sum(splitimage[m,:])!=0:\n",
    "#                     miny=m\n",
    "#                     break\n",
    "#             for n in range(w):\n",
    "#                 if sum(splitimage[:,n])!=0:\n",
    "#                     minx=n\n",
    "#                     break\n",
    "#             for m in range(h-1,-1,-1):\n",
    "#                 if sum(splitimage[m,:])!=0:\n",
    "#                     maxy=m\n",
    "#                     break\n",
    "#             for n in range(w-1,-1,-1):\n",
    "#                 if sum(splitimage[:,n])!=0:\n",
    "#                     maxx=n\n",
    "#                     break\n",
    "            (minx,maxx,miny,maxy)=_get_bound(splitimage)\n",
    "            split_object=(splitimage[miny:maxy+1,minx:maxx+1]).tolist()\n",
    "            \n",
    "            \n",
    "            regions.append({'start': (miny, minx), 'obj':split_object})\n",
    "    return regions\n",
    "\n",
    "def _split_object01(img0, neighbor=4):\n",
    "    regions = []\n",
    "    img=np.array(img0)\n",
    "    mem = np.zeros_like(img, dtype=np.bool)\n",
    "    h, w = img.shape\n",
    "    for j in range(w):\n",
    "        for i in range(h):\n",
    "            p = img[i, j]\n",
    "            if p == BACKGROUND or mem[i, j]:\n",
    "                continue\n",
    "            conn_idx = _expand_region_indices01(img, i, j, neighbor)\n",
    "            mem[conn_idx] = True\n",
    "            splitimage=np.where(conn_idx, img, BACKGROUND)\n",
    "#             minx=0\n",
    "#             miny=0\n",
    "#             maxx=0\n",
    "#             maxy=0\n",
    "#             for m in range(h):\n",
    "#                 if sum(splitimage[m,:])!=0:\n",
    "#                     miny=m\n",
    "#                     break\n",
    "#             for n in range(w):\n",
    "#                 if sum(splitimage[:,n])!=0:\n",
    "#                     minx=n\n",
    "#                     break\n",
    "#             for m in range(h-1,-1,-1):\n",
    "#                 if sum(splitimage[m,:])!=0:\n",
    "#                     maxy=m \n",
    "#                     break\n",
    "#             for n in range(w-1,-1,-1):\n",
    "#                 if sum(splitimage[:,n])!=0:\n",
    "#                     maxx=n\n",
    "#                     break\n",
    "        \n",
    "            (minx,maxx,miny,maxy)=_get_bound(splitimage)\n",
    "            split_object=(splitimage[miny:maxy+1,minx:maxx+1]).tolist()\n",
    "            \n",
    "            \n",
    "            regions.append({'start': (miny, minx), 'obj':split_object})\n",
    "    return regions\n",
    "def split_color(img0): \n",
    "    \n",
    "    img=np.array(img0)\n",
    "    color = np.unique(img)\n",
    "    return [np.where(img == c, c, 0) for c in color if c != BACKGROUND]\n",
    "def split_color_crop(img0): \n",
    "    color_image=[]\n",
    "    img=np.array(img0)\n",
    "    color = np.unique(img)\n",
    "    for c in color:\n",
    "        if c!=BACKGROUND:\n",
    "            imgc=np.where(img == c, c, 0)\n",
    "            x0, x1, y0, y1=_get_bound(imgc)\n",
    "            imgc=(imgc[y0:y1+1,x0:x1+1]).tolist()\n",
    "            color_image.append(imgc)\n",
    "    \n",
    "    \n",
    "    return color_image\n",
    "def split_object(img):\n",
    "    return _split_object(img, neighbor=4)\n",
    "def split_object8(img):\n",
    "    return _split_object(img, neighbor=8)\n",
    "def split_object01(img):\n",
    "    return _split_object01(img, neighbor=4)\n",
    "def split_object801(img):\n",
    "    return _split_object01(img, neighbor=8)"
   ]
  },
  {
   "cell_type": "code",
   "execution_count": 23,
   "metadata": {},
   "outputs": [
    {
     "data": {
      "image/png": "[encoded data removed]",
      "text/plain": [
       "<Figure size 432x288 with 1 Axes>"
      ]
     },
     "metadata": {
      "needs_background": "light"
     },
     "output_type": "display_data"
    }
   ],
   "source": [
    "img = Trains[22][\"train\"][0][\"output\"]\n",
    "plot_picture(img)"
   ]
  },
  {
   "cell_type": "code",
   "execution_count": 24,
   "metadata": {},
   "outputs": [
    {
     "data": {
      "image/png": "[encoded data removed]",
      "text/plain": [
       "<Figure size 432x288 with 1 Axes>"
      ]
     },
     "metadata": {
      "needs_background": "light"
     },
     "output_type": "display_data"
    },
    {
     "data": {
      "image/png": "[encoded data removed]",
      "text/plain": [
       "<Figure size 432x288 with 1 Axes>"
      ]
     },
     "metadata": {
      "needs_background": "light"
     },
     "output_type": "display_data"
    },
    {
     "data": {
      "image/png": "[encoded data removed]",
      "text/plain": [
       "<Figure size 432x288 with 1 Axes>"
      ]
     },
     "metadata": {
      "needs_background": "light"
     },
     "output_type": "display_data"
    },
    {
     "data": {
      "image/png": "[encoded data removed]",
      "text/plain": [
       "<Figure size 432x288 with 1 Axes>"
      ]
     },
     "metadata": {
      "needs_background": "light"
     },
     "output_type": "display_data"
    },
    {
     "data": {
      "image/png": "[encoded data removed]",
      "text/plain": [
       "<Figure size 432x288 with 1 Axes>"
      ]
     },
     "metadata": {
      "needs_background": "light"
     },
     "output_type": "display_data"
    }
   ],
   "source": [
    "a=split_conn(img)\n",
    "for p in a:\n",
    "    plot_picture(p)"
   ]
  },
  {
   "cell_type": "code",
   "execution_count": 25,
   "metadata": {},
   "outputs": [
    {
     "data": {
      "image/png": "[encoded data removed]",
      "text/plain": [
       "<Figure size 432x288 with 1 Axes>"
      ]
     },
     "metadata": {
      "needs_background": "light"
     },
     "output_type": "display_data"
    }
   ],
   "source": [
    "a=split_conn01(img)\n",
    "for p in a:\n",
    "    plot_picture(p)"
   ]
  },
  {
   "cell_type": "code",
   "execution_count": 26,
   "metadata": {},
   "outputs": [
    {
     "data": {
      "image/png": "[encoded data removed]",
      "text/plain": [
       "<Figure size 432x288 with 1 Axes>"
      ]
     },
     "metadata": {
      "needs_background": "light"
     },
     "output_type": "display_data"
    },
    {
     "data": {
      "image/png": "[encoded data removed]",
      "text/plain": [
       "<Figure size 432x288 with 1 Axes>"
      ]
     },
     "metadata": {
      "needs_background": "light"
     },
     "output_type": "display_data"
    },
    {
     "data": {
      "image/png": "[encoded data removed]",
      "text/plain": [
       "<Figure size 432x288 with 1 Axes>"
      ]
     },
     "metadata": {
      "needs_background": "light"
     },
     "output_type": "display_data"
    }
   ],
   "source": [
    "a=split_conn8(img)\n",
    "for p in a:\n",
    "    plot_picture(p)"
   ]
  },
  {
   "cell_type": "code",
   "execution_count": 27,
   "metadata": {},
   "outputs": [
    {
     "data": {
      "image/png": "[encoded data removed]",
      "text/plain": [
       "<Figure size 432x288 with 1 Axes>"
      ]
     },
     "metadata": {
      "needs_background": "light"
     },
     "output_type": "display_data"
    }
   ],
   "source": [
    "a=split_conn801(img)\n",
    "for p in a:\n",
    "    plot_picture(p)"
   ]
  },
  {
   "cell_type": "code",
   "execution_count": 28,
   "metadata": {},
   "outputs": [
    {
     "data": {
      "image/png": "[encoded data removed]",
      "text/plain": [
       "<Figure size 432x288 with 1 Axes>"
      ]
     },
     "metadata": {
      "needs_background": "light"
     },
     "output_type": "display_data"
    },
    {
     "data": {
      "image/png": "[encoded data removed]",
      "text/plain": [
       "<Figure size 432x288 with 1 Axes>"
      ]
     },
     "metadata": {
      "needs_background": "light"
     },
     "output_type": "display_data"
    },
    {
     "data": {
      "image/png": "[encoded data removed]",
      "text/plain": [
       "<Figure size 432x288 with 1 Axes>"
      ]
     },
     "metadata": {
      "needs_background": "light"
     },
     "output_type": "display_data"
    },
    {
     "data": {
      "image/png": "[encoded data removed]",
      "text/plain": [
       "<Figure size 432x288 with 1 Axes>"
      ]
     },
     "metadata": {
      "needs_background": "light"
     },
     "output_type": "display_data"
    },
    {
     "data": {
      "image/png": "[encoded data removed]",
      "text/plain": [
       "<Figure size 432x288 with 1 Axes>"
      ]
     },
     "metadata": {
      "needs_background": "light"
     },
     "output_type": "display_data"
    }
   ],
   "source": [
    "a=split_object(img)\n",
    "for p in a:\n",
    "    plot_picture(p[\"obj\"])"
   ]
  },
  {
   "cell_type": "code",
   "execution_count": 29,
   "metadata": {},
   "outputs": [
    {
     "data": {
      "image/png": "[encoded data removed]",
      "text/plain": [
       "<Figure size 432x288 with 1 Axes>"
      ]
     },
     "metadata": {
      "needs_background": "light"
     },
     "output_type": "display_data"
    }
   ],
   "source": [
    "a=split_object01(img)\n",
    "for p in a:\n",
    "    plot_picture(p[\"obj\"])"
   ]
  },
  {
   "cell_type": "code",
   "execution_count": 30,
   "metadata": {},
   "outputs": [
    {
     "data": {
      "image/png": "[encoded data removed]",
      "text/plain": [
       "<Figure size 432x288 with 1 Axes>"
      ]
     },
     "metadata": {
      "needs_background": "light"
     },
     "output_type": "display_data"
    },
    {
     "data": {
      "image/png": "[encoded data removed]",
      "text/plain": [
       "<Figure size 432x288 with 1 Axes>"
      ]
     },
     "metadata": {
      "needs_background": "light"
     },
     "output_type": "display_data"
    },
    {
     "data": {
      "image/png": "[encoded data removed]",
      "text/plain": [
       "<Figure size 432x288 with 1 Axes>"
      ]
     },
     "metadata": {
      "needs_background": "light"
     },
     "output_type": "display_data"
    }
   ],
   "source": [
    "a=split_object8(img)\n",
    "for p in a:\n",
    "    plot_picture(p[\"obj\"])"
   ]
  },
  {
   "cell_type": "code",
   "execution_count": 31,
   "metadata": {},
   "outputs": [
    {
     "data": {
      "image/png": "[encoded data removed]",
      "text/plain": [
       "<Figure size 432x288 with 1 Axes>"
      ]
     },
     "metadata": {
      "needs_background": "light"
     },
     "output_type": "display_data"
    }
   ],
   "source": [
    "a=split_object801(img)\n",
    "for p in a:\n",
    "    plot_picture(p[\"obj\"])"
   ]
  },
  {
   "cell_type": "code",
   "execution_count": null,
   "metadata": {},
   "outputs": [],
   "source": []
  },
  {
   "cell_type": "code",
   "execution_count": null,
   "metadata": {},
   "outputs": [],
   "source": []
  },
  {
   "cell_type": "code",
   "execution_count": null,
   "metadata": {},
   "outputs": [],
   "source": []
  }
 ],
 "metadata": {
  "kernelspec": {
   "display_name": "Python 3",
   "language": "python",
   "name": "python3"
  },
  "language_info": {
   "codemirror_mode": {
    "name": "ipython",
    "version": 3
   },
   "file_extension": ".py",
   "mimetype": "text/x-python",
   "name": "python",
   "nbconvert_exporter": "python",
   "pygments_lexer": "ipython3",
   "version": "3.6.7"
  }
 },
 "nbformat": 4,
 "nbformat_minor": 4
}
