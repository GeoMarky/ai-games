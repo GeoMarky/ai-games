{
 "cells": [
  {
   "cell_type": "code",
   "execution_count": 30,
   "metadata": {},
   "outputs": [
    {
     "name": "stdout",
     "output_type": "stream",
     "text": [
      "input\n",
      "input\\evaluation\n",
      "input\\test\n",
      "input\\training\n"
     ]
    }
   ],
   "source": [
    "import numpy as np\n",
    "import pandas as pd\n",
    "import time\n",
    "\n",
    "import os\n",
    "import json\n",
    "from pathlib import Path\n",
    "\n",
    "import matplotlib.pyplot as plt\n",
    "from matplotlib import colors\n",
    "import numpy as np\n",
    "from pathlib import Path\n",
    "\n",
    "#for dirname, _, filenames in os.walk('/kaggle/input'):\n",
    "for dirname, _, filenames in os.walk(\"input\"):\n",
    "    print(dirname)"
   ]
  },
  {
   "cell_type": "code",
   "execution_count": 31,
   "metadata": {},
   "outputs": [],
   "source": [
    "#data_path = Path('/kaggle/input/abstraction-and-reasoning-challenge/')\n",
    "data_path = Path('input/')\n",
    "training_path = data_path / 'training'\n",
    "evaluation_path = data_path / 'evaluation'\n",
    "test_path = data_path / 'test'\n",
    "training_tasks = sorted(os.listdir(training_path))\n",
    "eval_tasks = sorted(os.listdir(evaluation_path))"
   ]
  },
  {
   "cell_type": "code",
   "execution_count": 32,
   "metadata": {},
   "outputs": [],
   "source": [
    "#已解決的ID\n",
    "solved_id=set()\n",
    "solved_eva_id=set()"
   ]
  },
  {
   "cell_type": "code",
   "execution_count": 33,
   "metadata": {},
   "outputs": [],
   "source": [
    "T = training_tasks\n",
    "Trains = []\n",
    "for i in range(400):\n",
    "    task_file = str(training_path / T[i])\n",
    "    task = json.load(open(task_file, 'r'))\n",
    "    Trains.append(task)\n",
    "    \n",
    "E = eval_tasks\n",
    "Evals= []\n",
    "for i in range(400):\n",
    "    task_file = str(evaluation_path / E[i])\n",
    "    task = json.load(open(task_file, 'r'))\n",
    "    Evals.append(task)"
   ]
  },
  {
   "cell_type": "code",
   "execution_count": 91,
   "metadata": {},
   "outputs": [
    {
     "data": {
      "image/png": "[encoded data removed]",
      "text/plain": [
       "<Figure size 1000x400 with 1 Axes>"
      ]
     },
     "metadata": {
      "needs_background": "light"
     },
     "output_type": "display_data"
    }
   ],
   "source": [
    "cmap = colors.ListedColormap(\n",
    "    ['#000000', '#0074D9','#FF4136','#2ECC40','#FFDC00',\n",
    "     '#AAAAAA', '#F012BE', '#FF851B', '#7FDBFF', '#870C25'])\n",
    "norm = colors.Normalize(vmin=0, vmax=9)\n",
    "# 0:black, 1:blue, 2:red, 3:greed, 4:yellow,\n",
    "# 5:gray, 6:magenta, 7:orange, 8:sky, 9:brown\n",
    "plt.figure(figsize=(5, 2), dpi=200)\n",
    "plt.imshow([list(range(10))], cmap=cmap, norm=norm)\n",
    "plt.xticks(list(range(10)))\n",
    "plt.yticks([])\n",
    "plt.show()\n",
    "\n",
    "def plot_task(task):\n",
    "    n = len(task[\"train\"]) + len(task[\"test\"])\n",
    "    fig, axs = plt.subplots(2, n, figsize=(4*n,8), dpi=50)\n",
    "    plt.subplots_adjust(wspace=0, hspace=0)\n",
    "    fig_num = 0\n",
    "    \n",
    "    for i, t in enumerate(task[\"train\"]):\n",
    "        t_in, t_out = np.array(t[\"input\"]), np.array(t[\"output\"])\n",
    "        axs[0][fig_num].imshow(t_in, cmap=cmap, norm=norm)\n",
    "        axs[0][fig_num].set_title(f'Train-{i} in')\n",
    "        axs[0][fig_num].set_yticks(list(range(t_in.shape[0])))\n",
    "        axs[0][fig_num].set_xticks(list(range(t_in.shape[1])))\n",
    "        axs[1][fig_num].imshow(t_out, cmap=cmap, norm=norm)\n",
    "        axs[1][fig_num].set_title(f'Train-{i} out')\n",
    "        axs[1][fig_num].set_yticks(list(range(t_out.shape[0])))\n",
    "        axs[1][fig_num].set_xticks(list(range(t_out.shape[1])))\n",
    "        fig_num += 1\n",
    "    for i, t in enumerate(task[\"test\"]):\n",
    "        t_in, t_out = np.array(t[\"input\"]), np.array(t[\"output\"])\n",
    "        axs[0][fig_num].imshow(t_in, cmap=cmap, norm=norm)\n",
    "        axs[0][fig_num].set_title(f'Test-{i} in')\n",
    "        axs[0][fig_num].set_yticks(list(range(t_in.shape[0])))\n",
    "        axs[0][fig_num].set_xticks(list(range(t_in.shape[1])))\n",
    "        axs[1][fig_num].imshow(t_out, cmap=cmap, norm=norm)\n",
    "        axs[1][fig_num].set_title(f'Test-{i} out')\n",
    "        axs[1][fig_num].set_yticks(list(range(t_out.shape[0])))\n",
    "        axs[1][fig_num].set_xticks(list(range(t_out.shape[1])))\n",
    "        fig_num += 1\n",
    "    \n",
    "    plt.tight_layout()\n",
    "    plt.show()"
   ]
  },
  {
   "cell_type": "code",
   "execution_count": 92,
   "metadata": {},
   "outputs": [],
   "source": [
    "\n",
    "def plot_picture(x):\n",
    "    plt.imshow(np.array(x), cmap = cmap, norm = norm)\n",
    "    plt.show()"
   ]
  },
  {
   "cell_type": "code",
   "execution_count": 93,
   "metadata": {},
   "outputs": [],
   "source": [
    "def Defensive_Copy(A): \n",
    "    if type(A)!=list:\n",
    "        A=A.tolist()\n",
    "    n = len(A)\n",
    "    k = len(A[0])\n",
    "    L = np.zeros((n,k), dtype = int)\n",
    "    for i in range(n):\n",
    "        for j in range(k):\n",
    "            L[i,j] = 0 + A[i][j]\n",
    "    return L.tolist()"
   ]
  },
  {
   "cell_type": "code",
   "execution_count": 94,
   "metadata": {},
   "outputs": [],
   "source": [
    "def Create(task, task_id = 0):\n",
    "    n = len(task['train'])\n",
    "    Input = [Defensive_Copy(task['train'][i]['input']) for i in range(n)]\n",
    "    Output = [Defensive_Copy(task['train'][i]['output']) for i in range(n)]\n",
    "    Input.append(Defensive_Copy(task['test'][task_id]['input']))\n",
    "    return Input, Output"
   ]
  },
  {
   "cell_type": "code",
   "execution_count": 95,
   "metadata": {},
   "outputs": [],
   "source": [
    "def maxcolor_b(A):\n",
    "    A=np.array(A)\n",
    "    b = np.bincount(A.flatten(),minlength=10)\n",
    "\n",
    "    c=np.argsort(b)[-1]\n",
    "    return c"
   ]
  },
  {
   "cell_type": "code",
   "execution_count": 96,
   "metadata": {},
   "outputs": [
    {
     "data": {
      "text/plain": [
       "2"
      ]
     },
     "execution_count": 96,
     "metadata": {},
     "output_type": "execute_result"
    }
   ],
   "source": [
    "a=[0,1,2,2,3,4]\n",
    "maxcolor_b(a)"
   ]
  },
  {
   "cell_type": "code",
   "execution_count": 97,
   "metadata": {},
   "outputs": [
    {
     "data": {
      "text/plain": [
       "{(0, 1): 1}"
      ]
     },
     "execution_count": 97,
     "metadata": {},
     "output_type": "execute_result"
    }
   ],
   "source": [
    "dict1={}\n",
    "dict1[(0,1)]=1\n",
    "dict1"
   ]
  },
  {
   "cell_type": "code",
   "execution_count": 110,
   "metadata": {},
   "outputs": [],
   "source": [
    "BACKGROUND=0\n",
    "def connect_dot_row_color(a0,b0):\n",
    "    a=np.array(a0)\n",
    "    b=np.array(b0)\n",
    "    a_copy=a.copy()\n",
    "    dict1={}\n",
    "    m,n=a.shape\n",
    "    for i in range(m):\n",
    "        for j in range(n):\n",
    "            if a[i][j]==BACKGROUND:\n",
    "                continue\n",
    "            else:\n",
    "                c=a[i][j]\n",
    "            if j+1<=n-1:\n",
    "                for k in range(j+1,n):\n",
    "                    if a[i][k]==c:\n",
    "                        if j+1!=k:\n",
    "                            for j2 in range(j+1,k):\n",
    "                                x_color=a[i,j2]\n",
    "                                y_color=b[i,j2]\n",
    "                                \n",
    "                                \n",
    "                                \n",
    "                                if str([0,c,x_color]) not in dict1:\n",
    "                                    dict1[str([0,c,x_color])]=y_color\n",
    "                                elif dict1[str([0,c,x_color])]!= y_color:\n",
    "                                    return -1\n",
    "\n",
    "\n",
    "                                a_copy[i,j2]=dict1[str([0,c,x_color])]\n",
    "                        \n",
    "                        \n",
    "            if i+1<=m-1:\n",
    "                for l in range(i+1,m):\n",
    "                    if a[l][j]==c:\n",
    "                        if i+1!=l:\n",
    "                            for i2 in range(i+1,l):\n",
    "                                x_color=a[i2,j]\n",
    "                                y_color=b[i2,j]\n",
    "                            \n",
    "                                if str([1,c,x_color]) not in dict1:\n",
    "                                    dict1[str([1,c,x_color])]=y_color\n",
    "                                elif dict1[str([1,c,x_color])]!= y_color:\n",
    "                                    return -1\n",
    "                                a_copy[i2,j]=dict1[str([1,c,x_color])]\n",
    "\n",
    "    \n",
    "            \n",
    "                    \n",
    "    return a_copy.tolist(),dict1\n",
    "                \n",
    "            "
   ]
  },
  {
   "cell_type": "code",
   "execution_count": 114,
   "metadata": {},
   "outputs": [],
   "source": [
    "BACKGROUND=0\n",
    "def connect_dot_row_color_use_dict(a0,dict1):\n",
    "    a=np.array(a0)\n",
    "\n",
    "    a_copy=a.copy()\n",
    "\n",
    "    m,n=a.shape\n",
    "    for i in range(m):\n",
    "        for j in range(n):\n",
    "            if a[i][j]==BACKGROUND:\n",
    "                continue\n",
    "            else:\n",
    "                c=a[i][j]\n",
    "            if j+1<=n-1:\n",
    "                for k in range(j+1,n):\n",
    "                    if a[i][k]==c:\n",
    "                        for j2 in range(j+1,k):\n",
    "                            x_color=a[i,j2]\n",
    "                            \n",
    "    \n",
    "                            if str([0,c,x_color])  in dict1.keys():\n",
    "\n",
    "                                a_copy[i,j2]=dict1[str([0,c,x_color])]\n",
    "                        \n",
    "                        \n",
    "            if i+1<=m-1:\n",
    "                for l in range(i+1,m):\n",
    "                    if a[l][j]==c:\n",
    "                        \n",
    "                        for i2 in range(i+1,l):\n",
    "                            x_color=a[i2,j]\n",
    "                            \n",
    "                            if str([1,c,x_color])  in dict1.keys():\n",
    "                                \n",
    "\n",
    "                                a_copy[i2,j]=dict1[str([1,c,x_color])]\n",
    "            \n",
    "                                \n",
    "                    \n",
    "    return a_copy.tolist()"
   ]
  },
  {
   "cell_type": "code",
   "execution_count": 125,
   "metadata": {},
   "outputs": [],
   "source": [
    "def solve_connect_color(basic_task):\n",
    "    Input = [Defensive_Copy(x) for x in basic_task[0]]\n",
    "    Output = [Defensive_Copy(y) for y in basic_task[1]]\n",
    "    Test_Case = Input[-1]\n",
    "    Input = Input[:-1]\n",
    "    total_dict={}\n",
    "    for x, y in zip(Input,Output):\n",
    "        if len(x)!=len(y) or len(x[0])!=len(y[0]):\n",
    "            return -1\n",
    "        if connect_dot_row_color(x,y)==-1:\n",
    "            return -1\n",
    "        pred_y,dict1=connect_dot_row_color(x,y)\n",
    "        total_dict=dict(total_dict,**dict1)\n",
    "        \n",
    "#         if pred_y!=y:\n",
    "#             return -1\n",
    "    \n",
    "    for x, y in zip(Input,Output):\n",
    "        pred=connect_dot_row_color_use_dict(x,total_dict)\n",
    "        \n",
    "\n",
    "        if pred!=y:\n",
    "            return -1\n",
    "    if connect_dot_row_color_use_dict(Test_Case,total_dict)==Test_Case:\n",
    "        return -1\n",
    "            \n",
    "    return connect_dot_row_color_use_dict(Test_Case,total_dict)\n",
    "        "
   ]
  },
  {
   "cell_type": "code",
   "execution_count": 126,
   "metadata": {},
   "outputs": [
    {
     "name": "stdout",
     "output_type": "stream",
     "text": [
      "40 0\n"
     ]
    },
    {
     "data": {
      "image/png": "[encoded data removed]",
      "text/plain": [
       "<Figure size 800x400 with 8 Axes>"
      ]
     },
     "metadata": {
      "needs_background": "light"
     },
     "output_type": "display_data"
    },
    {
     "data": {
      "image/png": "[encoded data removed]",
      "text/plain": [
       "<Figure size 432x288 with 1 Axes>"
      ]
     },
     "metadata": {
      "needs_background": "light"
     },
     "output_type": "display_data"
    },
    {
     "name": "stdout",
     "output_type": "stream",
     "text": [
      "49 0\n"
     ]
    },
    {
     "data": {
      "image/png": "[encoded data removed]",
      "text/plain": [
       "<Figure size 1800x400 with 18 Axes>"
      ]
     },
     "metadata": {
      "needs_background": "light"
     },
     "output_type": "display_data"
    },
    {
     "data": {
      "image/png": "[encoded data removed]",
      "text/plain": [
       "<Figure size 432x288 with 1 Axes>"
      ]
     },
     "metadata": {
      "needs_background": "light"
     },
     "output_type": "display_data"
    },
    {
     "name": "stdout",
     "output_type": "stream",
     "text": [
      "349 0\n"
     ]
    },
    {
     "data": {
      "image/png": "[encoded data removed]",
      "text/plain": [
       "<Figure size 1000x400 with 10 Axes>"
      ]
     },
     "metadata": {
      "needs_background": "light"
     },
     "output_type": "display_data"
    },
    {
     "data": {
      "image/png": "[encoded data removed]",
      "text/plain": [
       "<Figure size 432x288 with 1 Axes>"
      ]
     },
     "metadata": {
      "needs_background": "light"
     },
     "output_type": "display_data"
    },
    {
     "name": "stdout",
     "output_type": "stream",
     "text": [
      "355 0\n"
     ]
    },
    {
     "data": {
      "image/png": "[encoded data removed]",
      "text/plain": [
       "<Figure size 800x400 with 8 Axes>"
      ]
     },
     "metadata": {
      "needs_background": "light"
     },
     "output_type": "display_data"
    },
    {
     "data": {
      "image/png": "[encoded data removed]",
      "text/plain": [
       "<Figure size 432x288 with 1 Axes>"
      ]
     },
     "metadata": {
      "needs_background": "light"
     },
     "output_type": "display_data"
    }
   ],
   "source": [
    "for i in range(400):\n",
    "    task = Trains[i]\n",
    "    k = len(task['test'])\n",
    "    \n",
    "    for j in range(k):        \n",
    "        basic_task = Create(task, j)\n",
    "        a=solve_connect_color(basic_task)\n",
    "        if a!=-1:\n",
    "            print(i,j)\n",
    "            solved_id.add(i)\n",
    "            plot_task(task)\n",
    "            plot_picture(a)"
   ]
  },
  {
   "cell_type": "code",
   "execution_count": 128,
   "metadata": {},
   "outputs": [],
   "source": [
    "def color_classes(a):\n",
    "    b = len(np.nonzero(np.unique(a))[0])\n",
    "    return b\n",
    "#黑色以外的顏色種類數\n",
    "\n",
    "def one_color_different(basic_task):\n",
    "    Input = [Defensive_Copy(x) for x in basic_task[0]]\n",
    "    Output = [Defensive_Copy(y) for y in basic_task[1]]\n",
    "    Test_Case = Input[-1]\n",
    "    Input = Input[:-1]\n",
    "    one_color_di=True\n",
    "    color=0\n",
    "    same_color=True\n",
    "    for x, y in zip(Input,Output):\n",
    "        if color_classes(x)!=1:\n",
    "            one_color_di=False\n",
    "            break\n",
    "        \n",
    "        if 0 in np.unique(x):\n",
    "            x_color=np.unique(x)[1]\n",
    "        else:\n",
    "            x_color=np.unique(x)[0]\n",
    "#         print(x_color)\n",
    "        if color!=0 and x_color!=color:\n",
    "            \n",
    "            same_color=False\n",
    "            break\n",
    "        else:\n",
    "            color=x_color\n",
    "\n",
    "    if one_color_di==True and same_color==False:\n",
    "        return True\n",
    "    else:\n",
    "        return False"
   ]
  },
  {
   "cell_type": "code",
   "execution_count": 136,
   "metadata": {},
   "outputs": [],
   "source": [
    "def solve_connect_color_di(basic_task):\n",
    "    Input = [Defensive_Copy(x) for x in basic_task[0]]\n",
    "    Output = [Defensive_Copy(y) for y in basic_task[1]]\n",
    "    Test_Case = Input[-1]\n",
    "    Input = Input[:-1]\n",
    "    total_dict={}\n",
    "    if one_color_different(basic_task)==False:\n",
    "        return -1\n",
    "    for x, y in zip(Input,Output):\n",
    "        if len(x)!=len(y) or len(x[0])!=len(y[0]):\n",
    "            return -1\n",
    "\n",
    "\n",
    "        if 0 in np.unique(x):\n",
    "            x_color=np.unique(x)[1]\n",
    "        else:\n",
    "            x_color=np.unique(x)[0]\n",
    "        \n",
    "        x_array=np.array(x)\n",
    "        y_array=np.array(y)\n",
    "        x_array[x_array==x_color]=1\n",
    "        y_array[y_array==x_color]=1\n",
    "        x=x_array.tolist()\n",
    "        y=y_array.tolist()\n",
    "    for x, y in zip(Input,Output):\n",
    "        if len(x)!=len(y) or len(x[0])!=len(y[0]):\n",
    "            return -1\n",
    "        if connect_dot_row_color(x,y)==-1:\n",
    "            return -1\n",
    "        pred_y,dict1=connect_dot_row_color(x,y)\n",
    "        total_dict=dict(total_dict,**dict1)\n",
    "        \n",
    "#         if pred_y!=y:\n",
    "#             return -1\n",
    "    \n",
    "    for x, y in zip(Input,Output):\n",
    "        pred=connect_dot_row_color_use_dict(x,total_dict)\n",
    "\n",
    "        if pred!=y:\n",
    "            return -1\n",
    "    if 0 in np.unique(Test_Case):\n",
    "        Test_color=np.unique(Test_Case)[1]\n",
    "    else:\n",
    "        Test_color=np.unique(Test_Case)[0]\n",
    "    Test_Case_array=np.array(Test_Case)\n",
    "    Test_Case_array[Test_Case_array==Test_color]=1\n",
    "    Test_Case=Test_Case_array.tolist()\n",
    "    res=connect_dot_row_color_use_dict(Test_Case,total_dict)\n",
    "    res_array=np.array(res)\n",
    "    res_array[res_array==1]=Test_color\n",
    "    res=res_array.tolist()   \n",
    "    if res==Test_Case:\n",
    "        return -1\n",
    "            \n",
    "    return res"
   ]
  },
  {
   "cell_type": "code",
   "execution_count": 137,
   "metadata": {},
   "outputs": [
    {
     "name": "stdout",
     "output_type": "stream",
     "text": [
      "255 0\n"
     ]
    },
    {
     "data": {
      "image/png": "[encoded data removed]",
      "text/plain": [
       "<Figure size 1000x400 with 10 Axes>"
      ]
     },
     "metadata": {
      "needs_background": "light"
     },
     "output_type": "display_data"
    },
    {
     "data": {
      "image/png": "[encoded data removed]",
      "text/plain": [
       "<Figure size 432x288 with 1 Axes>"
      ]
     },
     "metadata": {
      "needs_background": "light"
     },
     "output_type": "display_data"
    }
   ],
   "source": [
    "for i in range(400):\n",
    "    task = Evals[i]\n",
    "    k = len(task['test'])\n",
    "    \n",
    "    for j in range(k):        \n",
    "        basic_task = Create(task, j)\n",
    "        a=solve_connect_color_di(basic_task)\n",
    "        if a!=-1:\n",
    "            print(i,j)\n",
    "            solved_id.add(i)\n",
    "            plot_task(task)\n",
    "            plot_picture(a)"
   ]
  },
  {
   "cell_type": "code",
   "execution_count": null,
   "metadata": {},
   "outputs": [],
   "source": []
  },
  {
   "cell_type": "code",
   "execution_count": 80,
   "metadata": {},
   "outputs": [],
   "source": [
    "BACKGROUND=0\n",
    "def connect_dot_row(a0):\n",
    "    a=np.array(a0)\n",
    "    a_copy=a.copy()\n",
    "    m,n=a.shape\n",
    "    for i in range(m):\n",
    "        for j in range(n):\n",
    "            if a[i][j]==BACKGROUND:\n",
    "                continue\n",
    "            else:\n",
    "                c=a[i][j]\n",
    "            if j+1<=n-1:\n",
    "                for k in range(j+1,n):\n",
    "                    if a[i][k]==c:\n",
    "                        \n",
    "                        for p in range(j+1,k):\n",
    "                            if a_copy[i,p]==BACKGROUND:\n",
    "                                a_copy[i,p]=c\n",
    "                        \n",
    "                        \n",
    "            if i+1<=m-1:\n",
    "                for l in range(i+1,m):\n",
    "                    if a[l][j]==c:\n",
    "                        #a_copy[i+1:l,j]=c\n",
    "                        for q in range(i+1,l):\n",
    "                            if a_copy[q,j]==BACKGROUND:\n",
    "                                a_copy[q,j]=c\n",
    "                            \n",
    "                       \n",
    "                    \n",
    "    return a_copy.tolist()"
   ]
  },
  {
   "cell_type": "code",
   "execution_count": null,
   "metadata": {},
   "outputs": [],
   "source": []
  },
  {
   "cell_type": "code",
   "execution_count": 73,
   "metadata": {},
   "outputs": [
    {
     "data": {
      "text/plain": [
       "[[0, 0, 0, 0, 0, 0, 0, 0, 0, 0],\n",
       " [0, 3, 3, 3, 3, 3, 3, 3, 3, 0],\n",
       " [0, 0, 3, 3, 3, 3, 3, 3, 0, 0],\n",
       " [0, 0, 0, 3, 3, 3, 3, 0, 0, 0],\n",
       " [0, 0, 0, 0, 3, 3, 0, 0, 0, 0],\n",
       " [0, 0, 0, 0, 3, 3, 0, 0, 0, 0],\n",
       " [0, 0, 0, 0, 0, 0, 0, 0, 0, 0],\n",
       " [0, 0, 0, 0, 0, 0, 0, 0, 0, 0],\n",
       " [0, 0, 0, 0, 0, 0, 0, 0, 0, 0],\n",
       " [0, 0, 0, 0, 0, 0, 0, 0, 0, 0]]"
      ]
     },
     "execution_count": 73,
     "metadata": {},
     "output_type": "execute_result"
    }
   ],
   "source": [
    "a=Trains[40][\"train\"][0][\"input\"]\n",
    "connect_dot_row(a)\n"
   ]
  },
  {
   "cell_type": "code",
   "execution_count": 74,
   "metadata": {},
   "outputs": [],
   "source": [
    "def solve_connect(basic_task):\n",
    "    Input = [Defensive_Copy(x) for x in basic_task[0]]\n",
    "    Output = [Defensive_Copy(y) for y in basic_task[1]]\n",
    "    Test_Case = Input[-1]\n",
    "    Input = Input[:-1]\n",
    "    \n",
    "    for x, y in zip(Input,Output):\n",
    "        pred_y=connect_dot_row(x)\n",
    "        if pred_y!=y:\n",
    "            return -1\n",
    "    return connect_dot_row(Test_Case)\n",
    "        "
   ]
  },
  {
   "cell_type": "code",
   "execution_count": 81,
   "metadata": {},
   "outputs": [
    {
     "data": {
      "image/png": "[encoded data removed]",
      "text/plain": [
       "<Figure size 432x288 with 1 Axes>"
      ]
     },
     "metadata": {
      "needs_background": "light"
     },
     "output_type": "display_data"
    }
   ],
   "source": [
    "task=Trains[40]\n",
    "basic_task = Create(task, 0)\n",
    "if solve_connect(basic_task)!=-1:\n",
    "    plot_picture(solve_connect(basic_task))"
   ]
  },
  {
   "cell_type": "code",
   "execution_count": 28,
   "metadata": {},
   "outputs": [],
   "source": [
    "#Trains[49] not completed"
   ]
  },
  {
   "cell_type": "code",
   "execution_count": 82,
   "metadata": {},
   "outputs": [
    {
     "name": "stdout",
     "output_type": "stream",
     "text": [
      "7 0\n"
     ]
    },
    {
     "data": {
      "image/png": "[encoded data removed]",
      "text/plain": [
       "<Figure size 600x400 with 6 Axes>"
      ]
     },
     "metadata": {
      "needs_background": "light"
     },
     "output_type": "display_data"
    },
    {
     "data": {
      "image/png": "[encoded data removed]",
      "text/plain": [
       "<Figure size 432x288 with 1 Axes>"
      ]
     },
     "metadata": {
      "needs_background": "light"
     },
     "output_type": "display_data"
    }
   ],
   "source": [
    "for i in range(400):\n",
    "    task = Evals[i]\n",
    "    k = len(task['test'])\n",
    "\n",
    "    for j in range(k):        \n",
    "        basic_task = Create(task, j)\n",
    "        a=solve_connect(basic_task)\n",
    "        if a!=-1:\n",
    "            print(i,j)\n",
    "            solved_eva_id.add(i)\n",
    "            plot_task(task)\n",
    "            plot_picture(a)"
   ]
  },
  {
   "cell_type": "code",
   "execution_count": 22,
   "metadata": {},
   "outputs": [
    {
     "data": {
      "text/plain": [
       "[349]"
      ]
     },
     "execution_count": 22,
     "metadata": {},
     "output_type": "execute_result"
    }
   ],
   "source": [
    "list(solved_id)"
   ]
  },
  {
   "cell_type": "code",
   "execution_count": 23,
   "metadata": {},
   "outputs": [
    {
     "data": {
      "text/plain": [
       "[7]"
      ]
     },
     "execution_count": 23,
     "metadata": {},
     "output_type": "execute_result"
    }
   ],
   "source": [
    "list(solved_eva_id)"
   ]
  },
  {
   "cell_type": "code",
   "execution_count": null,
   "metadata": {},
   "outputs": [],
   "source": []
  }
 ],
 "metadata": {
  "kernelspec": {
   "display_name": "Python 3",
   "language": "python",
   "name": "python3"
  },
  "language_info": {
   "codemirror_mode": {
    "name": "ipython",
    "version": 3
   },
   "file_extension": ".py",
   "mimetype": "text/x-python",
   "name": "python",
   "nbconvert_exporter": "python",
   "pygments_lexer": "ipython3",
   "version": "3.6.7"
  }
 },
 "nbformat": 4,
 "nbformat_minor": 4
}
