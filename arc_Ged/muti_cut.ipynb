{
 "cells": [
  {
   "cell_type": "code",
   "execution_count": 5,
   "metadata": {},
   "outputs": [
    {
     "name": "stdout",
     "output_type": "stream",
     "text": [
      "input\n",
      "input\\evaluation\n",
      "input\\test\n",
      "input\\training\n"
     ]
    }
   ],
   "source": [
    "import numpy as np\n",
    "import pandas as pd\n",
    "import time\n",
    "\n",
    "import os\n",
    "import json\n",
    "from pathlib import Path\n",
    "\n",
    "import matplotlib.pyplot as plt\n",
    "from matplotlib import colors\n",
    "import numpy as np\n",
    "from pathlib import Path\n",
    "\n",
    "#for dirname, _, filenames in os.walk('/kaggle/input'):\n",
    "for dirname, _, filenames in os.walk(\"input\"):\n",
    "    print(dirname)"
   ]
  },
  {
   "cell_type": "code",
   "execution_count": 6,
   "metadata": {},
   "outputs": [],
   "source": [
    "#data_path = Path('/kaggle/input/abstraction-and-reasoning-challenge/')\n",
    "data_path = Path('input/')\n",
    "training_path = data_path / 'training'\n",
    "evaluation_path = data_path / 'evaluation'\n",
    "test_path = data_path / 'test'\n",
    "training_tasks = sorted(os.listdir(training_path))\n",
    "eval_tasks = sorted(os.listdir(evaluation_path))"
   ]
  },
  {
   "cell_type": "code",
   "execution_count": 7,
   "metadata": {},
   "outputs": [],
   "source": [
    "#已解決的ID\n",
    "solved_id=set()\n",
    "solved_eva_id=set()"
   ]
  },
  {
   "cell_type": "code",
   "execution_count": 8,
   "metadata": {},
   "outputs": [],
   "source": [
    "T = training_tasks\n",
    "Trains = []\n",
    "for i in range(400):\n",
    "    task_file = str(training_path / T[i])\n",
    "    task = json.load(open(task_file, 'r'))\n",
    "    Trains.append(task)\n",
    "    \n",
    "E = eval_tasks\n",
    "Evals= []\n",
    "for i in range(400):\n",
    "    task_file = str(evaluation_path / E[i])\n",
    "    task = json.load(open(task_file, 'r'))\n",
    "    Evals.append(task)"
   ]
  },
  {
   "cell_type": "code",
   "execution_count": 9,
   "metadata": {},
   "outputs": [
    {
     "data": {
      "image/png": "[encoded data removed]",
      "text/plain": [
       "<Figure size 1000x400 with 1 Axes>"
      ]
     },
     "metadata": {
      "needs_background": "light"
     },
     "output_type": "display_data"
    }
   ],
   "source": [
    "cmap = colors.ListedColormap(\n",
    "    ['#000000', '#0074D9','#FF4136','#2ECC40','#FFDC00',\n",
    "     '#AAAAAA', '#F012BE', '#FF851B', '#7FDBFF', '#870C25'])\n",
    "norm = colors.Normalize(vmin=0, vmax=9)\n",
    "# 0:black, 1:blue, 2:red, 3:greed, 4:yellow,\n",
    "# 5:gray, 6:magenta, 7:orange, 8:sky, 9:brown\n",
    "plt.figure(figsize=(5, 2), dpi=200)\n",
    "plt.imshow([list(range(10))], cmap=cmap, norm=norm)\n",
    "plt.xticks(list(range(10)))\n",
    "plt.yticks([])\n",
    "plt.show()\n",
    "\n",
    "def plot_task(task):\n",
    "    n = len(task[\"train\"]) + len(task[\"test\"])\n",
    "    fig, axs = plt.subplots(2, n, figsize=(4*n,8), dpi=50)\n",
    "    plt.subplots_adjust(wspace=0, hspace=0)\n",
    "    fig_num = 0\n",
    "    \n",
    "    for i, t in enumerate(task[\"train\"]):\n",
    "        t_in, t_out = np.array(t[\"input\"]), np.array(t[\"output\"])\n",
    "        axs[0][fig_num].imshow(t_in, cmap=cmap, norm=norm)\n",
    "        axs[0][fig_num].set_title(f'Train-{i} in')\n",
    "        axs[0][fig_num].set_yticks(list(range(t_in.shape[0])))\n",
    "        axs[0][fig_num].set_xticks(list(range(t_in.shape[1])))\n",
    "        axs[1][fig_num].imshow(t_out, cmap=cmap, norm=norm)\n",
    "        axs[1][fig_num].set_title(f'Train-{i} out')\n",
    "        axs[1][fig_num].set_yticks(list(range(t_out.shape[0])))\n",
    "        axs[1][fig_num].set_xticks(list(range(t_out.shape[1])))\n",
    "        fig_num += 1\n",
    "    for i, t in enumerate(task[\"test\"]):\n",
    "        t_in, t_out = np.array(t[\"input\"]), np.array(t[\"output\"])\n",
    "        axs[0][fig_num].imshow(t_in, cmap=cmap, norm=norm)\n",
    "        axs[0][fig_num].set_title(f'Test-{i} in')\n",
    "        axs[0][fig_num].set_yticks(list(range(t_in.shape[0])))\n",
    "        axs[0][fig_num].set_xticks(list(range(t_in.shape[1])))\n",
    "        axs[1][fig_num].imshow(t_out, cmap=cmap, norm=norm)\n",
    "        axs[1][fig_num].set_title(f'Test-{i} out')\n",
    "        axs[1][fig_num].set_yticks(list(range(t_out.shape[0])))\n",
    "        axs[1][fig_num].set_xticks(list(range(t_out.shape[1])))\n",
    "        fig_num += 1\n",
    "    \n",
    "    plt.tight_layout()\n",
    "    plt.show()"
   ]
  },
  {
   "cell_type": "code",
   "execution_count": 10,
   "metadata": {},
   "outputs": [],
   "source": [
    "\n",
    "def plot_picture(x):\n",
    "    plt.imshow(np.array(x), cmap = cmap, norm = norm)\n",
    "    plt.show()"
   ]
  },
  {
   "cell_type": "code",
   "execution_count": 11,
   "metadata": {},
   "outputs": [],
   "source": [
    "def Defensive_Copy(A): \n",
    "    if type(A)!=list:\n",
    "        A=A.tolist()\n",
    "    n = len(A)\n",
    "    k = len(A[0])\n",
    "    L = np.zeros((n,k), dtype = int)\n",
    "    for i in range(n):\n",
    "        for j in range(k):\n",
    "            L[i,j] = 0 + A[i][j]\n",
    "    return L.tolist()"
   ]
  },
  {
   "cell_type": "code",
   "execution_count": 12,
   "metadata": {},
   "outputs": [],
   "source": [
    "def Create(task, task_id = 0):\n",
    "    n = len(task['train'])\n",
    "    Input = [Defensive_Copy(task['train'][i]['input']) for i in range(n)]\n",
    "    Output = [Defensive_Copy(task['train'][i]['output']) for i in range(n)]\n",
    "    Input.append(Defensive_Copy(task['test'][task_id]['input']))\n",
    "    return Input, Output"
   ]
  },
  {
   "cell_type": "code",
   "execution_count": 13,
   "metadata": {},
   "outputs": [],
   "source": [
    "def Cut(M, r1, r2): #Cut a region into tiles\n",
    "    List = []\n",
    "    n = len(M)\n",
    "    n1 = n//r1\n",
    "    k = len(M[0])\n",
    "    k1 = k//r2\n",
    "    for i in range(r1):\n",
    "        for j in range(r2):\n",
    "            R = np.zeros((n1,k1), dtype = int)\n",
    "            for t1 in range(n1):\n",
    "                for t2 in range(k1):\n",
    "                    R[t1,t2] = 0+M[i*n1+t1][j*k1+t2]\n",
    "            List.append(R.tolist())\n",
    "    return List"
   ]
  },
  {
   "cell_type": "code",
   "execution_count": 14,
   "metadata": {},
   "outputs": [],
   "source": [
    "def muti_And(a,b):\n",
    "    if np.array(a).shape!= np.array(b).shape:\n",
    "        return -1\n",
    "    n,m=np.array(a).shape\n",
    "    a1=Defensive_Copy(a)\n",
    "    for i in range(n):\n",
    "        for j in range(m):\n",
    "            if b[i][j]!=0 and a[i][j]==0:\n",
    "                a1[i][j]=b[i][j]\n",
    "    return a1"
   ]
  },
  {
   "cell_type": "code",
   "execution_count": 15,
   "metadata": {},
   "outputs": [],
   "source": [
    "def h_one_color(A):\n",
    "    b=[]\n",
    "    A=np.array(A)\n",
    "    for i in range(len(A[0])):\n",
    "        if len(np.unique(A[:,i]))==1:\n",
    "            b.append(i)\n",
    "    return b\n",
    "\n",
    "def w_one_color(A):\n",
    "    b=[]\n",
    "    A=np.array(A)\n",
    "    for i in range(len(A)):\n",
    "        if len(np.unique(A[i,:]))==1:\n",
    "            b.append(i)\n",
    "    return b"
   ]
  },
  {
   "cell_type": "code",
   "execution_count": 16,
   "metadata": {},
   "outputs": [],
   "source": [
    "import itertools \n"
   ]
  },
  {
   "cell_type": "code",
   "execution_count": 17,
   "metadata": {},
   "outputs": [
    {
     "name": "stdout",
     "output_type": "stream",
     "text": [
      "[[0, 5, 5, 5, 5, 0], [5, 5, 0, 5, 5, 5], [5, 5, 0, 5, 0, 0]]\n"
     ]
    }
   ],
   "source": [
    "for i in list(itertools.permutations([[[0, 5, 5, 5, 5, 0], [5, 5, 0, 5, 5, 5], [5, 5, 0, 5, 0, 0]], [[0, 0, 4, 0, 0, 0], [4, 0, 4, 4, 4, 0], [4, 0, 0, 0, 0, 0]], [[2, 0, 2, 2, 0, 2], [2, 0, 0, 0, 0, 2], [0, 0, 0, 2, 0, 0]], [[0, 8, 0, 8, 0, 0], [0, 8, 0, 0, 0, 0], [0, 8, 0, 8, 0, 0]]],4)):\n",
    "    print(i[0])\n",
    "    break"
   ]
  },
  {
   "cell_type": "code",
   "execution_count": 18,
   "metadata": {},
   "outputs": [
    {
     "data": {
      "text/plain": [
       "24"
      ]
     },
     "execution_count": 18,
     "metadata": {},
     "output_type": "execute_result"
    }
   ],
   "source": [
    "np.math.factorial(4)"
   ]
  },
  {
   "cell_type": "code",
   "execution_count": 19,
   "metadata": {},
   "outputs": [],
   "source": [
    "def solve_add_cut_image(basic_task): \n",
    "    #returns -1 if no match is found\n",
    "\n",
    "    Input = [Defensive_Copy(x) for x in basic_task[0]]\n",
    "    Output = [Defensive_Copy(y) for y in basic_task[1]]\n",
    "    Test_Case = Input[-1]\n",
    "    Input = Input[:-1]\n",
    "    same_ratio = True\n",
    "    R_x = []\n",
    "    R_y = []\n",
    "    for x, y in zip(Input,Output):\n",
    "        n1 = len(x)\n",
    "        n2 = len(y)\n",
    "        k1 = len(x[0])\n",
    "        k2 = len(y[0])\n",
    "        \n",
    "        if n1%n2 != 0 or k1%k2 != 0 or n1<n2 or k1<k2 or (n1==n2 and k1==k2):\n",
    "            same_ratio = False\n",
    "            break\n",
    "        else :\n",
    "            R_y.append(n1//n2)\n",
    "            R_x.append(k1//k2)\n",
    "        \n",
    "    if same_ratio and min(R_x) == max(R_x) and min(R_y) == max(R_y): \n",
    "        r1 = min(R_y)\n",
    "        r2 = min(R_x)\n",
    "    else:\n",
    "        return -1\n",
    "    if r1*r2>6:\n",
    "        return -1\n",
    "    \n",
    "    for i in range(np.math.factorial(r1*r2)):\n",
    "        solved=True\n",
    "        for x,y in zip(Input,Output):\n",
    "            res_img=np.zeros((n2,k2),np.int).tolist()\n",
    "            cut_image = Cut(x, r1, r2) \n",
    "            \n",
    "            \n",
    "            for com in (list( itertools.permutations(cut_image,r1*r2)))[i]:\n",
    "                \n",
    "                res_img=muti_And(res_img,com)\n",
    "            \n",
    "            \n",
    "            if res_img!=y:\n",
    "                solved=False\n",
    "                break\n",
    "        \n",
    "        if solved==True:\n",
    "            res_img=np.zeros((n2,k2),np.int).tolist()\n",
    "            cut_image = Cut(Test_Case, r1, r2) \n",
    "            \n",
    "            \n",
    "            for com in (list( itertools.permutations(cut_image,r1*r2)))[i]:\n",
    "                \n",
    "                res_img=muti_And(res_img,com)\n",
    "            return res_img\n",
    "    return -1\n",
    "    \n",
    "                \n"
   ]
  },
  {
   "cell_type": "code",
   "execution_count": 20,
   "metadata": {},
   "outputs": [
    {
     "data": {
      "text/plain": [
       "[[0, 0, 0, 0, 0, 0], [0, 0, 0, 0, 0, 0], [0, 0, 0, 0, 0, 0]]"
      ]
     },
     "execution_count": 20,
     "metadata": {},
     "output_type": "execute_result"
    }
   ],
   "source": [
    "np.zeros((3,6),np.int).tolist()"
   ]
  },
  {
   "cell_type": "code",
   "execution_count": 21,
   "metadata": {},
   "outputs": [
    {
     "name": "stdout",
     "output_type": "stream",
     "text": [
      "93 0\n"
     ]
    },
    {
     "data": {
      "image/png": "[encoded data removed]",
      "text/plain": [
       "<Figure size 1400x400 with 14 Axes>"
      ]
     },
     "metadata": {
      "needs_background": "light"
     },
     "output_type": "display_data"
    },
    {
     "data": {
      "image/png": "[encoded data removed]",
      "text/plain": [
       "<Figure size 432x288 with 1 Axes>"
      ]
     },
     "metadata": {
      "needs_background": "light"
     },
     "output_type": "display_data"
    },
    {
     "name": "stdout",
     "output_type": "stream",
     "text": [
      "166 0\n"
     ]
    },
    {
     "data": {
      "image/png": "[encoded data removed]",
      "text/plain": [
       "<Figure size 1200x400 with 12 Axes>"
      ]
     },
     "metadata": {
      "needs_background": "light"
     },
     "output_type": "display_data"
    },
    {
     "data": {
      "image/png": "[encoded data removed]",
      "text/plain": [
       "<Figure size 432x288 with 1 Axes>"
      ]
     },
     "metadata": {
      "needs_background": "light"
     },
     "output_type": "display_data"
    },
    {
     "name": "stdout",
     "output_type": "stream",
     "text": [
      "372 0\n"
     ]
    },
    {
     "data": {
      "image/png": "[encoded data removed]",
      "text/plain": [
       "<Figure size 1400x400 with 14 Axes>"
      ]
     },
     "metadata": {
      "needs_background": "light"
     },
     "output_type": "display_data"
    },
    {
     "data": {
      "image/png": "[encoded data removed]",
      "text/plain": [
       "<Figure size 432x288 with 1 Axes>"
      ]
     },
     "metadata": {
      "needs_background": "light"
     },
     "output_type": "display_data"
    }
   ],
   "source": [
    "solved_train = []\n",
    "for i in range(400):\n",
    "    \n",
    "    task = Evals[i]\n",
    "    \n",
    "    k = len(task['test'])\n",
    "    for j in range(k):\n",
    "        \n",
    "        basic_task = Create(task, j)\n",
    "        proposed_solution = solve_add_cut_image(basic_task)\n",
    "        if proposed_solution != -1:\n",
    "            print(i,j)\n",
    "            plot_task(task)\n",
    "            plot_picture(proposed_solution)\n"
   ]
  },
  {
   "cell_type": "code",
   "execution_count": 22,
   "metadata": {},
   "outputs": [
    {
     "data": {
      "text/plain": [
       "[4]"
      ]
     },
     "execution_count": 22,
     "metadata": {},
     "output_type": "execute_result"
    }
   ],
   "source": [
    "a=Trains[256][\"train\"][1][\"input\"]\n",
    "h_one_color(a)"
   ]
  },
  {
   "cell_type": "code",
   "execution_count": 23,
   "metadata": {},
   "outputs": [
    {
     "data": {
      "text/plain": [
       "{1, 4, 5}"
      ]
     },
     "execution_count": 23,
     "metadata": {},
     "output_type": "execute_result"
    }
   ],
   "source": [
    "set([1,4,5])"
   ]
  },
  {
   "cell_type": "code",
   "execution_count": 45,
   "metadata": {},
   "outputs": [],
   "source": [
    "def solve_add_cut_image_wall(basic_task): \n",
    "    #returns -1 if no match is found\n",
    "\n",
    "    Input = [Defensive_Copy(x) for x in basic_task[0]]\n",
    "    Output = [Defensive_Copy(y) for y in basic_task[1]]\n",
    "    Test_Case = Input[-1]\n",
    "    Input = Input[:-1]\n",
    "    same_ratio = True\n",
    "    R_x = []\n",
    "    R_y = []\n",
    "    new_Input=[]\n",
    "    for x, y in zip(Input,Output):\n",
    "        n1 = len(x)\n",
    "        n2 = len(y)\n",
    "        k1 = len(x[0])\n",
    "        k2 = len(y[0])\n",
    "        \n",
    "        x_array=np.array(x)\n",
    "        if n1%(n2+1)!=n2 or k1%(k2+1)!=k2 or (n1==n2 and k1==k2):\n",
    "            return -1\n",
    "    \n",
    "    for x in Input:\n",
    "        i=1\n",
    "        j=1\n",
    "        x_array=np.array(x)\n",
    "        delete_x=[]\n",
    "        delete_y=[]\n",
    "        while n1>i*(n2+1):\n",
    "            delete_x.append(i*(n2+1)-1)\n",
    "            i+=1\n",
    "\n",
    "        while k1>j*(k2+1):\n",
    "            delete_y.append(j*(k2+1)-1)\n",
    "            j+=1\n",
    "        x_array=np.delete(x_array,delete_x,axis=0)\n",
    "        x_array=np.delete(x_array,delete_y,axis=1)\n",
    "        new_Input.append(x_array.tolist())\n",
    "    \n",
    "    try:\n",
    "        Test_Case = np.delete(np.array(Test_Case),delete_x,axis=0).tolist()\n",
    "        Test_Case = np.delete(np.array(Test_Case),delete_y,axis=1).tolist()\n",
    "    except:\n",
    "        return -1\n",
    "    Input = new_Input\n",
    "    same_ratio = True\n",
    "    R_x = []\n",
    "    R_y = []\n",
    "    for x, y in zip(Input,Output):\n",
    "        n1 = len(x)\n",
    "        n2 = len(y)\n",
    "        k1 = len(x[0])\n",
    "        k2 = len(y[0])\n",
    "        \n",
    "        if n1%n2 != 0 or k1%k2 != 0 or n1<n2 or k1<k2 or (n1==n2 and k1==k2):\n",
    "            same_ratio = False\n",
    "            break\n",
    "        else :\n",
    "            R_y.append(n1//n2)\n",
    "            R_x.append(k1//k2)\n",
    "        \n",
    "    if same_ratio and min(R_x) == max(R_x) and min(R_y) == max(R_y): \n",
    "        r1 = min(R_y)\n",
    "        r2 = min(R_x)\n",
    "    else:\n",
    "        return -1\n",
    "    if r1*r2>6:\n",
    "        return -1\n",
    "    \n",
    "    for i in range(np.math.factorial(r1*r2)):\n",
    "        solved=True\n",
    "        for x,y in zip(Input,Output):\n",
    "            res_img=np.zeros((n2,k2),np.int).tolist()\n",
    "            cut_image = Cut(x, r1, r2) \n",
    "            \n",
    "            \n",
    "            for com in (list( itertools.permutations(cut_image,r1*r2)))[i]:\n",
    "                \n",
    "                res_img=muti_And(res_img,com)\n",
    "            \n",
    "            \n",
    "            if res_img!=y:\n",
    "                solved=False\n",
    "                break\n",
    "        \n",
    "        if solved==True:\n",
    "            res_img=np.zeros((n2,k2),np.int).tolist()\n",
    "            cut_image = Cut(Test_Case, r1, r2) \n",
    "            \n",
    "            \n",
    "            for com in (list( itertools.permutations(cut_image,r1*r2)))[i]:\n",
    "                \n",
    "                res_img=muti_And(res_img,com)\n",
    "            return res_img\n",
    "    return -1\n",
    "    \n",
    "                \n",
    "\n",
    "        \n",
    "        \n",
    " \n"
   ]
  },
  {
   "cell_type": "code",
   "execution_count": null,
   "metadata": {},
   "outputs": [],
   "source": []
  },
  {
   "cell_type": "code",
   "execution_count": 49,
   "metadata": {},
   "outputs": [
    {
     "name": "stdout",
     "output_type": "stream",
     "text": [
      "68 0\n"
     ]
    },
    {
     "data": {
      "image/png": "[encoded data removed]",
      "text/plain": [
       "<Figure size 1400x400 with 14 Axes>"
      ]
     },
     "metadata": {
      "needs_background": "light"
     },
     "output_type": "display_data"
    },
    {
     "data": {
      "image/png": "[encoded data removed]",
      "text/plain": [
       "<Figure size 432x288 with 1 Axes>"
      ]
     },
     "metadata": {
      "needs_background": "light"
     },
     "output_type": "display_data"
    },
    {
     "name": "stdout",
     "output_type": "stream",
     "text": [
      "366 0\n"
     ]
    },
    {
     "data": {
      "image/png": "[encoded data removed]",
      "text/plain": [
       "<Figure size 1400x400 with 14 Axes>"
      ]
     },
     "metadata": {
      "needs_background": "light"
     },
     "output_type": "display_data"
    },
    {
     "data": {
      "image/png": "[encoded data removed]",
      "text/plain": [
       "<Figure size 432x288 with 1 Axes>"
      ]
     },
     "metadata": {
      "needs_background": "light"
     },
     "output_type": "display_data"
    }
   ],
   "source": [
    "solved_train = []\n",
    "for i in range(400):\n",
    "    task = Evals[i]\n",
    "    \n",
    "    k = len(task['test'])\n",
    "    for j in range(k):\n",
    "        \n",
    "        basic_task = Create(task, j)\n",
    "        proposed_solution = solve_add_cut_image_wall(basic_task)\n",
    "        if proposed_solution != -1:\n",
    "            print(i,j)\n",
    "            plot_task(task)\n",
    "            plot_picture(proposed_solution)"
   ]
  },
  {
   "cell_type": "code",
   "execution_count": null,
   "metadata": {},
   "outputs": [],
   "source": []
  },
  {
   "cell_type": "code",
   "execution_count": null,
   "metadata": {},
   "outputs": [],
   "source": []
  },
  {
   "cell_type": "code",
   "execution_count": null,
   "metadata": {},
   "outputs": [],
   "source": []
  }
 ],
 "metadata": {
  "kernelspec": {
   "display_name": "Python 3",
   "language": "python",
   "name": "python3"
  },
  "language_info": {
   "codemirror_mode": {
    "name": "ipython",
    "version": 3
   },
   "file_extension": ".py",
   "mimetype": "text/x-python",
   "name": "python",
   "nbconvert_exporter": "python",
   "pygments_lexer": "ipython3",
   "version": "3.6.7"
  }
 },
 "nbformat": 4,
 "nbformat_minor": 4
}
