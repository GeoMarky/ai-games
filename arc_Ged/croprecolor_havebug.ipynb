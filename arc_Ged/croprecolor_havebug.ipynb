{
 "cells": [
  {
   "cell_type": "code",
   "execution_count": 1,
   "metadata": {},
   "outputs": [
    {
     "name": "stdout",
     "output_type": "stream",
     "text": [
      "input\n",
      "input\\evaluation\n",
      "input\\training\n"
     ]
    }
   ],
   "source": [
    "import numpy as np\n",
    "import pandas as pd\n",
    "import time\n",
    "\n",
    "import os\n",
    "import json\n",
    "from pathlib import Path\n",
    "\n",
    "import matplotlib.pyplot as plt\n",
    "from matplotlib import colors\n",
    "import numpy as np\n",
    "from pathlib import Path\n",
    "\n",
    "#for dirname, _, filenames in os.walk('/kaggle/input'):\n",
    "for dirname, _, filenames in os.walk(\"input\"):\n",
    "    print(dirname)"
   ]
  },
  {
   "cell_type": "code",
   "execution_count": 2,
   "metadata": {},
   "outputs": [],
   "source": [
    "#data_path = Path('/kaggle/input/abstraction-and-reasoning-challenge/')\n",
    "data_path = Path('input/')\n",
    "training_path = data_path / 'training'\n",
    "evaluation_path = data_path / 'evaluation'\n",
    "test_path = data_path / 'test'\n",
    "training_tasks = sorted(os.listdir(training_path))\n",
    "eval_tasks = sorted(os.listdir(evaluation_path))"
   ]
  },
  {
   "cell_type": "code",
   "execution_count": 3,
   "metadata": {},
   "outputs": [],
   "source": [
    "#已解決的ID\n",
    "solved_id=set()\n",
    "solved_eva_id=set()"
   ]
  },
  {
   "cell_type": "code",
   "execution_count": 4,
   "metadata": {},
   "outputs": [],
   "source": [
    "T = training_tasks\n",
    "Trains = []\n",
    "for i in range(400):\n",
    "    task_file = str(training_path / T[i])\n",
    "    task = json.load(open(task_file, 'r'))\n",
    "    Trains.append(task)\n",
    "    \n",
    "E = eval_tasks\n",
    "Evals= []\n",
    "for i in range(400):\n",
    "    task_file = str(evaluation_path / E[i])\n",
    "    task = json.load(open(task_file, 'r'))\n",
    "    Evals.append(task)"
   ]
  },
  {
   "cell_type": "code",
   "execution_count": 5,
   "metadata": {},
   "outputs": [
    {
     "data": {
      "image/png": "[encoded data removed]",
      "text/plain": [
       "<Figure size 1000x400 with 1 Axes>"
      ]
     },
     "metadata": {
      "needs_background": "light"
     },
     "output_type": "display_data"
    }
   ],
   "source": [
    "cmap = colors.ListedColormap(\n",
    "    ['#000000', '#0074D9','#FF4136','#2ECC40','#FFDC00',\n",
    "     '#AAAAAA', '#F012BE', '#FF851B', '#7FDBFF', '#870C25'])\n",
    "norm = colors.Normalize(vmin=0, vmax=9)\n",
    "# 0:black, 1:blue, 2:red, 3:greed, 4:yellow,\n",
    "# 5:gray, 6:magenta, 7:orange, 8:sky, 9:brown\n",
    "plt.figure(figsize=(5, 2), dpi=200)\n",
    "plt.imshow([list(range(10))], cmap=cmap, norm=norm)\n",
    "plt.xticks(list(range(10)))\n",
    "plt.yticks([])\n",
    "plt.show()\n",
    "\n",
    "def plot_task(task):\n",
    "    n = len(task[\"train\"]) + len(task[\"test\"])\n",
    "    fig, axs = plt.subplots(2, n, figsize=(4*n,8), dpi=50)\n",
    "    plt.subplots_adjust(wspace=0, hspace=0)\n",
    "    fig_num = 0\n",
    "    \n",
    "    for i, t in enumerate(task[\"train\"]):\n",
    "        t_in, t_out = np.array(t[\"input\"]), np.array(t[\"output\"])\n",
    "        axs[0][fig_num].imshow(t_in, cmap=cmap, norm=norm)\n",
    "        axs[0][fig_num].set_title(f'Train-{i} in')\n",
    "        axs[0][fig_num].set_yticks(list(range(t_in.shape[0])))\n",
    "        axs[0][fig_num].set_xticks(list(range(t_in.shape[1])))\n",
    "        axs[1][fig_num].imshow(t_out, cmap=cmap, norm=norm)\n",
    "        axs[1][fig_num].set_title(f'Train-{i} out')\n",
    "        axs[1][fig_num].set_yticks(list(range(t_out.shape[0])))\n",
    "        axs[1][fig_num].set_xticks(list(range(t_out.shape[1])))\n",
    "        fig_num += 1\n",
    "    for i, t in enumerate(task[\"test\"]):\n",
    "        t_in, t_out = np.array(t[\"input\"]), np.array(t[\"output\"])\n",
    "        axs[0][fig_num].imshow(t_in, cmap=cmap, norm=norm)\n",
    "        axs[0][fig_num].set_title(f'Test-{i} in')\n",
    "        axs[0][fig_num].set_yticks(list(range(t_in.shape[0])))\n",
    "        axs[0][fig_num].set_xticks(list(range(t_in.shape[1])))\n",
    "        axs[1][fig_num].imshow(t_out, cmap=cmap, norm=norm)\n",
    "        axs[1][fig_num].set_title(f'Test-{i} out')\n",
    "        axs[1][fig_num].set_yticks(list(range(t_out.shape[0])))\n",
    "        axs[1][fig_num].set_xticks(list(range(t_out.shape[1])))\n",
    "        fig_num += 1\n",
    "    \n",
    "    plt.tight_layout()\n",
    "    plt.show()"
   ]
  },
  {
   "cell_type": "code",
   "execution_count": 6,
   "metadata": {},
   "outputs": [],
   "source": [
    "\n",
    "def plot_picture(x):\n",
    "    plt.imshow(np.array(x), cmap = cmap, norm = norm)\n",
    "    plt.show()"
   ]
  },
  {
   "cell_type": "code",
   "execution_count": 7,
   "metadata": {},
   "outputs": [],
   "source": [
    "def Defensive_Copy(A): \n",
    "    if type(A)!=list:\n",
    "        A=A.tolist()\n",
    "    n = len(A)\n",
    "    k = len(A[0])\n",
    "    L = np.zeros((n,k), dtype = int)\n",
    "    for i in range(n):\n",
    "        for j in range(k):\n",
    "            L[i,j] = 0 + A[i][j]\n",
    "    return L.tolist()"
   ]
  },
  {
   "cell_type": "code",
   "execution_count": 8,
   "metadata": {},
   "outputs": [],
   "source": [
    "def Create(task, task_id = 0):\n",
    "    n = len(task['train'])\n",
    "    Input = [Defensive_Copy(task['train'][i]['input']) for i in range(n)]\n",
    "    Output = [Defensive_Copy(task['train'][i]['output']) for i in range(n)]\n",
    "    Input.append(Defensive_Copy(task['test'][task_id]['input']))\n",
    "    return Input, Output"
   ]
  },
  {
   "cell_type": "code",
   "execution_count": 9,
   "metadata": {},
   "outputs": [],
   "source": [
    "def maxcolor(A):\n",
    "    b = np.bincount(A.flatten(),minlength=10)\n",
    "    b[0] = 500 #???255\n",
    "    c=np.argsort(b)[-2]\n",
    "    return c\n",
    "#no count black\n",
    "\n",
    "def mincolor(A):\n",
    "    try:\n",
    "        b = np.bincount(A.flatten(),minlength=10)\n",
    "        b1=np.delete(b,0)\n",
    "        #b1=b\n",
    "        c = int(np.where(b==np.min(b1[np.nonzero(b1)]))[0])\n",
    "        return c\n",
    "    except:\n",
    "        return 0"
   ]
  },
  {
   "cell_type": "code",
   "execution_count": 10,
   "metadata": {},
   "outputs": [],
   "source": [
    "color_select=[maxcolor,mincolor,0,1,2,3,4,5,6,7,8,9]"
   ]
  },
  {
   "cell_type": "code",
   "execution_count": 11,
   "metadata": {},
   "outputs": [],
   "source": [
    "def colorbycolor_select(A,S):\n",
    "    A=np.array(Defensive_Copy(A))\n",
    "    if S in color_select:\n",
    "        if type(S) != int:\n",
    "            x=S(A)\n",
    "        else:\n",
    "            x=S\n",
    "        return x"
   ]
  },
  {
   "cell_type": "code",
   "execution_count": 12,
   "metadata": {},
   "outputs": [],
   "source": [
    "def cropbycolor(a0,c):\n",
    "    a=np.array(a0)\n",
    "    if c not in a:\n",
    "        return -1\n",
    "\n",
    "    coords = np.argwhere(a==c)\n",
    "    y_min, x_min = coords.min(axis=0)\n",
    "    y_max, x_max = coords.max(axis=0)\n",
    "    if x_min!=x_max or y_min!=y_max:\n",
    "        return a[y_min:y_max+1, x_min:x_max+1],[y_min,y_max,x_min,x_max]\n",
    "    else: \n",
    "        return -1\n"
   ]
  },
  {
   "cell_type": "code",
   "execution_count": 13,
   "metadata": {},
   "outputs": [],
   "source": [
    "# #array\n",
    "# def getObjectHash(pixmap):\n",
    "#     flat = pixmap.flatten().astype(np.bool)\n",
    "#     mult = np.array([2 ** x for x in range(len(flat))])\n",
    "#     return np.sum(flat * mult)\n",
    "# #經測試沒有overflow問題\n",
    "# def groupByColor(pixmap):\n",
    "#     nb_colors = int(pixmap.max()) + 1\n",
    "#     splited = [(pixmap == i) * i for i in range(1, nb_colors)]\n",
    "#     return [x for x in splited if np.any(x)]\n",
    "# def checkColorMap(a,b):\n",
    "# #     a_copy=a.copy()\n",
    "# #     b_copy=b.copy()\n",
    "# #     a_copy[a_copy==0]=10\n",
    "# #     b_copy[b_copy==0]=10\n",
    "#     a[a==0]=10\n",
    "#     b[b==0]=10\n",
    "#     c = 1\n",
    "#     inp_hashes = sorted([getObjectHash(pm) for pm in groupByColor(a)])\n",
    "#     out_hashes = sorted([getObjectHash(pm) for pm in groupByColor(b)])\n",
    "#     c *= inp_hashes == out_hashes\n",
    "#     return bool(c)\n",
    "# # def checkColorMap(a0,b0):\n",
    "# #     a=np.array(a0)\n",
    "# #     b=np.array(b0)\n",
    "# #     a[a==0]=10\n",
    "# #     b[b==0]=10\n",
    "# #     c = 1\n",
    "# #     inp_hashes = sorted([getObjectHash(pm) for pm in groupByColor(a)])\n",
    "# #     out_hashes = sorted([getObjectHash(pm) for pm in groupByColor(b)])\n",
    "# #     c *= inp_hashes == out_hashes"
   ]
  },
  {
   "cell_type": "code",
   "execution_count": 14,
   "metadata": {},
   "outputs": [],
   "source": [
    "# def findColorMap(a,b):\n",
    "#     colormap = {}\n",
    "#     a1=np.array(a).flatten()\n",
    "#     b1=np.array(b).flatten()\n",
    "\n",
    "#     for col, idx in zip(*np.unique(a1,return_index=True)):\n",
    "#         if col in colormap.keys(): continue\n",
    "#         colormap[col] = b1[idx]\n",
    "#     return colormap\n",
    "# def applyColorMap(pixmap, colormap):\n",
    "#     pixmap=np.array(pixmap)\n",
    "# #     pixmap[pixmap==0]=10\n",
    "\n",
    "#     #print(pixmap,colormap)\n",
    "#     a1=pixmap\n",
    "#     a1[a1==0]=10\n",
    "# #     print(a1)\n",
    "# #     print(colormap)\n",
    "#     for i in range(len(a1)):\n",
    "#         for j in range(len(a1[0])):\n",
    "#             if a1[i][j] not in colormap.keys():\n",
    "#                 return -1\n",
    "#             a1[i][j]=colormap[pixmap[i][j]]\n",
    "#     a1[a1==10]=0\n",
    "            \n",
    "#     return a1.tolist()\n",
    "\n",
    "# # def applyColorMap(pixmap, colormap):\n",
    "# #     a1=np.array(pixmap)\n",
    "# #     for i in range(a1.shape[0]):\n",
    "# #         for j in range(a1.shape[1]):\n",
    "# #             if a1[i][j] not in colormap: #\n",
    "# #                 continue #\n",
    "# #             a1[i][j]=colormap[pixmap[i][j]]\n",
    "# #     return a1.tolist()"
   ]
  },
  {
   "cell_type": "code",
   "execution_count": 15,
   "metadata": {},
   "outputs": [],
   "source": [
    "# def mergedict(dict1):\n",
    "#     dict3={}\n",
    "#     for dict2 in dict1:\n",
    "#         for key in dict2.keys():\n",
    "#             if key not in dict3.keys():\n",
    "#                 dict3[key]=dict2[key]\n",
    "#             elif dict3[key]!= dict2[key]:\n",
    "#                 return False\n",
    "#     return dict3"
   ]
  },
  {
   "cell_type": "code",
   "execution_count": 16,
   "metadata": {},
   "outputs": [],
   "source": [
    "def getObjectHash(pixmap):\n",
    "    flat = pixmap.flatten().astype(np.bool)\n",
    "    mult = np.array([2 ** x for x in range(len(flat))])\n",
    "    return np.sum(flat * mult)\n",
    "#經測試沒有overflow問題\n",
    "def groupByColor(pixmap):\n",
    "    nb_colors = int(pixmap.max()) + 1\n",
    "    splited = [(pixmap == i) * i for i in range(1, nb_colors)]\n",
    "    return [x for x in splited if np.any(x)]\n",
    "def checkColorMap(a0,b0):\n",
    "    a=np.array(a0)\n",
    "    b=np.array(b0)\n",
    "    a[a==0]=10\n",
    "    b[b==0]=10\n",
    "    c = 1\n",
    "    inp_hashes = sorted([getObjectHash(pm) for pm in groupByColor(a)])\n",
    "    out_hashes = sorted([getObjectHash(pm) for pm in groupByColor(b)])\n",
    "    c *= inp_hashes == out_hashes\n",
    "    return bool(c)\n",
    "def findColorMap(a,b):\n",
    "    colormap = {}\n",
    "    a1=np.array(a).flatten()\n",
    "    b1=np.array(b).flatten()\n",
    "\n",
    "    for col, idx in zip(*np.unique(a1,return_index=True)):\n",
    "        if col in colormap.keys(): continue\n",
    "        colormap[col] = b1[idx]\n",
    "    return colormap\n",
    "\n",
    "def mergedict(dict1):\n",
    "    dict3={}\n",
    "    for dict2 in dict1:\n",
    "        for key in dict2.keys():\n",
    "            if key not in dict3.keys():\n",
    "                dict3[key]=dict2[key]\n",
    "            elif dict3[key]!= dict2[key]:\n",
    "                return False\n",
    "    return dict3\n",
    "def applyColorMap(pixmap, colormap):\n",
    "    a1=np.array(pixmap)\n",
    "    for i in range(a1.shape[0]):\n",
    "        for j in range(a1.shape[1]):\n",
    "            if a1[i][j] not in colormap: #\n",
    "                continue #\n",
    "            a1[i][j]=colormap[pixmap[i][j]]\n",
    "    return a1.tolist()"
   ]
  },
  {
   "cell_type": "code",
   "execution_count": 17,
   "metadata": {},
   "outputs": [],
   "source": [
    "D0=[[0,1,2,0],[0,0,3,0],[2,1,0,0],[0,0,0,0]]\n",
    "D=np.array(D0)"
   ]
  },
  {
   "cell_type": "code",
   "execution_count": 18,
   "metadata": {},
   "outputs": [
    {
     "data": {
      "text/plain": [
       "array([[0, 1, 2, 0],\n",
       "       [0, 2, 2, 0],\n",
       "       [2, 2, 2, 0],\n",
       "       [0, 0, 0, 0]])"
      ]
     },
     "execution_count": 18,
     "metadata": {},
     "output_type": "execute_result"
    }
   ],
   "source": [
    "D[1:3,1:3]=np.array([[2,2],[2,2]])\n",
    "D"
   ]
  },
  {
   "cell_type": "code",
   "execution_count": 19,
   "metadata": {},
   "outputs": [],
   "source": [
    "def Solve_color_crop(basic_task): \n",
    "    #returns -1 if no match is found\n",
    "    #returns  Transformed_Test_Case  if the mathching rule is found\n",
    "    Input = [Defensive_Copy(x) for x in basic_task[0]]\n",
    "    Output = [Defensive_Copy(y) for y in basic_task[1]]\n",
    "    Test_Case = Input[-1]\n",
    "    Input = Input[:-1]\n",
    "    for i in range(len(color_select)):\n",
    "        \n",
    "        \n",
    "        solved = True\n",
    "        colormaps=[]\n",
    "     \n",
    "        for x, y0 in zip(Input,Output):\n",
    "            if len(x)!=len(y0) or len(x[0])!=len(y0[0]):\n",
    "                return -1\n",
    "            y=np.array(y0)\n",
    "            c = colorbycolor_select(np.array(x),color_select[i])\n",
    "            \n",
    "            if cropbycolor(x,c)==-1:\n",
    "                solved=False\n",
    "                break    \n",
    "            #print(i,c)\n",
    "            x_crop,locate=cropbycolor(x,c)\n",
    "            #print(x_crop,locate)\n",
    "            y_crop=y[locate[0]:locate[1]+1,locate[2]:locate[3]+1]\n",
    "            #print(x_crop,y_crop)\n",
    "            #print(checkColorMap(x_crop,y_crop))\n",
    "            if checkColorMap(x_crop,y_crop):\n",
    "                colormaps.append(findColorMap(x_crop,y_crop))\n",
    "                \n",
    "            else:\n",
    "                solved=False\n",
    "                break \n",
    "            #print(findColorMap(x_crop,y_crop))\n",
    "            #print(x_crop)\n",
    "            #print(applyColorMap(x_crop,findColorMap(x_crop,y_crop)))\n",
    "            if applyColorMap(x_crop,findColorMap(x_crop,y_crop))==-1:\n",
    "                solved=False\n",
    "                break \n",
    "            x_crop_color=applyColorMap(x_crop,findColorMap(x_crop,y_crop))\n",
    "            \n",
    "            x_array=np.array(x)\n",
    "            x_array[locate[0]:locate[1]+1,locate[2]:locate[3]+1]=x_crop_color\n",
    "            \n",
    "\n",
    "        \n",
    "        \n",
    "            if not (x_array==y).all() :\n",
    "                \n",
    "                return -1\n",
    "            \n",
    "                \n",
    "        totalcolormap=mergedict(colormaps)\n",
    "        #print(totalcolormap)\n",
    "        if totalcolormap and solved==True:\n",
    "            c = colorbycolor_select(np.array(Test_Case),color_select[i])\n",
    "            if cropbycolor(Test_Case,c)==-1:\n",
    "                continue\n",
    "            Test_Case_crop,locate=cropbycolor(Test_Case,c)\n",
    "            \n",
    "            if applyColorMap(Test_Case_crop,totalcolormap)==-1:\n",
    "                continue\n",
    "            Test_Case_color=applyColorMap(Test_Case_crop,totalcolormap)\n",
    "            #print(Test_Case_color)\n",
    "            Test_Case_color0=np.array(Test_Case_color)\n",
    "            #print(locate)\n",
    "            #print(Test_Case_color0)\n",
    "            Test_Case_array=np.array(Test_Case)\n",
    "            Test_Case_array[locate[0]:locate[1]+1,locate[2]:locate[3]+1]=Test_Case_color0\n",
    "            return Test_Case_array.tolist()\n",
    "    return -1"
   ]
  },
  {
   "cell_type": "code",
   "execution_count": 20,
   "metadata": {},
   "outputs": [
    {
     "name": "stdout",
     "output_type": "stream",
     "text": [
      "69 0\n"
     ]
    },
    {
     "data": {
      "image/png": "[encoded data removed]",
      "text/plain": [
       "<Figure size 800x400 with 8 Axes>"
      ]
     },
     "metadata": {
      "needs_background": "light"
     },
     "output_type": "display_data"
    },
    {
     "data": {
      "image/png": "[encoded data removed]",
      "text/plain": [
       "<Figure size 432x288 with 1 Axes>"
      ]
     },
     "metadata": {
      "needs_background": "light"
     },
     "output_type": "display_data"
    },
    {
     "name": "stdout",
     "output_type": "stream",
     "text": [
      "165 0\n"
     ]
    },
    {
     "data": {
      "image/png": "[encoded data removed]",
      "text/plain": [
       "<Figure size 800x400 with 8 Axes>"
      ]
     },
     "metadata": {
      "needs_background": "light"
     },
     "output_type": "display_data"
    },
    {
     "data": {
      "image/png": "[encoded data removed]",
      "text/plain": [
       "<Figure size 432x288 with 1 Axes>"
      ]
     },
     "metadata": {
      "needs_background": "light"
     },
     "output_type": "display_data"
    },
    {
     "name": "stdout",
     "output_type": "stream",
     "text": [
      "275 0\n"
     ]
    },
    {
     "data": {
      "image/png": "[encoded data removed]",
      "text/plain": [
       "<Figure size 800x400 with 8 Axes>"
      ]
     },
     "metadata": {
      "needs_background": "light"
     },
     "output_type": "display_data"
    },
    {
     "data": {
      "image/png": "[encoded data removed]",
      "text/plain": [
       "<Figure size 432x288 with 1 Axes>"
      ]
     },
     "metadata": {
      "needs_background": "light"
     },
     "output_type": "display_data"
    },
    {
     "name": "stdout",
     "output_type": "stream",
     "text": [
      "308 0\n"
     ]
    },
    {
     "data": {
      "image/png": "[encoded data removed]",
      "text/plain": [
       "<Figure size 800x400 with 8 Axes>"
      ]
     },
     "metadata": {
      "needs_background": "light"
     },
     "output_type": "display_data"
    },
    {
     "data": {
      "image/png": "[encoded data removed]",
      "text/plain": [
       "<Figure size 432x288 with 1 Axes>"
      ]
     },
     "metadata": {
      "needs_background": "light"
     },
     "output_type": "display_data"
    }
   ],
   "source": [
    "for i in range(400):\n",
    "\n",
    "    task = Trains[i]\n",
    "    \n",
    "    k = len(task['test'])\n",
    "    for j in range(k):\n",
    "        \n",
    "        basic_task = Create(task, j)\n",
    "        proposed_solution = Solve_color_crop(basic_task)\n",
    "        if proposed_solution != -1:\n",
    "            print(i,j)\n",
    "            solved_id.add(i)\n",
    "            plot_task(task)\n",
    "            \n",
    "            plot_picture(proposed_solution)\n",
    "        "
   ]
  },
  {
   "cell_type": "code",
   "execution_count": 21,
   "metadata": {},
   "outputs": [
    {
     "name": "stdout",
     "output_type": "stream",
     "text": [
      "193 0\n"
     ]
    },
    {
     "data": {
      "image/png": "[encoded data removed]",
      "text/plain": [
       "<Figure size 800x400 with 8 Axes>"
      ]
     },
     "metadata": {
      "needs_background": "light"
     },
     "output_type": "display_data"
    },
    {
     "data": {
      "image/png": "[encoded data removed]",
      "text/plain": [
       "<Figure size 432x288 with 1 Axes>"
      ]
     },
     "metadata": {
      "needs_background": "light"
     },
     "output_type": "display_data"
    }
   ],
   "source": [
    "#have bug\n",
    "for i in range(400):\n",
    "\n",
    "    task = Evals[i]\n",
    "    \n",
    "    k = len(task['test'])\n",
    "    for j in range(k):\n",
    "        \n",
    "        basic_task = Create(task, j)\n",
    "        proposed_solution = Solve_color_crop(basic_task)\n",
    "        if proposed_solution != -1:\n",
    "            print(i,j)\n",
    "            solved_eva_id.add(i)\n",
    "            plot_task(task)\n",
    "            \n",
    "            plot_picture(proposed_solution)"
   ]
  },
  {
   "cell_type": "code",
   "execution_count": 22,
   "metadata": {},
   "outputs": [
    {
     "data": {
      "text/plain": [
       "[275, 308, 69, 165]"
      ]
     },
     "execution_count": 22,
     "metadata": {},
     "output_type": "execute_result"
    }
   ],
   "source": [
    "list(solved_id)"
   ]
  },
  {
   "cell_type": "code",
   "execution_count": null,
   "metadata": {},
   "outputs": [],
   "source": []
  }
 ],
 "metadata": {
  "kernelspec": {
   "display_name": "Python 3",
   "language": "python",
   "name": "python3"
  },
  "language_info": {
   "codemirror_mode": {
    "name": "ipython",
    "version": 3
   },
   "file_extension": ".py",
   "mimetype": "text/x-python",
   "name": "python",
   "nbconvert_exporter": "python",
   "pygments_lexer": "ipython3",
   "version": "3.6.7"
  }
 },
 "nbformat": 4,
 "nbformat_minor": 4
}
