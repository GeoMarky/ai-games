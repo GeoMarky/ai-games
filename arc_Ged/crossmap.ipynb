{
 "cells": [
  {
   "cell_type": "code",
   "execution_count": 1,
   "metadata": {},
   "outputs": [
    {
     "name": "stdout",
     "output_type": "stream",
     "text": [
      "input\n",
      "input\\evaluation\n",
      "input\\test\n",
      "input\\training\n"
     ]
    }
   ],
   "source": [
    "import numpy as np\n",
    "import pandas as pd\n",
    "import time\n",
    "\n",
    "import os\n",
    "import json\n",
    "from pathlib import Path\n",
    "\n",
    "import matplotlib.pyplot as plt\n",
    "from matplotlib import colors\n",
    "import numpy as np\n",
    "from pathlib import Path\n",
    "\n",
    "#for dirname, _, filenames in os.walk('/kaggle/input'):\n",
    "for dirname, _, filenames in os.walk(\"input\"):\n",
    "    print(dirname)"
   ]
  },
  {
   "cell_type": "code",
   "execution_count": 2,
   "metadata": {},
   "outputs": [],
   "source": [
    "#data_path = Path('/kaggle/input/abstraction-and-reasoning-challenge/')\n",
    "data_path = Path('input/')\n",
    "training_path = data_path / 'training'\n",
    "evaluation_path = data_path / 'evaluation'\n",
    "test_path = data_path / 'test'\n",
    "training_tasks = sorted(os.listdir(training_path))\n",
    "eval_tasks = sorted(os.listdir(evaluation_path))"
   ]
  },
  {
   "cell_type": "code",
   "execution_count": 3,
   "metadata": {},
   "outputs": [],
   "source": [
    "#已解決的ID\n",
    "solved_id=set()\n",
    "solved_eva_id=set()"
   ]
  },
  {
   "cell_type": "code",
   "execution_count": 4,
   "metadata": {},
   "outputs": [],
   "source": [
    "T = training_tasks\n",
    "Trains = []\n",
    "for i in range(400):\n",
    "    task_file = str(training_path / T[i])\n",
    "    task = json.load(open(task_file, 'r'))\n",
    "    Trains.append(task)\n",
    "    \n",
    "E = eval_tasks\n",
    "Evals= []\n",
    "for i in range(400):\n",
    "    task_file = str(evaluation_path / E[i])\n",
    "    task = json.load(open(task_file, 'r'))\n",
    "    Evals.append(task)"
   ]
  },
  {
   "cell_type": "code",
   "execution_count": 5,
   "metadata": {},
   "outputs": [
    {
     "data": {
      "image/png": "[encoded data removed]",
      "text/plain": [
       "<Figure size 1000x400 with 1 Axes>"
      ]
     },
     "metadata": {
      "needs_background": "light"
     },
     "output_type": "display_data"
    }
   ],
   "source": [
    "cmap = colors.ListedColormap(\n",
    "    ['#000000', '#0074D9','#FF4136','#2ECC40','#FFDC00',\n",
    "     '#AAAAAA', '#F012BE', '#FF851B', '#7FDBFF', '#870C25'])\n",
    "norm = colors.Normalize(vmin=0, vmax=9)\n",
    "# 0:black, 1:blue, 2:red, 3:greed, 4:yellow,\n",
    "# 5:gray, 6:magenta, 7:orange, 8:sky, 9:brown\n",
    "plt.figure(figsize=(5, 2), dpi=200)\n",
    "plt.imshow([list(range(10))], cmap=cmap, norm=norm)\n",
    "plt.xticks(list(range(10)))\n",
    "plt.yticks([])\n",
    "plt.show()\n",
    "\n",
    "def plot_task(task):\n",
    "    n = len(task[\"train\"]) + len(task[\"test\"])\n",
    "    fig, axs = plt.subplots(2, n, figsize=(4*n,8), dpi=50)\n",
    "    plt.subplots_adjust(wspace=0, hspace=0)\n",
    "    fig_num = 0\n",
    "    \n",
    "    for i, t in enumerate(task[\"train\"]):\n",
    "        t_in, t_out = np.array(t[\"input\"]), np.array(t[\"output\"])\n",
    "        axs[0][fig_num].imshow(t_in, cmap=cmap, norm=norm)\n",
    "        axs[0][fig_num].set_title(f'Train-{i} in')\n",
    "        axs[0][fig_num].set_yticks(list(range(t_in.shape[0])))\n",
    "        axs[0][fig_num].set_xticks(list(range(t_in.shape[1])))\n",
    "        axs[1][fig_num].imshow(t_out, cmap=cmap, norm=norm)\n",
    "        axs[1][fig_num].set_title(f'Train-{i} out')\n",
    "        axs[1][fig_num].set_yticks(list(range(t_out.shape[0])))\n",
    "        axs[1][fig_num].set_xticks(list(range(t_out.shape[1])))\n",
    "        fig_num += 1\n",
    "    for i, t in enumerate(task[\"test\"]):\n",
    "        t_in, t_out = np.array(t[\"input\"]), np.array(t[\"output\"])\n",
    "        axs[0][fig_num].imshow(t_in, cmap=cmap, norm=norm)\n",
    "        axs[0][fig_num].set_title(f'Test-{i} in')\n",
    "        axs[0][fig_num].set_yticks(list(range(t_in.shape[0])))\n",
    "        axs[0][fig_num].set_xticks(list(range(t_in.shape[1])))\n",
    "        axs[1][fig_num].imshow(t_out, cmap=cmap, norm=norm)\n",
    "        axs[1][fig_num].set_title(f'Test-{i} out')\n",
    "        axs[1][fig_num].set_yticks(list(range(t_out.shape[0])))\n",
    "        axs[1][fig_num].set_xticks(list(range(t_out.shape[1])))\n",
    "        fig_num += 1\n",
    "    \n",
    "    plt.tight_layout()\n",
    "    plt.show()"
   ]
  },
  {
   "cell_type": "code",
   "execution_count": 6,
   "metadata": {},
   "outputs": [],
   "source": [
    "\n",
    "def plot_picture(x):\n",
    "    plt.imshow(np.array(x), cmap = cmap, norm = norm)\n",
    "    plt.show()"
   ]
  },
  {
   "cell_type": "code",
   "execution_count": 7,
   "metadata": {},
   "outputs": [],
   "source": [
    "def Defensive_Copy(A): \n",
    "    if type(A)!=list:\n",
    "        A=A.tolist()\n",
    "    n = len(A)\n",
    "    k = len(A[0])\n",
    "    L = np.zeros((n,k), dtype = int)\n",
    "    for i in range(n):\n",
    "        for j in range(k):\n",
    "            L[i,j] = 0 + A[i][j]\n",
    "    return L.tolist()"
   ]
  },
  {
   "cell_type": "code",
   "execution_count": 8,
   "metadata": {},
   "outputs": [],
   "source": [
    "def Create(task, task_id = 0):\n",
    "    n = len(task['train'])\n",
    "    Input = [Defensive_Copy(task['train'][i]['input']) for i in range(n)]\n",
    "    Output = [Defensive_Copy(task['train'][i]['output']) for i in range(n)]\n",
    "    Input.append(Defensive_Copy(task['test'][task_id]['input']))\n",
    "    return Input, Output"
   ]
  },
  {
   "cell_type": "code",
   "execution_count": 9,
   "metadata": {},
   "outputs": [],
   "source": [
    "def getObjectHash(pixmap):\n",
    "    flat = pixmap.flatten().astype(np.bool)\n",
    "    mult = np.array([2 ** x for x in range(len(flat))])\n",
    "    return np.sum(flat * mult)\n",
    "#經測試沒有overflow問題\n",
    "def groupByColor(pixmap):\n",
    "    nb_colors = int(pixmap.max()) + 1\n",
    "    splited = [(pixmap == i) * i for i in range(1, nb_colors)]\n",
    "    return [x for x in splited if np.any(x)]\n",
    "def checkColorMap(a0,b0):\n",
    "    a=np.array(a0)\n",
    "    b=np.array(b0)\n",
    "    a[a==0]=10\n",
    "    b[b==0]=10\n",
    "    c = 1\n",
    "    inp_hashes = sorted([getObjectHash(pm) for pm in groupByColor(a)])\n",
    "    out_hashes = sorted([getObjectHash(pm) for pm in groupByColor(b)])\n",
    "    c *= inp_hashes == out_hashes\n",
    "    return bool(c)\n",
    "def findColorMap(a,b):\n",
    "    colormap = {}\n",
    "    a1=np.array(a).flatten()\n",
    "    b1=np.array(b).flatten()\n",
    "\n",
    "    for col, idx in zip(*np.unique(a1,return_index=True)):\n",
    "        if col in colormap.keys(): continue\n",
    "        colormap[col] = b1[idx]\n",
    "    return colormap\n",
    "def applyColorMap(pixmap, colormap):\n",
    "    a1=np.array(pixmap)\n",
    "    for i in range(a1.shape[0]):\n",
    "        for j in range(a1.shape[1]):\n",
    "            if a1[i][j] not in colormap: #\n",
    "                continue #\n",
    "            a1[i][j]=colormap[pixmap[i][j]]\n",
    "    return a1.tolist()"
   ]
  },
  {
   "cell_type": "code",
   "execution_count": 10,
   "metadata": {},
   "outputs": [],
   "source": [
    "#basic\n",
    "def findcrossmap0(a0,b0):\n",
    "    a=np.array(a0)\n",
    "    b=np.array(b0)\n",
    "    name_dic={}\n",
    "    crossdict={}\n",
    "    for i in range(len(a0)-3+1):\n",
    "        for j in range(len(a0[0])-3+1):\n",
    "            if a0[i][j]==BACKGROUND and a0[i+1][j]!=BACKGROUND and a0[i+2][j]==BACKGROUND and a0[i][j+1]!=BACKGROUND \\\n",
    "            and a0[i+1][j+1]!=BACKGROUND and a0[i+2][j+1]!=BACKGROUND and a0[i][j+2]==BACKGROUND and a0[i+1][j+2]!=BACKGROUND \\\n",
    "            and a0[i+2][j+2]==BACKGROUND:\n",
    "                if str(a[i:i+3,j:j+3]) in crossdict.keys() and \\\n",
    "                (crossdict[str(a[i:i+3,j:j+3])]!=b[i:i+3,j:j+3]).any():\n",
    "                    return -1\n",
    "                else:\n",
    "                    name_dic[str(a[i:i+3,j:j+3])]=a[i:i+3,j:j+3]\n",
    "                    crossdict[str(a[i:i+3,j:j+3])]=b[i:i+3,j:j+3]\n",
    "    if len(name_dic)==0:\n",
    "        return -1\n",
    "    return name_dic,crossdict"
   ]
  },
  {
   "cell_type": "code",
   "execution_count": 11,
   "metadata": {},
   "outputs": [
    {
     "ename": "NameError",
     "evalue": "name 'BACKGROUND' is not defined",
     "output_type": "error",
     "traceback": [
      "\u001b[1;31m---------------------------------------------------------------------------\u001b[0m",
      "\u001b[1;31mNameError\u001b[0m                                 Traceback (most recent call last)",
      "\u001b[1;32m<ipython-input-11-5d2537b5b352>\u001b[0m in \u001b[0;36m<module>\u001b[1;34m\u001b[0m\n\u001b[0;32m      1\u001b[0m \u001b[0ma\u001b[0m\u001b[1;33m=\u001b[0m\u001b[0mTrains\u001b[0m\u001b[1;33m[\u001b[0m\u001b[1;36m150\u001b[0m\u001b[1;33m]\u001b[0m\u001b[1;33m[\u001b[0m\u001b[1;34m\"train\"\u001b[0m\u001b[1;33m]\u001b[0m\u001b[1;33m[\u001b[0m\u001b[1;36m1\u001b[0m\u001b[1;33m]\u001b[0m\u001b[1;33m[\u001b[0m\u001b[1;34m\"input\"\u001b[0m\u001b[1;33m]\u001b[0m\u001b[1;33m\u001b[0m\u001b[1;33m\u001b[0m\u001b[0m\n\u001b[0;32m      2\u001b[0m \u001b[0mb\u001b[0m\u001b[1;33m=\u001b[0m\u001b[0mTrains\u001b[0m\u001b[1;33m[\u001b[0m\u001b[1;36m150\u001b[0m\u001b[1;33m]\u001b[0m\u001b[1;33m[\u001b[0m\u001b[1;34m\"train\"\u001b[0m\u001b[1;33m]\u001b[0m\u001b[1;33m[\u001b[0m\u001b[1;36m1\u001b[0m\u001b[1;33m]\u001b[0m\u001b[1;33m[\u001b[0m\u001b[1;34m\"output\"\u001b[0m\u001b[1;33m]\u001b[0m\u001b[1;33m\u001b[0m\u001b[1;33m\u001b[0m\u001b[0m\n\u001b[1;32m----> 3\u001b[1;33m \u001b[0mfindcrossmap0\u001b[0m\u001b[1;33m(\u001b[0m\u001b[0ma\u001b[0m\u001b[1;33m,\u001b[0m\u001b[0mb\u001b[0m\u001b[1;33m)\u001b[0m\u001b[1;33m\u001b[0m\u001b[1;33m\u001b[0m\u001b[0m\n\u001b[0m",
      "\u001b[1;32m<ipython-input-10-61904df8a23c>\u001b[0m in \u001b[0;36mfindcrossmap0\u001b[1;34m(a0, b0)\u001b[0m\n\u001b[0;32m      7\u001b[0m     \u001b[1;32mfor\u001b[0m \u001b[0mi\u001b[0m \u001b[1;32min\u001b[0m \u001b[0mrange\u001b[0m\u001b[1;33m(\u001b[0m\u001b[0mlen\u001b[0m\u001b[1;33m(\u001b[0m\u001b[0ma0\u001b[0m\u001b[1;33m)\u001b[0m\u001b[1;33m-\u001b[0m\u001b[1;36m3\u001b[0m\u001b[1;33m+\u001b[0m\u001b[1;36m1\u001b[0m\u001b[1;33m)\u001b[0m\u001b[1;33m:\u001b[0m\u001b[1;33m\u001b[0m\u001b[1;33m\u001b[0m\u001b[0m\n\u001b[0;32m      8\u001b[0m         \u001b[1;32mfor\u001b[0m \u001b[0mj\u001b[0m \u001b[1;32min\u001b[0m \u001b[0mrange\u001b[0m\u001b[1;33m(\u001b[0m\u001b[0mlen\u001b[0m\u001b[1;33m(\u001b[0m\u001b[0ma0\u001b[0m\u001b[1;33m[\u001b[0m\u001b[1;36m0\u001b[0m\u001b[1;33m]\u001b[0m\u001b[1;33m)\u001b[0m\u001b[1;33m-\u001b[0m\u001b[1;36m3\u001b[0m\u001b[1;33m+\u001b[0m\u001b[1;36m1\u001b[0m\u001b[1;33m)\u001b[0m\u001b[1;33m:\u001b[0m\u001b[1;33m\u001b[0m\u001b[1;33m\u001b[0m\u001b[0m\n\u001b[1;32m----> 9\u001b[1;33m             \u001b[1;32mif\u001b[0m \u001b[0ma0\u001b[0m\u001b[1;33m[\u001b[0m\u001b[0mi\u001b[0m\u001b[1;33m]\u001b[0m\u001b[1;33m[\u001b[0m\u001b[0mj\u001b[0m\u001b[1;33m]\u001b[0m\u001b[1;33m==\u001b[0m\u001b[0mBACKGROUND\u001b[0m \u001b[1;32mand\u001b[0m \u001b[0ma0\u001b[0m\u001b[1;33m[\u001b[0m\u001b[0mi\u001b[0m\u001b[1;33m+\u001b[0m\u001b[1;36m1\u001b[0m\u001b[1;33m]\u001b[0m\u001b[1;33m[\u001b[0m\u001b[0mj\u001b[0m\u001b[1;33m]\u001b[0m\u001b[1;33m!=\u001b[0m\u001b[0mBACKGROUND\u001b[0m \u001b[1;32mand\u001b[0m \u001b[0ma0\u001b[0m\u001b[1;33m[\u001b[0m\u001b[0mi\u001b[0m\u001b[1;33m+\u001b[0m\u001b[1;36m2\u001b[0m\u001b[1;33m]\u001b[0m\u001b[1;33m[\u001b[0m\u001b[0mj\u001b[0m\u001b[1;33m]\u001b[0m\u001b[1;33m==\u001b[0m\u001b[0mBACKGROUND\u001b[0m \u001b[1;32mand\u001b[0m \u001b[0ma0\u001b[0m\u001b[1;33m[\u001b[0m\u001b[0mi\u001b[0m\u001b[1;33m]\u001b[0m\u001b[1;33m[\u001b[0m\u001b[0mj\u001b[0m\u001b[1;33m+\u001b[0m\u001b[1;36m1\u001b[0m\u001b[1;33m]\u001b[0m\u001b[1;33m!=\u001b[0m\u001b[0mBACKGROUND\u001b[0m\u001b[0;31m \u001b[0m\u001b[0;31m\\\u001b[0m\u001b[1;33m\u001b[0m\u001b[1;33m\u001b[0m\u001b[0m\n\u001b[0m\u001b[0;32m     10\u001b[0m             \u001b[1;32mand\u001b[0m \u001b[0ma0\u001b[0m\u001b[1;33m[\u001b[0m\u001b[0mi\u001b[0m\u001b[1;33m+\u001b[0m\u001b[1;36m1\u001b[0m\u001b[1;33m]\u001b[0m\u001b[1;33m[\u001b[0m\u001b[0mj\u001b[0m\u001b[1;33m+\u001b[0m\u001b[1;36m1\u001b[0m\u001b[1;33m]\u001b[0m\u001b[1;33m!=\u001b[0m\u001b[0mBACKGROUND\u001b[0m \u001b[1;32mand\u001b[0m \u001b[0ma0\u001b[0m\u001b[1;33m[\u001b[0m\u001b[0mi\u001b[0m\u001b[1;33m+\u001b[0m\u001b[1;36m2\u001b[0m\u001b[1;33m]\u001b[0m\u001b[1;33m[\u001b[0m\u001b[0mj\u001b[0m\u001b[1;33m+\u001b[0m\u001b[1;36m1\u001b[0m\u001b[1;33m]\u001b[0m\u001b[1;33m!=\u001b[0m\u001b[0mBACKGROUND\u001b[0m \u001b[1;32mand\u001b[0m \u001b[0ma0\u001b[0m\u001b[1;33m[\u001b[0m\u001b[0mi\u001b[0m\u001b[1;33m]\u001b[0m\u001b[1;33m[\u001b[0m\u001b[0mj\u001b[0m\u001b[1;33m+\u001b[0m\u001b[1;36m2\u001b[0m\u001b[1;33m]\u001b[0m\u001b[1;33m==\u001b[0m\u001b[0mBACKGROUND\u001b[0m \u001b[1;32mand\u001b[0m \u001b[0ma0\u001b[0m\u001b[1;33m[\u001b[0m\u001b[0mi\u001b[0m\u001b[1;33m+\u001b[0m\u001b[1;36m1\u001b[0m\u001b[1;33m]\u001b[0m\u001b[1;33m[\u001b[0m\u001b[0mj\u001b[0m\u001b[1;33m+\u001b[0m\u001b[1;36m2\u001b[0m\u001b[1;33m]\u001b[0m\u001b[1;33m!=\u001b[0m\u001b[0mBACKGROUND\u001b[0m\u001b[0;31m \u001b[0m\u001b[0;31m\\\u001b[0m\u001b[1;33m\u001b[0m\u001b[1;33m\u001b[0m\u001b[0m\n\u001b[0;32m     11\u001b[0m             \u001b[1;32mand\u001b[0m \u001b[0ma0\u001b[0m\u001b[1;33m[\u001b[0m\u001b[0mi\u001b[0m\u001b[1;33m+\u001b[0m\u001b[1;36m2\u001b[0m\u001b[1;33m]\u001b[0m\u001b[1;33m[\u001b[0m\u001b[0mj\u001b[0m\u001b[1;33m+\u001b[0m\u001b[1;36m2\u001b[0m\u001b[1;33m]\u001b[0m\u001b[1;33m==\u001b[0m\u001b[0mBACKGROUND\u001b[0m\u001b[1;33m:\u001b[0m\u001b[1;33m\u001b[0m\u001b[1;33m\u001b[0m\u001b[0m\n",
      "\u001b[1;31mNameError\u001b[0m: name 'BACKGROUND' is not defined"
     ]
    }
   ],
   "source": [
    "a=Trains[150][\"train\"][1][\"input\"]\n",
    "b=Trains[150][\"train\"][1][\"output\"]\n",
    "findcrossmap0(a,b)"
   ]
  },
  {
   "cell_type": "code",
   "execution_count": 12,
   "metadata": {},
   "outputs": [],
   "source": [
    "BACKGROUND=0\n",
    "def findcrossmap(basic_task):\n",
    "    BACKGROUND=0 #\n",
    "    Input = [Defensive_Copy(x) for x in basic_task[0]]\n",
    "    Output = [Defensive_Copy(y) for y in basic_task[1]]\n",
    "    Test_Case = Input[-1]\n",
    "    Input = Input[:-1]\n",
    "    name_dic={}\n",
    "    crossdict={}\n",
    "    for x, y in zip(Input,Output):\n",
    "        x_array=np.array(x)\n",
    "        y_array=np.array(y)\n",
    "        if x_array.shape!=y_array.shape:\n",
    "            return -1\n",
    "        for i in range(len(x)-3+1):\n",
    "            for j in range(len(x[0])-3+1):\n",
    "                if x[i][j]==BACKGROUND and x[i+1][j]!=BACKGROUND and x[i+2][j]==BACKGROUND and x[i][j+1]!=BACKGROUND \\\n",
    "                and x[i+1][j+1]!=BACKGROUND and x[i+2][j+1]!=BACKGROUND and x[i][j+2]==BACKGROUND and x[i+1][j+2]!=BACKGROUND \\\n",
    "                and x[i+2][j+2]==BACKGROUND:\n",
    "                    if str(x_array[i:i+3,j:j+3]) in crossdict.keys() and \\\n",
    "                    (crossdict[str(x_array[i:i+3,j:j+3])]!=y_array[i:i+3,j:j+3]).any():\n",
    "                        return -1\n",
    "                    else:\n",
    "                        name_dic[str(x_array[i:i+3,j:j+3])]=x_array[i:i+3,j:j+3]\n",
    "                        crossdict[str(x_array[i:i+3,j:j+3])]=y_array[i:i+3,j:j+3]\n",
    "    if len(name_dic)==0:\n",
    "        return -1\n",
    "    return name_dic,crossdict\n",
    "        "
   ]
  },
  {
   "cell_type": "code",
   "execution_count": 13,
   "metadata": {},
   "outputs": [
    {
     "data": {
      "text/plain": [
       "({'[[0 3 0]\\n [2 2 2]\\n [0 3 0]]': array([[0, 3, 0],\n",
       "         [2, 2, 2],\n",
       "         [0, 3, 0]]), '[[0 6 0]\\n [8 6 8]\\n [0 6 0]]': array([[0, 6, 0],\n",
       "         [8, 6, 8],\n",
       "         [0, 6, 0]]), '[[0 1 0]\\n [9 1 9]\\n [0 1 0]]': array([[0, 1, 0],\n",
       "         [9, 1, 9],\n",
       "         [0, 1, 0]])}, {'[[0 3 0]\\n [2 2 2]\\n [0 3 0]]': array([[4, 4, 4],\n",
       "         [4, 2, 4],\n",
       "         [4, 4, 4]]), '[[0 6 0]\\n [8 6 8]\\n [0 6 0]]': array([[4, 4, 4],\n",
       "         [4, 6, 4],\n",
       "         [4, 4, 4]]), '[[0 1 0]\\n [9 1 9]\\n [0 1 0]]': array([[4, 4, 4],\n",
       "         [4, 1, 4],\n",
       "         [4, 4, 4]])})"
      ]
     },
     "execution_count": 13,
     "metadata": {},
     "output_type": "execute_result"
    }
   ],
   "source": [
    "task=Trains[150]\n",
    "basic_task = Create(task, 0)\n",
    "findcrossmap(basic_task)"
   ]
  },
  {
   "cell_type": "code",
   "execution_count": 14,
   "metadata": {},
   "outputs": [],
   "source": [
    "def solve_cross_map(basic_task):\n",
    "    Input = [Defensive_Copy(x) for x in basic_task[0]]\n",
    "    Output = [Defensive_Copy(y) for y in basic_task[1]]\n",
    "    Test_Case = Input[-1]\n",
    "    Input = Input[:-1]\n",
    "    \n",
    "    if findcrossmap(basic_task)==-1:\n",
    "        return -1\n",
    "    name_dic,crossdict=findcrossmap(basic_task)\n",
    "    \n",
    "    for x, y in zip(Input,Output):\n",
    "        x_array=np.array(x)\n",
    "        y_array=np.array(y)\n",
    "        x_copy=x_array.copy()\n",
    "        for i in range(len(x)-3+1):\n",
    "            for j in range(len(x[0])-3+1):\n",
    "                if str(x_array[i:i+3,j:j+3]) in crossdict.keys():\n",
    "                    x_copy[i:i+3,j:j+3]=crossdict[str(x_array[i:i+3,j:j+3])]\n",
    "        if (x_copy!=y_array).any():\n",
    "            return -1\n",
    "    Test_Case_array=np.array(Test_Case)\n",
    "    Test_Case_copy=Test_Case_array.copy()\n",
    "    for i in range(len(Test_Case)-3+1):\n",
    "        for j in range(len(Test_Case[0])-3+1):\n",
    "            if str(Test_Case_array[i:i+3,j:j+3]) in crossdict.keys():\n",
    "                Test_Case_copy[i:i+3,j:j+3]=crossdict[str(x_array[i:i+3,j:j+3])]\n",
    "            else:\n",
    "                for value in name_dic.values():\n",
    "                    if checkColorMap(Test_Case_array[i:i+3,j:j+3],value)==True:\n",
    "                        colormap=findColorMap(value,Test_Case_array[i:i+3,j:j+3])\n",
    "                        Test_Case_copy[i:i+3,j:j+3]=np.array(applyColorMap(crossdict[str(value)],colormap))\n",
    "                        break\n",
    "\n",
    "\n",
    "                \n",
    "                \n",
    "    return Test_Case_copy.tolist()\n",
    "        "
   ]
  },
  {
   "cell_type": "code",
   "execution_count": 15,
   "metadata": {},
   "outputs": [
    {
     "name": "stdout",
     "output_type": "stream",
     "text": [
      "150 0\n"
     ]
    },
    {
     "data": {
      "image/png": "[encoded data removed]",
      "text/plain": [
       "<Figure size 800x400 with 8 Axes>"
      ]
     },
     "metadata": {
      "needs_background": "light"
     },
     "output_type": "display_data"
    },
    {
     "data": {
      "image/png": "[encoded data removed]",
      "text/plain": [
       "<Figure size 432x288 with 1 Axes>"
      ]
     },
     "metadata": {
      "needs_background": "light"
     },
     "output_type": "display_data"
    }
   ],
   "source": [
    "for i in range(400):\n",
    "    task = Trains[i]\n",
    "    k = len(task['test'])\n",
    "\n",
    "    for j in range(k):        \n",
    "        basic_task = Create(task, j)\n",
    "        a=solve_cross_map(basic_task)\n",
    "    if a!=-1:\n",
    "        print(i,j)\n",
    "\n",
    "        plot_task(task)\n",
    "        plot_picture(a)\n",
    "\n",
    "        solved_id.add(i)"
   ]
  },
  {
   "cell_type": "code",
   "execution_count": 18,
   "metadata": {},
   "outputs": [],
   "source": [
    "#need count not black\n",
    "def findcrossmap_line(basic_task):\n",
    "    BACKGROUND=0 #\n",
    "    Input = [Defensive_Copy(x) for x in basic_task[0]]\n",
    "    Output = [Defensive_Copy(y) for y in basic_task[1]]\n",
    "    Test_Case = Input[-1]\n",
    "    Input = Input[:-1]\n",
    "    name_dic={}\n",
    "    crossdict={}\n",
    "    for x, y in zip(Input,Output):\n",
    "        x_array=np.array(x)\n",
    "        y_array=np.array(y)\n",
    "        for i in range(len(x)):\n",
    "            for j in range(len(x[0])):\n",
    "                if x[i][j]!=0:\n",
    "                    c=x[i][j]\n",
    "                    x_array[i,:]=c\n",
    "                    x_array[:,j]=c\n",
    "        x=x_array.tolist()\n",
    "        \n",
    "        if x_array.shape!=y_array.shape:\n",
    "            return -1\n",
    "        for i in range(len(x)-3+1):\n",
    "            for j in range(len(x[0])-3+1):\n",
    "                if x[i][j]==BACKGROUND and x[i+1][j]!=BACKGROUND and x[i+2][j]==BACKGROUND and x[i][j+1]!=BACKGROUND \\\n",
    "                and x[i+1][j+1]!=BACKGROUND and x[i+2][j+1]!=BACKGROUND and x[i][j+2]==BACKGROUND and x[i+1][j+2]!=BACKGROUND \\\n",
    "                and x[i+2][j+2]==BACKGROUND:\n",
    "                    if str(x_array[i:i+3,j:j+3]) in crossdict.keys() and \\\n",
    "                    (crossdict[str(x_array[i:i+3,j:j+3])]!=y_array[i:i+3,j:j+3]).any():\n",
    "                        return -1\n",
    "                    else:\n",
    "                        name_dic[str(x_array[i:i+3,j:j+3])]=x_array[i:i+3,j:j+3]\n",
    "                        crossdict[str(x_array[i:i+3,j:j+3])]=y_array[i:i+3,j:j+3]\n",
    "    if len(name_dic)==0:\n",
    "        return -1\n",
    "    return name_dic,crossdict"
   ]
  },
  {
   "cell_type": "code",
   "execution_count": 28,
   "metadata": {},
   "outputs": [],
   "source": [
    "def solve_cross_map_line(basic_task):\n",
    "    Input = [Defensive_Copy(x) for x in basic_task[0]]\n",
    "    Output = [Defensive_Copy(y) for y in basic_task[1]]\n",
    "    Test_Case = Input[-1]\n",
    "    Input = Input[:-1]\n",
    "    if findcrossmap_line(basic_task)==-1:\n",
    "        return -1\n",
    "    name_dic,crossdict=findcrossmap_line(basic_task)\n",
    "    for x, y in zip(Input,Output):\n",
    "        x_array=np.array(x)\n",
    "        y_array=np.array(y)\n",
    "        #if count>10:\n",
    "        for i in range(len(x)):\n",
    "            for j in range(len(x[0])):\n",
    "                if x[i][j]!=0:\n",
    "                    c=x[i][j]\n",
    "                    x_array[i,:]=c\n",
    "                    x_array[:,j]=c\n",
    "        x_copy=x_array.copy()\n",
    "        for i in range(len(x)-3+1):\n",
    "            for j in range(len(x[0])-3+1):\n",
    "                if str(x_array[i:i+3,j:j+3]) in crossdict.keys():\n",
    "                    x_copy[i:i+3,j:j+3]=crossdict[str(x_array[i:i+3,j:j+3])]\n",
    "        if (x_copy!=y_array).any():\n",
    "            return -1\n",
    "\n",
    "    Test_Case_array=np.array(Test_Case)\n",
    "    for i in range(len(Test_Case)):\n",
    "        for j in range(len(Test_Case[0])):\n",
    "            if Test_Case[i][j]!=0:\n",
    "                c=Test_Case[i][j]\n",
    "                Test_Case_array[i,:]=c\n",
    "                Test_Case_array[:,j]=c\n",
    "    Test_Case_copy=Test_Case_array.copy()\n",
    "    for i in range(len(Test_Case)-3+1):\n",
    "        for j in range(len(Test_Case[0])-3+1):\n",
    "            if str(Test_Case_array[i:i+3,j:j+3]) in crossdict.keys():\n",
    "                Test_Case_copy[i:i+3,j:j+3]=crossdict[str(Test_Case_array[i:i+3,j:j+3])]\n",
    "            else:\n",
    "                for value in name_dic.values():\n",
    "                    if checkColorMap(Test_Case_array[i:i+3,j:j+3],value)==True:\n",
    "                        colormap=findColorMap(value,Test_Case_array[i:i+3,j:j+3])\n",
    "                        Test_Case_copy[i:i+3,j:j+3]=np.array(applyColorMap(crossdict[str(value)],colormap))\n",
    "                        break\n",
    "    return Test_Case_copy.tolist()\n",
    "\n",
    "    "
   ]
  },
  {
   "cell_type": "code",
   "execution_count": 32,
   "metadata": {},
   "outputs": [
    {
     "name": "stdout",
     "output_type": "stream",
     "text": [
      "46 0\n"
     ]
    },
    {
     "data": {
      "image/png": "[encoded data removed]",
      "text/plain": [
       "<Figure size 600x400 with 6 Axes>"
      ]
     },
     "metadata": {
      "needs_background": "light"
     },
     "output_type": "display_data"
    },
    {
     "data": {
      "image/png": "[encoded data removed]",
      "text/plain": [
       "<Figure size 432x288 with 1 Axes>"
      ]
     },
     "metadata": {
      "needs_background": "light"
     },
     "output_type": "display_data"
    }
   ],
   "source": [
    "for i in range(400):\n",
    "    task = Trains[i]\n",
    "    k = len(task['test'])\n",
    "\n",
    "    for j in range(k):        \n",
    "        basic_task = Create(task, j)\n",
    "        a=solve_cross_map_line(basic_task)\n",
    "    if a!=-1:\n",
    "        print(i,j)\n",
    "\n",
    "        plot_task(task)\n",
    "        plot_picture(a)"
   ]
  },
  {
   "cell_type": "code",
   "execution_count": 33,
   "metadata": {},
   "outputs": [
    {
     "name": "stdout",
     "output_type": "stream",
     "text": [
      "105 0\n"
     ]
    },
    {
     "data": {
      "image/png": "[encoded data removed]",
      "text/plain": [
       "<Figure size 800x400 with 8 Axes>"
      ]
     },
     "metadata": {
      "needs_background": "light"
     },
     "output_type": "display_data"
    },
    {
     "data": {
      "image/png": "[encoded data removed]",
      "text/plain": [
       "<Figure size 432x288 with 1 Axes>"
      ]
     },
     "metadata": {
      "needs_background": "light"
     },
     "output_type": "display_data"
    }
   ],
   "source": [
    "for i in range(400):\n",
    "    task = Evals[i]\n",
    "    k = len(task['test'])\n",
    "\n",
    "    for j in range(k):        \n",
    "        basic_task = Create(task, j)\n",
    "        a=solve_cross_map_line(basic_task)\n",
    "    if a!=-1:\n",
    "        print(i,j)\n",
    "\n",
    "        plot_task(task)\n",
    "        plot_picture(a)"
   ]
  },
  {
   "cell_type": "code",
   "execution_count": null,
   "metadata": {},
   "outputs": [],
   "source": []
  }
 ],
 "metadata": {
  "kernelspec": {
   "display_name": "Python 3",
   "language": "python",
   "name": "python3"
  },
  "language_info": {
   "codemirror_mode": {
    "name": "ipython",
    "version": 3
   },
   "file_extension": ".py",
   "mimetype": "text/x-python",
   "name": "python",
   "nbconvert_exporter": "python",
   "pygments_lexer": "ipython3",
   "version": "3.6.7"
  }
 },
 "nbformat": 4,
 "nbformat_minor": 4
}
