{
 "cells": [
  {
   "cell_type": "code",
   "execution_count": 1,
   "metadata": {},
   "outputs": [
    {
     "name": "stdout",
     "output_type": "stream",
     "text": [
      "input\n",
      "input\\evaluation\n",
      "input\\training\n"
     ]
    }
   ],
   "source": [
    "import numpy as np\n",
    "import pandas as pd\n",
    "import time\n",
    "\n",
    "import os\n",
    "import json\n",
    "from pathlib import Path\n",
    "\n",
    "import matplotlib.pyplot as plt\n",
    "from matplotlib import colors\n",
    "import numpy as np\n",
    "from pathlib import Path\n",
    "\n",
    "#for dirname, _, filenames in os.walk('/kaggle/input'):\n",
    "for dirname, _, filenames in os.walk(\"input\"):\n",
    "    print(dirname)"
   ]
  },
  {
   "cell_type": "code",
   "execution_count": 2,
   "metadata": {},
   "outputs": [],
   "source": [
    "#data_path = Path('/kaggle/input/abstraction-and-reasoning-challenge/')\n",
    "data_path = Path('input/')\n",
    "training_path = data_path / 'training'\n",
    "evaluation_path = data_path / 'evaluation'\n",
    "test_path = data_path / 'test'\n",
    "training_tasks = sorted(os.listdir(training_path))\n",
    "eval_tasks = sorted(os.listdir(evaluation_path))"
   ]
  },
  {
   "cell_type": "code",
   "execution_count": 3,
   "metadata": {},
   "outputs": [],
   "source": [
    "#已解決的ID\n",
    "solved_id=set()\n",
    "solved_eva_id=set()"
   ]
  },
  {
   "cell_type": "code",
   "execution_count": 4,
   "metadata": {},
   "outputs": [],
   "source": [
    "T = training_tasks\n",
    "Trains = []\n",
    "for i in range(400):\n",
    "    task_file = str(training_path / T[i])\n",
    "    task = json.load(open(task_file, 'r'))\n",
    "    Trains.append(task)\n",
    "    \n",
    "E = eval_tasks\n",
    "Evals= []\n",
    "for i in range(400):\n",
    "    task_file = str(evaluation_path / E[i])\n",
    "    task = json.load(open(task_file, 'r'))\n",
    "    Evals.append(task)"
   ]
  },
  {
   "cell_type": "code",
   "execution_count": 5,
   "metadata": {},
   "outputs": [
    {
     "data": {
      "image/png": "[encoded data removed]",
      "text/plain": [
       "<Figure size 1000x400 with 1 Axes>"
      ]
     },
     "metadata": {
      "needs_background": "light"
     },
     "output_type": "display_data"
    }
   ],
   "source": [
    "cmap = colors.ListedColormap(\n",
    "    ['#000000', '#0074D9','#FF4136','#2ECC40','#FFDC00',\n",
    "     '#AAAAAA', '#F012BE', '#FF851B', '#7FDBFF', '#870C25'])\n",
    "norm = colors.Normalize(vmin=0, vmax=9)\n",
    "# 0:black, 1:blue, 2:red, 3:greed, 4:yellow,\n",
    "# 5:gray, 6:magenta, 7:orange, 8:sky, 9:brown\n",
    "plt.figure(figsize=(5, 2), dpi=200)\n",
    "plt.imshow([list(range(10))], cmap=cmap, norm=norm)\n",
    "plt.xticks(list(range(10)))\n",
    "plt.yticks([])\n",
    "plt.show()\n",
    "\n",
    "def plot_task(task):\n",
    "    n = len(task[\"train\"]) + len(task[\"test\"])\n",
    "    fig, axs = plt.subplots(2, n, figsize=(4*n,8), dpi=50)\n",
    "    plt.subplots_adjust(wspace=0, hspace=0)\n",
    "    fig_num = 0\n",
    "    \n",
    "    for i, t in enumerate(task[\"train\"]):\n",
    "        t_in, t_out = np.array(t[\"input\"]), np.array(t[\"output\"])\n",
    "        axs[0][fig_num].imshow(t_in, cmap=cmap, norm=norm)\n",
    "        axs[0][fig_num].set_title(f'Train-{i} in')\n",
    "        axs[0][fig_num].set_yticks(list(range(t_in.shape[0])))\n",
    "        axs[0][fig_num].set_xticks(list(range(t_in.shape[1])))\n",
    "        axs[1][fig_num].imshow(t_out, cmap=cmap, norm=norm)\n",
    "        axs[1][fig_num].set_title(f'Train-{i} out')\n",
    "        axs[1][fig_num].set_yticks(list(range(t_out.shape[0])))\n",
    "        axs[1][fig_num].set_xticks(list(range(t_out.shape[1])))\n",
    "        fig_num += 1\n",
    "    for i, t in enumerate(task[\"test\"]):\n",
    "        t_in, t_out = np.array(t[\"input\"]), np.array(t[\"output\"])\n",
    "        axs[0][fig_num].imshow(t_in, cmap=cmap, norm=norm)\n",
    "        axs[0][fig_num].set_title(f'Test-{i} in')\n",
    "        axs[0][fig_num].set_yticks(list(range(t_in.shape[0])))\n",
    "        axs[0][fig_num].set_xticks(list(range(t_in.shape[1])))\n",
    "        axs[1][fig_num].imshow(t_out, cmap=cmap, norm=norm)\n",
    "        axs[1][fig_num].set_title(f'Test-{i} out')\n",
    "        axs[1][fig_num].set_yticks(list(range(t_out.shape[0])))\n",
    "        axs[1][fig_num].set_xticks(list(range(t_out.shape[1])))\n",
    "        fig_num += 1\n",
    "    \n",
    "    plt.tight_layout()\n",
    "    plt.show()"
   ]
  },
  {
   "cell_type": "code",
   "execution_count": 6,
   "metadata": {},
   "outputs": [],
   "source": [
    "\n",
    "def plot_picture(x):\n",
    "    plt.imshow(np.array(x), cmap = cmap, norm = norm)\n",
    "    plt.show()"
   ]
  },
  {
   "cell_type": "code",
   "execution_count": 7,
   "metadata": {},
   "outputs": [],
   "source": [
    "def Defensive_Copy(A): \n",
    "    if type(A)!=list:\n",
    "        A=A.tolist()\n",
    "    n = len(A)\n",
    "    k = len(A[0])\n",
    "    L = np.zeros((n,k), dtype = int)\n",
    "    for i in range(n):\n",
    "        for j in range(k):\n",
    "            L[i,j] = 0 + A[i][j]\n",
    "    return L.tolist()"
   ]
  },
  {
   "cell_type": "code",
   "execution_count": 8,
   "metadata": {},
   "outputs": [],
   "source": [
    "def Create(task, task_id = 0):\n",
    "    n = len(task['train'])\n",
    "    Input = [Defensive_Copy(task['train'][i]['input']) for i in range(n)]\n",
    "    Output = [Defensive_Copy(task['train'][i]['output']) for i in range(n)]\n",
    "    Input.append(Defensive_Copy(task['test'][task_id]['input']))\n",
    "    return Input, Output"
   ]
  },
  {
   "cell_type": "code",
   "execution_count": 9,
   "metadata": {},
   "outputs": [],
   "source": [
    "def color_classes(a):\n",
    "    b = len(np.nonzero(np.unique(a))[0])\n",
    "    return b\n",
    "#color classes (not include 0)"
   ]
  },
  {
   "cell_type": "code",
   "execution_count": 10,
   "metadata": {},
   "outputs": [],
   "source": [
    "def take_negative(a0):\n",
    "    a=np.array(a0)\n",
    "    a_copy=a.copy()\n",
    "    if color_classes(a)==2:\n",
    "        if 0 in a:\n",
    "            c1,c2=np.unique(a)[1],np.unique(a)[2]\n",
    "        else:\n",
    "            c1,c2=np.unique(a)[0],np.unique(a)[1]\n",
    "        for i in range(len(a0)):\n",
    "            for j in range(len(a0[0])):\n",
    "                if a[i][j]==c1:\n",
    "                    a_copy[i][j]=c2\n",
    "                elif a[i][j]==c2:\n",
    "                    a_copy[i][j]=c1\n",
    "\n",
    "        return a_copy.tolist()\n",
    "    else:\n",
    "        return -1"
   ]
  },
  {
   "cell_type": "code",
   "execution_count": 11,
   "metadata": {},
   "outputs": [],
   "source": [
    "def getObjectHash(pixmap):\n",
    "    flat = pixmap.flatten().astype(np.bool)\n",
    "    mult = np.array([2 ** x for x in range(len(flat))])\n",
    "    return np.sum(flat * mult)\n",
    "#經測試沒有overflow問題\n",
    "def groupByColor(pixmap):\n",
    "    nb_colors = int(pixmap.max()) + 1\n",
    "    splited = [(pixmap == i) * i for i in range(1, nb_colors)]\n",
    "    return [x for x in splited if np.any(x)]\n",
    "def checkColorMap(a0,b0):\n",
    "    a=np.array(a0)\n",
    "    b=np.array(b0)\n",
    "    a[a==0]=10\n",
    "    b[b==0]=10\n",
    "    c = 1\n",
    "    inp_hashes = sorted([getObjectHash(pm) for pm in groupByColor(a)])\n",
    "    out_hashes = sorted([getObjectHash(pm) for pm in groupByColor(b)])\n",
    "    c *= inp_hashes == out_hashes\n",
    "    return bool(c)\n",
    "#dont use this when black in color map\n",
    "def findColorMap(a,b):\n",
    "    colormap = {}\n",
    "    a1=np.array(a).flatten()\n",
    "    b1=np.array(b).flatten()\n",
    "\n",
    "    for col, idx in zip(*np.unique(a1,return_index=True)):\n",
    "        if col in colormap.keys(): continue\n",
    "        colormap[col] = b1[idx]\n",
    "    return colormap\n",
    "\n",
    "def mergedict(dict1):\n",
    "    dict3={}\n",
    "    for dict2 in dict1:\n",
    "        for key in dict2.keys():\n",
    "            if key not in dict3.keys():\n",
    "                dict3[key]=dict2[key]\n",
    "            elif dict3[key]!= dict2[key]:\n",
    "                return False\n",
    "    return dict3\n",
    "def applyColorMap(pixmap, colormap):\n",
    "    a1=np.array(pixmap)\n",
    "    for i in range(a1.shape[0]):\n",
    "        for j in range(a1.shape[1]):\n",
    "            if a1[i][j] not in colormap: #\n",
    "                continue #\n",
    "            a1[i][j]=colormap[pixmap[i][j]]\n",
    "    return a1.tolist()"
   ]
  },
  {
   "cell_type": "code",
   "execution_count": 12,
   "metadata": {},
   "outputs": [],
   "source": [
    "BACKGROUND=0\n",
    "def _get_bound(img0):\n",
    "    img=np.array(img0)\n",
    "    h, w = img.shape\n",
    "    x0 = w - 1\n",
    "    x1 = 0\n",
    "    y0 = h - 1\n",
    "    y1 = 0\n",
    "    for x in range(w):\n",
    "        for y in range(h):\n",
    "            if img[y, x] == BACKGROUND:\n",
    "                continue\n",
    "            x0 = min(x0, x)\n",
    "            x1 = max(x1, x)\n",
    "            y0 = min(y0, y)\n",
    "            y1 = max(y1, y)\n",
    "    return x0, x1, y0, y1\n",
    "def get_bound_image(img0):\n",
    "    x0,x1,y0,y1=_get_bound(img0)\n",
    "    img=np.array(img0)\n",
    "    return img[y0:y1+1,x0:x1+1].tolist()\n",
    "        "
   ]
  },
  {
   "cell_type": "code",
   "execution_count": null,
   "metadata": {},
   "outputs": [],
   "source": []
  },
  {
   "cell_type": "code",
   "execution_count": null,
   "metadata": {},
   "outputs": [],
   "source": []
  },
  {
   "cell_type": "code",
   "execution_count": 13,
   "metadata": {},
   "outputs": [],
   "source": [
    "def Solve_negative(basic_task): \n",
    "    #returns -1 if no match is found\n",
    "    #returns  Transformed_Test_Case  if the mathching rule is found\n",
    "    Input = [Defensive_Copy(x) for x in basic_task[0]]\n",
    "    Output = [Defensive_Copy(y) for y in basic_task[1]]\n",
    "    Test_Case = Input[-1]\n",
    "    Input = Input[:-1]\n",
    "    colormaps={}\n",
    "\n",
    "    for x0, y in zip(Input,Output):\n",
    "        x=np.array(x0)\n",
    "        x=get_bound_image(x)\n",
    "        if take_negative(x)!=-1:\n",
    "            negative_x=take_negative(x)\n",
    "        else:\n",
    "            return-1\n",
    "\n",
    "\n",
    "        if checkColorMap(negative_x,y)==False:\n",
    "            return-1\n",
    "        else:\n",
    "            colormap=findColorMap(negative_x,y)\n",
    "\n",
    "        if mergedict([colormaps,colormap])==False:\n",
    "            return-1\n",
    "        colormaps=mergedict([colormaps,colormap])\n",
    "\n",
    "        pre_y_list=applyColorMap(negative_x,colormaps)\n",
    "\n",
    "        if  pre_y_list!=y:\n",
    "            return-1\n",
    "    \n",
    "    Test_Case_pred=applyColorMap(take_negative(take_negative(Test_Case)),colormaps)\n",
    "    return Test_Case_pred\n"
   ]
  },
  {
   "cell_type": "code",
   "execution_count": 14,
   "metadata": {},
   "outputs": [
    {
     "data": {
      "image/png": "[encoded data removed]",
      "text/plain": [
       "<Figure size 800x400 with 8 Axes>"
      ]
     },
     "metadata": {
      "needs_background": "light"
     },
     "output_type": "display_data"
    },
    {
     "data": {
      "image/png": "[encoded data removed]",
      "text/plain": [
       "<Figure size 432x288 with 1 Axes>"
      ]
     },
     "metadata": {
      "needs_background": "light"
     },
     "output_type": "display_data"
    },
    {
     "name": "stdout",
     "output_type": "stream",
     "text": [
      "275\n"
     ]
    },
    {
     "data": {
      "image/png": "[encoded data removed]",
      "text/plain": [
       "<Figure size 800x400 with 8 Axes>"
      ]
     },
     "metadata": {
      "needs_background": "light"
     },
     "output_type": "display_data"
    },
    {
     "data": {
      "image/png": "[encoded data removed]",
      "text/plain": [
       "<Figure size 432x288 with 1 Axes>"
      ]
     },
     "metadata": {
      "needs_background": "light"
     },
     "output_type": "display_data"
    },
    {
     "name": "stdout",
     "output_type": "stream",
     "text": [
      "289\n"
     ]
    },
    {
     "data": {
      "image/png": "[encoded data removed]",
      "text/plain": [
       "<Figure size 800x400 with 8 Axes>"
      ]
     },
     "metadata": {
      "needs_background": "light"
     },
     "output_type": "display_data"
    },
    {
     "data": {
      "image/png": "[encoded data removed]",
      "text/plain": [
       "<Figure size 432x288 with 1 Axes>"
      ]
     },
     "metadata": {
      "needs_background": "light"
     },
     "output_type": "display_data"
    },
    {
     "name": "stdout",
     "output_type": "stream",
     "text": [
      "388\n"
     ]
    }
   ],
   "source": [
    "for i in range(400):\n",
    "    task = Trains[i]\n",
    "    basic_task = Create(task,0)\n",
    "    \n",
    "    a = Solve_negative(basic_task)\n",
    "\n",
    "  \n",
    "    if  a!=-1 :\n",
    "        plot_task(task)\n",
    "        plot_picture(a)\n",
    "        print(i)\n",
    "        solved_id.add(i)"
   ]
  },
  {
   "cell_type": "code",
   "execution_count": 15,
   "metadata": {},
   "outputs": [],
   "source": [
    "for i in range(400):\n",
    "    task = Evals[i]\n",
    "    basic_task = Create(task,0)\n",
    "    \n",
    "    a = Solve_negative(basic_task)\n",
    "\n",
    "  \n",
    "    if  a!=-1 :\n",
    "        plot_task(task)\n",
    "        plot_picture(a)\n",
    "        print(i)\n",
    "        solved_eva_id.add(i)"
   ]
  },
  {
   "cell_type": "code",
   "execution_count": 16,
   "metadata": {},
   "outputs": [
    {
     "data": {
      "text/plain": [
       "[289, 275, 388]"
      ]
     },
     "execution_count": 16,
     "metadata": {},
     "output_type": "execute_result"
    }
   ],
   "source": [
    "list(solved_id)"
   ]
  },
  {
   "cell_type": "code",
   "execution_count": null,
   "metadata": {},
   "outputs": [],
   "source": []
  }
 ],
 "metadata": {
  "kernelspec": {
   "display_name": "Python 3",
   "language": "python",
   "name": "python3"
  },
  "language_info": {
   "codemirror_mode": {
    "name": "ipython",
    "version": 3
   },
   "file_extension": ".py",
   "mimetype": "text/x-python",
   "name": "python",
   "nbconvert_exporter": "python",
   "pygments_lexer": "ipython3",
   "version": "3.6.7"
  }
 },
 "nbformat": 4,
 "nbformat_minor": 4
}
