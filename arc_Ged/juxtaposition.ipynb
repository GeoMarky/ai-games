{
 "cells": [
  {
   "cell_type": "code",
   "execution_count": 1,
   "metadata": {},
   "outputs": [
    {
     "name": "stdout",
     "output_type": "stream",
     "text": [
      "input\n",
      "input\\evaluation\n",
      "input\\test\n",
      "input\\training\n"
     ]
    }
   ],
   "source": [
    "import numpy as np\n",
    "import pandas as pd\n",
    "import time\n",
    "\n",
    "import os\n",
    "import json\n",
    "from pathlib import Path\n",
    "\n",
    "import matplotlib.pyplot as plt\n",
    "from matplotlib import colors\n",
    "import numpy as np\n",
    "from pathlib import Path\n",
    "\n",
    "#for dirname, _, filenames in os.walk('/kaggle/input'):\n",
    "for dirname, _, filenames in os.walk(\"input\"):\n",
    "    print(dirname)"
   ]
  },
  {
   "cell_type": "code",
   "execution_count": 2,
   "metadata": {},
   "outputs": [],
   "source": [
    "#data_path = Path('/kaggle/input/abstraction-and-reasoning-challenge/')\n",
    "data_path = Path('input/')\n",
    "training_path = data_path / 'training'\n",
    "evaluation_path = data_path / 'evaluation'\n",
    "test_path = data_path / 'test'\n",
    "training_tasks = sorted(os.listdir(training_path))\n",
    "eval_tasks = sorted(os.listdir(evaluation_path))"
   ]
  },
  {
   "cell_type": "code",
   "execution_count": 3,
   "metadata": {},
   "outputs": [],
   "source": [
    "#已解決的ID\n",
    "solved_id=set()\n",
    "solved_eva_id=set()"
   ]
  },
  {
   "cell_type": "code",
   "execution_count": 4,
   "metadata": {},
   "outputs": [],
   "source": [
    "T = training_tasks\n",
    "Trains = []\n",
    "for i in range(400):\n",
    "    task_file = str(training_path / T[i])\n",
    "    task = json.load(open(task_file, 'r'))\n",
    "    Trains.append(task)\n",
    "    \n",
    "E = eval_tasks\n",
    "Evals= []\n",
    "for i in range(400):\n",
    "    task_file = str(evaluation_path / E[i])\n",
    "    task = json.load(open(task_file, 'r'))\n",
    "    Evals.append(task)"
   ]
  },
  {
   "cell_type": "code",
   "execution_count": 5,
   "metadata": {},
   "outputs": [
    {
     "data": {
      "image/png": "[encoded data removed]",
      "text/plain": [
       "<Figure size 1000x400 with 1 Axes>"
      ]
     },
     "metadata": {
      "needs_background": "light"
     },
     "output_type": "display_data"
    }
   ],
   "source": [
    "cmap = colors.ListedColormap(\n",
    "    ['#000000', '#0074D9','#FF4136','#2ECC40','#FFDC00',\n",
    "     '#AAAAAA', '#F012BE', '#FF851B', '#7FDBFF', '#870C25'])\n",
    "norm = colors.Normalize(vmin=0, vmax=9)\n",
    "# 0:black, 1:blue, 2:red, 3:greed, 4:yellow,\n",
    "# 5:gray, 6:magenta, 7:orange, 8:sky, 9:brown\n",
    "plt.figure(figsize=(5, 2), dpi=200)\n",
    "plt.imshow([list(range(10))], cmap=cmap, norm=norm)\n",
    "plt.xticks(list(range(10)))\n",
    "plt.yticks([])\n",
    "plt.show()\n",
    "\n",
    "def plot_task(task):\n",
    "    n = len(task[\"train\"]) + len(task[\"test\"])\n",
    "    fig, axs = plt.subplots(2, n, figsize=(4*n,8), dpi=50)\n",
    "    plt.subplots_adjust(wspace=0, hspace=0)\n",
    "    fig_num = 0\n",
    "    \n",
    "    for i, t in enumerate(task[\"train\"]):\n",
    "        t_in, t_out = np.array(t[\"input\"]), np.array(t[\"output\"])\n",
    "        axs[0][fig_num].imshow(t_in, cmap=cmap, norm=norm)\n",
    "        axs[0][fig_num].set_title(f'Train-{i} in')\n",
    "        axs[0][fig_num].set_yticks(list(range(t_in.shape[0])))\n",
    "        axs[0][fig_num].set_xticks(list(range(t_in.shape[1])))\n",
    "        axs[1][fig_num].imshow(t_out, cmap=cmap, norm=norm)\n",
    "        axs[1][fig_num].set_title(f'Train-{i} out')\n",
    "        axs[1][fig_num].set_yticks(list(range(t_out.shape[0])))\n",
    "        axs[1][fig_num].set_xticks(list(range(t_out.shape[1])))\n",
    "        fig_num += 1\n",
    "    for i, t in enumerate(task[\"test\"]):\n",
    "        t_in, t_out = np.array(t[\"input\"]), np.array(t[\"output\"])\n",
    "        axs[0][fig_num].imshow(t_in, cmap=cmap, norm=norm)\n",
    "        axs[0][fig_num].set_title(f'Test-{i} in')\n",
    "        axs[0][fig_num].set_yticks(list(range(t_in.shape[0])))\n",
    "        axs[0][fig_num].set_xticks(list(range(t_in.shape[1])))\n",
    "        axs[1][fig_num].imshow(t_out, cmap=cmap, norm=norm)\n",
    "        axs[1][fig_num].set_title(f'Test-{i} out')\n",
    "        axs[1][fig_num].set_yticks(list(range(t_out.shape[0])))\n",
    "        axs[1][fig_num].set_xticks(list(range(t_out.shape[1])))\n",
    "        fig_num += 1\n",
    "    \n",
    "    plt.tight_layout()\n",
    "    plt.show()"
   ]
  },
  {
   "cell_type": "code",
   "execution_count": 6,
   "metadata": {},
   "outputs": [],
   "source": [
    "\n",
    "def plot_picture(x):\n",
    "    plt.imshow(np.array(x), cmap = cmap, norm = norm)\n",
    "    plt.show()"
   ]
  },
  {
   "cell_type": "code",
   "execution_count": 7,
   "metadata": {},
   "outputs": [],
   "source": [
    "def Defensive_Copy(A): \n",
    "    if type(A)!=list:\n",
    "        A=A.tolist()\n",
    "    n = len(A)\n",
    "    k = len(A[0])\n",
    "    L = np.zeros((n,k), dtype = int)\n",
    "    for i in range(n):\n",
    "        for j in range(k):\n",
    "            L[i,j] = 0 + A[i][j]\n",
    "    return L.tolist()"
   ]
  },
  {
   "cell_type": "code",
   "execution_count": 8,
   "metadata": {},
   "outputs": [],
   "source": [
    "def Create(task, task_id = 0):\n",
    "    n = len(task['train'])\n",
    "    Input = [Defensive_Copy(task['train'][i]['input']) for i in range(n)]\n",
    "    Output = [Defensive_Copy(task['train'][i]['output']) for i in range(n)]\n",
    "    Input.append(Defensive_Copy(task['test'][task_id]['input']))\n",
    "    return Input, Output"
   ]
  },
  {
   "cell_type": "code",
   "execution_count": 9,
   "metadata": {},
   "outputs": [],
   "source": [
    "background=0\n",
    "#A:pattern\n",
    "def is_juxt(A,B):\n",
    "    background=0 #\n",
    "    if -1 in B:\n",
    "        return 0\n",
    "    if len(np.unique(B))==1 and np.unique(B)[0]==0:\n",
    "        return 0\n",
    "    n=len(A)\n",
    "    m=len(A[0])\n",
    "    if len(B)!=n or len(B[0])!=m:\n",
    "        return 0\n",
    "    count=0\n",
    "    for i in range(n):\n",
    "        for j in range(m):\n",
    "            if A[i][j]==background and B[i][j]!=background:\n",
    "                return 0\n",
    "            elif A[i][j]!=background and B[i][j]!=background and B[i][j]!=A[i][j]:\n",
    "                return 0\n",
    "            elif  B[i][j]==A[i][j]:\n",
    "                count+=1\n",
    "            \n",
    "    return count/(m*n)"
   ]
  },
  {
   "cell_type": "code",
   "execution_count": 10,
   "metadata": {},
   "outputs": [],
   "source": [
    "def issubarray(A0,B0):\n",
    "    A=np.array(A0)\n",
    "    B=np.array(B0)\n",
    "    a1=A.shape[0]\n",
    "    a2=A.shape[1]\n",
    "    b1=B.shape[0]\n",
    "    b2=B.shape[1]\n",
    "    if (a1==b1 and a2==b2) or b1>a1 or b2>a2 or(b1==1 and b2==1):\n",
    "        return False\n",
    "    c1=a1-b1+1\n",
    "    c2=a2-b2+1\n",
    "    for i in range(c1):\n",
    "        for j in range(c2):\n",
    "            if (A[i:i+b1,j:j+b2]==B).all():\n",
    "                return True\n",
    "    return False"
   ]
  },
  {
   "cell_type": "code",
   "execution_count": 11,
   "metadata": {},
   "outputs": [],
   "source": [
    "A=[[0,0,1,1,2,2,1],[0,0,0,1,1,1,1],[0,0,0,1,1,1,1],[0,0,0,1,1,1,1],[0,0,0,1,1,1,1],[0,0,0,1,1,1,2]]\n",
    "B=[[0,0,0,0,0,0,0],[0,0,0,1,1,0,1],[0,0,0,0,0,0,0],[0,0,0,0,0,1,0],[0,0,0,1,0,0,0],[0,0,0,1,0,0,0]]\n",
    "C=[[0,0,0,0,0,0,0],[0,0,0,0,0,0,0],[0,0,0,0,0,0,0],[0,0,0,0,0,0,0],[0,0,0,0,0,0,0],[0,0,0,0,0,0,0]]"
   ]
  },
  {
   "cell_type": "code",
   "execution_count": 12,
   "metadata": {},
   "outputs": [
    {
     "data": {
      "text/plain": [
       "0.5476190476190477"
      ]
     },
     "execution_count": 12,
     "metadata": {},
     "output_type": "execute_result"
    }
   ],
   "source": [
    "is_juxt(A,B)"
   ]
  },
  {
   "cell_type": "code",
   "execution_count": 13,
   "metadata": {},
   "outputs": [],
   "source": [
    "A1=np.array(A)\n",
    "A1[1:3,:]=0\n",
    "\n"
   ]
  },
  {
   "cell_type": "code",
   "execution_count": 14,
   "metadata": {},
   "outputs": [
    {
     "data": {
      "text/plain": [
       "array([[0, 0, 0, 0, 0, 0, 0, 0, 0],\n",
       "       [0, 0, 0, 1, 1, 2, 2, 1, 0],\n",
       "       [0, 0, 0, 0, 0, 0, 0, 0, 0],\n",
       "       [0, 0, 0, 0, 0, 0, 0, 0, 0],\n",
       "       [0, 0, 0, 0, 1, 1, 1, 1, 0],\n",
       "       [0, 0, 0, 0, 1, 1, 1, 1, 0],\n",
       "       [0, 0, 0, 0, 1, 1, 1, 2, 0],\n",
       "       [0, 0, 0, 0, 0, 0, 0, 0, 0]])"
      ]
     },
     "execution_count": 14,
     "metadata": {},
     "output_type": "execute_result"
    }
   ],
   "source": [
    "C=np.pad(A1,((1,1),(1,1)),\"constant\",constant_values=0)\n",
    "C"
   ]
  },
  {
   "cell_type": "code",
   "execution_count": 15,
   "metadata": {},
   "outputs": [
    {
     "data": {
      "text/plain": [
       "True"
      ]
     },
     "execution_count": 15,
     "metadata": {},
     "output_type": "execute_result"
    }
   ],
   "source": [
    "np.sum(C[1:2,3:8])==np.sum(C[1-1:2+1,3-1:8+1])"
   ]
  },
  {
   "cell_type": "code",
   "execution_count": 16,
   "metadata": {},
   "outputs": [
    {
     "data": {
      "text/plain": [
       "7"
      ]
     },
     "execution_count": 16,
     "metadata": {},
     "output_type": "execute_result"
    }
   ],
   "source": [
    "np.sum(C[1-1:2+1,3-1:8+1])"
   ]
  },
  {
   "cell_type": "code",
   "execution_count": 17,
   "metadata": {},
   "outputs": [
    {
     "data": {
      "text/plain": [
       "True"
      ]
     },
     "execution_count": 17,
     "metadata": {},
     "output_type": "execute_result"
    }
   ],
   "source": [
    "len(np.unique(C))\n",
    "float(1.0)==int(1)"
   ]
  },
  {
   "cell_type": "code",
   "execution_count": 18,
   "metadata": {},
   "outputs": [],
   "source": [
    "#juxt pattern to whole image\n",
    "#list list\n",
    "def juxt_pattern_to_image0(pattern,image):\n",
    "    image_array=np.pad(image,((1,1),(1,1)),\"constant\",constant_values=0)\n",
    "    image_array_copy=image_array.copy()\n",
    "    pattern_array=np.array(pattern)\n",
    "    a=len(pattern)\n",
    "    b=len(pattern[0])\n",
    "    m,n=len(image),len(image[0])\n",
    "    \n",
    "#     def min_req(pattern,image_part):\n",
    "#         res=[]\n",
    "#         b=list(np.nonzero(np.unique(image_part))[0])\n",
    "#         for i in range(1,len(color_counts(pattern))):\n",
    "#             if  i in b:\n",
    "#                 res.append(color_counts(pattern)[i])\n",
    "#         if len(res)==0:\n",
    "#             return -1\n",
    "\n",
    "#         return min(res)\n",
    "    \n",
    "    while True:\n",
    "        max_pro=0\n",
    "        for i in range(1,m-a+1+1):\n",
    "            for j in range(1,n-b+1+1):\n",
    "                tmp_image=image_array[i:i+a,j:j+b].tolist()\n",
    "                if np.sum(image_array[i:i+a,j:j+b])!=np.sum(image_array[i-1:i+a+2,j-1:j+b+2]):\n",
    "                    \n",
    "                    continue\n",
    "\n",
    "                if is_juxt(pattern,tmp_image)!=0:\n",
    "                    max_pro=max(max_pro,is_juxt(pattern,tmp_image))\n",
    "                    \n",
    "#         print(image_array)\n",
    "#         print(image_array_copy)\n",
    "        if max_pro==0:\n",
    "            return image_array_copy[1:-1,1:-1].tolist()\n",
    "        \n",
    "        for i in range(1,m-a+1+1):\n",
    "            for j in range(1,n-b+1+1):\n",
    "                tmp_image=image_array[i:i+a,j:j+b].tolist()\n",
    "                if is_juxt(pattern,tmp_image)==max_pro:\n",
    "                    image_array_copy[i:i+a,j:j+b]=pattern_array\n",
    "                    \n",
    "                    image_array[i:i+a,j:j+b]=-1\n",
    "                    \n",
    "\n",
    "\n",
    "#pattern 都有問題"
   ]
  },
  {
   "cell_type": "code",
   "execution_count": 19,
   "metadata": {},
   "outputs": [],
   "source": [
    "# #juxt pattern to whole image\n",
    "# #list list\n",
    "# def juxt_pattern_to_image0(pattern,image):\n",
    "#     image_array=np.array(image)\n",
    "#     image_array_copy=image_array.copy()\n",
    "#     pattern_array=np.array(pattern)\n",
    "#     a=len(pattern)\n",
    "#     b=len(pattern[0])\n",
    "#     m,n=len(image),len(image[0])\n",
    "    \n",
    "# #     def min_req(pattern,image_part):\n",
    "# #         res=[]\n",
    "# #         b=list(np.nonzero(np.unique(image_part))[0])\n",
    "# #         for i in range(1,len(color_counts(pattern))):\n",
    "# #             if  i in b:\n",
    "# #                 res.append(color_counts(pattern)[i])\n",
    "# #         if len(res)==0:\n",
    "# #             return -1\n",
    "\n",
    "# #         return min(res)\n",
    "#     while True:\n",
    "#         max_pro=0\n",
    "#         for i in range(m-a+1):\n",
    "#             for j in range(n-b+1):\n",
    "#                 tmp_image=image_array[i:i+a,j:j+b].tolist()\n",
    "                \n",
    "#                 if is_juxt(pattern,tmp_image)!=0:\n",
    "#                     max_pro=max(max_pro,is_juxt(pattern,tmp_image))\n",
    "# #         print(image_array)\n",
    "# #         print(image_array_copy)\n",
    "#         if max_pro==0:\n",
    "#             return image_array_copy.tolist()\n",
    "#         for i in range(m-a+1):\n",
    "#             for j in range(n-b+1):\n",
    "#                 tmp_image=image_array[i:i+a,j:j+b].tolist()\n",
    "#                 if is_juxt(pattern,tmp_image)==max_pro:\n",
    "#                     image_array_copy[i:i+a,j:j+b]=pattern_array\n",
    "#                     image_array[i:i+a,j:j+b]=-1\n",
    "                    \n",
    "\n",
    "\n",
    "# #pattern 都有問題"
   ]
  },
  {
   "cell_type": "code",
   "execution_count": 20,
   "metadata": {},
   "outputs": [
    {
     "data": {
      "text/plain": [
       "[[0, 0, 0, 0, 0, 0, 0],\n",
       " [0, 0, 0, 1, 1, 0, 1],\n",
       " [0, 0, 0, 0, 0, 0, 0],\n",
       " [0, 0, 0, 0, 1, 2, 1],\n",
       " [0, 0, 0, 0, 1, 2, 1],\n",
       " [0, 0, 0, 0, 0, 0, 0]]"
      ]
     },
     "execution_count": 20,
     "metadata": {},
     "output_type": "execute_result"
    }
   ],
   "source": [
    "B=[[0,0,0,0,0,0,0],[0,0,0,1,1,0,1],[0,0,0,0,0,0,0],[0,0,0,0,1,2,0],[0,0,0,0,1,0,0],[0,0,0,0,0,0,0]]\n",
    "D=[[1,2,1],[1,2,1]]\n",
    "juxt_pattern_to_image0(D,B)"
   ]
  },
  {
   "cell_type": "code",
   "execution_count": 21,
   "metadata": {},
   "outputs": [
    {
     "data": {
      "text/plain": [
       "array([[0, 0, 0, 0, 0, 0, 0],\n",
       "       [0, 0, 0, 1, 1, 0, 1],\n",
       "       [0, 0, 0, 0, 0, 0, 0],\n",
       "       [0, 0, 0, 0, 1, 2, 0],\n",
       "       [0, 0, 0, 0, 1, 0, 0],\n",
       "       [0, 0, 0, 0, 0, 0, 0]])"
      ]
     },
     "execution_count": 21,
     "metadata": {},
     "output_type": "execute_result"
    }
   ],
   "source": [
    "np.array(B)"
   ]
  },
  {
   "cell_type": "code",
   "execution_count": 22,
   "metadata": {},
   "outputs": [],
   "source": [
    "#Transformations\n",
    "def Vert(M):\n",
    "    n = len(M)\n",
    "    k = len(M[0])\n",
    "    ans = np.zeros((n,k), dtype = int)\n",
    "    for i in range(n):\n",
    "        for j in range(k):\n",
    "            ans[i][j] = 0+M[n-1-i][j]\n",
    "    return ans.tolist()\n",
    "\n",
    "def Hor(M):\n",
    "    n = len(M)\n",
    "    k = len(M[0])\n",
    "    ans = np.zeros((n,k), dtype = int)\n",
    "    for i in range(n):\n",
    "        for j in range(k):\n",
    "            ans[i][j] = 0+M[i][k-1-j]\n",
    "    return ans.tolist()\n",
    "\n",
    "def Rot1(M):\n",
    "    n = len(M)\n",
    "    k = len(M[0])\n",
    "    ans = np.zeros((k,n), dtype = int)\n",
    "    for i in range(n):\n",
    "        for j in range(k):\n",
    "            ans[j][i] = 0 + M[i][k-1-j]\n",
    "    return ans.tolist()\n",
    "            \n",
    "def Rot2(M):\n",
    "    n = len(M)\n",
    "    k = len(M[0])\n",
    "    ans = np.zeros((k,n), dtype = int)\n",
    "    for i in range(n):\n",
    "        for j in range(k):\n",
    "            ans[j][i] = 0 + M[n-1-i][j]\n",
    "    return ans.tolist()"
   ]
  },
  {
   "cell_type": "code",
   "execution_count": 23,
   "metadata": {},
   "outputs": [],
   "source": [
    "def symmetry(A):\n",
    "    if Hor(A)==A and len(A[0])>1 :\n",
    "        return True\n",
    "    if Vert(A)==A and len(A)>1:\n",
    "        return True\n",
    "    return False"
   ]
  },
  {
   "cell_type": "code",
   "execution_count": 24,
   "metadata": {},
   "outputs": [],
   "source": [
    "def color_counts(a0):\n",
    "    a=np.array(a0)\n",
    "    b = np.bincount(a.flatten(),minlength=10)\n",
    "    return b"
   ]
  },
  {
   "cell_type": "code",
   "execution_count": 25,
   "metadata": {},
   "outputs": [
    {
     "data": {
      "text/plain": [
       "array([22,  3,  0,  0,  0,  0,  0,  0,  0], dtype=int64)"
      ]
     },
     "execution_count": 25,
     "metadata": {},
     "output_type": "execute_result"
    }
   ],
   "source": [
    "color_counts(A)[1:]\n",
    "min(np.trim_zeros(color_counts(A)[1:]))\n",
    "# list(np.nonzero(np.unique(A))[0])\n",
    "color_counts(A)[1:]"
   ]
  },
  {
   "cell_type": "code",
   "execution_count": 26,
   "metadata": {},
   "outputs": [],
   "source": [
    "def sum_not_zero(a0):\n",
    "    a=np.array(a0)\n",
    "    a[a!=0]=1\n",
    "    b = np.sum(a)\n",
    "    return b"
   ]
  },
  {
   "cell_type": "code",
   "execution_count": 27,
   "metadata": {},
   "outputs": [],
   "source": [
    "A=[[0,0,1,1,2,2,1],[0,0,0,1,1,1,1],[0,0,0,1,1,1,1],[0,0,0,1,1,1,1],[0,0,0,1,1,1,1],[0,0,0,1,1,1,2]]\n",
    "B=[[0,0,0,0,0,0,0],[0,0,0,1,1,0,1],[0,0,0,0,0,0,0],[0,0,0,0,0,1,0],[0,0,0,1,2,0,0],[0,0,0,1,0,0,1]]\n",
    "C=[[0,0,0,0,0,0,0],[0,0,0,0,0,0,0],[0,0,0,0,0,0,0],[0,0,0,0,0,0,0],[0,0,0,0,0,0,0],[0,0,0,0,0,0,0]]"
   ]
  },
  {
   "cell_type": "code",
   "execution_count": 28,
   "metadata": {},
   "outputs": [],
   "source": [
    "def min_req(pattern,image_part):\n",
    "    res=[]\n",
    "    b=list(np.nonzero(np.unique(image_part))[0])\n",
    "    for i in range(1,len(color_counts(pattern))):\n",
    "        if  i in b:\n",
    "            res.append(color_counts(pattern)[i])\n",
    "\n",
    "    return min(res)\n"
   ]
  },
  {
   "cell_type": "code",
   "execution_count": 40,
   "metadata": {},
   "outputs": [
    {
     "data": {
      "text/plain": [
       "array([[0, 0, 1, 1, 2, 2, 1],\n",
       "       [0, 0, 0, 1, 1, 1, 1],\n",
       "       [0, 0, 0, 1, 1, 1, 1],\n",
       "       [0, 0, 0, 1, 1, 1, 1],\n",
       "       [0, 0, 0, 1, 1, 1, 1],\n",
       "       [0, 0, 0, 1, 1, 1, 2]])"
      ]
     },
     "execution_count": 40,
     "metadata": {},
     "output_type": "execute_result"
    }
   ],
   "source": [
    "np.array(A)"
   ]
  },
  {
   "cell_type": "code",
   "execution_count": 45,
   "metadata": {},
   "outputs": [
    {
     "data": {
      "text/plain": [
       "array([[2, 1, 1, 1, 0, 0, 0],\n",
       "       [1, 1, 1, 1, 0, 0, 0],\n",
       "       [1, 1, 1, 1, 0, 0, 0],\n",
       "       [1, 1, 1, 1, 0, 0, 0],\n",
       "       [1, 1, 1, 1, 0, 0, 0],\n",
       "       [1, 2, 2, 1, 1, 0, 0]])"
      ]
     },
     "execution_count": 45,
     "metadata": {},
     "output_type": "execute_result"
    }
   ],
   "source": [
    "np.rot90(np.array(A),2)"
   ]
  },
  {
   "cell_type": "code",
   "execution_count": 30,
   "metadata": {},
   "outputs": [
    {
     "data": {
      "text/plain": [
       "False"
      ]
     },
     "execution_count": 30,
     "metadata": {},
     "output_type": "execute_result"
    }
   ],
   "source": [
    "B=[[0,0,0,0,0,0,0],[0,0,0,1,1,0,1],[0,0,0,0,0,0,0],[0,0,0,0,1,2,0],[0,0,0,0,1,0,0],[0,0,0,0,0,0,0]]\n",
    "D=[[1,2,1],[1,2,0]]\n",
    "B_test=[[1,0,0],[1,0,0]]\n",
    "np.array(B)\n",
    "symmetry(D)\n",
    "min_req(D,B_test)\n",
    "max(np.trim_zeros(color_counts(B_test)[1:]))\n",
    "color_counts(B_test)[1:]\n",
    "symmetry(D)"
   ]
  },
  {
   "cell_type": "code",
   "execution_count": 31,
   "metadata": {},
   "outputs": [],
   "source": [
    "#BACKGROUND=0\n",
    "def _get_bound(img0):\n",
    "    img=np.array(img0)\n",
    "    h, w = img.shape\n",
    "    x0 = w - 1\n",
    "    x1 = 0\n",
    "    y0 = h - 1\n",
    "    y1 = 0\n",
    "    for x in range(w):\n",
    "        for y in range(h):\n",
    "            if img[y, x] == BACKGROUND:\n",
    "                continue\n",
    "            x0 = min(x0, x)\n",
    "            x1 = max(x1, x)\n",
    "            y0 = min(y0, y)\n",
    "            y1 = max(y1, y)\n",
    "    return x0, x1, y0, y1\n",
    "def get_bound_image(img0):\n",
    "    x0,x1,y0,y1=_get_bound(img0)\n",
    "    img=np.array(img0)\n",
    "    return img[y0:y1+1,x0:x1+1].tolist()\n",
    "BACKGROUND = 0\n",
    "\n",
    "_neighbor_offsets = {\n",
    "    4: [(1, 0), (-1, 0), (0, 1), (0, -1)],\n",
    "    8: [(1, 0), (-1, 0), (0, 1), (0, -1), (-1, -1), (-1, 1), (1, -1), (1, 1)]\n",
    "}\n",
    "def _expand_region_indices(img, i, j, neighbor=4):\n",
    "    h, w = img.shape\n",
    "    seed_color = img[i, j]\n",
    "    idx = np.zeros_like(img, dtype=np.bool)\n",
    "    region = []\n",
    "    region.append((i, j))\n",
    "    while len(region) > 0:\n",
    "        ii, jj = region.pop()\n",
    "        if img[ii, jj] != seed_color:\n",
    "            continue\n",
    "        idx[ii, jj] = True\n",
    "        for di, dj in _neighbor_offsets[neighbor]:\n",
    "            ni, nj = ii + di, jj + dj\n",
    "            if ni >= 0 and ni < h and nj >= 0 and nj < w \\\n",
    "                    and not idx[ni, nj]:\n",
    "                region.append((ni, nj))\n",
    "    return idx\n",
    "def _expand_region_indices01(img, i, j, neighbor=4):\n",
    "    h, w = img.shape\n",
    "    seed_color = 1\n",
    "    idx = np.zeros_like(img, dtype=np.bool)\n",
    "    region = []\n",
    "    region.append((i, j))\n",
    "    while len(region) > 0:\n",
    "        ii, jj = region.pop()\n",
    "        if img[ii, jj] == 0:\n",
    "            continue\n",
    "        idx[ii, jj] = True\n",
    "        for di, dj in _neighbor_offsets[neighbor]:\n",
    "            ni, nj = ii + di, jj + dj\n",
    "            if ni >= 0 and ni < h and nj >= 0 and nj < w \\\n",
    "                    and not idx[ni, nj]:\n",
    "                region.append((ni, nj))\n",
    "    return idx\n",
    "def _split_conn(img0, neighbor=4):\n",
    "    regions = []\n",
    "    img=np.array(img0)\n",
    "    mem = np.zeros_like(img, dtype=np.bool)\n",
    "    h, w = img.shape\n",
    "    for j in range(w):\n",
    "        for i in range(h):\n",
    "            p = img[i, j]\n",
    "            if p == BACKGROUND or mem[i, j]:\n",
    "                continue\n",
    "            conn_idx = _expand_region_indices(img, i, j, neighbor)\n",
    "            mem[conn_idx] = True\n",
    "            regions.append((np.where(conn_idx, img, BACKGROUND)).tolist())\n",
    "    return regions\n",
    "def _split_conn01(img0, neighbor=4):\n",
    "    regions = []\n",
    "    img=np.array(img0)\n",
    "    mem = np.zeros_like(img, dtype=np.bool)\n",
    "    h, w = img.shape\n",
    "    for j in range(w):\n",
    "        for i in range(h):\n",
    "            p = img[i, j]\n",
    "            if p == BACKGROUND or mem[i, j]:\n",
    "                continue\n",
    "            conn_idx = _expand_region_indices01(img, i, j, neighbor)\n",
    "            mem[conn_idx] = True\n",
    "            regions.append((np.where(conn_idx, img, BACKGROUND)).tolist())\n",
    "    return regions\n",
    "def split_conn(img): \n",
    "    ''' Split an image into a list of images each containing a single connected region'''\n",
    "    \n",
    "    return _split_conn(img, 4)\n",
    "def split_conn8(img):\n",
    "    ''' Split an image into a list of images each containing a single connected region.\n",
    "      Pixels of 8 neighbors are all considered \"connected\"\n",
    "    '''\n",
    "    \n",
    "    return _split_conn(img, 8)\n",
    "\n",
    "def split_conn01(img): \n",
    "    ''' Split an image into a list of images each containing a single connected region'''\n",
    "    \n",
    "    return _split_conn01(img, 4)\n",
    "def split_conn801(img):\n",
    "    ''' Split an image into a list of images each containing a single connected region.\n",
    "      Pixels of 8 neighbors are all considered \"connected\"\n",
    "    '''\n",
    "    \n",
    "    return _split_conn01(img, 8)"
   ]
  },
  {
   "cell_type": "code",
   "execution_count": 32,
   "metadata": {},
   "outputs": [],
   "source": [
    "\n",
    "\n",
    "def _split_object(img0, neighbor=4):\n",
    "    regions = []\n",
    "    img=np.array(img0)\n",
    "    mem = np.zeros_like(img, dtype=np.bool)\n",
    "    h, w = img.shape\n",
    "    for j in range(w):\n",
    "        for i in range(h):\n",
    "            p = img[i, j]\n",
    "            if p == BACKGROUND or mem[i, j]:\n",
    "                continue\n",
    "            conn_idx = _expand_region_indices(img, i, j, neighbor)\n",
    "            mem[conn_idx] = True\n",
    "            splitimage=np.where(conn_idx, img, BACKGROUND)\n",
    "#             minx=0\n",
    "#             miny=0\n",
    "#             maxx=0\n",
    "#             maxy=0\n",
    "#             for m in range(h):\n",
    "#                 if sum(splitimage[m,:])!=0:\n",
    "#                     miny=m\n",
    "#                     break\n",
    "#             for n in range(w):\n",
    "#                 if sum(splitimage[:,n])!=0:\n",
    "#                     minx=n\n",
    "#                     break\n",
    "#             for m in range(h-1,-1,-1):\n",
    "#                 if sum(splitimage[m,:])!=0:\n",
    "#                     maxy=m\n",
    "#                     break\n",
    "#             for n in range(w-1,-1,-1):\n",
    "#                 if sum(splitimage[:,n])!=0:\n",
    "#                     maxx=n\n",
    "#                     break\n",
    "            (minx,maxx,miny,maxy)=_get_bound(splitimage)\n",
    "            split_object=(splitimage[miny:maxy+1,minx:maxx+1]).tolist()\n",
    "            \n",
    "            \n",
    "            regions.append({'start': (miny, minx), 'obj':split_object})\n",
    "    return regions\n",
    "\n",
    "def _split_object01(img0, neighbor=4):\n",
    "    regions = []\n",
    "    img=np.array(img0)\n",
    "    mem = np.zeros_like(img, dtype=np.bool)\n",
    "    h, w = img.shape\n",
    "    for j in range(w):\n",
    "        for i in range(h):\n",
    "            p = img[i, j]\n",
    "            if p == BACKGROUND or mem[i, j]:\n",
    "                continue\n",
    "            conn_idx = _expand_region_indices01(img, i, j, neighbor)\n",
    "            mem[conn_idx] = True\n",
    "            splitimage=np.where(conn_idx, img, BACKGROUND)\n",
    "#             minx=0\n",
    "#             miny=0\n",
    "#             maxx=0\n",
    "#             maxy=0\n",
    "#             for m in range(h):\n",
    "#                 if sum(splitimage[m,:])!=0:\n",
    "#                     miny=m\n",
    "#                     break\n",
    "#             for n in range(w):\n",
    "#                 if sum(splitimage[:,n])!=0:\n",
    "#                     minx=n\n",
    "#                     break\n",
    "#             for m in range(h-1,-1,-1):\n",
    "#                 if sum(splitimage[m,:])!=0:\n",
    "#                     maxy=m \n",
    "#                     break\n",
    "#             for n in range(w-1,-1,-1):\n",
    "#                 if sum(splitimage[:,n])!=0:\n",
    "#                     maxx=n\n",
    "#                     break\n",
    "        \n",
    "            (minx,maxx,miny,maxy)=_get_bound(splitimage)\n",
    "            split_object=(splitimage[miny:maxy+1,minx:maxx+1]).tolist()\n",
    "            \n",
    "            \n",
    "            regions.append({'start': (miny, minx), 'obj':split_object})\n",
    "    return regions"
   ]
  },
  {
   "cell_type": "code",
   "execution_count": 33,
   "metadata": {},
   "outputs": [],
   "source": [
    "def split_object(img):\n",
    "    return _split_object(img, neighbor=4)\n",
    "def split_object8(img):\n",
    "    return _split_object(img, neighbor=8)\n",
    "def split_object01(img):\n",
    "    return _split_object01(img, neighbor=4)\n",
    "def split_object801(img):\n",
    "    return _split_object01(img, neighbor=8)\n"
   ]
  },
  {
   "cell_type": "code",
   "execution_count": 34,
   "metadata": {},
   "outputs": [],
   "source": [
    "\n",
    "def Solve_juxt(basic_task): \n",
    "    # returns -1 if no match is found\n",
    "    # returns Transformed_Test_Case  if the mathching rule is found\n",
    "    # for this notebook we only look at mul color match\n",
    "    Input = [Defensive_Copy(x) for x in basic_task[0]]\n",
    "    Output = [Defensive_Copy(y) for y in basic_task[1]]\n",
    "    Test_Case = Input[-1]\n",
    "    Input = Input[:-1]\n",
    "    solved=True\n",
    "    for x, y in zip(Input,Output):\n",
    "        #plot_picture(x)\n",
    "        pattern=[]\n",
    "        a=split_object801(x)\n",
    "        for j in range(len(a)):\n",
    "            \n",
    "            if len(pattern)==0:\n",
    "                pattern.append(a[j][\"obj\"])\n",
    "            else:\n",
    "                add_key=True\n",
    "                for k in range(len(pattern)):\n",
    "                    if is_juxt(pattern[k],a[j][\"obj\"])!=0 or issubarray(pattern[k],a[j][\"obj\"])==True \\\n",
    "                    or (len(a[j][\"obj\"])==1 and len(a[j][\"obj\"][0])==1 ):\n",
    "                        add_key=False\n",
    "                        break\n",
    "                    \n",
    "                    elif is_juxt(a[j][\"obj\"],pattern[k])!=0:\n",
    "                        pattern[k]=a[j][\"obj\"]\n",
    "                        add_key=False\n",
    "                        break\n",
    "                if add_key==True:\n",
    "                    pattern.append(a[j][\"obj\"])\n",
    "\n",
    "        \n",
    "        if len(pattern)<1:\n",
    "            return -1\n",
    "        y_juxt=juxt_pattern_to_image0(pattern[0],x)\n",
    "        for m in range(1,len(pattern)):\n",
    "            y_juxt=juxt_pattern_to_image0(pattern[m],y_juxt)\n",
    "        #plot_picture(y_juxt)\n",
    "        if y!=y_juxt:\n",
    "            solved=False\n",
    "            break\n",
    "    if solved==True:\n",
    "        x=Test_Case\n",
    "        pattern=[]\n",
    "        a=split_object801(x)\n",
    "        for j in range(len(a)):\n",
    "            if len(pattern)==0:\n",
    "                pattern.append(a[j][\"obj\"])\n",
    "            else:\n",
    "                add_key=True\n",
    "                for k in range(len(pattern)):\n",
    "                    if is_juxt(pattern[k],a[j][\"obj\"])!=0 or issubarray(pattern[k],a[j][\"obj\"])==True \\\n",
    "                    or (len(a[j][\"obj\"])==1 and len(a[j][\"obj\"][0])==1 ):\n",
    "                        add_key=False\n",
    "                        break\n",
    "                    \n",
    "                    elif is_juxt(a[j][\"obj\"],pattern[k])!=0:\n",
    "                        pattern[k]=a[j][\"obj\"]\n",
    "                        add_key=False\n",
    "                        break\n",
    "                if add_key==True:\n",
    "                    pattern.append(a[j][\"obj\"])\n",
    "        \n",
    "        if len(pattern)<1:\n",
    "            return -1\n",
    "        y_juxt=juxt_pattern_to_image0(pattern[0],x)\n",
    "        for m in range(1,len(pattern)):\n",
    "            y_juxt=juxt_pattern_to_image0(pattern[m],y_juxt)\n",
    "        return y_juxt \n",
    "        \n",
    "    else:\n",
    "        return -1\n",
    "            \n"
   ]
  },
  {
   "cell_type": "code",
   "execution_count": 35,
   "metadata": {},
   "outputs": [
    {
     "name": "stdout",
     "output_type": "stream",
     "text": [
      "172 0\n"
     ]
    },
    {
     "data": {
      "image/png": "[encoded data removed]",
      "text/plain": [
       "<Figure size 432x288 with 1 Axes>"
      ]
     },
     "metadata": {
      "needs_background": "light"
     },
     "output_type": "display_data"
    },
    {
     "data": {
      "image/png": "[encoded data removed]",
      "text/plain": [
       "<Figure size 800x400 with 8 Axes>"
      ]
     },
     "metadata": {
      "needs_background": "light"
     },
     "output_type": "display_data"
    }
   ],
   "source": [
    "for i in range(400):\n",
    "    task = Trains[i]\n",
    "    k = len(task['test'])\n",
    "    for j in range(k):\n",
    "        basic_task = Create(task, j)\n",
    "        proposed_solution = Solve_juxt(basic_task)\n",
    "        if proposed_solution != -1:\n",
    "            print(i,j)\n",
    "            plot_picture(proposed_solution)\n",
    "            \n",
    "            plot_task(task)\n",
    "            "
   ]
  },
  {
   "cell_type": "code",
   "execution_count": 36,
   "metadata": {},
   "outputs": [],
   "source": [
    "A=[[0,0,1,1,2,2,1],[0,0,0,1,1,1,1],[0,0,0,1,1,1,1],[0,0,0,1,1,1,1],[0,0,0,1,1,1,1],[0,0,0,1,1,1,2]]\n",
    "B=[[0,0,0,0,0,0,0],[0,0,0,1,1,0,1],[0,0,0,0,0,0,0],[0,0,0,0,0,1,0],[0,0,0,1,2,0,0],[0,0,0,1,0,0,1]]\n",
    "C=[[0,0,0,0,0,0,0],[0,0,0,0,0,0,0],[0,0,0,0,0,0,0],[0,0,0,0,0,0,0],[0,0,0,0,0,0,0],[0,0,0,0,0,0,0]]"
   ]
  },
  {
   "cell_type": "code",
   "execution_count": 127,
   "metadata": {},
   "outputs": [
    {
     "data": {
      "text/plain": [
       "2"
      ]
     },
     "execution_count": 127,
     "metadata": {},
     "output_type": "execute_result"
    }
   ],
   "source": [
    "len(np.nonzero(np.unique(A))[0])"
   ]
  },
  {
   "cell_type": "code",
   "execution_count": 163,
   "metadata": {},
   "outputs": [],
   "source": [
    "#juxt pattern to whole image\n",
    "#list list\n",
    "def juxt_pattern_to_image1(pattern_list,image):\n",
    "    image_array=np.pad(image,((1,1),(1,1)),\"constant\",constant_values=0)\n",
    "    image_array_copy=image_array.copy()\n",
    "    m,n=len(image),len(image[0])\n",
    "    \n",
    "#     def min_req(pattern,image_part):\n",
    "#         res=[]\n",
    "#         b=list(np.nonzero(np.unique(image_part))[0])\n",
    "#         for i in range(1,len(color_counts(pattern))):\n",
    "#             if  i in b:\n",
    "#                 res.append(color_counts(pattern)[i])\n",
    "#         if len(res)==0:\n",
    "#             return -1\n",
    "\n",
    "#         return min(res)\n",
    "    \n",
    "    while True:\n",
    "        \n",
    "        max_pro=0\n",
    "        for pat in range(len(pattern_list)):\n",
    "            pattern=pattern_list[pat]\n",
    "        \n",
    "            pattern_array=np.array(pattern)\n",
    "            a=len(pattern)\n",
    "            b=len(pattern[0])\n",
    "            for i in range(1,m-a+1+1):\n",
    "                for j in range(1,n-b+1+1):\n",
    "                    tmp_image=image_array[i:i+a,j:j+b].tolist()\n",
    "                    if np.sum(image_array[i:i+a,j:j+b])!=np.sum(image_array[i-1:i+a+1,j-1:j+b+1]) or -1 in tmp_image:\n",
    "\n",
    "                        continue\n",
    "\n",
    "                    if is_juxt(pattern,tmp_image)!=0:\n",
    "                        max_pro=max(max_pro,is_juxt(pattern,tmp_image))\n",
    "                    if max_pro==1:\n",
    "                        break\n",
    "#         print(image_array)\n",
    "#         print(image_array_copy)\n",
    "        if max_pro==0:\n",
    "            return image_array_copy[1:-1,1:-1].tolist()\n",
    "        for pat in range(len(pattern_list)):\n",
    "            pattern=pattern_list[pat]\n",
    "        \n",
    "            pattern_array=np.array(pattern)\n",
    "            a=len(pattern)\n",
    "            b=len(pattern[0])\n",
    "\n",
    "\n",
    "           \n",
    "\n",
    "            for i in range(1,m-a+1+1):\n",
    "                for j in range(1,n-b+1+1):\n",
    "                    tmp_image=image_array[i:i+a,j:j+b].tolist()\n",
    "\n",
    "                    if is_juxt(pattern,tmp_image)==max_pro:\n",
    "\n",
    "                        image_array_copy[i:i+a,j:j+b]=pattern_array\n",
    "\n",
    "                        image_array[i:i+a,j:j+b]=-1\n"
   ]
  },
  {
   "cell_type": "code",
   "execution_count": 164,
   "metadata": {},
   "outputs": [],
   "source": [
    "\n",
    "def Solve_juxt_trans(basic_task): \n",
    "    # returns -1 if no match is found\n",
    "    # returns Transformed_Test_Case  if the mathching rule is found\n",
    "    # for this notebook we only look at mul color match\n",
    "    Input = [Defensive_Copy(x) for x in basic_task[0]]\n",
    "    Output = [Defensive_Copy(y) for y in basic_task[1]]\n",
    "    Test_Case = Input[-1]\n",
    "    Input = Input[:-1]\n",
    "    solved=True\n",
    "    pattern_being=True\n",
    "    for x, y in zip(Input,Output):\n",
    "        #plot_picture(x)\n",
    "        pattern=[]\n",
    "        a=split_object801(x)\n",
    "        maxcolor=0\n",
    "        for j in range(len(a)):\n",
    "            \n",
    "            localmax=len(np.nonzero(np.unique(a[j][\"obj\"]))[0])\n",
    "            maxcolor=max(localmax,maxcolor)\n",
    "        for j in range(len(a)):\n",
    "            if len(np.nonzero(np.unique(a[j][\"obj\"]))[0])==maxcolor:\n",
    "                pattern.append(a[j][\"obj\"])\n",
    "                if issubarray(y,a[j][\"obj\"])==False:\n",
    "                    pattern_being=False\n",
    "                    \n",
    "                    tmp=a[j][\"obj\"]\n",
    "                    for i1 in range(len(x)):\n",
    "                        for j1 in range(len(x[0])):\n",
    "                            x_array_tmp=np.array(x)\n",
    "                            tmp_image=x_array_tmp[i1:i1+len(tmp),j1:j1+len(tmp[0])].tolist()\n",
    "                            if tmp_image==tmp:\n",
    "                                x_array_tmp[i1:i1+len(tmp),j1:j1+len(tmp[0])]=0\n",
    "                                x=x_array_tmp.tolist()\n",
    "                \n",
    "\n",
    "                pattern.append(Vert(a[j][\"obj\"]))\n",
    "                pattern.append(Hor(a[j][\"obj\"]))\n",
    "                pattern.append(Rot2(a[j][\"obj\"]))\n",
    "                pattern.append(Rot1(a[j][\"obj\"]))\n",
    "                pattern.append(Rot1(Rot1(a[j][\"obj\"])))\n",
    "                pattern.append(Vert(Rot2(a[j][\"obj\"])))\n",
    "                pattern.append(Hor(Rot2(a[j][\"obj\"])))\n",
    "\n",
    "\n",
    "        \n",
    "        if len(pattern)<1:\n",
    "            return -1\n",
    "        y_juxt=juxt_pattern_to_image1(pattern,x)\n",
    "#         plot_picture(y_juxt)\n",
    "#         plot_picture(y)\n",
    "#         print(y_juxt==y)\n",
    "\n",
    "        if y!=y_juxt:\n",
    "            solved=False\n",
    "            break\n",
    "    if solved==True:\n",
    "        x=Test_Case\n",
    "        pattern=[]\n",
    "        a=split_object801(x)\n",
    "        maxcolor=0\n",
    "        for j in range(len(a)):\n",
    "            localmax=len(np.nonzero(np.unique(a[j][\"obj\"]))[0])\n",
    "            maxcolor=max(localmax,maxcolor)\n",
    "        for j in range(len(a)):\n",
    "            if len(np.nonzero(np.unique(a[j][\"obj\"]))[0])==maxcolor:\n",
    "                pattern.append(a[j][\"obj\"])\n",
    "                if pattern_being==False:\n",
    "                    tmp=a[j][\"obj\"]\n",
    "                    for i1 in range(len(x)):\n",
    "                        for j1 in range(len(x[0])):\n",
    "                            x_array_tmp=np.array(x)\n",
    "                            tmp_image=x_array_tmp[i1:i1+len(tmp),j1:j1+len(tmp[0])].tolist()\n",
    "                            if tmp_image==tmp:\n",
    "                                x_array_tmp[i1:i1+len(tmp),j1:j1+len(tmp[0])]=-1\n",
    "                                x=x_array_tmp.tolist()\n",
    "                    \n",
    "\n",
    "                pattern.append(Vert(a[j][\"obj\"]))\n",
    "                pattern.append(Hor(a[j][\"obj\"]))\n",
    "                pattern.append(Rot2(a[j][\"obj\"]))\n",
    "                pattern.append(Rot1(a[j][\"obj\"]))\n",
    "                pattern.append(Rot1(Rot1(a[j][\"obj\"])))\n",
    "                pattern.append(Vert(Rot2(a[j][\"obj\"])))\n",
    "                pattern.append(Hor(Rot2(a[j][\"obj\"])))\n",
    "            \n",
    "        \n",
    "        if len(pattern)<1:\n",
    "            return -1\n",
    "        y_juxt=juxt_pattern_to_image1(pattern,x)\n",
    "        return y_juxt\n",
    "    else:\n",
    "        return -1\n",
    "        \n",
    "\n",
    "            \n"
   ]
  },
  {
   "cell_type": "code",
   "execution_count": 165,
   "metadata": {},
   "outputs": [
    {
     "name": "stdout",
     "output_type": "stream",
     "text": [
      "17 0\n"
     ]
    },
    {
     "data": {
      "image/png": "[encoded data removed]",
      "text/plain": [
       "<Figure size 432x288 with 1 Axes>"
      ]
     },
     "metadata": {
      "needs_background": "light"
     },
     "output_type": "display_data"
    },
    {
     "data": {
      "image/png": "[encoded data removed]",
      "text/plain": [
       "<Figure size 800x400 with 8 Axes>"
      ]
     },
     "metadata": {
      "needs_background": "light"
     },
     "output_type": "display_data"
    },
    {
     "name": "stdout",
     "output_type": "stream",
     "text": [
      "75 0\n"
     ]
    },
    {
     "data": {
      "image/png": "[encoded data removed]",
      "text/plain": [
       "<Figure size 432x288 with 1 Axes>"
      ]
     },
     "metadata": {
      "needs_background": "light"
     },
     "output_type": "display_data"
    },
    {
     "data": {
      "image/png": "[encoded data removed]",
      "text/plain": [
       "<Figure size 800x400 with 8 Axes>"
      ]
     },
     "metadata": {
      "needs_background": "light"
     },
     "output_type": "display_data"
    },
    {
     "name": "stdout",
     "output_type": "stream",
     "text": [
      "172 0\n"
     ]
    },
    {
     "data": {
      "image/png": "[encoded data removed]",
      "text/plain": [
       "<Figure size 432x288 with 1 Axes>"
      ]
     },
     "metadata": {
      "needs_background": "light"
     },
     "output_type": "display_data"
    },
    {
     "data": {
      "image/png": "[encoded data removed]",
      "text/plain": [
       "<Figure size 800x400 with 8 Axes>"
      ]
     },
     "metadata": {
      "needs_background": "light"
     },
     "output_type": "display_data"
    }
   ],
   "source": [
    "for i in range(400):\n",
    "    task = Trains[i]\n",
    "    k = len(task['test'])\n",
    "    for j in range(k):\n",
    "        basic_task = Create(task, j)\n",
    "        proposed_solution = Solve_juxt_trans(basic_task)\n",
    "        if proposed_solution != -1:\n",
    "            print(i,j)\n",
    "            plot_picture(proposed_solution)\n",
    "            \n",
    "            plot_task(task)"
   ]
  },
  {
   "cell_type": "code",
   "execution_count": 187,
   "metadata": {},
   "outputs": [],
   "source": [
    "\n",
    "def Solve_juxt_enlarge(basic_task): \n",
    "    # returns -1 if no match is found\n",
    "    # returns Transformed_Test_Case  if the mathching rule is found\n",
    "    # for this notebook we only look at mul color match\n",
    "    Input = [Defensive_Copy(x) for x in basic_task[0]]\n",
    "    Output = [Defensive_Copy(y) for y in basic_task[1]]\n",
    "    Test_Case = Input[-1]\n",
    "    Input = Input[:-1]\n",
    "    solved=True\n",
    "    pattern_being=True\n",
    "    for x, y in zip(Input,Output):\n",
    "        #plot_picture(x)\n",
    "        pattern=[]\n",
    "        a=split_object801(x)\n",
    "        maxcolor=0\n",
    "        for j in range(len(a)):\n",
    "            \n",
    "            localmax=len(np.nonzero(np.unique(a[j][\"obj\"]))[0])\n",
    "            maxcolor=max(localmax,maxcolor)\n",
    "        for j in range(len(a)):\n",
    "            if len(np.nonzero(np.unique(a[j][\"obj\"]))[0])==maxcolor:\n",
    "                pattern.append(a[j][\"obj\"])\n",
    "                if issubarray(y,a[j][\"obj\"])==False:\n",
    "                    pattern_being=False\n",
    "                    \n",
    "                    tmp=a[j][\"obj\"]\n",
    "                    for i1 in range(len(x)):\n",
    "                        for j1 in range(len(x[0])):\n",
    "                            x_array_tmp=np.array(x)\n",
    "                            tmp_image=x_array_tmp[i1:i1+len(tmp),j1:j1+len(tmp[0])].tolist()\n",
    "                            if tmp_image==tmp:\n",
    "                                x_array_tmp[i1:i1+len(tmp),j1:j1+len(tmp[0])]=0\n",
    "                                x=x_array_tmp.tolist()\n",
    "                \n",
    "                max_large=min(len(x)//len(a[j][\"obj\"]),len(x[0])//len(a[j][\"obj\"][0]))\n",
    "                for l in range(1,max_large):\n",
    "                    if l<5:\n",
    "                        pattern.append(np.repeat(np.repeat(np.array(a[j][\"obj\"]), l, axis=0), l, axis=1).tolist())\n",
    "                        \n",
    "\n",
    "\n",
    "\n",
    "        \n",
    "        if len(pattern)<1:\n",
    "            return -1\n",
    "        y_juxt=juxt_pattern_to_image1(pattern,x)\n",
    "#         plot_picture(y_juxt)\n",
    "#         plot_picture(y)\n",
    "#         print(y_juxt==y)\n",
    "\n",
    "        if y!=y_juxt:\n",
    "            solved=False\n",
    "            break\n",
    "    if solved==True:\n",
    "        x=Test_Case\n",
    "        pattern=[]\n",
    "        a=split_object801(x)\n",
    "        maxcolor=0\n",
    "        for j in range(len(a)):\n",
    "            localmax=len(np.nonzero(np.unique(a[j][\"obj\"]))[0])\n",
    "            maxcolor=max(localmax,maxcolor)\n",
    "        for j in range(len(a)):\n",
    "            if len(np.nonzero(np.unique(a[j][\"obj\"]))[0])==maxcolor:\n",
    "                pattern.append(a[j][\"obj\"])\n",
    "                if pattern_being==False:\n",
    "                    tmp=a[j][\"obj\"]\n",
    "                    for i1 in range(len(x)):\n",
    "                        for j1 in range(len(x[0])):\n",
    "                            x_array_tmp=np.array(x)\n",
    "                            tmp_image=x_array_tmp[i1:i1+len(tmp),j1:j1+len(tmp[0])].tolist()\n",
    "                            if tmp_image==tmp:\n",
    "                                x_array_tmp[i1:i1+len(tmp),j1:j1+len(tmp[0])]=-1\n",
    "                                x=x_array_tmp.tolist()\n",
    "                    \n",
    "\n",
    "                max_large=min(len(x)//len(a[j][\"obj\"]),len(x[0])//len(a[j][\"obj\"][0]))\n",
    "                for l in range(1,max_large):\n",
    "                    if l<5:\n",
    "                        pattern.append(np.repeat(np.repeat(a[j][\"obj\"], l, axis=0), l, axis=1).tolist())\n",
    "            \n",
    "        \n",
    "        if len(pattern)<1:\n",
    "            return -1\n",
    "        y_juxt=juxt_pattern_to_image1(pattern,x)\n",
    "        return y_juxt\n",
    "    else:\n",
    "        return -1\n",
    "        \n",
    "\n",
    "            \n"
   ]
  },
  {
   "cell_type": "code",
   "execution_count": 188,
   "metadata": {},
   "outputs": [
    {
     "name": "stdout",
     "output_type": "stream",
     "text": [
      "172 0\n"
     ]
    },
    {
     "data": {
      "image/png": "[encoded data removed]",
      "text/plain": [
       "<Figure size 432x288 with 1 Axes>"
      ]
     },
     "metadata": {
      "needs_background": "light"
     },
     "output_type": "display_data"
    },
    {
     "data": {
      "image/png": "[encoded data removed]",
      "text/plain": [
       "<Figure size 800x400 with 8 Axes>"
      ]
     },
     "metadata": {
      "needs_background": "light"
     },
     "output_type": "display_data"
    }
   ],
   "source": [
    "for i in range(400):\n",
    "    task = Trains[i]\n",
    "    k = len(task['test'])\n",
    "    for j in range(k):\n",
    "        basic_task = Create(task, j)\n",
    "        proposed_solution = Solve_juxt_enlarge(basic_task)\n",
    "        if proposed_solution != -1:\n",
    "            print(i,j)\n",
    "            plot_picture(proposed_solution)\n",
    "            \n",
    "            plot_task(task)"
   ]
  },
  {
   "cell_type": "code",
   "execution_count": null,
   "metadata": {},
   "outputs": [],
   "source": []
  }
 ],
 "metadata": {
  "kernelspec": {
   "display_name": "Python 3",
   "language": "python",
   "name": "python3"
  },
  "language_info": {
   "codemirror_mode": {
    "name": "ipython",
    "version": 3
   },
   "file_extension": ".py",
   "mimetype": "text/x-python",
   "name": "python",
   "nbconvert_exporter": "python",
   "pygments_lexer": "ipython3",
   "version": "3.6.7"
  }
 },
 "nbformat": 4,
 "nbformat_minor": 4
}
