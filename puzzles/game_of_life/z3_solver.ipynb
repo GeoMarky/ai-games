{
 "cells": [
  {
   "cell_type": "markdown",
   "metadata": {
    "_cell_guid": "b1076dfc-b9ad-4769-8c92-a6c4dae69d19",
    "_uuid": "8f2839f25d086af736a60e9eeb907d3b93b6e0e5",
    "papermill": {
     "duration": 0.008081,
     "end_time": "2020-09-10T21:58:37.544501",
     "exception": false,
     "start_time": "2020-09-10T21:58:37.536420",
     "status": "completed"
    },
    "tags": []
   },
   "source": [
    "# Reverse Game of Life - Z3 Constraint Satisfaction\n",
    "\n",
    "[Conway's Game of Life](https://en.wikipedia.org/wiki/Conway%27s_Game_of_Life) is an example of 2D cellular automata. \n",
    "\n",
    "I have previously written an interactive playable demo of the forward version of this game:\n",
    "- https://life.jamesmcguigan.com/\n",
    "\n",
    "Using the classic ruleset on a 25x25 board with wraparound, the game evolves at each timestep according to the following rules\n",
    "- Overpopulation: if a living cell is surrounded by more than three living cells, it dies.\n",
    "- Stasis: if a living cell is surrounded by two or three living cells, it survives.\n",
    "- Underpopulation: if a living cell is surrounded by fewer than two living cells, it dies.\n",
    "- Reproduction: if a dead cell is surrounded by exactly three cells, it becomes a live cell.\n",
    "\n",
    "Or expressed algebraicly:\n",
    "- living + 4-8 neighbours = dies\n",
    "- living + 2-3 neighbours = lives\n",
    "- living + 0-1 neighbour  = dies\n",
    "- dead   +   3 neighbours = lives\n",
    "\n",
    "\n",
    "To reverse the arrow of time:\n",
    "- any living cell must have had living 2-3 neighbours in the previous timestep\n",
    "- any dead cell must have had either 0-1 or 4-8 neighbours in the previous timestep\n",
    "- any dead cell with distance of greater than 2 from a living cell can be ignored and assumed to have 0 neighbours\n",
    "  - there are a near infinite number of self-contained patterns could have been born and died out in empty space\n",
    "  - however for the sake of the competition, ignoring them will greatly reduce the search space\n",
    "\n",
    "\n",
    "Whilst there have been many proposed solutions involving CNN neural networks (when all you have is a hammer, everything looks like a nail), this is in fact a classic constraint satisfaction problem. Here are some previous examples of using the Z3 library \n",
    "- https://www.kaggle.com/jamesmcguigan/z3-sudoku-solver\n",
    "- https://www.kaggle.com/jamesmcguigan/cryptarithmetic-solver"
   ]
  },
  {
   "cell_type": "markdown",
   "metadata": {
    "papermill": {
     "duration": 0.006208,
     "end_time": "2020-09-10T21:58:37.557688",
     "exception": false,
     "start_time": "2020-09-10T21:58:37.551480",
     "status": "completed"
    },
    "tags": []
   },
   "source": [
    "# Utility Functions"
   ]
  },
  {
   "cell_type": "code",
   "execution_count": 1,
   "metadata": {
    "execution": {
     "iopub.execute_input": "2020-09-10T21:58:49.479682Z",
     "iopub.status.busy": "2020-09-10T21:58:49.478841Z",
     "iopub.status.idle": "2020-09-10T21:58:50.763666Z",
     "shell.execute_reply": "2020-09-10T21:58:50.764349Z"
    },
    "papermill": {
     "duration": 1.295113,
     "end_time": "2020-09-10T21:58:50.764508",
     "exception": false,
     "start_time": "2020-09-10T21:58:49.469395",
     "status": "completed"
    },
    "tags": []
   },
   "outputs": [
    {
     "data": {
      "image/png": "[encoded data removed]",
      "text/plain": [
       "<Figure size 1152x432 with 2 Axes>"
      ]
     },
     "metadata": {
      "needs_background": "light"
     },
     "output_type": "display_data"
    }
   ],
   "source": [
    "from plot import plot_fig, plot_xy, plot_animate_fig, life_step\n",
    "from util import csv_to_delta, csv_to_numpy, numpy_to_dict\n",
    "from datasets import train_df, test_df\n",
    "from z3_solver import solve_dataframe\n",
    "\n",
    "plot_fig(train_df, 1)"
   ]
  },
  {
   "cell_type": "markdown",
   "metadata": {
    "papermill": {
     "duration": 0.007159,
     "end_time": "2020-09-10T21:59:15.106071",
     "exception": false,
     "start_time": "2020-09-10T21:59:15.098912",
     "status": "completed"
    },
    "tags": []
   },
   "source": [
    "# Z3 Solver\n",
    "\n",
    "Here we define a Z3 solver, with a 3d (= 2d + time) grid of t_cells, representing the current board state and previous timesteps for the required delta to be solved.\n",
    "\n",
    "As we are going backwards, we can ignore the rules for dead cells, and simply define the constraints required for the past timestep to produce living cells in the current timestep. We also define a rule to ignore any cells that currently have 0 neighbours to reduce the search space and prevent zero-point energy solutions."
   ]
  },
  {
   "cell_type": "code",
   "execution_count": 2,
   "metadata": {
    "execution": {
     "iopub.execute_input": "2020-09-10T21:59:15.130209Z",
     "iopub.status.busy": "2020-09-10T21:59:15.129455Z",
     "iopub.status.idle": "2020-09-10T21:59:15.156953Z",
     "shell.execute_reply": "2020-09-10T21:59:15.157495Z"
    },
    "papermill": {
     "duration": 0.044286,
     "end_time": "2020-09-10T21:59:15.157671",
     "exception": false,
     "start_time": "2020-09-10T21:59:15.113385",
     "status": "completed"
    },
    "tags": []
   },
   "outputs": [],
   "source": [
    "import z3\n",
    "from z3_solver import reverse_game_of_life_solver, reverse_game_of_life_next_solution\n",
    "from z3_solver import solver_to_numpy"
   ]
  },
  {
   "cell_type": "markdown",
   "metadata": {
    "papermill": {
     "duration": 0.006811,
     "end_time": "2020-09-10T21:59:15.171967",
     "exception": false,
     "start_time": "2020-09-10T21:59:15.165156",
     "status": "completed"
    },
    "tags": []
   },
   "source": [
    "# Visualization of Solutions   \n",
    "\n",
    "Here we show all possible solutions that could possibly solve the first datapoint "
   ]
  },
  {
   "cell_type": "code",
   "execution_count": null,
   "metadata": {
    "execution": {
     "iopub.execute_input": "2020-09-10T21:59:15.189571Z",
     "iopub.status.busy": "2020-09-10T21:59:15.188919Z",
     "iopub.status.idle": "2020-09-10T21:59:44.971482Z",
     "shell.execute_reply": "2020-09-10T21:59:44.972124Z"
    },
    "papermill": {
     "duration": 29.793223,
     "end_time": "2020-09-10T21:59:44.972280",
     "exception": false,
     "start_time": "2020-09-10T21:59:15.179057",
     "status": "completed"
    },
    "tags": []
   },
   "outputs": [],
   "source": [
    "idx      = 0      # delta = 3 - solved\n",
    "# idx      = 4      # delta = 1 - unsolvable\n",
    "# idx      = 49999  # delta = 2 - unsolvable\n",
    "delta    = csv_to_delta(train_df, idx)\n",
    "board    = csv_to_numpy(train_df, idx, type='stop')\n",
    "expected = csv_to_numpy(train_df, idx, type='start')\n",
    "\n",
    "plot_xy(expected, board, title1 = 'T=0 expected', title2 = f'T={delta}')\n",
    "\n",
    "z3_solver, t_cells = reverse_game_of_life_solver(board, delta)  # takes ~10s\n",
    "solution = solver_to_numpy(z3_solver, t_cells)\n",
    "plot_xy(solution, board, title1 = 'T=0 solved', title2 = f'T={delta}')\n",
    "# plot_animate_fig(solution, board, delta)"
   ]
  },
  {
   "cell_type": "markdown",
   "metadata": {
    "papermill": {
     "duration": 0.00838,
     "end_time": "2020-09-10T21:59:44.989430",
     "exception": false,
     "start_time": "2020-09-10T21:59:44.981050",
     "status": "completed"
    },
    "tags": []
   },
   "source": [
    "How many solutions are there in total?"
   ]
  },
  {
   "cell_type": "code",
   "execution_count": null,
   "metadata": {
    "execution": {
     "iopub.execute_input": "2020-09-10T21:59:45.014543Z",
     "iopub.status.busy": "2020-09-10T21:59:45.013806Z",
     "iopub.status.idle": "2020-09-10T21:59:45.017570Z",
     "shell.execute_reply": "2020-09-10T21:59:45.018077Z"
    },
    "papermill": {
     "duration": 0.019217,
     "end_time": "2020-09-10T21:59:45.018257",
     "exception": false,
     "start_time": "2020-09-10T21:59:44.999040",
     "status": "completed"
    },
    "tags": []
   },
   "outputs": [],
   "source": [
    "solution_count = 1\n",
    "while z3_solver.check() == z3.sat: \n",
    "    plot_xy(board, solver_to_numpy(z3_solver, t_cells), title1 = f'T={delta}', title2 = 'T=0 solved')\n",
    "    z3_solver, t_cells = reverse_game_of_life_next_solution(z3_solver, t_cells) # takes ~0.5s per solution\n",
    "    solution_count += 1\n",
    "    if solution_count > 10: break\n",
    "print(f'Total Solutions: {solution_count}')"
   ]
  },
  {
   "cell_type": "markdown",
   "metadata": {
    "papermill": {
     "duration": 0.008187,
     "end_time": "2020-09-10T21:59:45.069678",
     "exception": false,
     "start_time": "2020-09-10T21:59:45.061491",
     "status": "completed"
    },
    "pycharm": {
     "name": "#%% md\n"
    },
    "tags": []
   },
   "source": [
    "# Training Dataset"
   ]
  },
  {
   "cell_type": "code",
   "execution_count": null,
   "metadata": {
    "execution": {
     "iopub.execute_input": "2020-09-10T21:59:45.092078Z",
     "iopub.status.busy": "2020-09-10T21:59:45.091258Z"
    },
    "papermill": {
     "duration": null,
     "end_time": null,
     "exception": false,
     "start_time": "2020-09-10T21:59:45.078183",
     "status": "running"
    },
    "pycharm": {
     "name": "#%%\n"
    },
    "tags": []
   },
   "outputs": [],
   "source": [
    "solve_dataframe(train_df).to_csv('train.csv')"
   ]
  },
  {
   "cell_type": "code",
   "execution_count": null,
   "metadata": {
    "papermill": {
     "duration": null,
     "end_time": null,
     "exception": null,
     "start_time": null,
     "status": "pending"
    },
    "pycharm": {
     "name": "#%%\n"
    },
    "tags": []
   },
   "outputs": [],
   "source": [
    "# Submission\n"
   ]
  }
 ],
 "metadata": {
  "kernelspec": {
   "display_name": "Python 3",
   "language": "python",
   "name": "python3"
  },
  "language_info": {
   "codemirror_mode": {
    "name": "ipython",
    "version": 3
   },
   "file_extension": ".py",
   "mimetype": "text/x-python",
   "name": "python",
   "nbconvert_exporter": "python",
   "pygments_lexer": "ipython3",
   "version": "3.6.9"
  },
  "papermill": {
   "duration": null,
   "end_time": null,
   "environment_variables": {},
   "exception": null,
   "input_path": "__notebook__.ipynb",
   "output_path": "__notebook__.ipynb",
   "parameters": {},
   "start_time": "2020-09-10T21:58:32.056782",
   "version": "2.1.0"
  }
 },
 "nbformat": 4,
 "nbformat_minor": 4
}