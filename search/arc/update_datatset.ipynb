{
 "cells": [
  {
   "cell_type": "code",
   "execution_count": 17,
   "metadata": {},
   "outputs": [],
   "source": [
    "! rm -rf input"
   ]
  },
  {
   "cell_type": "code",
   "execution_count": 18,
   "metadata": {},
   "outputs": [
    {
     "name": "stdout",
     "output_type": "stream",
     "text": [
      "Cloning into 'ARC'...\n",
      "remote: Enumerating objects: 6, done.\u001B[K\n",
      "remote: Counting objects: 100% (6/6), done.\u001B[K\n",
      "remote: Compressing objects: 100% (6/6), done.\u001B[K\n",
      "remote: Total 1142 (delta 0), reused 3 (delta 0), pack-reused 1136\u001B[K\n",
      "Receiving objects: 100% (1142/1142), 479.40 KiB | 699.00 KiB/s, done.\n",
      "Resolving deltas: 100% (662/662), done.\n"
     ]
    }
   ],
   "source": [
    "! git clone https://github.com/fchollet/ARC.git"
   ]
  },
  {
   "cell_type": "code",
   "execution_count": 19,
   "metadata": {},
   "outputs": [],
   "source": [
    "! mv ARC/data input"
   ]
  },
  {
   "cell_type": "code",
   "execution_count": 20,
   "metadata": {},
   "outputs": [],
   "source": [
    "# ! curl --header 'Host: www.kaggleusercontent.com' --header 'User-Agent: Mozilla/5.0 (Macintosh; Intel Mac OS X 10_15_2) AppleWebKit/537.36 (KHTML, like Gecko) Chrome/81.0.4044.113 Safari/537.36' --header 'Accept: text/html,application/xhtml+xml,application/xml;q=0.9,image/webp,image/apng,*/*;q=0.8,application/signed-exchange;v=b3;q=0.9' --header 'Accept-Language: en-US,en;q=0.9,zh-CN;q=0.8,zh;q=0.7' --header 'Referer: https://www.kaggle.com/' 'https://www.kaggleusercontent.com/kf/32428537/eyJhbGciOiJkaXIiLCJlbmMiOiJBMTI4Q0JDLUhTMjU2In0..mUSUzxVFZez6eY6kwVnNVA.ri53WZNs5JP_xAhFXVZKlkuUVvFFtZZDGiARmeIibhg_tTVKUL0VBUFwqWl9XNarQq8zeDm5vm120mtKJ8zBFx8rZrzN9Ft3x9-Al4QoG5XsEMAzm42gdFqCv0O27ATcXYkzrznSzC5YTvu6FbtqO41q3uNdBqr-CfY_ydix36JLCKI6Qijnn1TBnz3hirmqoj3bRezHN8kvk-OIIjfT5LpBDgIq-NbWQT1uaPP0wb6U9QU2iJZGzeeabCzqy97aSh5j2LyPswKs5JhfpdMu_V9ojvZSfMx_snkLkFPY95absxatg8OoYxto2eyvGcedC-z199h8n5OqTyJVUZZnlQRv889UDtRrWPGzzzDixiFKC3IJEx2ExjafL_DalabBXc4yrLChfrq7IhArXOAwvCJS_CfeXqrdeKb_uXz10U53jJotv2QdBSq2w_6SzG6cOg9Y08oTSI88JfISq5iNVZ7ip-64xbUd82RAJ6uAzRSppicAIoGzij38Y6kZNiMPS6IOXcUy7MFlNFzjEGQhpWnbfAaCcTQyGz4t6Ti5gPV4EXYjOCKkJ9IGFumbk0TrUjySh7AL7qb3wtnxPi_7ZijxPcwYtDHEnyMVzaeBAGdsdPEWloHSMgAwZG0b-27KaRYIcagjR-UEBvkADsg08w.wE12dyCUIWghSe43jh8odw/training_tasks_tagged.csv' -L -o 'tagged_tasks.csv'"
   ]
  },
  {
   "cell_type": "code",
   "execution_count": 21,
   "metadata": {},
   "outputs": [],
   "source": [
    "! rm -rf ARC"
   ]
  },
  {
   "cell_type": "code",
   "execution_count": 22,
   "metadata": {},
   "outputs": [],
   "source": [
    "! cp -r input_backup/* input"
   ]
  }
 ],
 "metadata": {
  "kernelspec": {
   "display_name": "Python 3",
   "language": "python",
   "name": "python3"
  },
  "language_info": {
   "codemirror_mode": {
    "name": "ipython",
    "version": 3
   },
   "file_extension": ".py",
   "mimetype": "text/x-python",
   "name": "python",
   "nbconvert_exporter": "python",
   "pygments_lexer": "ipython3",
   "version": "3.7.7"
  }
 },
 "nbformat": 4,
 "nbformat_minor": 2
}