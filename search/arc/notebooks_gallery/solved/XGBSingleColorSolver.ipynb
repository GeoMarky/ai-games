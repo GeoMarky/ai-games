{
 "cells": [
  {
   "cell_type": "markdown",
   "metadata": {
    "pycharm": {
     "name": "#%% md\n"
    }
   },
   "source": [
    "# XGBSingleColorSolver"
   ]
  },
  {
   "cell_type": "code",
   "execution_count": 1,
   "metadata": {},
   "outputs": [],
   "source": [
    "from IPython.core.display import display, HTML\n",
    "from src.datamodel.Competition import Competition\n",
    "from src.solver_multimodel.solvers.XGBSingleColorSolver import XGBSingleColorSolver\n",
    "\n",
    "%load_ext autoreload\n",
    "%autoreload 2\n",
    "\n",
    "competition = Competition()\n",
    "solver = XGBSingleColorSolver()"
   ]
  },
  {
   "cell_type": "markdown",
   "metadata": {},
   "source": [
    "# Solved\n"
   ]
  },
  {
   "cell_type": "code",
   "execution_count": 2,
   "metadata": {
    "pycharm": {
     "name": "#%%\n"
    }
   },
   "outputs": [
    {
     "data": {
      "text/html": [
       "<h1>training</h1>"
      ],
      "text/plain": [
       "<IPython.core.display.HTML object>"
      ]
     },
     "metadata": {},
     "output_type": "display_data"
    },
    {
     "name": "stdout",
     "output_type": "stream",
     "text": [
      "training/27a28665.json   | False -> False | [1 2 2 3 3 1 6] -> [1 3 1 1 3 1 6] | [6 1 2] -> [1 1 1]\n",
      "training/445eab21.json   | True  -> False | [8 7 4] -> [8 7 4] | [3] -> [4]\n",
      "training/44f52bb0.json   | False -> True  | [1 7 1 1 7 7] -> [1 7 1 7 7 7] | [1 7] -> [1 7]\n",
      "training/5582e5ca.json   | True  -> False | [4 9 6] -> [4 9 6] | [8] -> [6]\n"
     ]
    },
    {
     "data": {
      "text/html": [
       "<h1>evaluation</h1>"
      ],
      "text/plain": [
       "<IPython.core.display.HTML object>"
      ]
     },
     "metadata": {},
     "output_type": "display_data"
    },
    {
     "name": "stdout",
     "output_type": "stream",
     "text": [
      "evaluation/3194b014.json | True  -> False | [4 3 8] -> [4 3 8] | [5] -> [4]\n"
     ]
    },
    {
     "data": {
      "text/html": [
       "<h1>test</h1>"
      ],
      "text/plain": [
       "<IPython.core.display.HTML object>"
      ]
     },
     "metadata": {},
     "output_type": "display_data"
    },
    {
     "name": "stdout",
     "output_type": "stream",
     "text": [
      "test/3194b014.json       | True  -> False | [4 3 8] -> [4 3 8] | [] -> [4]\n"
     ]
    }
   ],
   "source": [
    "for name, dataset in competition.items():\n",
    "    display(HTML(f'<h1>{name}</h1>'))\n",
    "    solver.plot(dataset)"
   ]
  },
  {
   "cell_type": "code",
   "execution_count": null,
   "metadata": {
    "pycharm": {
     "name": "#%%\n"
    }
   },
   "outputs": [],
   "source": [
    "\n"
   ]
  }
 ],
 "metadata": {
  "kernelspec": {
   "display_name": "Python 3",
   "language": "python",
   "name": "python3"
  },
  "language_info": {
   "codemirror_mode": {
    "name": "ipython",
    "version": 3
   },
   "file_extension": ".py",
   "mimetype": "text/x-python",
   "name": "python",
   "nbconvert_exporter": "python",
   "pygments_lexer": "ipython3",
   "version": "3.6.9"
  }
 },
 "nbformat": 4,
 "nbformat_minor": 1
}