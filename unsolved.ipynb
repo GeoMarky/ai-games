{
 "cells": [
  {
   "cell_type": "code",
   "execution_count": 1,
   "metadata": {},
   "outputs": [],
   "source": [
    "import numpy as np"
   ]
  },
  {
   "cell_type": "code",
   "execution_count": 2,
   "metadata": {},
   "outputs": [],
   "source": [
    "unsolved_Trains=[]\n",
    "unsolved_Evals=[]\n",
    "for i in range(400):\n",
    "    unsolved_Trains.append(i)\n",
    "    unsolved_Evals.append(i)"
   ]
  },
  {
   "cell_type": "code",
   "execution_count": 3,
   "metadata": {},
   "outputs": [],
   "source": [
    "def remove_from_list(unlist,solvedlist):\n",
    "    for i in range(len(solvedlist)):\n",
    "        if solvedlist[i] in unlist:\n",
    "            unlist.remove(solvedlist[i])"
   ]
  },
  {
   "cell_type": "code",
   "execution_count": 4,
   "metadata": {},
   "outputs": [],
   "source": [
    "solved_train=[384,\n",
    " 0,\n",
    " 139,\n",
    " 141,\n",
    " 149,\n",
    " 151,\n",
    " 154,\n",
    " 30,\n",
    " 163,\n",
    " 171,\n",
    " 303,\n",
    " 176,\n",
    " 178,\n",
    " 310,\n",
    " 56,\n",
    " 314,\n",
    " 193,\n",
    " 209,\n",
    " 210,\n",
    " 82,\n",
    " 86,\n",
    " 105,\n",
    " 240,\n",
    " 115,\n",
    " 248,\n",
    " 379]\n",
    "remove_from_list(unsolved_Trains,solved_train)"
   ]
  },
  {
   "cell_type": "code",
   "execution_count": 5,
   "metadata": {},
   "outputs": [
    {
     "data": {
      "text/plain": [
       "374"
      ]
     },
     "execution_count": 5,
     "metadata": {},
     "output_type": "execute_result"
    }
   ],
   "source": [
    "len(unsolved_Trains)"
   ]
  },
  {
   "cell_type": "code",
   "execution_count": 6,
   "metadata": {},
   "outputs": [],
   "source": [
    "solved_Evals=[0, 67, 196, 296, 138, 110, 143, 16, 375, 184, 285]\n",
    "remove_from_list(unsolved_Evals,solved_Evals)"
   ]
  },
  {
   "cell_type": "code",
   "execution_count": 7,
   "metadata": {},
   "outputs": [
    {
     "data": {
      "text/plain": [
       "389"
      ]
     },
     "execution_count": 7,
     "metadata": {},
     "output_type": "execute_result"
    }
   ],
   "source": [
    "len(unsolved_Evals)"
   ]
  },
  {
   "cell_type": "code",
   "execution_count": 8,
   "metadata": {},
   "outputs": [],
   "source": [
    "a=[385, 226, 5, 71, 359, 394, 235, 143, 371, 25, 346, 317]\n",
    "remove_from_list(unsolved_Trains,a)\n",
    "b=[39, 80, 17, 144, 339, 86, 344, 121, 157, 318]\n",
    "remove_from_list(unsolved_Evals,b)"
   ]
  },
  {
   "cell_type": "code",
   "execution_count": 9,
   "metadata": {},
   "outputs": [
    {
     "data": {
      "text/plain": [
       "362"
      ]
     },
     "execution_count": 9,
     "metadata": {},
     "output_type": "execute_result"
    }
   ],
   "source": [
    "len(unsolved_Trains)"
   ]
  },
  {
   "cell_type": "code",
   "execution_count": 10,
   "metadata": {},
   "outputs": [
    {
     "data": {
      "text/plain": [
       "379"
      ]
     },
     "execution_count": 10,
     "metadata": {},
     "output_type": "execute_result"
    }
   ],
   "source": [
    "len(unsolved_Evals)"
   ]
  },
  {
   "cell_type": "code",
   "execution_count": 11,
   "metadata": {},
   "outputs": [],
   "source": [
    "a=[15, 83, 275, 291, 308, 331, 336]\n",
    "b=[82]\n",
    "remove_from_list(unsolved_Trains,a)\n",
    "\n",
    "remove_from_list(unsolved_Evals,b)"
   ]
  },
  {
   "cell_type": "code",
   "execution_count": 12,
   "metadata": {},
   "outputs": [
    {
     "data": {
      "text/plain": [
       "355"
      ]
     },
     "execution_count": 12,
     "metadata": {},
     "output_type": "execute_result"
    }
   ],
   "source": [
    "len(unsolved_Trains)"
   ]
  },
  {
   "cell_type": "code",
   "execution_count": 13,
   "metadata": {},
   "outputs": [
    {
     "data": {
      "text/plain": [
       "378"
      ]
     },
     "execution_count": 13,
     "metadata": {},
     "output_type": "execute_result"
    }
   ],
   "source": [
    "len(unsolved_Evals)"
   ]
  },
  {
   "cell_type": "code",
   "execution_count": 14,
   "metadata": {},
   "outputs": [],
   "source": [
    "a=[129, 193, 163, 171, 141, 174, 206, 178, 372, 86, 151, 56]\n",
    "b=[0,\n",
    " 161,\n",
    " 288,\n",
    " 391,\n",
    " 138,\n",
    " 267,\n",
    " 300,\n",
    " 271,\n",
    " 176,\n",
    " 307,\n",
    " 52,\n",
    " 308,\n",
    " 375,\n",
    " 184,\n",
    " 90,\n",
    " 156,\n",
    " 285,\n",
    " 351]\n",
    "remove_from_list(unsolved_Trains,a)\n",
    "\n",
    "remove_from_list(unsolved_Evals,b)"
   ]
  },
  {
   "cell_type": "code",
   "execution_count": 15,
   "metadata": {},
   "outputs": [
    {
     "name": "stdout",
     "output_type": "stream",
     "text": [
      "351 365\n"
     ]
    }
   ],
   "source": [
    "print(len(unsolved_Trains),len(unsolved_Evals))"
   ]
  },
  {
   "cell_type": "code",
   "execution_count": 16,
   "metadata": {},
   "outputs": [],
   "source": [
    "a=[2,230,1,250,186]\n",
    "b=[198]\n",
    "remove_from_list(unsolved_Trains,a)\n",
    "\n",
    "remove_from_list(unsolved_Evals,b)"
   ]
  },
  {
   "cell_type": "code",
   "execution_count": 17,
   "metadata": {},
   "outputs": [
    {
     "name": "stdout",
     "output_type": "stream",
     "text": [
      "346 364\n"
     ]
    }
   ],
   "source": [
    "print(len(unsolved_Trains),len(unsolved_Evals))"
   ]
  },
  {
   "cell_type": "code",
   "execution_count": 18,
   "metadata": {},
   "outputs": [],
   "source": [
    "a=[35, 299, 364, 206, 78, 270, 215]\n",
    "b=[312, 385]\n",
    "remove_from_list(unsolved_Trains,a)\n",
    "\n",
    "remove_from_list(unsolved_Evals,b)"
   ]
  },
  {
   "cell_type": "code",
   "execution_count": 19,
   "metadata": {},
   "outputs": [],
   "source": [
    "a=[288, 268, 15, 336, 306, 275, 308, 30, 222, 383,69,165]\n",
    "b=[148, 325]\n",
    "remove_from_list(unsolved_Trains,a)\n",
    "\n",
    "remove_from_list(unsolved_Evals,b)"
   ]
  },
  {
   "cell_type": "code",
   "execution_count": 20,
   "metadata": {},
   "outputs": [
    {
     "name": "stdout",
     "output_type": "stream",
     "text": [
      "333 360\n"
     ]
    }
   ],
   "source": [
    "print(len(unsolved_Trains),len(unsolved_Evals))"
   ]
  },
  {
   "cell_type": "code",
   "execution_count": 21,
   "metadata": {},
   "outputs": [],
   "source": [
    "a=[35, 262, 299, 13, 48, 309, 30]\n",
    "b=[]\n",
    "remove_from_list(unsolved_Trains,a)\n",
    "\n",
    "remove_from_list(unsolved_Evals,b)"
   ]
  },
  {
   "cell_type": "code",
   "execution_count": 22,
   "metadata": {},
   "outputs": [],
   "source": [
    "a=[6, 27 ,289 , 275, 388]\n",
    "b=[]\n",
    "remove_from_list(unsolved_Trains,a)\n",
    "\n",
    "remove_from_list(unsolved_Evals,b)"
   ]
  },
  {
   "cell_type": "code",
   "execution_count": 23,
   "metadata": {},
   "outputs": [],
   "source": [
    "a=[229, 265, 330, 301, 281, 219, 316, 94 ,40,355,44,91]\n",
    "b=[7]\n",
    "remove_from_list(unsolved_Trains,a)\n",
    "\n",
    "remove_from_list(unsolved_Evals,b)"
   ]
  },
  {
   "cell_type": "code",
   "execution_count": 24,
   "metadata": {},
   "outputs": [],
   "source": [
    "a=[227, 229, 265, 330, 11, 301, 85, 281, 219, 316, 94]\n",
    "b=[156, 199]\n",
    "remove_from_list(unsolved_Trains,a)\n",
    "\n",
    "remove_from_list(unsolved_Evals,b)"
   ]
  },
  {
   "cell_type": "code",
   "execution_count": 25,
   "metadata": {},
   "outputs": [
    {
     "name": "stdout",
     "output_type": "stream",
     "text": [
      "310 358\n"
     ]
    }
   ],
   "source": [
    "print(len(unsolved_Trains),len(unsolved_Evals))"
   ]
  },
  {
   "cell_type": "code",
   "execution_count": null,
   "metadata": {},
   "outputs": [],
   "source": []
  },
  {
   "cell_type": "code",
   "execution_count": null,
   "metadata": {},
   "outputs": [],
   "source": []
  }
 ],
 "metadata": {
  "kernelspec": {
   "display_name": "Python 3",
   "language": "python",
   "name": "python3"
  },
  "language_info": {
   "codemirror_mode": {
    "name": "ipython",
    "version": 3
   },
   "file_extension": ".py",
   "mimetype": "text/x-python",
   "name": "python",
   "nbconvert_exporter": "python",
   "pygments_lexer": "ipython3",
   "version": "3.6.7"
  }
 },
 "nbformat": 4,
 "nbformat_minor": 4
}
