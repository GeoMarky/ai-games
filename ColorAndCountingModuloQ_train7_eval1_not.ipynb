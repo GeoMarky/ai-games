{
 "cells": [
  {
   "cell_type": "code",
   "execution_count": 1,
   "metadata": {},
   "outputs": [
    {
     "name": "stdout",
     "output_type": "stream",
     "text": [
      "input\n",
      "input\\evaluation\n",
      "input\\training\n"
     ]
    }
   ],
   "source": [
    "import numpy as np\n",
    "import pandas as pd\n",
    "import time\n",
    "\n",
    "import os\n",
    "import json\n",
    "from pathlib import Path\n",
    "\n",
    "import matplotlib.pyplot as plt\n",
    "from matplotlib import colors\n",
    "import numpy as np\n",
    "from pathlib import Path\n",
    "\n",
    "#for dirname, _, filenames in os.walk('/kaggle/input'):\n",
    "for dirname, _, filenames in os.walk(\"input\"):\n",
    "    print(dirname)"
   ]
  },
  {
   "cell_type": "code",
   "execution_count": 2,
   "metadata": {},
   "outputs": [],
   "source": [
    "#data_path = Path('/kaggle/input/abstraction-and-reasoning-challenge/')\n",
    "data_path = Path('input/')\n",
    "training_path = data_path / 'training'\n",
    "evaluation_path = data_path / 'evaluation'\n",
    "test_path = data_path / 'test'\n",
    "training_tasks = sorted(os.listdir(training_path))\n",
    "eval_tasks = sorted(os.listdir(evaluation_path))"
   ]
  },
  {
   "cell_type": "code",
   "execution_count": 3,
   "metadata": {},
   "outputs": [],
   "source": [
    "#已解決的ID\n",
    "solved_id=set()\n",
    "solved_eva_id=set()"
   ]
  },
  {
   "cell_type": "code",
   "execution_count": 4,
   "metadata": {},
   "outputs": [],
   "source": [
    "T = training_tasks\n",
    "Trains = []\n",
    "for i in range(400):\n",
    "    task_file = str(training_path / T[i])\n",
    "    task = json.load(open(task_file, 'r'))\n",
    "    Trains.append(task)\n",
    "    \n",
    "E = eval_tasks\n",
    "Evals= []\n",
    "for i in range(400):\n",
    "    task_file = str(evaluation_path / E[i])\n",
    "    task = json.load(open(task_file, 'r'))\n",
    "    Evals.append(task)"
   ]
  },
  {
   "cell_type": "code",
   "execution_count": 5,
   "metadata": {},
   "outputs": [
    {
     "data": {
      "image/png": "[encoded data removed]",
      "text/plain": [
       "<Figure size 1000x400 with 1 Axes>"
      ]
     },
     "metadata": {
      "needs_background": "light"
     },
     "output_type": "display_data"
    }
   ],
   "source": [
    "cmap = colors.ListedColormap(\n",
    "    ['#000000', '#0074D9','#FF4136','#2ECC40','#FFDC00',\n",
    "     '#AAAAAA', '#F012BE', '#FF851B', '#7FDBFF', '#870C25'])\n",
    "norm = colors.Normalize(vmin=0, vmax=9)\n",
    "# 0:black, 1:blue, 2:red, 3:greed, 4:yellow,\n",
    "# 5:gray, 6:magenta, 7:orange, 8:sky, 9:brown\n",
    "plt.figure(figsize=(5, 2), dpi=200)\n",
    "plt.imshow([list(range(10))], cmap=cmap, norm=norm)\n",
    "plt.xticks(list(range(10)))\n",
    "plt.yticks([])\n",
    "plt.show()\n",
    "\n",
    "def plot_task(task):\n",
    "    n = len(task[\"train\"]) + len(task[\"test\"])\n",
    "    fig, axs = plt.subplots(2, n, figsize=(4*n,8), dpi=50)\n",
    "    plt.subplots_adjust(wspace=0, hspace=0)\n",
    "    fig_num = 0\n",
    "    \n",
    "    for i, t in enumerate(task[\"train\"]):\n",
    "        t_in, t_out = np.array(t[\"input\"]), np.array(t[\"output\"])\n",
    "        axs[0][fig_num].imshow(t_in, cmap=cmap, norm=norm)\n",
    "        axs[0][fig_num].set_title(f'Train-{i} in')\n",
    "        axs[0][fig_num].set_yticks(list(range(t_in.shape[0])))\n",
    "        axs[0][fig_num].set_xticks(list(range(t_in.shape[1])))\n",
    "        axs[1][fig_num].imshow(t_out, cmap=cmap, norm=norm)\n",
    "        axs[1][fig_num].set_title(f'Train-{i} out')\n",
    "        axs[1][fig_num].set_yticks(list(range(t_out.shape[0])))\n",
    "        axs[1][fig_num].set_xticks(list(range(t_out.shape[1])))\n",
    "        fig_num += 1\n",
    "    for i, t in enumerate(task[\"test\"]):\n",
    "        t_in, t_out = np.array(t[\"input\"]), np.array(t[\"output\"])\n",
    "        axs[0][fig_num].imshow(t_in, cmap=cmap, norm=norm)\n",
    "        axs[0][fig_num].set_title(f'Test-{i} in')\n",
    "        axs[0][fig_num].set_yticks(list(range(t_in.shape[0])))\n",
    "        axs[0][fig_num].set_xticks(list(range(t_in.shape[1])))\n",
    "        axs[1][fig_num].imshow(t_out, cmap=cmap, norm=norm)\n",
    "        axs[1][fig_num].set_title(f'Test-{i} out')\n",
    "        axs[1][fig_num].set_yticks(list(range(t_out.shape[0])))\n",
    "        axs[1][fig_num].set_xticks(list(range(t_out.shape[1])))\n",
    "        fig_num += 1\n",
    "    \n",
    "    plt.tight_layout()\n",
    "    plt.show()"
   ]
  },
  {
   "cell_type": "code",
   "execution_count": 6,
   "metadata": {},
   "outputs": [],
   "source": [
    "\n",
    "def plot_picture(x):\n",
    "    plt.imshow(np.array(x), cmap = cmap, norm = norm)\n",
    "    plt.show()"
   ]
  },
  {
   "cell_type": "code",
   "execution_count": 7,
   "metadata": {},
   "outputs": [],
   "source": [
    "def Defensive_Copy(A): \n",
    "    if type(A)!=list:\n",
    "        A=A.tolist()\n",
    "    n = len(A)\n",
    "    k = len(A[0])\n",
    "    L = np.zeros((n,k), dtype = int)\n",
    "    for i in range(n):\n",
    "        for j in range(k):\n",
    "            L[i,j] = 0 + A[i][j]\n",
    "    return L.tolist()"
   ]
  },
  {
   "cell_type": "code",
   "execution_count": 8,
   "metadata": {},
   "outputs": [],
   "source": [
    "def Create(task, task_id = 0):\n",
    "    n = len(task['train'])\n",
    "    Input = [Defensive_Copy(task['train'][i]['input']) for i in range(n)]\n",
    "    Output = [Defensive_Copy(task['train'][i]['output']) for i in range(n)]\n",
    "    Input.append(Defensive_Copy(task['test'][task_id]['input']))\n",
    "    return Input, Output"
   ]
  },
  {
   "cell_type": "code",
   "execution_count": null,
   "metadata": {},
   "outputs": [],
   "source": []
  },
  {
   "cell_type": "code",
   "execution_count": 16,
   "metadata": {},
   "outputs": [],
   "source": [
    "def Recolor(task):\n",
    "    Input = task[0]\n",
    "    Output = task[1]\n",
    "    Test_Picture = Input[-1]\n",
    "    Input = Input[:-1]\n",
    "    N = len(Input)\n",
    "    list_lenc=[]\n",
    "\n",
    "    for x, y in zip(Input, Output):\n",
    "        if len(x) != len(y) or len(x[0]) != len(y[0]):\n",
    "            return -1\n",
    "        lenc=len(np.unique(np.array(y)))\n",
    "        list_lenc.append(lenc)\n",
    "    Best_Dict = -1\n",
    "    Best_Q1 = -1\n",
    "    Best_Q2 = -1\n",
    "    Best_v = -1\n",
    "    # v ranges from 0 to 3. This gives an extra flexibility of measuring distance from any of the 4 corners\n",
    "    Pairs = []\n",
    "    for t in range(15):\n",
    "        for Q1 in range(1,8):\n",
    "            for Q2 in range(1,8):\n",
    "                if Q1+Q2 == t:\n",
    "                    Pairs.append((Q1,Q2))\n",
    "    Pairs.append((15,15))\n",
    "    Pairs.append((30,30))\n",
    "                    \n",
    "    for Q1, Q2 in Pairs:\n",
    "        for v in range(4):\n",
    "    \n",
    "  \n",
    "            if Best_Dict != -1:\n",
    "                continue\n",
    "            possible = True\n",
    "            Dict = {}\n",
    "                      \n",
    "            for x, y in zip(Input, Output):\n",
    "                n = len(x)\n",
    "                k = len(x[0])\n",
    "                for i in range(n):\n",
    "                    for j in range(k):\n",
    "                        if v == 0 or v ==2:\n",
    "                            p1 = i%Q1\n",
    "                        else:\n",
    "                            p1 = (n-1-i)%Q1\n",
    "                        if v == 0 or v ==3:\n",
    "                            p2 = j%Q2\n",
    "                        else :\n",
    "                            p2 = (k-1-j)%Q2\n",
    "                        color1 = x[i][j]\n",
    "                        color2 = y[i][j]\n",
    "                        if color1 != color2:\n",
    "                            rule = (p1, p2, color1)\n",
    "                            \n",
    "                            if rule not in Dict:\n",
    "                                Dict[rule] = color2\n",
    "                            elif Dict[rule] != color2:\n",
    "                                possible = False\n",
    "            #print(Dict)\n",
    "            if possible:\n",
    "                \n",
    "                # Let's see if we actually solve the problem\n",
    "                for x, y in zip(Input, Output):\n",
    "                    n = len(x)\n",
    "                    k = len(x[0])\n",
    "                    for i in range(n):\n",
    "                        for j in range(k):\n",
    "                            if v == 0 or v ==2:\n",
    "                                p1 = i%Q1\n",
    "                            else:\n",
    "                                p1 = (n-1-i)%Q1\n",
    "                            if v == 0 or v ==3:\n",
    "                                p2 = j%Q2\n",
    "                            else :\n",
    "                                p2 = (k-1-j)%Q2\n",
    "                           \n",
    "                            color1 = x[i][j]\n",
    "                            rule = (p1,p2,color1)\n",
    "                            \n",
    "                            if rule in Dict:\n",
    "                                color2 = 0 + Dict[rule]\n",
    "                            else:\n",
    "                                color2 = 0 + y[i][j]\n",
    "                            if color2 != y[i][j]:\n",
    "                                possible = False \n",
    "                            \n",
    "                if possible:\n",
    "                    \n",
    "                    Best_Dict = Dict\n",
    "                    Best_Q1 = Q1\n",
    "                    Best_Q2 = Q2\n",
    "                    Best_v = v\n",
    "                    \n",
    "            \n",
    "                \n",
    "    \n",
    "    if Best_Dict == -1:\n",
    "        return -1 #meaning that we didn't find a rule that works for the traning cases\n",
    "    \n",
    "    #Otherwise there is a rule: so let's use it:\n",
    "    n = len(Test_Picture)\n",
    "    k = len(Test_Picture[0])\n",
    "    \n",
    "    answer = np.zeros((n,k), dtype = int)\n",
    "    \n",
    "    for i in range(n):\n",
    "        for j in range(k):\n",
    "            if Best_v == 0 or Best_v ==2:\n",
    "                p1 = i%Best_Q1\n",
    "            else:\n",
    "                p1 = (n-1-i)%Best_Q1\n",
    "            if Best_v == 0 or Best_v ==3:\n",
    "                p2 = j%Best_Q2\n",
    "            else :\n",
    "                p2 = (k-1-j)%Best_Q2\n",
    "           \n",
    "            color1 = Test_Picture[i][j]\n",
    "            rule = (p1, p2, color1)\n",
    "            if (p1, p2, color1) in Best_Dict:\n",
    "                answer[i][j] = 0 + Best_Dict[rule]\n",
    "            else:\n",
    "                answer[i][j] = 0 + color1\n",
    "                                    \n",
    "            #print(answer)\n",
    "    #print(list_lenc)\n",
    "    if len(np.unique(list_lenc))==1:\n",
    "        #print(answer)\n",
    "        if len(np.unique(answer))==list_lenc[0]:\n",
    "            return answer.tolist()\n",
    "        else:\n",
    "            return -1\n",
    "            \n",
    "    return answer.tolist()"
   ]
  },
  {
   "cell_type": "code",
   "execution_count": null,
   "metadata": {},
   "outputs": [],
   "source": []
  },
  {
   "cell_type": "code",
   "execution_count": 17,
   "metadata": {},
   "outputs": [],
   "source": [
    "Function = Recolor"
   ]
  },
  {
   "cell_type": "code",
   "execution_count": 18,
   "metadata": {},
   "outputs": [
    {
     "data": {
      "image/png": "[encoded data removed]",
      "text/plain": [
       "<Figure size 432x288 with 1 Axes>"
      ]
     },
     "metadata": {
      "needs_background": "light"
     },
     "output_type": "display_data"
    },
    {
     "data": {
      "image/png": "[encoded data removed]",
      "text/plain": [
       "<Figure size 1000x400 with 10 Axes>"
      ]
     },
     "metadata": {
      "needs_background": "light"
     },
     "output_type": "display_data"
    },
    {
     "name": "stdout",
     "output_type": "stream",
     "text": [
      "15\n"
     ]
    },
    {
     "data": {
      "image/png": "[encoded data removed]",
      "text/plain": [
       "<Figure size 432x288 with 1 Axes>"
      ]
     },
     "metadata": {
      "needs_background": "light"
     },
     "output_type": "display_data"
    },
    {
     "data": {
      "image/png": "[encoded data removed]",
      "text/plain": [
       "<Figure size 800x400 with 8 Axes>"
      ]
     },
     "metadata": {
      "needs_background": "light"
     },
     "output_type": "display_data"
    },
    {
     "name": "stdout",
     "output_type": "stream",
     "text": [
      "83\n"
     ]
    },
    {
     "data": {
      "image/png": "[encoded data removed]",
      "text/plain": [
       "<Figure size 432x288 with 1 Axes>"
      ]
     },
     "metadata": {
      "needs_background": "light"
     },
     "output_type": "display_data"
    },
    {
     "data": {
      "image/png": "[encoded data removed]",
      "text/plain": [
       "<Figure size 800x400 with 8 Axes>"
      ]
     },
     "metadata": {
      "needs_background": "light"
     },
     "output_type": "display_data"
    },
    {
     "name": "stdout",
     "output_type": "stream",
     "text": [
      "275\n"
     ]
    },
    {
     "data": {
      "image/png": "[encoded data removed]",
      "text/plain": [
       "<Figure size 432x288 with 1 Axes>"
      ]
     },
     "metadata": {
      "needs_background": "light"
     },
     "output_type": "display_data"
    },
    {
     "data": {
      "image/png": "[encoded data removed]",
      "text/plain": [
       "<Figure size 1200x400 with 12 Axes>"
      ]
     },
     "metadata": {
      "needs_background": "light"
     },
     "output_type": "display_data"
    },
    {
     "name": "stdout",
     "output_type": "stream",
     "text": [
      "291\n"
     ]
    },
    {
     "data": {
      "image/png": "[encoded data removed]",
      "text/plain": [
       "<Figure size 432x288 with 1 Axes>"
      ]
     },
     "metadata": {
      "needs_background": "light"
     },
     "output_type": "display_data"
    },
    {
     "data": {
      "image/png": "[encoded data removed]",
      "text/plain": [
       "<Figure size 800x400 with 8 Axes>"
      ]
     },
     "metadata": {
      "needs_background": "light"
     },
     "output_type": "display_data"
    },
    {
     "name": "stdout",
     "output_type": "stream",
     "text": [
      "308\n"
     ]
    },
    {
     "data": {
      "image/png": "[encoded data removed]",
      "text/plain": [
       "<Figure size 432x288 with 1 Axes>"
      ]
     },
     "metadata": {
      "needs_background": "light"
     },
     "output_type": "display_data"
    },
    {
     "data": {
      "image/png": "[encoded data removed]",
      "text/plain": [
       "<Figure size 1000x400 with 10 Axes>"
      ]
     },
     "metadata": {
      "needs_background": "light"
     },
     "output_type": "display_data"
    },
    {
     "name": "stdout",
     "output_type": "stream",
     "text": [
      "331\n"
     ]
    },
    {
     "data": {
      "image/png": "[encoded data removed]",
      "text/plain": [
       "<Figure size 432x288 with 1 Axes>"
      ]
     },
     "metadata": {
      "needs_background": "light"
     },
     "output_type": "display_data"
    },
    {
     "data": {
      "image/png": "[encoded data removed]",
      "text/plain": [
       "<Figure size 800x400 with 8 Axes>"
      ]
     },
     "metadata": {
      "needs_background": "light"
     },
     "output_type": "display_data"
    },
    {
     "name": "stdout",
     "output_type": "stream",
     "text": [
      "336\n"
     ]
    }
   ],
   "source": [
    "training_examples = []\n",
    "for i in range(400):\n",
    "    task = Trains[i]\n",
    "    basic_task = Create(task,0)\n",
    "    a = Function(basic_task)\n",
    "  \n",
    "    if  a != -1 and task['test'][0]['output'] == a:\n",
    "    #if  a != -1 :\n",
    "        plot_picture(a)\n",
    "        plot_task(task)\n",
    "        print(i)\n",
    "        training_examples.append(i)      "
   ]
  },
  {
   "cell_type": "code",
   "execution_count": 19,
   "metadata": {},
   "outputs": [
    {
     "name": "stdout",
     "output_type": "stream",
     "text": [
      "7\n",
      "[15, 83, 275, 291, 308, 331, 336]\n"
     ]
    }
   ],
   "source": [
    "print(len(training_examples))\n",
    "print(training_examples)"
   ]
  },
  {
   "cell_type": "code",
   "execution_count": 20,
   "metadata": {},
   "outputs": [
    {
     "data": {
      "image/png": "[encoded data removed]",
      "text/plain": [
       "<Figure size 432x288 with 1 Axes>"
      ]
     },
     "metadata": {
      "needs_background": "light"
     },
     "output_type": "display_data"
    },
    {
     "data": {
      "image/png": "[encoded data removed]",
      "text/plain": [
       "<Figure size 800x400 with 8 Axes>"
      ]
     },
     "metadata": {
      "needs_background": "light"
     },
     "output_type": "display_data"
    },
    {
     "name": "stdout",
     "output_type": "stream",
     "text": [
      "82\n"
     ]
    }
   ],
   "source": [
    "evaluation_examples = []\n",
    "\n",
    "\n",
    "for i in range(400):\n",
    "    task = Evals[i]\n",
    "    basic_task = Create(task,0)\n",
    "    a = Function(basic_task)\n",
    "    \n",
    "    if a != -1 and task['test'][0]['output'] == a:\n",
    "       \n",
    "        plot_picture(a)\n",
    "        plot_task(task)\n",
    "        print(i)\n",
    "        evaluation_examples.append(i)        "
   ]
  },
  {
   "cell_type": "code",
   "execution_count": 21,
   "metadata": {},
   "outputs": [
    {
     "name": "stdout",
     "output_type": "stream",
     "text": [
      "1\n",
      "[82]\n"
     ]
    }
   ],
   "source": [
    "print(len(evaluation_examples))\n",
    "print(evaluation_examples)"
   ]
  },
  {
   "cell_type": "code",
   "execution_count": 31,
   "metadata": {},
   "outputs": [
    {
     "data": {
      "text/html": [
       "<div>\n",
       "<style scoped>\n",
       "    .dataframe tbody tr th:only-of-type {\n",
       "        vertical-align: middle;\n",
       "    }\n",
       "\n",
       "    .dataframe tbody tr th {\n",
       "        vertical-align: top;\n",
       "    }\n",
       "\n",
       "    .dataframe thead th {\n",
       "        text-align: right;\n",
       "    }\n",
       "</style>\n",
       "<table border=\"1\" class=\"dataframe\">\n",
       "  <thead>\n",
       "    <tr style=\"text-align: right;\">\n",
       "      <th></th>\n",
       "      <th>output_id</th>\n",
       "      <th>output</th>\n",
       "    </tr>\n",
       "  </thead>\n",
       "  <tbody>\n",
       "    <tr>\n",
       "      <th>0</th>\n",
       "      <td>00576224_0</td>\n",
       "      <td>|32|78| |32|78| |00|00|</td>\n",
       "    </tr>\n",
       "    <tr>\n",
       "      <th>1</th>\n",
       "      <td>009d5c81_0</td>\n",
       "      <td>|00000000000000|00000888888888|00000800080808|...</td>\n",
       "    </tr>\n",
       "    <tr>\n",
       "      <th>2</th>\n",
       "      <td>00dbd492_0</td>\n",
       "      <td>|00000000000222220000|02222222220200020000|020...</td>\n",
       "    </tr>\n",
       "    <tr>\n",
       "      <th>3</th>\n",
       "      <td>03560426_0</td>\n",
       "      <td>|0000000000|0000000000|0000000000|0000000000|0...</td>\n",
       "    </tr>\n",
       "    <tr>\n",
       "      <th>4</th>\n",
       "      <td>05a7bcf2_0</td>\n",
       "      <td>|000000000020000000080000000000|00000000002220...</td>\n",
       "    </tr>\n",
       "  </tbody>\n",
       "</table>\n",
       "</div>"
      ],
      "text/plain": [
       "    output_id                                             output\n",
       "0  00576224_0                           |32|78| |32|78| |00|00| \n",
       "1  009d5c81_0  |00000000000000|00000888888888|00000800080808|...\n",
       "2  00dbd492_0  |00000000000222220000|02222222220200020000|020...\n",
       "3  03560426_0  |0000000000|0000000000|0000000000|0000000000|0...\n",
       "4  05a7bcf2_0  |000000000020000000080000000000|00000000002220..."
      ]
     },
     "execution_count": 31,
     "metadata": {},
     "output_type": "execute_result"
    }
   ],
   "source": [
    "# submission = pd.read_csv(data_path/ 'sample_submission.csv')\n",
    "# submission.head()"
   ]
  },
  {
   "cell_type": "code",
   "execution_count": 32,
   "metadata": {},
   "outputs": [],
   "source": [
    "# def flattener(pred):\n",
    "#     str_pred = str([row for row in pred])\n",
    "#     str_pred = str_pred.replace(', ', '')\n",
    "#     str_pred = str_pred.replace('[[', '|')\n",
    "#     str_pred = str_pred.replace('][', '|')\n",
    "#     str_pred = str_pred.replace(']]', '|')\n",
    "#     return str_pred"
   ]
  },
  {
   "cell_type": "code",
   "execution_count": 33,
   "metadata": {},
   "outputs": [
    {
     "data": {
      "text/plain": [
       "[[1, 2, 3], [4, 5, 6], [7, 8, 9]]"
      ]
     },
     "metadata": {},
     "output_type": "display_data"
    },
    {
     "name": "stdout",
     "output_type": "stream",
     "text": [
      "|123|456|789|\n"
     ]
    }
   ],
   "source": [
    "# example_grid = [[1, 2, 3], [4, 5, 6], [7, 8, 9]]\n",
    "# display(example_grid)\n",
    "# print(flattener(example_grid))"
   ]
  },
  {
   "cell_type": "code",
   "execution_count": 22,
   "metadata": {},
   "outputs": [],
   "source": [
    "# Solved = []\n",
    "# Problems = submission['output_id'].values\n",
    "# Proposed_Answers = []\n",
    "# for i in  range(len(Problems)):\n",
    "#     output_id = Problems[i]\n",
    "#     task_id = output_id.split('_')[0]\n",
    "#     pair_id = int(output_id.split('_')[1])\n",
    "#     f = str(test_path / str(task_id + '.json'))\n",
    "   \n",
    "#     with open(f, 'r') as read_file:\n",
    "#         task = json.load(read_file)\n",
    "    \n",
    "#     n = len(task['train'])\n",
    "#     Input = [Defensive_Copy(task['train'][j]['input']) for j in range(n)]\n",
    "#     Output = [Defensive_Copy(task['train'][j]['output']) for j in range(n)]\n",
    "#     Input.append(Defensive_Copy(task['test'][pair_id]['input']))\n",
    "    \n",
    "#     solution = Recolor([Input, Output])\n",
    "   \n",
    "    \n",
    "#     pred = ''\n",
    "        \n",
    "#     if solution != -1:\n",
    "#         Solved.append(i)\n",
    "#         pred1 = flattener(solution)\n",
    "#         pred = pred+pred1+' '\n",
    "        \n",
    "#     if pred == '':\n",
    "#         pred = flattener(example_grid)\n",
    "        \n",
    "#     Proposed_Answers.append(pred)\n",
    "    \n",
    "# submission['output'] = Proposed_Answers\n",
    "# submission.to_csv('submission.csv', index = False)"
   ]
  },
  {
   "cell_type": "code",
   "execution_count": 125,
   "metadata": {},
   "outputs": [],
   "source": [
    "# Solved = []\n",
    "# Problems = submission['output_id'].values\n",
    "# Proposed_Answers = []\n",
    "# for i in  range(len(Problems)):\n",
    "#     output_id = Problems[i]\n",
    "#     task_id = output_id.split('_')[0]\n",
    "#     pair_id = int(output_id.split('_')[1])\n",
    "#     f = str(test_path / str(task_id + '.json'))\n",
    "   \n",
    "#     with open(f, 'r') as read_file:\n",
    "#         task = json.load(read_file)\n",
    "    \n",
    "#     n = len(task['train'])\n",
    "#     Input = [Defensive_Copy(task['train'][j]['input']) for j in range(n)]\n",
    "#     Output = [Defensive_Copy(task['train'][j]['output']) for j in range(n)]\n",
    "#     Input.append(Defensive_Copy(task['test'][pair_id]['input']))\n",
    "    \n",
    "#     solution = Recolor([Input, Output])\n",
    "   \n",
    "    \n",
    "#     pred = ''\n",
    "        \n",
    "#     if solution != -1:\n",
    "#         Solved.append(i)\n",
    "#         pred1 = flattener(solution)\n",
    "#         pred = pred+pred1+' '\n",
    "        \n",
    "#     if pred == '':\n",
    "#         pred = flattener(example_grid)\n",
    "        \n",
    "#     Proposed_Answers.append(pred)\n",
    "    \n",
    "# submission['output'] = Proposed_Answers\n",
    "# submission.to_csv('submission.csv', index = False)"
   ]
  },
  {
   "cell_type": "code",
   "execution_count": 126,
   "metadata": {},
   "outputs": [
    {
     "name": "stdout",
     "output_type": "stream",
     "text": [
      "[33, 52, 85, 101]\n"
     ]
    }
   ],
   "source": [
    "# print(Solved)"
   ]
  },
  {
   "cell_type": "code",
   "execution_count": 25,
   "metadata": {},
   "outputs": [
    {
     "data": {
      "text/html": [
       "<div>\n",
       "<style scoped>\n",
       "    .dataframe tbody tr th:only-of-type {\n",
       "        vertical-align: middle;\n",
       "    }\n",
       "\n",
       "    .dataframe tbody tr th {\n",
       "        vertical-align: top;\n",
       "    }\n",
       "\n",
       "    .dataframe thead th {\n",
       "        text-align: right;\n",
       "    }\n",
       "</style>\n",
       "<table border=\"1\" class=\"dataframe\">\n",
       "  <thead>\n",
       "    <tr style=\"text-align: right;\">\n",
       "      <th></th>\n",
       "      <th>output_id</th>\n",
       "      <th>output</th>\n",
       "    </tr>\n",
       "  </thead>\n",
       "  <tbody>\n",
       "    <tr>\n",
       "      <th>0</th>\n",
       "      <td>00576224_0</td>\n",
       "      <td>|123|456|789|</td>\n",
       "    </tr>\n",
       "    <tr>\n",
       "      <th>1</th>\n",
       "      <td>009d5c81_0</td>\n",
       "      <td>|123|456|789|</td>\n",
       "    </tr>\n",
       "    <tr>\n",
       "      <th>2</th>\n",
       "      <td>00dbd492_0</td>\n",
       "      <td>|123|456|789|</td>\n",
       "    </tr>\n",
       "    <tr>\n",
       "      <th>3</th>\n",
       "      <td>03560426_0</td>\n",
       "      <td>|123|456|789|</td>\n",
       "    </tr>\n",
       "    <tr>\n",
       "      <th>4</th>\n",
       "      <td>05a7bcf2_0</td>\n",
       "      <td>|123|456|789|</td>\n",
       "    </tr>\n",
       "    <tr>\n",
       "      <th>5</th>\n",
       "      <td>0607ce86_0</td>\n",
       "      <td>|123|456|789|</td>\n",
       "    </tr>\n",
       "    <tr>\n",
       "      <th>6</th>\n",
       "      <td>0692e18c_0</td>\n",
       "      <td>|123|456|789|</td>\n",
       "    </tr>\n",
       "    <tr>\n",
       "      <th>7</th>\n",
       "      <td>070dd51e_0</td>\n",
       "      <td>|123|456|789|</td>\n",
       "    </tr>\n",
       "    <tr>\n",
       "      <th>8</th>\n",
       "      <td>08573cc6_0</td>\n",
       "      <td>|123|456|789|</td>\n",
       "    </tr>\n",
       "    <tr>\n",
       "      <th>9</th>\n",
       "      <td>0934a4d8_0</td>\n",
       "      <td>|123|456|789|</td>\n",
       "    </tr>\n",
       "    <tr>\n",
       "      <th>10</th>\n",
       "      <td>09c534e7_0</td>\n",
       "      <td>|123|456|789|</td>\n",
       "    </tr>\n",
       "    <tr>\n",
       "      <th>11</th>\n",
       "      <td>0a1d4ef5_0</td>\n",
       "      <td>|123|456|789|</td>\n",
       "    </tr>\n",
       "    <tr>\n",
       "      <th>12</th>\n",
       "      <td>0a2355a6_0</td>\n",
       "      <td>|123|456|789|</td>\n",
       "    </tr>\n",
       "    <tr>\n",
       "      <th>13</th>\n",
       "      <td>0b17323b_0</td>\n",
       "      <td>|123|456|789|</td>\n",
       "    </tr>\n",
       "    <tr>\n",
       "      <th>14</th>\n",
       "      <td>0bb8deee_0</td>\n",
       "      <td>|123|456|789|</td>\n",
       "    </tr>\n",
       "    <tr>\n",
       "      <th>15</th>\n",
       "      <td>0becf7df_0</td>\n",
       "      <td>|123|456|789|</td>\n",
       "    </tr>\n",
       "    <tr>\n",
       "      <th>16</th>\n",
       "      <td>0c786b71_0</td>\n",
       "      <td>|123|456|789|</td>\n",
       "    </tr>\n",
       "    <tr>\n",
       "      <th>17</th>\n",
       "      <td>0c9aba6e_0</td>\n",
       "      <td>|123|456|789|</td>\n",
       "    </tr>\n",
       "    <tr>\n",
       "      <th>18</th>\n",
       "      <td>0d87d2a6_0</td>\n",
       "      <td>|123|456|789|</td>\n",
       "    </tr>\n",
       "    <tr>\n",
       "      <th>19</th>\n",
       "      <td>0e671a1a_0</td>\n",
       "      <td>|123|456|789|</td>\n",
       "    </tr>\n",
       "    <tr>\n",
       "      <th>20</th>\n",
       "      <td>0f63c0b9_0</td>\n",
       "      <td>|123|456|789|</td>\n",
       "    </tr>\n",
       "    <tr>\n",
       "      <th>21</th>\n",
       "      <td>103eff5b_0</td>\n",
       "      <td>|123|456|789|</td>\n",
       "    </tr>\n",
       "    <tr>\n",
       "      <th>22</th>\n",
       "      <td>11e1fe23_0</td>\n",
       "      <td>|123|456|789|</td>\n",
       "    </tr>\n",
       "    <tr>\n",
       "      <th>23</th>\n",
       "      <td>12422b43_0</td>\n",
       "      <td>|123|456|789|</td>\n",
       "    </tr>\n",
       "    <tr>\n",
       "      <th>24</th>\n",
       "      <td>12997ef3_0</td>\n",
       "      <td>|123|456|789|</td>\n",
       "    </tr>\n",
       "    <tr>\n",
       "      <th>25</th>\n",
       "      <td>12997ef3_1</td>\n",
       "      <td>|123|456|789|</td>\n",
       "    </tr>\n",
       "    <tr>\n",
       "      <th>26</th>\n",
       "      <td>12eac192_0</td>\n",
       "      <td>|123|456|789|</td>\n",
       "    </tr>\n",
       "    <tr>\n",
       "      <th>27</th>\n",
       "      <td>136b0064_0</td>\n",
       "      <td>|123|456|789|</td>\n",
       "    </tr>\n",
       "    <tr>\n",
       "      <th>28</th>\n",
       "      <td>13713586_0</td>\n",
       "      <td>|123|456|789|</td>\n",
       "    </tr>\n",
       "    <tr>\n",
       "      <th>29</th>\n",
       "      <td>137f0df0_0</td>\n",
       "      <td>|123|456|789|</td>\n",
       "    </tr>\n",
       "    <tr>\n",
       "      <th>30</th>\n",
       "      <td>140c817e_0</td>\n",
       "      <td>|123|456|789|</td>\n",
       "    </tr>\n",
       "    <tr>\n",
       "      <th>31</th>\n",
       "      <td>14754a24_0</td>\n",
       "      <td>|123|456|789|</td>\n",
       "    </tr>\n",
       "    <tr>\n",
       "      <th>32</th>\n",
       "      <td>15113be4_0</td>\n",
       "      <td>|123|456|789|</td>\n",
       "    </tr>\n",
       "    <tr>\n",
       "      <th>33</th>\n",
       "      <td>15663ba9_0</td>\n",
       "      <td>|123|456|789|</td>\n",
       "    </tr>\n",
       "    <tr>\n",
       "      <th>34</th>\n",
       "      <td>15696249_0</td>\n",
       "      <td>|123|456|789|</td>\n",
       "    </tr>\n",
       "    <tr>\n",
       "      <th>35</th>\n",
       "      <td>16b78196_0</td>\n",
       "      <td>|123|456|789|</td>\n",
       "    </tr>\n",
       "    <tr>\n",
       "      <th>36</th>\n",
       "      <td>17b80ad2_0</td>\n",
       "      <td>|123|456|789|</td>\n",
       "    </tr>\n",
       "    <tr>\n",
       "      <th>37</th>\n",
       "      <td>17cae0c1_0</td>\n",
       "      <td>|123|456|789|</td>\n",
       "    </tr>\n",
       "    <tr>\n",
       "      <th>38</th>\n",
       "      <td>18419cfa_0</td>\n",
       "      <td>|123|456|789|</td>\n",
       "    </tr>\n",
       "    <tr>\n",
       "      <th>39</th>\n",
       "      <td>184a9768_0</td>\n",
       "      <td>|123|456|789|</td>\n",
       "    </tr>\n",
       "    <tr>\n",
       "      <th>40</th>\n",
       "      <td>195ba7dc_0</td>\n",
       "      <td>|123|456|789|</td>\n",
       "    </tr>\n",
       "    <tr>\n",
       "      <th>41</th>\n",
       "      <td>1990f7a8_0</td>\n",
       "      <td>|123|456|789|</td>\n",
       "    </tr>\n",
       "    <tr>\n",
       "      <th>42</th>\n",
       "      <td>19bb5feb_0</td>\n",
       "      <td>|123|456|789|</td>\n",
       "    </tr>\n",
       "    <tr>\n",
       "      <th>43</th>\n",
       "      <td>1a2e2828_0</td>\n",
       "      <td>|123|456|789|</td>\n",
       "    </tr>\n",
       "    <tr>\n",
       "      <th>44</th>\n",
       "      <td>1a6449f1_0</td>\n",
       "      <td>|123|456|789|</td>\n",
       "    </tr>\n",
       "    <tr>\n",
       "      <th>45</th>\n",
       "      <td>1acc24af_0</td>\n",
       "      <td>|123|456|789|</td>\n",
       "    </tr>\n",
       "    <tr>\n",
       "      <th>46</th>\n",
       "      <td>1c02dbbe_0</td>\n",
       "      <td>|123|456|789|</td>\n",
       "    </tr>\n",
       "    <tr>\n",
       "      <th>47</th>\n",
       "      <td>1c0d0a4b_0</td>\n",
       "      <td>|0000000000000|0022002000020|0020000002000|000...</td>\n",
       "    </tr>\n",
       "    <tr>\n",
       "      <th>48</th>\n",
       "      <td>1c56ad9f_0</td>\n",
       "      <td>|123|456|789|</td>\n",
       "    </tr>\n",
       "    <tr>\n",
       "      <th>49</th>\n",
       "      <td>1d0a4b61_0</td>\n",
       "      <td>|123|456|789|</td>\n",
       "    </tr>\n",
       "  </tbody>\n",
       "</table>\n",
       "</div>"
      ],
      "text/plain": [
       "     output_id                                             output\n",
       "0   00576224_0                                      |123|456|789|\n",
       "1   009d5c81_0                                      |123|456|789|\n",
       "2   00dbd492_0                                      |123|456|789|\n",
       "3   03560426_0                                      |123|456|789|\n",
       "4   05a7bcf2_0                                      |123|456|789|\n",
       "5   0607ce86_0                                      |123|456|789|\n",
       "6   0692e18c_0                                      |123|456|789|\n",
       "7   070dd51e_0                                      |123|456|789|\n",
       "8   08573cc6_0                                      |123|456|789|\n",
       "9   0934a4d8_0                                      |123|456|789|\n",
       "10  09c534e7_0                                      |123|456|789|\n",
       "11  0a1d4ef5_0                                      |123|456|789|\n",
       "12  0a2355a6_0                                      |123|456|789|\n",
       "13  0b17323b_0                                      |123|456|789|\n",
       "14  0bb8deee_0                                      |123|456|789|\n",
       "15  0becf7df_0                                      |123|456|789|\n",
       "16  0c786b71_0                                      |123|456|789|\n",
       "17  0c9aba6e_0                                      |123|456|789|\n",
       "18  0d87d2a6_0                                      |123|456|789|\n",
       "19  0e671a1a_0                                      |123|456|789|\n",
       "20  0f63c0b9_0                                      |123|456|789|\n",
       "21  103eff5b_0                                      |123|456|789|\n",
       "22  11e1fe23_0                                      |123|456|789|\n",
       "23  12422b43_0                                      |123|456|789|\n",
       "24  12997ef3_0                                      |123|456|789|\n",
       "25  12997ef3_1                                      |123|456|789|\n",
       "26  12eac192_0                                      |123|456|789|\n",
       "27  136b0064_0                                      |123|456|789|\n",
       "28  13713586_0                                      |123|456|789|\n",
       "29  137f0df0_0                                      |123|456|789|\n",
       "30  140c817e_0                                      |123|456|789|\n",
       "31  14754a24_0                                      |123|456|789|\n",
       "32  15113be4_0                                      |123|456|789|\n",
       "33  15663ba9_0                                      |123|456|789|\n",
       "34  15696249_0                                      |123|456|789|\n",
       "35  16b78196_0                                      |123|456|789|\n",
       "36  17b80ad2_0                                      |123|456|789|\n",
       "37  17cae0c1_0                                      |123|456|789|\n",
       "38  18419cfa_0                                      |123|456|789|\n",
       "39  184a9768_0                                      |123|456|789|\n",
       "40  195ba7dc_0                                      |123|456|789|\n",
       "41  1990f7a8_0                                      |123|456|789|\n",
       "42  19bb5feb_0                                      |123|456|789|\n",
       "43  1a2e2828_0                                      |123|456|789|\n",
       "44  1a6449f1_0                                      |123|456|789|\n",
       "45  1acc24af_0                                      |123|456|789|\n",
       "46  1c02dbbe_0                                      |123|456|789|\n",
       "47  1c0d0a4b_0  |0000000000000|0022002000020|0020000002000|000...\n",
       "48  1c56ad9f_0                                      |123|456|789|\n",
       "49  1d0a4b61_0                                      |123|456|789|"
      ]
     },
     "execution_count": 25,
     "metadata": {},
     "output_type": "execute_result"
    }
   ],
   "source": [
    "# submission2 = pd.read_csv('submission.csv')\n",
    "# submission2.head(50)"
   ]
  },
  {
   "cell_type": "code",
   "execution_count": 142,
   "metadata": {},
   "outputs": [],
   "source": [
    ".\n",
    ".\n",
    ".\n",
    ".\n",
    "\n",
    ".\n",
    "直接用test做\n",
    "def Recolor_delc(task,del_c):\n",
    "    Input = task[0]\n",
    "    Output = task[1]\n",
    "    Test_Picture = Input[-1]\n",
    "    Input = Input[:-1]\n",
    "    N = len(Input)\n",
    "    \n",
    "    for x, y in zip(Input, Output):\n",
    "        if len(x) != len(y) or len(x[0]) != len(y[0]):\n",
    "            return -1\n",
    "\n",
    "    Best_Dict = -1\n",
    "    Best_Q1 = -1\n",
    "    Best_Q2 = -1\n",
    "    Best_v = -1\n",
    "    # v ranges from 0 to 3. This gives an extra flexibility of measuring distance from any of the 4 corners\n",
    "    Pairs = []\n",
    "    for t in range(15):\n",
    "        for Q1 in range(1,8):\n",
    "            for Q2 in range(1,8):\n",
    "                if Q1+Q2 == t:\n",
    "                    Pairs.append((Q1,Q2))\n",
    "                    Pairs.append((15,15))\n",
    "                    Pairs.append((30,30))\n",
    "                \n",
    "                    \n",
    "    for Q1, Q2 in Pairs:\n",
    "        for v in range(4):\n",
    "    \n",
    "  \n",
    "            if Best_Dict != -1:\n",
    "                continue\n",
    "            possible = True\n",
    "            Dict = {}\n",
    "                      \n",
    "            for x, y in zip(Input, Output):\n",
    "                n = len(x)\n",
    "                k = len(x[0])\n",
    "                x1=zeros(n,k)\n",
    "                for i in range(n):\n",
    "                    for j in range(k):\n",
    "                        if v == 0 or v ==2:\n",
    "                            p1 = i%Q1\n",
    "                        else:\n",
    "                            p1 = (n-1-i)%Q1\n",
    "                        if v == 0 or v ==3:\n",
    "                            p2 = j%Q2\n",
    "                        else :\n",
    "                            p2 = (k-1-j)%Q2\n",
    "                        color1 = x[i][j]\n",
    "                        color2 = x1[i][j]\n",
    "                        if color1 != del_c:\n",
    "                            rule = (p1, p2)\n",
    "                            \n",
    "                            if rule not in Dict:\n",
    "                                Dict[rule] = color1\n",
    "                            elif Dict[rule] != color1:\n",
    "                                possible = False\n",
    "            #print(Dict)\n",
    "            if possible:\n",
    "                \n",
    "                # Let's see if we actually solve the problem\n",
    "                for x, y in zip(Input, Output):\n",
    "                    n = len(x)\n",
    "                    k = len(x[0])\n",
    "                    for i in range(n):\n",
    "                        for j in range(k):\n",
    "                            if v == 0 or v ==2:\n",
    "                                p1 = i%Q1\n",
    "                            else:\n",
    "                                p1 = (n-1-i)%Q1\n",
    "                            if v == 0 or v ==3:\n",
    "                                p2 = j%Q2\n",
    "                            else :\n",
    "                                p2 = (k-1-j)%Q2\n",
    "                           \n",
    "                            color1 = x[i][j]\n",
    "                            rule = (p1,p2)\n",
    "                            \n",
    "                            if rule in Dict:\n",
    "                                color2 = 0 + Dict[rule]\n",
    "                            else:\n",
    "                                color2 = 0 + y[i][j]\n",
    "                            if color2 == del_c:\n",
    "                                possible = False \n",
    "                            \n",
    "                if possible:\n",
    "                    print(Best_Dict)\n",
    "                    \n",
    "                    Best_Dict = Dict\n",
    "                    Best_Q1 = Q1\n",
    "                    Best_Q2 = Q2\n",
    "                    Best_v = v\n",
    "                    \n",
    "            \n",
    "                \n",
    "    print(Best_Dict)\n",
    "    if Best_Dict == -1:\n",
    "        return -1 #meaning that we didn't find a rule that works for the traning cases\n",
    "    \n",
    "    #Otherwise there is a rule: so let's use it:\n",
    "    n = len(Test_Picture)\n",
    "    k = len(Test_Picture[0])\n",
    "    \n",
    "    answer = np.zeros((n,k), dtype = int)\n",
    "    \n",
    "    for i in range(n):\n",
    "        for j in range(k):\n",
    "            if Best_v == 0 or Best_v ==2:\n",
    "                p1 = i%Best_Q1\n",
    "            else:\n",
    "                p1 = (n-1-i)%Best_Q1\n",
    "            if Best_v == 0 or Best_v ==3:\n",
    "                p2 = j%Best_Q2\n",
    "            else :\n",
    "                p2 = (k-1-j)%Best_Q2\n",
    "           \n",
    "            color1 = Test_Picture[i][j]\n",
    "            rule = (p1, p2, color1)\n",
    "            if (p1, p2, color1) in Best_Dict:\n",
    "                answer[i][j] = 0 + Best_Dict[rule]\n",
    "            else:\n",
    "                answer[i][j] = 0 + color1\n",
    "                                    \n",
    "            #print(answer)\n",
    "    #print(list_lenc)\n",
    "\n",
    "            \n",
    "    return answer.tolist()"
   ]
  },
  {
   "cell_type": "code",
   "execution_count": 143,
   "metadata": {},
   "outputs": [
    {
     "name": "stdout",
     "output_type": "stream",
     "text": [
      "-1\n"
     ]
    }
   ],
   "source": [
    "training_examples = []\n",
    "for i in range(60,61):\n",
    "    task = Trains[i]\n",
    "    basic_task = Create(task,0)\n",
    "    a = Recolor_delc(basic_task,0)\n",
    "  \n",
    "    if  a != -1 and task['test'][0]['output'] == a:\n",
    "    #if  a != -1 :\n",
    "        plot_picture(a)\n",
    "        plot_task(task)\n",
    "        print(i)\n",
    "        training_examples.append(i)      "
   ]
  },
  {
   "cell_type": "code",
   "execution_count": null,
   "metadata": {},
   "outputs": [],
   "source": []
  }
 ],
 "metadata": {
  "kernelspec": {
   "display_name": "Python 3",
   "language": "python",
   "name": "python3"
  },
  "language_info": {
   "codemirror_mode": {
    "name": "ipython",
    "version": 3
   },
   "file_extension": ".py",
   "mimetype": "text/x-python",
   "name": "python",
   "nbconvert_exporter": "python",
   "pygments_lexer": "ipython3",
   "version": "3.6.7"
  }
 },
 "nbformat": 4,
 "nbformat_minor": 4
}
