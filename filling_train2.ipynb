{
 "cells": [
  {
   "cell_type": "code",
   "execution_count": 2,
   "metadata": {},
   "outputs": [
    {
     "name": "stdout",
     "output_type": "stream",
     "text": [
      "input\n",
      "input\\evaluation\n",
      "input\\test\n",
      "input\\training\n"
     ]
    }
   ],
   "source": [
    "import numpy as np\n",
    "import pandas as pd\n",
    "import time\n",
    "\n",
    "import os\n",
    "import json\n",
    "from pathlib import Path\n",
    "\n",
    "import matplotlib.pyplot as plt\n",
    "from matplotlib import colors\n",
    "import numpy as np\n",
    "from pathlib import Path\n",
    "\n",
    "#for dirname, _, filenames in os.walk('/kaggle/input'):\n",
    "for dirname, _, filenames in os.walk(\"input\"):\n",
    "    print(dirname)"
   ]
  },
  {
   "cell_type": "code",
   "execution_count": 3,
   "metadata": {},
   "outputs": [],
   "source": [
    "#data_path = Path('/kaggle/input/abstraction-and-reasoning-challenge/')\n",
    "data_path = Path('input/')\n",
    "training_path = data_path / 'training'\n",
    "evaluation_path = data_path / 'evaluation'\n",
    "test_path = data_path / 'test'\n",
    "training_tasks = sorted(os.listdir(training_path))\n",
    "eval_tasks = sorted(os.listdir(evaluation_path))"
   ]
  },
  {
   "cell_type": "code",
   "execution_count": 4,
   "metadata": {},
   "outputs": [],
   "source": [
    "#已解決的ID\n",
    "solved_id=set()\n",
    "solved_eva_id=set()"
   ]
  },
  {
   "cell_type": "code",
   "execution_count": 5,
   "metadata": {},
   "outputs": [],
   "source": [
    "T = training_tasks\n",
    "Trains = []\n",
    "for i in range(400):\n",
    "    task_file = str(training_path / T[i])\n",
    "    task = json.load(open(task_file, 'r'))\n",
    "    Trains.append(task)\n",
    "    \n",
    "E = eval_tasks\n",
    "Evals= []\n",
    "for i in range(400):\n",
    "    task_file = str(evaluation_path / E[i])\n",
    "    task = json.load(open(task_file, 'r'))\n",
    "    Evals.append(task)"
   ]
  },
  {
   "cell_type": "code",
   "execution_count": 6,
   "metadata": {},
   "outputs": [
    {
     "data": {
      "image/png": "[encoded data removed]",
      "text/plain": [
       "<Figure size 1000x400 with 1 Axes>"
      ]
     },
     "metadata": {
      "needs_background": "light"
     },
     "output_type": "display_data"
    }
   ],
   "source": [
    "cmap = colors.ListedColormap(\n",
    "    ['#000000', '#0074D9','#FF4136','#2ECC40','#FFDC00',\n",
    "     '#AAAAAA', '#F012BE', '#FF851B', '#7FDBFF', '#870C25'])\n",
    "norm = colors.Normalize(vmin=0, vmax=9)\n",
    "# 0:black, 1:blue, 2:red, 3:greed, 4:yellow,\n",
    "# 5:gray, 6:magenta, 7:orange, 8:sky, 9:brown\n",
    "plt.figure(figsize=(5, 2), dpi=200)\n",
    "plt.imshow([list(range(10))], cmap=cmap, norm=norm)\n",
    "plt.xticks(list(range(10)))\n",
    "plt.yticks([])\n",
    "plt.show()\n",
    "\n",
    "def plot_task(task):\n",
    "    n = len(task[\"train\"]) + len(task[\"test\"])\n",
    "    fig, axs = plt.subplots(2, n, figsize=(4*n,8), dpi=50)\n",
    "    plt.subplots_adjust(wspace=0, hspace=0)\n",
    "    fig_num = 0\n",
    "    \n",
    "    for i, t in enumerate(task[\"train\"]):\n",
    "        t_in, t_out = np.array(t[\"input\"]), np.array(t[\"output\"])\n",
    "        axs[0][fig_num].imshow(t_in, cmap=cmap, norm=norm)\n",
    "        axs[0][fig_num].set_title(f'Train-{i} in')\n",
    "        axs[0][fig_num].set_yticks(list(range(t_in.shape[0])))\n",
    "        axs[0][fig_num].set_xticks(list(range(t_in.shape[1])))\n",
    "        axs[1][fig_num].imshow(t_out, cmap=cmap, norm=norm)\n",
    "        axs[1][fig_num].set_title(f'Train-{i} out')\n",
    "        axs[1][fig_num].set_yticks(list(range(t_out.shape[0])))\n",
    "        axs[1][fig_num].set_xticks(list(range(t_out.shape[1])))\n",
    "        fig_num += 1\n",
    "    for i, t in enumerate(task[\"test\"]):\n",
    "        t_in, t_out = np.array(t[\"input\"]), np.array(t[\"output\"])\n",
    "        axs[0][fig_num].imshow(t_in, cmap=cmap, norm=norm)\n",
    "        axs[0][fig_num].set_title(f'Test-{i} in')\n",
    "        axs[0][fig_num].set_yticks(list(range(t_in.shape[0])))\n",
    "        axs[0][fig_num].set_xticks(list(range(t_in.shape[1])))\n",
    "        axs[1][fig_num].imshow(t_out, cmap=cmap, norm=norm)\n",
    "        axs[1][fig_num].set_title(f'Test-{i} out')\n",
    "        axs[1][fig_num].set_yticks(list(range(t_out.shape[0])))\n",
    "        axs[1][fig_num].set_xticks(list(range(t_out.shape[1])))\n",
    "        fig_num += 1\n",
    "    \n",
    "    plt.tight_layout()\n",
    "    plt.show()"
   ]
  },
  {
   "cell_type": "code",
   "execution_count": 7,
   "metadata": {},
   "outputs": [],
   "source": [
    "\n",
    "def plot_picture(x):\n",
    "    plt.imshow(np.array(x), cmap = cmap, norm = norm)\n",
    "    plt.show()"
   ]
  },
  {
   "cell_type": "code",
   "execution_count": 8,
   "metadata": {},
   "outputs": [],
   "source": [
    "def Defensive_Copy(A): \n",
    "    if type(A)!=list:\n",
    "        A=A.tolist()\n",
    "    n = len(A)\n",
    "    k = len(A[0])\n",
    "    L = np.zeros((n,k), dtype = int)\n",
    "    for i in range(n):\n",
    "        for j in range(k):\n",
    "            L[i,j] = 0 + A[i][j]\n",
    "    return L.tolist()"
   ]
  },
  {
   "cell_type": "code",
   "execution_count": 9,
   "metadata": {},
   "outputs": [],
   "source": [
    "def Create(task, task_id = 0):\n",
    "    n = len(task['train'])\n",
    "    Input = [Defensive_Copy(task['train'][i]['input']) for i in range(n)]\n",
    "    Output = [Defensive_Copy(task['train'][i]['output']) for i in range(n)]\n",
    "    Input.append(Defensive_Copy(task['test'][task_id]['input']))\n",
    "    return Input, Output"
   ]
  },
  {
   "cell_type": "code",
   "execution_count": 16,
   "metadata": {},
   "outputs": [],
   "source": [
    "def color_delete(a,b):\n",
    "    c1=np.unique(a)\n",
    "    c2=np.unique(b)\n",
    "    #print(c1,c2)\n",
    "    res=[]\n",
    "    if len(c2)>len(c1):\n",
    "        return -1\n",
    "    for i in range(len(c1)):\n",
    "        if c1[i] not in c2:\n",
    "            res.append(c1[i])\n",
    "    if len(c2)+len(res)!=len(c1):\n",
    "        return -1\n",
    "    return res"
   ]
  },
  {
   "cell_type": "code",
   "execution_count": 23,
   "metadata": {},
   "outputs": [],
   "source": [
    "# def color_delete_task(task):\n",
    "#     Input = task[0]\n",
    "#     Output = task[1]\n",
    "#     Test_Picture = Input[-1]\n",
    "#     Input = Input[:-1]\n",
    "#     if color_delete(Input[0],Output[0])==-1:\n",
    "#             return -1\n",
    "#     del_c=set(color_delete(Input[0],Output[0]))\n",
    "#     for i in range(1,len(Input)):\n",
    "#         A=Input[i]\n",
    "#         B=Output[i]\n",
    "#         if color_delete(A,B)==-1:\n",
    "#             return -1\n",
    "#         else:\n",
    "#             del_c1=set(color_delete(A,B))\n",
    "#         del_c=del_c&del_c1\n",
    "#     return list(del_c)"
   ]
  },
  {
   "cell_type": "code",
   "execution_count": 33,
   "metadata": {},
   "outputs": [],
   "source": [
    "def color_add_task(task):\n",
    "    Input = task[0]\n",
    "    Output = task[1]\n",
    "    Test_Picture = Input[-1]\n",
    "    Input = Input[:-1]\n",
    "    if color_delete(Output[0],Input[0])==-1:\n",
    "            return -1\n",
    "    del_c=set(color_delete(Output[0],Input[0]))\n",
    "    for i in range(1,len(Input)):\n",
    "        A=Input[i]\n",
    "        B=Output[i]\n",
    "        if color_delete(B,A)==-1:\n",
    "            return -1\n",
    "        else:\n",
    "            del_c1=set(color_delete(B,A))\n",
    "        del_c=del_c&del_c1\n",
    "    return list(del_c)"
   ]
  },
  {
   "cell_type": "code",
   "execution_count": 10,
   "metadata": {},
   "outputs": [],
   "source": [
    "# def get_closed_area(arr0):\n",
    "#     arr=np.array(arr0)\n",
    "#     # depth first search\n",
    "#     H, W = arr.shape\n",
    "#     Dy = [0, -1, 0, 1]\n",
    "#     Dx = [1, 0, -1, 0]\n",
    "#     arr_padded = np.pad(arr, ((1,1),(1,1)), \"constant\", constant_values=0)\n",
    "#     searched = np.zeros(arr_padded.shape, dtype=bool)\n",
    "#     searched[0, 0] = True\n",
    "#     q = [(0, 0)]\n",
    "#     while q:\n",
    "#         y, x = q.pop()\n",
    "#         for dy, dx in zip(Dy, Dx):\n",
    "#             y_, x_ = y+dy, x+dx\n",
    "#             if not 0 <= y_ < H+2 or not 0 <= x_ < W+2:\n",
    "#                 continue\n",
    "#             if not searched[y_][x_] and arr_padded[y_][x_]==0:\n",
    "#                 q.append((y_, x_))\n",
    "#                 searched[y_, x_] = True\n",
    "#     res = searched[1:-1, 1:-1]\n",
    "#     res |= arr!=0\n",
    "#     return ~res"
   ]
  },
  {
   "cell_type": "code",
   "execution_count": 13,
   "metadata": {},
   "outputs": [],
   "source": [
    "a=Trains[1][\"train\"][0][\"input\"]"
   ]
  },
  {
   "cell_type": "code",
   "execution_count": 19,
   "metadata": {},
   "outputs": [
    {
     "data": {
      "text/plain": [
       "array([[False, False, False, False, False, False],\n",
       "       [False, False, False, False, False, False],\n",
       "       [False, False,  True, False, False, False],\n",
       "       [False, False, False,  True, False, False],\n",
       "       [False, False, False, False, False, False],\n",
       "       [False, False, False, False, False, False]])"
      ]
     },
     "execution_count": 19,
     "metadata": {},
     "output_type": "execute_result"
    }
   ],
   "source": [
    "get_closed_area(a)"
   ]
  },
  {
   "cell_type": "code",
   "execution_count": 38,
   "metadata": {},
   "outputs": [],
   "source": [
    "def filling(arr0,c):\n",
    "    arr=np.array(arr0)\n",
    "    y=Defensive_Copy(arr0)\n",
    "    def get_closed_area(arr0):\n",
    "        arr=np.array(arr0)\n",
    "        # depth first search\n",
    "        H, W = arr.shape\n",
    "        Dy = [0, -1, 0, 1]\n",
    "        Dx = [1, 0, -1, 0]\n",
    "        arr_padded = np.pad(arr, ((1,1),(1,1)), \"constant\", constant_values=0)\n",
    "        searched = np.zeros(arr_padded.shape, dtype=bool)\n",
    "        searched[0, 0] = True\n",
    "        q = [(0, 0)]\n",
    "        while q:\n",
    "            y, x = q.pop()\n",
    "            for dy, dx in zip(Dy, Dx):\n",
    "                y_, x_ = y+dy, x+dx\n",
    "                if not 0 <= y_ < H+2 or not 0 <= x_ < W+2:\n",
    "                    continue\n",
    "                if not searched[y_][x_] and arr_padded[y_][x_]==0:\n",
    "                    q.append((y_, x_))\n",
    "                    searched[y_, x_] = True\n",
    "        res = searched[1:-1, 1:-1]\n",
    "        res |= arr!=0\n",
    "        return ~res\n",
    "    arr[get_closed_area(y)]=c\n",
    "    return arr.tolist()"
   ]
  },
  {
   "cell_type": "code",
   "execution_count": 39,
   "metadata": {},
   "outputs": [],
   "source": [
    "def Solve_filling(basic_task): \n",
    "    Input = [Defensive_Copy(x) for x in basic_task[0]]\n",
    "    Output = [Defensive_Copy(y) for y in basic_task[1]]\n",
    "    Test_Case = Input[-1]\n",
    "    Input = Input[:-1]\n",
    "    if color_add_task(basic_task)==-1 or len(color_add_task(basic_task))!=1:\n",
    "        return -1\n",
    "    else:\n",
    "        c= color_add_task(basic_task)[0]\n",
    "    for x, y in zip(Input,Output):\n",
    "        \n",
    "        if filling(x,c) != y:\n",
    "            return -1\n",
    "            \n",
    "    res=filling(Test_Case,c)\n",
    "    return res"
   ]
  },
  {
   "cell_type": "code",
   "execution_count": 40,
   "metadata": {},
   "outputs": [
    {
     "name": "stdout",
     "output_type": "stream",
     "text": [
      "1 0\n"
     ]
    },
    {
     "data": {
      "image/png": "[encoded data removed]",
      "text/plain": [
       "<Figure size 1200x400 with 12 Axes>"
      ]
     },
     "metadata": {
      "needs_background": "light"
     },
     "output_type": "display_data"
    },
    {
     "data": {
      "image/png": "[encoded data removed]",
      "text/plain": [
       "<Figure size 432x288 with 1 Axes>"
      ]
     },
     "metadata": {
      "needs_background": "light"
     },
     "output_type": "display_data"
    },
    {
     "name": "stdout",
     "output_type": "stream",
     "text": [
      "250 0\n"
     ]
    },
    {
     "data": {
      "image/png": "[encoded data removed]",
      "text/plain": [
       "<Figure size 800x400 with 8 Axes>"
      ]
     },
     "metadata": {
      "needs_background": "light"
     },
     "output_type": "display_data"
    },
    {
     "data": {
      "image/png": "[encoded data removed]",
      "text/plain": [
       "<Figure size 432x288 with 1 Axes>"
      ]
     },
     "metadata": {
      "needs_background": "light"
     },
     "output_type": "display_data"
    }
   ],
   "source": [
    "for i in range(400):\n",
    "    task = Trains[i]\n",
    "    k = len(task['test'])\n",
    "    for j in range(k):\n",
    "        basic_task = Create(task, j)\n",
    "        proposed_solution = Solve_filling(basic_task)\n",
    "        if proposed_solution != -1:\n",
    "            print(i,j)\n",
    "            solved_id.add(i)\n",
    "            plot_task(task)\n",
    "            \n",
    "            plot_picture(proposed_solution)"
   ]
  },
  {
   "cell_type": "code",
   "execution_count": 41,
   "metadata": {},
   "outputs": [],
   "source": [
    "for i in range(400):\n",
    "    task = Evals[i]\n",
    "    k = len(task['test'])\n",
    "    for j in range(k):\n",
    "        basic_task = Create(task, j)\n",
    "        proposed_solution = Solve_filling(basic_task)\n",
    "        if proposed_solution != -1:\n",
    "            print(i,j)\n",
    "            solved_eva_id.add(i)\n",
    "            plot_task(task)\n",
    "            \n",
    "            plot_picture(proposed_solution)"
   ]
  },
  {
   "cell_type": "code",
   "execution_count": 42,
   "metadata": {},
   "outputs": [
    {
     "data": {
      "text/plain": [
       "[1, 250]"
      ]
     },
     "execution_count": 42,
     "metadata": {},
     "output_type": "execute_result"
    }
   ],
   "source": [
    "list(solved_id)"
   ]
  },
  {
   "cell_type": "code",
   "execution_count": 43,
   "metadata": {},
   "outputs": [
    {
     "data": {
      "text/plain": [
       "[]"
      ]
     },
     "execution_count": 43,
     "metadata": {},
     "output_type": "execute_result"
    }
   ],
   "source": [
    "list(solved_eva_id)"
   ]
  },
  {
   "cell_type": "code",
   "execution_count": null,
   "metadata": {},
   "outputs": [],
   "source": []
  }
 ],
 "metadata": {
  "kernelspec": {
   "display_name": "Python 3",
   "language": "python",
   "name": "python3"
  },
  "language_info": {
   "codemirror_mode": {
    "name": "ipython",
    "version": 3
   },
   "file_extension": ".py",
   "mimetype": "text/x-python",
   "name": "python",
   "nbconvert_exporter": "python",
   "pygments_lexer": "ipython3",
   "version": "3.6.7"
  }
 },
 "nbformat": 4,
 "nbformat_minor": 4
}
