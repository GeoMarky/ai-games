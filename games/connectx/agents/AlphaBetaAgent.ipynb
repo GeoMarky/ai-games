{
 "cells": [
  {
   "cell_type": "markdown",
   "source": [
    "# AlphaBeta Agent\n",
    "- DOCS: https://github.com/Kaggle/kaggle-environments"
   ],
   "metadata": {
    "collapsed": false,
    "pycharm": {
     "name": "#%% md\n"
    }
   }
  },
  {
   "cell_type": "code",
   "execution_count": 1,
   "outputs": [],
   "source": [
    "from games.connectx.agents.AlphaBetaAgent import AlphaBetaAgent\n",
    "from kaggle_environments import evaluate, make, utils\n",
    "from games.connectx.agents.AlphaBetaAgentOdd import AlphaBetaAgentOdd\n",
    "\n",
    "%load_ext autoreload\n",
    "%autoreload 1"
   ],
   "metadata": {
    "collapsed": false,
    "pycharm": {
     "name": "#%%\n"
    }
   }
  },
  {
   "cell_type": "code",
   "execution_count": null,
   "outputs": [
    {
     "name": "stdout",
     "output_type": "stream",
     "text": [
      "\n",
      "AlphaBetaAgent       | depth: 1 2 3 4 \n",
      "AlphaBetaAgentOdd    | depth: 1 3 5 \n",
      "AlphaBetaAgent       | depth: 1 2 3 4 \n",
      "AlphaBetaAgentOdd    | depth: 1 3 \n",
      "AlphaBetaAgent       | depth: 1 2 3 4 \n",
      "AlphaBetaAgentOdd    | depth: 1 3 5 \n",
      "AlphaBetaAgent       | depth: 1 2 3 4 \n",
      "AlphaBetaAgentOdd    | depth: 1 3 5 \n",
      "AlphaBetaAgent       | depth: 1 2 3 4 \n",
      "AlphaBetaAgentOdd    | depth: 1 3 \n",
      "AlphaBetaAgent       | depth: 1 2 3 4 \n",
      "AlphaBetaAgentOdd    | depth: 1 3 \n",
      "AlphaBetaAgent       | depth: 1 2 3 4 \n",
      "AlphaBetaAgentOdd    | depth: 1 3 \n",
      "AlphaBetaAgent       | depth: 1 2 3 4 \n",
      "AlphaBetaAgentOdd    | depth: 1 3 \n",
      "AlphaBetaAgent       | depth: 1 2 3 4 \n",
      "AlphaBetaAgentOdd    | depth: 1 3 5 \n",
      "AlphaBetaAgent       | depth: 1 2 3 4 5 \n",
      "AlphaBetaAgentOdd    | depth: 1 3 \n",
      "AlphaBetaAgent       | depth: 1 2 3 4 5 \n",
      "AlphaBetaAgentOdd    | depth: 1 3 \n",
      "AlphaBetaAgent       | depth: 1 2 3 4 \n",
      "AlphaBetaAgentOdd    | depth: 1 3 \n",
      "AlphaBetaAgent       | depth: 1 2 3 4 5 \n",
      "AlphaBetaAgentOdd    | depth: 1 3 5 \n",
      "AlphaBetaAgent       | depth: 1 2 3 4 5 \n",
      "AlphaBetaAgentOdd    | depth: 1 3 5 \n",
      "AlphaBetaAgent       | depth: 1 2 3 4 5 6 \n",
      "AlphaBetaAgentOdd    | depth: 1 3 5 7 \n",
      "AlphaBetaAgent       | depth: 1 2 3 4 5 6 "
     ]
    }
   ],
   "source": [
    "env = make(\"connectx\", debug=True)\n",
    "env.run([AlphaBetaAgent.agent(), AlphaBetaAgentOdd.agent()])\n",
    "env.render(mode=\"ipython\", width=500, height=450)"
   ],
   "metadata": {
    "collapsed": false,
    "pycharm": {
     "name": "#%%\n",
     "is_executing": true
    }
   }
  },
  {
   "cell_type": "code",
   "execution_count": null,
   "outputs": [],
   "source": [
    "env = make(\"connectx\", debug=True)\n",
    "env.run([AlphaBetaAgentOdd.agent(), AlphaBetaAgent.agent()])\n",
    "env.render(mode=\"ipython\", width=500, height=450)\n"
   ],
   "metadata": {
    "collapsed": false,
    "pycharm": {
     "name": "#%%\n",
     "is_executing": true
    }
   }
  },
  {
   "cell_type": "code",
   "execution_count": null,
   "outputs": [],
   "source": [
    "env.reset()\n",
    "env.run([AlphaBetaAgent.agent(), \"negamax\"])\n",
    "env.render(mode=\"ipython\", width=500, height=450)"
   ],
   "metadata": {
    "collapsed": false,
    "pycharm": {
     "name": "#%%\n",
     "is_executing": true
    }
   }
  },
  {
   "cell_type": "code",
   "execution_count": null,
   "outputs": [],
   "source": [
    "env.reset()\n",
    "env.run([AlphaBetaAgent.agent(), \"negamax\"])\n",
    "env.render(mode=\"ipython\", width=500, height=450)"
   ],
   "metadata": {
    "collapsed": false,
    "pycharm": {
     "name": "#%%\n",
     "is_executing": true
    }
   }
  },
  {
   "cell_type": "code",
   "execution_count": null,
   "outputs": [],
   "source": [
    "env.reset()\n",
    "env.run([\"negamax\", AlphaBetaAgent.agent()])\n",
    "env.render(mode=\"ipython\", width=500, height=450)"
   ],
   "metadata": {
    "collapsed": false,
    "pycharm": {
     "name": "#%%\n",
     "is_executing": true
    }
   }
  },
  {
   "cell_type": "code",
   "execution_count": null,
   "outputs": [],
   "source": [
    "\n"
   ],
   "metadata": {
    "collapsed": false,
    "pycharm": {
     "name": "#%%\n",
     "is_executing": true
    }
   }
  }
 ],
 "metadata": {
  "kernelspec": {
   "name": "python3",
   "language": "python",
   "display_name": "Python 3"
  }
 },
 "nbformat": 4,
 "nbformat_minor": 4
}