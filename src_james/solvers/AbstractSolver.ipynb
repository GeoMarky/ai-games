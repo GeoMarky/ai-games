{
 "cells": [
  {
   "cell_type": "markdown",
   "metadata": {
    "pycharm": {
     "is_executing": true,
     "name": "#%% md\n"
    }
   },
   "source": [
    "# AbstractSolver\n",
    "\n",
    "This is user level application logic to define a Solver\n",
    "\n",
    "You give it a list of transformation functions to try, and a collection of\n",
    "argument literals or argument generating functions. The codes inspect to figure out\n",
    "the function signatures, and generates all typesafe permutations of `functions(arguments(arguments))`\n",
    "\n",
    "These can either be solved to exhaustion, or short-circuited to only return the first valid rule\n",
    "that passes the `problem['train']` dataset.\n",
    "\n",
    "This is still early stage code, but I think I have proved the concept\n",
    "of a brute-force IoC Dependency Injection Solver\n",
    "\n",
    "```\n",
    "class AbstractOutputGridSizeSolver(AbstractSolver):\n",
    "    dtype: Tuple[int,int]\n",
    "    functions = [\n",
    "        OutputGridSizeTransforms.identity,\n",
    "        OutputGridSizeTransforms.fixed_size,\n",
    "        OutputGridSizeTransforms.ratio,\n",
    "    ]\n",
    "    arguments = [\n",
    "        Query.grid_size_ratio_task,\n",
    "        Query.count_nonzero,\n",
    "        Query.unique_colors,\n",
    "        1/4, 1/3, 1/2, 1, 2, 3, 4,\n",
    "    ]\n",
    "    def preprocess( self, input: np.ndarray ) -> Any:\n",
    "        return input.shape\n",
    "```"
   ]
  },
  {
   "cell_type": "markdown",
   "metadata": {
    "pycharm": {
     "name": "#%% md\n"
    }
   },
   "source": [
    "API Imports"
   ]
  },
  {
   "cell_type": "code",
   "execution_count": 1,
   "metadata": {
    "pycharm": {
     "name": "#%%\n"
    }
   },
   "outputs": [],
   "source": [
    "import time\n",
    "from collections import defaultdict\n",
    "from itertools import chain\n",
    "from pprint import pprint\n",
    "from IPython.core.display import display\n",
    "from src_james.DataModel import Competition, Task\n",
    "from src_james.plot import plot_task\n",
    "from src_james.settings import settings\n",
    "from src_james.solvers.AbstractSolver import AbstractOutputGridSizeSolver\n",
    "from src_james.solvers.Context import Context\n",
    "\n",
    "%load_ext autoreload\n",
    "%autoreload 2"
   ]
  },
  {
   "cell_type": "markdown",
   "metadata": {},
   "source": [
    "# Solve for a single named task\n",
    "\n",
    "We find 3 possible rule matches"
   ]
  },
  {
   "cell_type": "code",
   "execution_count": 2,
   "metadata": {
    "pycharm": {
     "name": "#%%\n"
    }
   },
   "outputs": [
    {
     "data": {
      "text/plain": [
       "[<Rule fixed_size(size=3)>,\n",
       " <Rule ratio(input=input ratio=0.5)>,\n",
       " <Rule ratio(input=0 ratio=0.5)>]"
      ]
     },
     "execution_count": 2,
     "metadata": {},
     "output_type": "execute_result"
    }
   ],
   "source": [
    "solver = AbstractOutputGridSizeSolver()\n",
    "task   = Task('evaluation/68b67ca3.json')\n",
    "rule   = solver.solve(task)\n",
    "rule\n"
   ]
  },
  {
   "cell_type": "markdown",
   "metadata": {
    "pycharm": {
     "name": "#%% md\n"
    }
   },
   "source": [
    "# Performance\n",
    "\n",
    "It's a little bit slow, 7.5s to iterate over the entire competition dataset\n",
    "for a single really simply solver. Maybe performance is acceptable with a 9h submit timeout.\n",
    "\n",
    "I've also not run a profiler on this yet, and some creative caching might help significantly."
   ]
  },
  {
   "cell_type": "code",
   "execution_count": 3,
   "metadata": {
    "pycharm": {
     "is_executing": true,
     "name": "#%%\n"
    }
   },
   "outputs": [
    {
     "name": "stdout",
     "output_type": "stream",
     "text": [
      "Time Taken: 12.28s\n"
     ]
    }
   ],
   "source": [
    "time_start   = time.perf_counter()\n",
    "competition  = Competition()\n",
    "solutions    = defaultdict(list)\n",
    "solved_files = { name: [] for name in competition.keys() }\n",
    "error_files  = { name: [] for name in competition.keys() }\n",
    "counts       = defaultdict(int)\n",
    "totals       = defaultdict(int)\n",
    "for name, dataset in competition.items():\n",
    "    for task in dataset:\n",
    "        totals[name] += 1\n",
    "\n",
    "        #rule  = solver.solve_one(task)\n",
    "        rules = solver.solve(task)\n",
    "        if not len(rules):\n",
    "            error_files[name].append(task.filename)\n",
    "        else:\n",
    "            solutions[task.filename] += rules\n",
    "            solved_files[name].append(task.filename)\n",
    "            counts[name] += 1\n",
    "\n",
    "print(f\"Time Taken: {round(time.perf_counter() - time_start,2)}s\")"
   ]
  },
  {
   "cell_type": "code",
   "execution_count": 4,
   "metadata": {
    "pycharm": {
     "is_executing": true,
     "name": "#%%\n"
    }
   },
   "outputs": [
    {
     "name": "stdout",
     "output_type": "stream",
     "text": [
      "\n",
      "Counts\n",
      "{'evaluation': 322, 'test': 78, 'training': 325}\n",
      "{'evaluation': 400, 'test': 100, 'training': 400}\n"
     ]
    }
   ],
   "source": [
    "print()\n",
    "print('Counts')\n",
    "pprint(dict(counts))\n",
    "pprint(dict(totals))\n"
   ]
  },
  {
   "cell_type": "code",
   "execution_count": 5,
   "metadata": {
    "pycharm": {
     "is_executing": true,
     "name": "#%%\n"
    }
   },
   "outputs": [
    {
     "name": "stdout",
     "output_type": "stream",
     "text": [
      "Success:  725 / 900\n",
      "Errors:   175 / 900\n"
     ]
    }
   ],
   "source": [
    "solved_filenames = list(chain(*solved_files.values()))\n",
    "error_filenames  = list(chain(*error_files.values()))\n",
    "\n",
    "print('Success: ', len(solved_filenames), '/', len(solved_filenames)+len(error_filenames))\n",
    "print('Errors:  ', len(error_filenames),  '/', len(solved_filenames)+len(error_filenames))"
   ]
  },
  {
   "cell_type": "markdown",
   "metadata": {
    "pycharm": {
     "name": "#%% md\n"
    }
   },
   "source": [
    "# Viewing discovered rules\n",
    "\n",
    "With only 6 functions and 7 literals, it was possible to correctly predict the output grid size\n",
    "in about 80% of cases.\n",
    "\n",
    "In many cases it managed to find multiple valid rules for each task.\n",
    "Unsure if there needs to be some prioritization over rules, or if we simply need to deduplicate\n",
    "the set of all possible valid rules."
   ]
  },
  {
   "cell_type": "code",
   "execution_count": 6,
   "metadata": {
    "pycharm": {
     "is_executing": true,
     "name": "#%%\n"
    }
   },
   "outputs": [
    {
     "name": "stdout",
     "output_type": "stream",
     "text": [
      "Solutions\n",
      "\n",
      "training/007bbfb7.json\n",
      "<Rule ratio(input=input ratio=3)> -> (9, 9)\n",
      "<Rule ratio(input=input ratio=0)> -> None\n",
      "<Rule ratio(input=0 ratio=3)> -> (9, 9)\n",
      "<Rule ratio(input=0 ratio=0)> -> None\n",
      "\n",
      "training/00d62c1b.json\n",
      "<Rule identity(input=0)> -> None\n",
      "<Rule fixed_size(size=0)> -> None\n",
      "<Rule ratio(input=input ratio=unique_colors)> -> (20, 20)\n",
      "<Rule ratio(input=input ratio=1)> -> (20, 20)\n",
      "<Rule ratio(input=input ratio=grid_size_ratio_task)> -> (20, 20)\n",
      "<Rule ratio(input=0 ratio=unique_colors)> -> (20, 20)\n",
      "<Rule ratio(input=0 ratio=1)> -> (20, 20)\n",
      "<Rule ratio(input=0 ratio=grid_size_ratio_task)> -> (20, 20)\n",
      "\n",
      "training/025d127b.json\n",
      "<Rule identity(input=0)> -> None\n",
      "<Rule fixed_size(size=0)> -> None\n",
      "<Rule ratio(input=input ratio=1)> -> (10, 10)\n",
      "<Rule ratio(input=input ratio=grid_size_ratio_task)> -> (10, 10)\n",
      "<Rule ratio(input=0 ratio=1)> -> (10, 10)\n",
      "<Rule ratio(input=0 ratio=grid_size_ratio_task)> -> (10, 10)\n",
      "\n",
      "training/045e512c.json\n",
      "<Rule identity(input=0)> -> None\n",
      "<Rule fixed_size(size=0)> -> None\n",
      "<Rule ratio(input=input ratio=1)> -> (21, 21)\n",
      "<Rule ratio(input=input ratio=grid_size_ratio_task)> -> (21, 21)\n",
      "<Rule ratio(input=0 ratio=1)> -> (21, 21)\n",
      "<Rule ratio(input=0 ratio=grid_size_ratio_task)> -> (21, 21)\n",
      "\n",
      "training/0520fde7.json\n",
      "<Rule fixed_size(size=3)> -> (3, 3)\n",
      "\n"
     ]
    }
   ],
   "source": [
    "settings['debug'] = False  # some rules throw exceptions when called with different data in context\n",
    "print('Solutions')\n",
    "print()\n",
    "for filename, matching_rules in list(solutions.items())[:5]:\n",
    "    if len(matching_rules):\n",
    "        print(filename)\n",
    "        task = Task(filename)\n",
    "\n",
    "        for rule in matching_rules:\n",
    "            for test_problem in task['test']:\n",
    "                guess = rule(Context(test_problem, test_problem['input']))\n",
    "                print(f\"{rule} -> {guess}\")\n",
    "        print()"
   ]
  },
  {
   "cell_type": "markdown",
   "metadata": {},
   "source": [
    "## Successes\n",
    "\n",
    "These are the first 5 examples of the problems that AbstractOutputGridSizeSolver couldn't figure out"
   ]
  },
  {
   "cell_type": "code",
   "execution_count": 7,
   "metadata": {
    "pycharm": {
     "is_executing": true,
     "name": "#%%\n"
    }
   },
   "outputs": [
    {
     "data": {
      "text/plain": [
       "[<Rule ratio(input=input ratio=3)>,\n",
       " <Rule ratio(input=input ratio=0)>,\n",
       " <Rule ratio(input=0 ratio=3)>,\n",
       " <Rule ratio(input=0 ratio=0)>]"
      ]
     },
     "metadata": {},
     "output_type": "display_data"
    },
    {
     "data": {
      "image/png": "[encoded data removed]",
      "text/plain": [
       "<Figure size 1008x288 with 14 Axes>"
      ]
     },
     "metadata": {
      "needs_background": "light"
     },
     "output_type": "display_data"
    },
    {
     "data": {
      "text/plain": [
       "[<Rule identity(input=0)>,\n",
       " <Rule fixed_size(size=0)>,\n",
       " <Rule ratio(input=input ratio=unique_colors)>,\n",
       " <Rule ratio(input=input ratio=1)>,\n",
       " <Rule ratio(input=input ratio=grid_size_ratio_task)>,\n",
       " <Rule ratio(input=0 ratio=unique_colors)>,\n",
       " <Rule ratio(input=0 ratio=1)>,\n",
       " <Rule ratio(input=0 ratio=grid_size_ratio_task)>]"
      ]
     },
     "metadata": {},
     "output_type": "display_data"
    },
    {
     "data": {
      "image/png": "[encoded data removed]",
      "text/plain": [
       "<Figure size 1008x288 with 14 Axes>"
      ]
     },
     "metadata": {
      "needs_background": "light"
     },
     "output_type": "display_data"
    },
    {
     "data": {
      "text/plain": [
       "[<Rule identity(input=0)>,\n",
       " <Rule fixed_size(size=0)>,\n",
       " <Rule ratio(input=input ratio=1)>,\n",
       " <Rule ratio(input=input ratio=grid_size_ratio_task)>,\n",
       " <Rule ratio(input=0 ratio=1)>,\n",
       " <Rule ratio(input=0 ratio=grid_size_ratio_task)>]"
      ]
     },
     "metadata": {},
     "output_type": "display_data"
    },
    {
     "data": {
      "image/png": "[encoded data removed]",
      "text/plain": [
       "<Figure size 576x288 with 8 Axes>"
      ]
     },
     "metadata": {
      "needs_background": "light"
     },
     "output_type": "display_data"
    },
    {
     "data": {
      "text/plain": [
       "[<Rule identity(input=0)>,\n",
       " <Rule fixed_size(size=0)>,\n",
       " <Rule ratio(input=input ratio=1)>,\n",
       " <Rule ratio(input=input ratio=grid_size_ratio_task)>,\n",
       " <Rule ratio(input=0 ratio=1)>,\n",
       " <Rule ratio(input=0 ratio=grid_size_ratio_task)>]"
      ]
     },
     "metadata": {},
     "output_type": "display_data"
    },
    {
     "data": {
      "image/png": "[encoded data removed]",
      "text/plain": [
       "<Figure size 720x288 with 10 Axes>"
      ]
     },
     "metadata": {
      "needs_background": "light"
     },
     "output_type": "display_data"
    },
    {
     "data": {
      "text/plain": [
       "[<Rule fixed_size(size=3)>]"
      ]
     },
     "metadata": {},
     "output_type": "display_data"
    },
    {
     "data": {
      "image/png": "[encoded data removed]",
      "text/plain": [
       "<Figure size 720x288 with 10 Axes>"
      ]
     },
     "metadata": {
      "needs_background": "light"
     },
     "output_type": "display_data"
    }
   ],
   "source": [
    "print('Success: ', len(solved_filenames), '/', len(solved_filenames)+len(error_filenames))\n",
    "\n",
    "for filename in solved_filenames[:5]:\n",
    "    task = Task(filename)\n",
    "    display(solver.solve(task))\n",
    "    plot_task(task)\n"
   ]
  },
  {
   "cell_type": "markdown",
   "metadata": {
    "pycharm": {
     "name": "#%% md\n"
    }
   },
   "source": [
    "## Failures\n",
    "\n",
    "These are the first 5 examples of the problems that AbstractOutputGridSizeSolver couldn't figure out"
   ]
  },
  {
   "cell_type": "code",
   "execution_count": null,
   "metadata": {
    "pycharm": {
     "is_executing": true,
     "name": "#%%\n"
    }
   },
   "outputs": [],
   "source": [
    "print('Errors:  ', len(error_filenames),  '/', len(solved_filenames)+len(error_filenames))\n",
    "for filename in error_filenames[:5]:\n",
    "    plot_task(Task(filename))\n"
   ]
  },
  {
   "cell_type": "code",
   "execution_count": null,
   "metadata": {},
   "outputs": [],
   "source": []
  }
 ],
 "metadata": {
  "kernelspec": {
   "display_name": "Python 3",
   "language": "python",
   "name": "python3"
  },
  "language_info": {
   "codemirror_mode": {
    "name": "ipython",
    "version": 3
   },
   "file_extension": ".py",
   "mimetype": "text/x-python",
   "name": "python",
   "nbconvert_exporter": "python",
   "pygments_lexer": "ipython3",
   "version": "3.7.7"
  }
 },
 "nbformat": 4,
 "nbformat_minor": 1
}